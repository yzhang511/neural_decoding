{
 "cells": [
  {
   "cell_type": "code",
   "execution_count": 63,
   "id": "705ac49b-89d8-4b5c-83a8-27038adac590",
   "metadata": {},
   "outputs": [],
   "source": [
    "import os\n",
    "import random\n",
    "import pandas as pd\n",
    "from pathlib import Path\n",
    "import numpy as np\n",
    "import matplotlib.pyplot as plt\n",
    "import seaborn as sns\n",
    "import torch\n",
    "\n",
    "from sklearn.model_selection import KFold, StratifiedKFold\n",
    "\n",
    "from density_decoding.utils.data_utils import IBLDataLoader\n",
    "\n",
    "from side_info_decoding.utils import (\n",
    "    set_seed, \n",
    "    load_data_from_pids, \n",
    "    sliding_window_over_trials,\n",
    ")\n",
    "\n",
    "from side_info_decoding.reduced_rank import (\n",
    "    Reduced_Rank_Model, \n",
    "    train_single_task, \n",
    "    model_eval\n",
    ")\n",
    "\n",
    "def time_bin_wise_metrics(y_true, y_pred):\n",
    "    r2 = r2_score(y_true.flatten(), y_pred.flatten())\n",
    "    adj_r2 = explained_variance_score(y_true, y_pred)\n",
    "    return r2, adj_r2\n",
    "\n",
    "def sliding_window_over_time(data, window_size=10):\n",
    "    \n",
    "    if len(data.shape) == 3:\n",
    "        n_trials, n_units, n_t_bins = data.shape\n",
    "        data_window = np.zeros((\n",
    "            n_trials, n_units, n_t_bins - window_size + 1, window_size\n",
    "        ))\n",
    "        for t in range(window_size-1, n_t_bins):\n",
    "            tmp_window = np.zeros((n_trials, n_units, window_size))\n",
    "            for d in range(window_size):\n",
    "                  tmp_window[:,:,d] = data[:,:,t - d]\n",
    "            data_window[:,:,t-window_size] = tmp_window\n",
    "    else:\n",
    "        n_trials, n_t_bins = data.shape\n",
    "        data_window = np.zeros((n_trials, n_t_bins - window_size + 1))\n",
    "        for t in range(window_size-1, n_t_bins):\n",
    "            data_window[:,t-window_size] = data[:,t]\n",
    "    return data_window\n",
    "\n",
    "%matplotlib inline\n",
    "plt.rc(\"figure\", dpi=200)\n",
    "SMALL_SIZE = 10\n",
    "BIGGER_SIZE = 10\n",
    "plt.rc('font', size=BIGGER_SIZE)\n",
    "plt.rc('axes', titlesize=BIGGER_SIZE)\n",
    "plt.rc('axes', labelsize=BIGGER_SIZE)\n",
    "plt.rc('axes', linewidth=.5)\n",
    "plt.rc('xtick', labelsize=BIGGER_SIZE)\n",
    "plt.rc('ytick', labelsize=BIGGER_SIZE)\n",
    "plt.rc('legend', fontsize=SMALL_SIZE)\n",
    "plt.rc('figure', titlesize=1)\n",
    "plt.rcParams['xtick.major.size'] = 3\n",
    "plt.rcParams['xtick.minor.size'] = 3\n",
    "plt.rcParams['ytick.major.size'] = 3\n",
    "plt.rcParams['ytick.minor.size'] = 3"
   ]
  },
  {
   "cell_type": "code",
   "execution_count": 5,
   "id": "7944b6d6-c5dd-483f-9177-0d48b6c58acc",
   "metadata": {},
   "outputs": [],
   "source": [
    "dir_path = Path(\"/home/yizi/side_info_decoding/saved_results/connected_decoders\")\n",
    "\n",
    "pids = [f.name for f in os.scandir(dir_path) if f.is_dir() and f.name != \".ipynb_checkpoints\"]\n",
    "\n",
    "brain_regions = [\"all\", \"po\", \"lp\", \"dg\", \"ca1\", \"vis\"]\n",
    "behaviors = [\"choice\", \"prior\"]\n",
    "models = [\"density_based\", \"multi_task_reduced_rank\", \"state_space_model\"]"
   ]
  },
  {
   "cell_type": "code",
   "execution_count": 6,
   "id": "557a549a-bf08-4096-9af6-0219193544c3",
   "metadata": {},
   "outputs": [
    {
     "data": {
      "text/plain": [
       "['1a60a6e1-da99-4d4e-a734-39b1d4544fad',\n",
       " '0b8ea3ec-e75b-41a1-9442-64f5fbc11a5a',\n",
       " '84bb830f-b9ff-4e6b-9296-f458fb41d160',\n",
       " '143dd7cf-6a47-47a1-906d-927ad7fe9117',\n",
       " '1e176f17-d00f-49bb-87ff-26d237b525f1',\n",
       " '6fc4d73c-2071-43ec-a756-c6c6d8322c8b',\n",
       " '523f8301-4f56-4faf-ab33-a9ff11331118',\n",
       " '16799c7a-e395-435d-a4c4-a678007e1550',\n",
       " 'ad714133-1e03-4d3a-8427-33fc483daf1a',\n",
       " '31f3e083-a324-4b88-b0a4-7788ec37b191',\n",
       " 'dab512bd-a02d-4c1f-8dbc-9155a163efc0',\n",
       " 'febb430e-2d50-4f83-87a0-b5ffbb9a4943']"
      ]
     },
     "execution_count": 6,
     "metadata": {},
     "output_type": "execute_result"
    }
   ],
   "source": [
    "pids"
   ]
  },
  {
   "cell_type": "code",
   "execution_count": 2,
   "id": "9439a774-d5fa-4e39-8dec-29d2ba407a88",
   "metadata": {},
   "outputs": [],
   "source": [
    "from sklearn.metrics import r2_score, explained_variance_score\n",
    "from scipy.stats import pearsonr\n",
    "from sklearn.linear_model import Ridge"
   ]
  },
  {
   "cell_type": "code",
   "execution_count": 73,
   "id": "a918dba3-020f-4621-acef-df79c6b798d7",
   "metadata": {},
   "outputs": [
    {
     "name": "stdout",
     "output_type": "stream",
     "text": [
      "pulling data from ibl database ..\n",
      "eid: dac3a4c1-b666-4de0-87e8-8c514483cacf\n",
      "pid: 6fc4d73c-2071-43ec-a756-c6c6d8322c8b\n",
      "number of trials found: 428\n",
      "found 428 trials from 281.82 to 3112.92 sec.\n"
     ]
    },
    {
     "name": "stderr",
     "output_type": "stream",
     "text": [
      "Compute spike count: 100%|███████████████████| 428/428 [00:01<00:00, 311.47it/s]\n"
     ]
    },
    {
     "name": "stdout",
     "output_type": "stream",
     "text": [
      "start training on fold 1 ..\n",
      "0.3697221634687683 0.6907193390604555\n",
      "Epoch [100/1000], Loss: 27.41264237378798\n",
      "Epoch [200/1000], Loss: 1.6641525608442687\n",
      "Epoch [300/1000], Loss: 0.572546605293325\n",
      "Epoch [400/1000], Loss: 0.5780639863081135\n",
      "Epoch [500/1000], Loss: 0.5764325553176227\n",
      "Epoch [600/1000], Loss: 0.5753292396674285\n",
      "Epoch [700/1000], Loss: 0.5756251449569518\n",
      "Epoch [800/1000], Loss: 0.575823146826751\n",
      "Epoch [900/1000], Loss: 0.5759285228052233\n",
      "Epoch [1000/1000], Loss: 0.575985418328293\n",
      "0.7368053692737653 0.8713169859090132\n"
     ]
    }
   ],
   "source": [
    "skf = KFold(n_splits=5, shuffle=True, random_state=666)\n",
    "\n",
    "d = 3\n",
    "pids = [\n",
    "    \"6fc4d73c-2071-43ec-a756-c6c6d8322c8b\",\n",
    "    # \"1a60a6e1-da99-4d4e-a734-39b1d4544fad\",\n",
    "    # \"dab512bd-a02d-4c1f-8dbc-9155a163efc0\",\n",
    "    # \"febb430e-2d50-4f83-87a0-b5ffbb9a4943\",\n",
    "    # \"84bb830f-b9ff-4e6b-9296-f458fb41d160\",\n",
    "    # \"523f8301-4f56-4faf-ab33-a9ff11331118\",\n",
    "    # \"143dd7cf-6a47-47a1-906d-927ad7fe9117\",\n",
    "]\n",
    "\n",
    "for i, pid in enumerate(pids):\n",
    "\n",
    "    ibl_data_loader = IBLDataLoader(\n",
    "        pid, \n",
    "        n_t_bins = 30,\n",
    "        behavior_type = \"prior\",\n",
    "        prior_path = \"/mnt/3TB/yizi/Downloads/ONE/openalyx.internationalbrainlab.org/paper_repro_ephys_data/figure9_10/priors/\"\n",
    "    )\n",
    "\n",
    "    prior = ibl_data_loader.process_behaviors(\"prior\")\n",
    "\n",
    "    if pid == \"dab512bd-a02d-4c1f-8dbc-9155a163efc0\":\n",
    "        dir_path = Path(\"/mnt/3TB/yizi/danlab/Subjects/DY_016/subtract_res_wf_pcs/\")\n",
    "    elif pid == \"febb430e-2d50-4f83-87a0-b5ffbb9a4943\":\n",
    "        dir_path = Path(\"/mnt/3TB/yizi/danlab/Subjects/DY_009/subtract_res_wf_pcs/\")\n",
    "    else:\n",
    "        dir_path = Path(\"/mnt/3TB/data/rs_locs_residdec/\") / f\"pid{pid}\"\n",
    "        \n",
    "    spike_index = np.load(dir_path / \"spike_index.npy\")\n",
    "    spike_features = np.load(dir_path / \"localization_results.npy\")\n",
    "    spike_times, spike_channels = spike_index.T\n",
    "\n",
    "    for j, brain_region in enumerate([\"all\", \"po\", \"lp\", \"dg\", \"ca1\", \"vis\"]):\n",
    "        \n",
    "        thresholded_spike_count = ibl_data_loader.load_thresholded_units(\n",
    "            spike_times, spike_channels, brain_region\n",
    "        )\n",
    "\n",
    "        X, Y = thresholded_spike_count, prior\n",
    "        X = sliding_window_over_trials(X, half_window_size=d)\n",
    "        Y = sliding_window_over_trials(Y, half_window_size=d)\n",
    "\n",
    "        r2, corr = 0, 0\n",
    "        for fold_idx, (train, test) in enumerate(skf.split(X)):\n",
    "\n",
    "            print(f\"start training on fold {fold_idx+1} ..\")\n",
    "            train_X, test_X = X[train], X[test]\n",
    "            train_Y, test_Y = Y[train], Y[test]\n",
    "\n",
    "            clf = Ridge(alpha=1e-3).fit(train_X.reshape((len(train_X), -1)), train_Y)\n",
    "            linear_pred = clf.predict(test_X.reshape((len(test_X), -1)))\n",
    "            r2 = r2_score(test_Y, linear_pred) \n",
    "            corr = pearsonr(test_Y, linear_pred)[0] \n",
    "            print(r2, corr)\n",
    "        \n",
    "            R = 5 # rank\n",
    "            d = 3 # half window size\n",
    "            K, C, T, _ = X.shape\n",
    "            \n",
    "            train_X, train_Y = torch.tensor(train_X).double(), torch.tensor(train_Y).double()\n",
    "            test_X, test_Y = torch.tensor(test_X).double(), torch.tensor(test_Y).double()\n",
    "\n",
    "            # prepare data\n",
    "            rrm = Reduced_Rank_Model(\n",
    "                n_units=C, \n",
    "                n_t_bins=T, \n",
    "                rank=R, \n",
    "                half_window_size=d\n",
    "            ).double()\n",
    "            # training\n",
    "            rrm, train_losses = train_single_task(\n",
    "                model=rrm,\n",
    "                train_dataset=(train_X, train_Y),\n",
    "                test_dataset=(test_X, test_Y),\n",
    "                loss_function=torch.nn.BCELoss(),\n",
    "                learning_rate=1e-2,\n",
    "                weight_decay=1e-1,\n",
    "                n_epochs=1000,\n",
    "            )\n",
    "            # eval\n",
    "            rrr_pred, _, _ = rrm(test_X)\n",
    "            r2 = r2_score(test_Y, rrr_pred.detach().numpy()) \n",
    "            corr = pearsonr(test_Y, rrr_pred.detach().numpy())[0] \n",
    "            print(r2, corr)\n",
    "            break\n",
    "        break"
   ]
  },
  {
   "cell_type": "code",
   "execution_count": 75,
   "id": "97304c23-0334-4ccd-a860-6702d39a60db",
   "metadata": {},
   "outputs": [
    {
     "data": {
      "image/png": "[encoded data removed]",
      "text/plain": [
       "<Figure size 700x200 with 1 Axes>"
      ]
     },
     "metadata": {},
     "output_type": "display_data"
    }
   ],
   "source": [
    "fig, ax = plt.subplots(1,1,figsize=(3.5,1))\n",
    "ax.plot(test_Y.flatten()[:150], c=\"darkgrey\", linewidth=2, alpha=.6)\n",
    "ax.plot(linear_pred.flatten()[:150], c=\"royalblue\", linewidth=1.25)\n",
    "ax.plot(rrr_pred.detach().numpy().flatten()[:150], c=\"darkorange\", linewidth=1.25)\n",
    "ax.spines[['right', 'top']].set_visible(False)\n",
    "ax.set_xticks([0,20,40,60,80], [0,20,\"trial\",60,80])\n",
    "ax.set_ylim([-0.25, 1.25])\n",
    "plt.savefig(\"./plots/prior_traces_2.png\", dpi=200)"
   ]
  },
  {
   "cell_type": "code",
   "execution_count": null,
   "id": "94d485d5-2d09-4c07-99e4-72c85e6bce7a",
   "metadata": {},
   "outputs": [],
   "source": []
  }
 ],
 "metadata": {
  "kernelspec": {
   "display_name": "Python 3 (ipykernel)",
   "language": "python",
   "name": "python3"
  },
  "language_info": {
   "codemirror_mode": {
    "name": "ipython",
    "version": 3
   },
   "file_extension": ".py",
   "mimetype": "text/x-python",
   "name": "python",
   "nbconvert_exporter": "python",
   "pygments_lexer": "ipython3",
   "version": "3.8.13"
  }
 },
 "nbformat": 4,
 "nbformat_minor": 5
}
