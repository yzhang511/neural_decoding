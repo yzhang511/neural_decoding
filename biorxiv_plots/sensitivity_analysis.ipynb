{
 "cells": [
  {
   "cell_type": "code",
   "execution_count": 1,
   "id": "953f7214-5b35-47c3-9aa3-16af600219a5",
   "metadata": {},
   "outputs": [],
   "source": [
    "import os\n",
    "import random\n",
    "import pandas as pd\n",
    "from pathlib import Path\n",
    "import numpy as np\n",
    "import torch\n",
    "from tqdm import tqdm\n",
    "\n",
    "import matplotlib.pyplot as plt\n",
    "from matplotlib.gridspec import GridSpec\n",
    "from mpl_toolkits.axes_grid1 import make_axes_locatable\n",
    "\n",
    "from scipy.ndimage import gaussian_filter1d\n",
    "from scipy.stats import pointbiserialr\n",
    "from sklearn.model_selection import StratifiedKFold, KFold\n",
    "\n",
    "from sklearn.metrics import (\n",
    "    accuracy_score, \n",
    "    roc_auc_score, \n",
    "    roc_curve, \n",
    ")\n",
    "\n",
    "from side_info_decoding.utils import (\n",
    "    set_seed, \n",
    "    load_data_from_pids, \n",
    "    sliding_window_over_trials\n",
    ")\n",
    "from side_info_decoding.reduced_rank import (\n",
    "    Reduced_Rank_Model, \n",
    "    train_single_task, \n",
    "    model_eval,\n",
    "    Multi_Task_Reduced_Rank_Model,\n",
    "    train_multi_task,\n",
    ")\n",
    "\n",
    "import pymc3 as pm\n",
    "from hmmlearn import vhmm\n",
    "from side_info_decoding.bmm_hmm import (\n",
    "    BetaProcess, Constrained_BMM_HMM, posterior_inference\n",
    ")\n",
    "from side_info_decoding.viz import plot_multi_session_hmm_results, plot_bmm_hmm_results\n",
    "\n",
    "seed = 666\n",
    "set_seed(seed)"
   ]
  },
  {
   "cell_type": "code",
   "execution_count": 2,
   "id": "75527cbd-a94f-44b4-a14d-c4d933e7513b",
   "metadata": {},
   "outputs": [],
   "source": [
    "class ReducedRankRegression(torch.nn.Module):    \n",
    "    def __init__(self, n_c, n_t, n_r):\n",
    "        super(ReducedRankRegression, self).__init__()\n",
    "        self.U = torch.nn.Parameter(torch.randn(n_c, n_r))\n",
    "        self.V = torch.nn.Parameter(torch.randn(n_r, n_t))\n",
    "        self.b = torch.nn.Parameter(torch.randn(1,))\n",
    "        self.double()\n",
    "        \n",
    "    def forward(self, x):\n",
    "        self.beta = self.U @ self.V\n",
    "        out = torch.einsum(\"ct,kct->kt\", self.beta, x)\n",
    "        out += self.b\n",
    "        return out\n",
    "    \n",
    "def train_rrr(\n",
    "    X, \n",
    "    Y, \n",
    "    train,\n",
    "    test,\n",
    "    n_r = 10,\n",
    "    learning_rate=1e-3,\n",
    "    n_epochs=10000,\n",
    "    ):\n",
    "    \n",
    "    _, n_c, n_t = X.shape\n",
    "    rrr = ReducedRankRegression(n_c, n_t, n_r)\n",
    "    optimizer = torch.optim.Adam(rrr.parameters(), lr=learning_rate, weight_decay=1e-3)\n",
    "    criterion = torch.nn.MSELoss()\n",
    "    \n",
    "    X = torch.tensor(X)\n",
    "    Y = torch.tensor(Y)\n",
    "    train_x, test_x = X[train], X[test]\n",
    "    train_y, test_y = Y[train], Y[test]\n",
    "    \n",
    "    losses = []\n",
    "    for epoch in tqdm(range(n_epochs), desc=\"Train RRR:\"):\n",
    "        optimizer.zero_grad()\n",
    "        y_pred = rrr(train_x)\n",
    "        loss = criterion(y_pred, train_y)\n",
    "        loss.backward()\n",
    "        optimizer.step()\n",
    "        losses.append(loss.item())\n",
    "    return rrr, losses"
   ]
  },
  {
   "cell_type": "code",
   "execution_count": 3,
   "id": "d888b9dd-e4ab-494f-ae0d-bd6b6e5ccb19",
   "metadata": {},
   "outputs": [],
   "source": [
    "def time_bin_wise_metrics(y_true, y_pred):\n",
    "    r2 = r2_score(y_true.flatten(), y_pred.flatten())\n",
    "    adj_r2 = explained_variance_score(y_true, y_pred)\n",
    "    return r2, adj_r2\n",
    "\n",
    "def sliding_window_over_time(data, window_size=10):\n",
    "    \n",
    "    if len(data.shape) == 3:\n",
    "        n_trials, n_units, n_t_bins = data.shape\n",
    "        data_window = np.zeros((\n",
    "            n_trials, n_units, n_t_bins - window_size + 1, window_size\n",
    "        ))\n",
    "        for t in range(window_size-1, n_t_bins):\n",
    "            tmp_window = np.zeros((n_trials, n_units, window_size))\n",
    "            for d in range(window_size):\n",
    "                  tmp_window[:,:,d] = data[:,:,t - d]\n",
    "            data_window[:,:,t-window_size] = tmp_window\n",
    "    else:\n",
    "        n_trials, n_t_bins = data.shape\n",
    "        data_window = np.zeros((n_trials, n_t_bins - window_size + 1))\n",
    "        for t in range(window_size-1, n_t_bins):\n",
    "            data_window[:,t-window_size] = data[:,t]\n",
    "    return data_window\n",
    "\n",
    "def causal_decoder(train_X, train_Y, test_X, test_Y, verbose=True):\n",
    "    penalty = [1e-5, 1e-4, 1e-3, 1e-2, 1e-1, 1, 10]\n",
    "    \n",
    "    train_K, C, T, L = train_X.shape\n",
    "    test_K, _, _, _ = test_X.shape\n",
    "    \n",
    "    train_X = train_X.transpose(0,1,-1,2).reshape(train_K, C*L, T).transpose(0,-1,1).reshape((-1, C*L))\n",
    "    test_X = test_X.transpose(0,1,-1,2).reshape(test_K, C*L, T).transpose(0,-1,1).reshape((-1, C*L))\n",
    "    train_Y = train_Y.reshape((-1))\n",
    "    test_Y = test_Y.reshape((-1))\n",
    "    \n",
    "    decoder = GridSearchCV(Ridge(), {\"alpha\": penalty})\n",
    "    decoder.fit(train_X, train_Y)\n",
    "    pred_Y = decoder.predict(test_X)\n",
    "    test_Y = test_Y.reshape(test_K, T)\n",
    "    pred_Y = pred_Y.reshape(test_K, T)\n",
    "    \n",
    "    r2, adj_r2 = time_bin_wise_metrics(test_Y, pred_Y)\n",
    "    if verbose:\n",
    "        print(f\"r2: {r2:.3f} adj-r2: {adj_r2:.3f}\")\n",
    "    \n",
    "    return pred_Y, [r2, adj_r2]"
   ]
  },
  {
   "cell_type": "code",
   "execution_count": 2,
   "id": "f1a2d3b1-bdd8-423a-93f1-b206be47bd5b",
   "metadata": {},
   "outputs": [],
   "source": [
    "%matplotlib inline\n",
    "plt.rc(\"figure\", dpi=200)\n",
    "SMALL_SIZE = 5.\n",
    "BIGGER_SIZE = 5.\n",
    "plt.rc('font', size=BIGGER_SIZE)\n",
    "plt.rc('axes', titlesize=BIGGER_SIZE)\n",
    "plt.rc('axes', labelsize=BIGGER_SIZE)\n",
    "plt.rc('axes', linewidth=.3)\n",
    "plt.rc('xtick', labelsize=BIGGER_SIZE)\n",
    "plt.rc('ytick', labelsize=BIGGER_SIZE)\n",
    "plt.rc('legend', fontsize=SMALL_SIZE)\n",
    "plt.rc('figure', titlesize=1)\n",
    "plt.rcParams['xtick.major.size'] = 3\n",
    "plt.rcParams['xtick.minor.size'] = 3\n",
    "plt.rcParams['ytick.major.size'] = 3\n",
    "plt.rcParams['ytick.minor.size'] = 3"
   ]
  },
  {
   "cell_type": "code",
   "execution_count": 3,
   "id": "5eb4ca96-feea-4419-b5eb-c971f215f2f7",
   "metadata": {},
   "outputs": [
    {
     "data": {
      "image/png": "[encoded data removed]",
      "text/plain": [
       "<Figure size 300x500 with 4 Axes>"
      ]
     },
     "metadata": {},
     "output_type": "display_data"
    }
   ],
   "source": [
    "# colors = ['gold', 'orange', 'lightgreen', 'forestgreen']\n",
    "colors = ['slategrey', 'lightsteelblue', 'cornflowerblue', 'royalblue']\n",
    "\n",
    "fig, axes = plt.subplots(2,2, figsize=(1.5, 2.5))\n",
    "\n",
    "dir_path = Path(\"./sensitivity_rank/\")\n",
    "behavior = \"choice\"\n",
    "rank = [2, 5, 10, 15]\n",
    "df = []\n",
    "for r in rank:\n",
    "    path = dir_path / behavior / f\"rank_{r}\"\n",
    "    metrics = []\n",
    "    for fold in range(5):\n",
    "        metrics.append(np.load(path/f\"fold_{fold}.npy\", allow_pickle=True))\n",
    "    metrics = np.mean(metrics, 0).mean(0)[1]\n",
    "    df.append(metrics)\n",
    "\n",
    "axes[0,0].bar(np.array([0,1,2,3]), np.array(df), color=colors, width=0.6)\n",
    "axes[0,0].set_ylim(0.94,0.95)\n",
    "axes[0,0].set_xticks([0,1,2,3], rank)\n",
    "axes[0,0].set_yticks([0.94, 0.945, 0.95], [0.94, \"AUC\", 0.95])\n",
    "\n",
    "behavior = \"prior\"\n",
    "rank = [2, 5, 7, 10]\n",
    "df = []\n",
    "for r in rank:\n",
    "    path = dir_path / behavior / f\"rank_{r}\"\n",
    "    metrics = []\n",
    "    for fold in range(5):\n",
    "        metrics.append(np.load(path/f\"fold_{fold}.npy\", allow_pickle=True))\n",
    "    metrics =  np.mean(metrics, 0).mean(0)[1]\n",
    "    df.append(metrics)\n",
    "axes[0,1].bar(np.array([0,1,2,3]), np.array(df), color=colors, width=0.6)\n",
    "axes[0,1].set_ylim(0.7,0.735)\n",
    "axes[0,1].set_xticks([0,1,2,3], rank)\n",
    "axes[0,1].set_yticks([0.7, 0.7175, 0.735], [0.7, \"Corr\", 0.735])\n",
    "\n",
    "behavior = \"wheel_speed\"\n",
    "rank = [2, 10, 20, 30]\n",
    "df = []\n",
    "for r in rank:\n",
    "    path = dir_path / behavior / f\"rank_{r}\"\n",
    "    metrics = []\n",
    "    for pid in [f.split(\".\")[0] for f in os.listdir(path)]:\n",
    "        metrics.append(np.load(path/f\"{pid}.npy\", allow_pickle=True))\n",
    "    metrics =  np.vstack(metrics).mean(0)[0]\n",
    "    df.append(metrics)\n",
    "axes[1,0].bar(np.array([0,1,2,3]), np.array(df), color=colors, width=0.6)\n",
    "axes[1,0].set_xticks([0,1,2,3], rank)\n",
    "axes[1,0].set_yticks([0, 0.075, 0.15], [0, r\"$R^2$\", 0.27])\n",
    "\n",
    "behavior = \"pupil_diameter\"\n",
    "rank = [2, 10, 20, 30]\n",
    "df = []\n",
    "for r in rank:\n",
    "    path = dir_path / behavior / f\"rank_{r}\"\n",
    "    metrics = []\n",
    "    for pid in [f.split(\".\")[0] for f in os.listdir(path)]:\n",
    "        metrics.append(np.load(path/f\"{pid}.npy\", allow_pickle=True))\n",
    "    metrics =  np.vstack(metrics).mean(0)[0]\n",
    "    df.append(metrics)\n",
    "axes[1,1].bar(np.array([0,1,2,3]), np.array(df), color=colors, width=0.6)\n",
    "axes[1,1].set_xticks([0,1,2,3], rank)\n",
    "axes[1,1].set_yticks([0, 0.0225, 0.045], [0, r\"$R^2$\", 0.25])\n",
    "    \n",
    "plt.tight_layout()"
   ]
  },
  {
   "cell_type": "code",
   "execution_count": 185,
   "id": "5884b78f-4daa-4876-9488-4a548f86506a",
   "metadata": {},
   "outputs": [],
   "source": [
    "%matplotlib inline\n",
    "plt.rc(\"figure\", dpi=200)\n",
    "SMALL_SIZE = 11\n",
    "BIGGER_SIZE = 11\n",
    "plt.rc('font', size=BIGGER_SIZE)\n",
    "plt.rc('axes', titlesize=BIGGER_SIZE)\n",
    "plt.rc('axes', labelsize=BIGGER_SIZE)\n",
    "plt.rc('axes', linewidth=.3)\n",
    "plt.rc('xtick', labelsize=BIGGER_SIZE)\n",
    "plt.rc('ytick', labelsize=BIGGER_SIZE)\n",
    "plt.rc('legend', fontsize=SMALL_SIZE)\n",
    "plt.rc('figure', titlesize=1)\n",
    "plt.rcParams['xtick.major.size'] = 3\n",
    "plt.rcParams['xtick.minor.size'] = 3\n",
    "plt.rcParams['ytick.major.size'] = 3\n",
    "plt.rcParams['ytick.minor.size'] = 3"
   ]
  },
  {
   "cell_type": "code",
   "execution_count": 186,
   "id": "a5400e16-49db-47b2-9ff4-d5351d20e10e",
   "metadata": {},
   "outputs": [
    {
     "data": {
      "image/png": "[encoded data removed]",
      "text/plain": [
       "<Figure size 600x1000 with 4 Axes>"
      ]
     },
     "metadata": {},
     "output_type": "display_data"
    }
   ],
   "source": [
    "colors = ['slategrey', 'lightsteelblue', 'cornflowerblue', 'royalblue']\n",
    "\n",
    "import matplotlib\n",
    "import seaborn as sns\n",
    "\n",
    "fig, axes = plt.subplots(2,2, figsize=(3., 5), constrained_layout=True)\n",
    "\n",
    "dir_path = Path(\"./sensitivity_rank/\")\n",
    "behavior = \"choice\"\n",
    "rank = [2, 5, 10, 15]\n",
    "df = []\n",
    "for r in rank:\n",
    "    path = dir_path / behavior / f\"rank_{r}\"\n",
    "    metrics = []\n",
    "    for fold in range(5):\n",
    "        metrics.append(np.load(path/f\"fold_{fold}.npy\", allow_pickle=True))\n",
    "    metrics = np.mean(metrics, 0).T[1]\n",
    "    df.append(metrics)\n",
    "df = pd.DataFrame(np.c_[np.repeat(rank, len(df[0])), np.array(df).flatten()])\n",
    "df.columns = [\"rank\", \"metric\"]\n",
    "\n",
    "sns.set(style=\"white\")\n",
    "ax = sns.violinplot(data=df, x=\"rank\", y=\"metric\", linewidth=0.6, palette=\"viridis\", dodge=True, saturation=1, ax=axes[0,0])\n",
    "axes[0,0].set_xlabel(\"rank\")\n",
    "axes[0,0].set_ylabel(\"\")\n",
    "axes[0,0].set_title(\"choice\", fontsize=BIGGER_SIZE)\n",
    "axes[0,0].set_xticks([0,1,2,3], rank)\n",
    "axes[0,0].set_yticks([0.8, 0.9, 1.0], [0.8, \"AUC\", 1.])\n",
    "\n",
    "for collection in ax.collections:\n",
    "    if isinstance(collection, matplotlib.collections.PolyCollection):\n",
    "        collection.set_edgecolor(collection.get_facecolor())\n",
    "        collection.set_facecolor('none')\n",
    "\n",
    "behavior = \"prior\"\n",
    "rank = [2, 5, 7, 10]\n",
    "df = []\n",
    "for r in rank:\n",
    "    path = dir_path / behavior / f\"rank_{r}\"\n",
    "    metrics = []\n",
    "    for fold in range(5):\n",
    "        metrics.append(np.load(path/f\"fold_{fold}.npy\", allow_pickle=True))\n",
    "    metrics =  np.mean(metrics, 0).T[1]\n",
    "    df.append(metrics)\n",
    "df = pd.DataFrame(np.c_[np.repeat(rank, len(df[0])), np.array(df).flatten()])\n",
    "df.columns = [\"rank\", \"metric\"]\n",
    "\n",
    "sns.set(style=\"white\")\n",
    "ax = sns.violinplot(data=df, x=\"rank\", y=\"metric\", linewidth=0.6, palette=\"viridis\", dodge=True, saturation=1, ax=axes[0,1])\n",
    "axes[0,1].set_xlabel(\"rank\")\n",
    "axes[0,1].set_ylabel(\"\")\n",
    "axes[0,1].set_title(\"prior\", fontsize=BIGGER_SIZE)\n",
    "axes[0,1].set_xticks([0,1,2,3], rank)\n",
    "axes[0,1].set_yticks([0.5, 0.75, 1.0], [0.5, \"Corr\", 1.])\n",
    "\n",
    "for collection in ax.collections:\n",
    "    if isinstance(collection, matplotlib.collections.PolyCollection):\n",
    "        collection.set_edgecolor(collection.get_facecolor())\n",
    "        collection.set_facecolor('none')\n",
    "\n",
    "behavior = \"wheel_speed\"\n",
    "rank = [2, 10, 20, 30]\n",
    "df = []\n",
    "for r in rank:\n",
    "    path = dir_path / behavior / f\"rank_{r}\"\n",
    "    metrics = []\n",
    "    for pid in [f.split(\".\")[0] for f in os.listdir(path)]:\n",
    "        metrics.append(np.load(path/f\"{pid}.npy\", allow_pickle=True))\n",
    "    metrics =  np.vstack(metrics).T[0]\n",
    "    df.append(metrics)\n",
    "df = pd.DataFrame(np.c_[np.repeat(rank, len(df[0])), np.array(df).flatten()])\n",
    "df.columns = [\"rank\", \"metric\"]\n",
    "\n",
    "sns.set(style=\"white\")\n",
    "ax = sns.violinplot(data=df, x=\"rank\", y=\"metric\", linewidth=0.6, palette=\"viridis\", dodge=True, saturation=1, ax=axes[1,0])\n",
    "axes[1,0].set_xlabel(\"rank\")\n",
    "axes[1,0].set_ylabel(\"\")\n",
    "axes[1,0].set_title(\"wheel speed\", fontsize=BIGGER_SIZE)\n",
    "axes[1,0].set_xticks([0,1,2,3], rank)\n",
    "axes[1,0].set_yticks([-0.1, 0.15, 0.4], [-0.1, r\"$R^2$\", .4])\n",
    "\n",
    "for collection in ax.collections:\n",
    "    if isinstance(collection, matplotlib.collections.PolyCollection):\n",
    "        collection.set_edgecolor(collection.get_facecolor())\n",
    "        collection.set_facecolor('none')\n",
    "\n",
    "behavior = \"pupil_diameter\"\n",
    "rank = [2, 10, 20, 30]\n",
    "df = []\n",
    "for r in rank:\n",
    "    path = dir_path / behavior / f\"rank_{r}\"\n",
    "    metrics = []\n",
    "    for pid in [f.split(\".\")[0] for f in os.listdir(path)]:\n",
    "        metrics.append(np.load(path/f\"{pid}.npy\", allow_pickle=True))\n",
    "    metrics =  np.vstack(metrics).T[0]\n",
    "    df.append(metrics)\n",
    "df = pd.DataFrame(np.c_[np.repeat(rank, len(df[0])), np.array(df).flatten()])\n",
    "df.columns = [\"rank\", \"metric\"]\n",
    "\n",
    "sns.set(style=\"white\")\n",
    "ax = sns.violinplot(data=df, x=\"rank\", y=\"metric\", linewidth=0.6, palette=\"viridis\", dodge=True, saturation=1, ax=axes[1,1])\n",
    "axes[1,1].set_xlabel(\"rank\")\n",
    "axes[1,1].set_ylabel(\"\")\n",
    "axes[1,1].set_title(\"pupil diameter\", fontsize=BIGGER_SIZE)\n",
    "axes[1,1].set_xticks([0,1,2,3], rank)\n",
    "axes[1,1].set_yticks([-0.25, 0.025, 0.3], [-0.25, r\"$R^2$\", .3])\n",
    "\n",
    "for collection in ax.collections:\n",
    "    if isinstance(collection, matplotlib.collections.PolyCollection):\n",
    "        collection.set_edgecolor(collection.get_facecolor())\n",
    "        collection.set_facecolor('none')\n",
    "\n",
    "plt.savefig(\"./plots/sensitivity_rank.png\", dpi=200)\n",
    "plt.show()"
   ]
  },
  {
   "cell_type": "code",
   "execution_count": null,
   "id": "3c76e170-82be-4dd7-898d-800020970b9b",
   "metadata": {},
   "outputs": [],
   "source": []
  },
  {
   "cell_type": "markdown",
   "id": "235cd875-0f6a-4610-b9fb-6f8fbf6ea455",
   "metadata": {},
   "source": [
    "#### RRR vs. multi-session RRR"
   ]
  },
  {
   "cell_type": "code",
   "execution_count": 4,
   "id": "0abf328c-8138-439e-a35e-79d0a1820433",
   "metadata": {},
   "outputs": [],
   "source": [
    "# pids = [\n",
    "#     \"dab512bd-a02d-4c1f-8dbc-9155a163efc0\",\n",
    "#     \"febb430e-2d50-4f83-87a0-b5ffbb9a4943\",\n",
    "#     \"6fc4d73c-2071-43ec-a756-c6c6d8322c8b\",\n",
    "#     \"523f8301-4f56-4faf-ab33-a9ff11331118\",\n",
    "#     \"143dd7cf-6a47-47a1-906d-927ad7fe9117\",\n",
    "#     '1a60a6e1-da99-4d4e-a734-39b1d4544fad',\n",
    "#     '0b8ea3ec-e75b-41a1-9442-64f5fbc11a5a',\n",
    "#     '1e176f17-d00f-49bb-87ff-26d237b525f1',\n",
    "#     '16799c7a-e395-435d-a4c4-a678007e1550',\n",
    "#      'ad714133-1e03-4d3a-8427-33fc483daf1a',\n",
    "#      '31f3e083-a324-4b88-b0a4-7788ec37b191',\n",
    "# ]\n",
    "\n",
    "pids = [\n",
    "    \"6fc4d73c-2071-43ec-a756-c6c6d8322c8b\",\n",
    "    \"1a60a6e1-da99-4d4e-a734-39b1d4544fad\",\n",
    "    \"dab512bd-a02d-4c1f-8dbc-9155a163efc0\",\n",
    "    \"febb430e-2d50-4f83-87a0-b5ffbb9a4943\",\n",
    "    \"84bb830f-b9ff-4e6b-9296-f458fb41d160\",\n",
    "    \"523f8301-4f56-4faf-ab33-a9ff11331118\",\n",
    "    \"143dd7cf-6a47-47a1-906d-927ad7fe9117\",\n",
    "]"
   ]
  },
  {
   "cell_type": "code",
   "execution_count": 5,
   "id": "43cbb0da-23a7-4c09-a684-176d374d9e3f",
   "metadata": {},
   "outputs": [
    {
     "name": "stdout",
     "output_type": "stream",
     "text": [
      "pulling data from ibl database ..\n",
      "eid: dac3a4c1-b666-4de0-87e8-8c514483cacf\n",
      "pid: 6fc4d73c-2071-43ec-a756-c6c6d8322c8b\n",
      "number of trials found: 428\n",
      "found 428 trials from 281.82 to 3112.92 sec.\n"
     ]
    },
    {
     "name": "stderr",
     "output_type": "stream",
     "text": [
      "Compute spike count: 100%|███████████████████| 428/428 [00:02<00:00, 197.43it/s]\n"
     ]
    },
    {
     "name": "stdout",
     "output_type": "stream",
     "text": [
      "pulling data from ibl database ..\n",
      "eid: 51e53aff-1d5d-4182-a684-aba783d50ae5\n",
      "pid: 1a60a6e1-da99-4d4e-a734-39b1d4544fad\n",
      "number of trials found: 450\n",
      "found 450 trials from 20.56 to 2612.19 sec.\n"
     ]
    },
    {
     "name": "stderr",
     "output_type": "stream",
     "text": [
      "Compute spike count: 100%|████████████████████| 450/450 [00:06<00:00, 65.50it/s]\n"
     ]
    },
    {
     "name": "stdout",
     "output_type": "stream",
     "text": [
      "pulling data from ibl database ..\n",
      "eid: d23a44ef-1402-4ed7-97f5-47e9a7a504d9\n",
      "pid: dab512bd-a02d-4c1f-8dbc-9155a163efc0\n",
      "number of trials found: 367\n",
      "found 367 trials from 17.56 to 2310.24 sec.\n"
     ]
    },
    {
     "name": "stderr",
     "output_type": "stream",
     "text": [
      "Compute spike count: 100%|████████████████████| 367/367 [00:04<00:00, 83.56it/s]\n"
     ]
    },
    {
     "name": "stdout",
     "output_type": "stream",
     "text": [
      "pulling data from ibl database ..\n",
      "eid: db4df448-e449-4a6f-a0e7-288711e7a75a\n",
      "pid: febb430e-2d50-4f83-87a0-b5ffbb9a4943\n",
      "number of trials found: 350\n",
      "found 350 trials from 22.21 to 2393.54 sec.\n"
     ]
    },
    {
     "name": "stderr",
     "output_type": "stream",
     "text": [
      "Compute spike count: 100%|███████████████████| 350/350 [00:02<00:00, 145.79it/s]\n"
     ]
    },
    {
     "name": "stdout",
     "output_type": "stream",
     "text": [
      "pulling data from ibl database ..\n",
      "eid: c7248e09-8c0d-40f2-9eb4-700a8973d8c8\n",
      "pid: 84bb830f-b9ff-4e6b-9296-f458fb41d160\n",
      "number of trials found: 688\n",
      "found 688 trials from 17.65 to 3851.03 sec.\n"
     ]
    },
    {
     "name": "stderr",
     "output_type": "stream",
     "text": [
      "Compute spike count: 100%|████████████████████| 688/688 [00:31<00:00, 21.53it/s]\n"
     ]
    },
    {
     "name": "stdout",
     "output_type": "stream",
     "text": [
      "pulling data from ibl database ..\n",
      "eid: 88224abb-5746-431f-9c17-17d7ef806e6a\n",
      "pid: 523f8301-4f56-4faf-ab33-a9ff11331118\n",
      "number of trials found: 397\n",
      "found 397 trials from 37.78 to 2183.45 sec.\n"
     ]
    },
    {
     "name": "stderr",
     "output_type": "stream",
     "text": [
      "Compute spike count: 100%|████████████████████| 397/397 [00:05<00:00, 78.54it/s]\n"
     ]
    },
    {
     "name": "stdout",
     "output_type": "stream",
     "text": [
      "pulling data from ibl database ..\n",
      "eid: 3638d102-e8b6-4230-8742-e548cd87a949\n",
      "pid: 143dd7cf-6a47-47a1-906d-927ad7fe9117\n",
      "number of trials found: 605\n",
      "found 605 trials from 32.91 to 4786.28 sec.\n"
     ]
    },
    {
     "name": "stderr",
     "output_type": "stream",
     "text": [
      "Compute spike count: 100%|███████████████████| 605/605 [00:03<00:00, 155.62it/s]\n"
     ]
    }
   ],
   "source": [
    "X_dict, Y_dict = load_data_from_pids(\n",
    "    pids,\n",
    "    brain_region=\"all\",\n",
    "    behavior=\"prior\",\n",
    "    data_type=\"all_ks\",\n",
    "    n_t_bins=30,\n",
    "    prior_path = \"/mnt/3TB/yizi/Downloads/ONE/openalyx.internationalbrainlab.org/paper_repro_ephys_data/figure9_10/priors/\"\n",
    ")"
   ]
  },
  {
   "cell_type": "code",
   "execution_count": null,
   "id": "be7cde2c-9b02-4cdf-9f11-07a3b4e933d6",
   "metadata": {},
   "outputs": [],
   "source": [
    "rank = [2, 5, 10, 15]"
   ]
  },
  {
   "cell_type": "code",
   "execution_count": null,
   "id": "a8dde446-bc32-4e46-9eb4-3cd770703e27",
   "metadata": {},
   "outputs": [],
   "source": [
    "d = 3 # half window size\n",
    "n_epochs = 5000\n",
    "\n",
    "pids = [\n",
    "    \"6fc4d73c-2071-43ec-a756-c6c6d8322c8b\",\n",
    "    \"1a60a6e1-da99-4d4e-a734-39b1d4544fad\",\n",
    "    \"dab512bd-a02d-4c1f-8dbc-9155a163efc0\",\n",
    "    \"febb430e-2d50-4f83-87a0-b5ffbb9a4943\",\n",
    "    \"84bb830f-b9ff-4e6b-9296-f458fb41d160\",\n",
    "    \"523f8301-4f56-4faf-ab33-a9ff11331118\",\n",
    "    \"143dd7cf-6a47-47a1-906d-927ad7fe9117\",\n",
    "]\n",
    "\n",
    "X_dict, Y_dict = load_data_from_pids(\n",
    "    pids,\n",
    "    brain_region=\"all\",\n",
    "    behavior=\"prior\",\n",
    "    data_type=\"good_ks\",\n",
    "    n_t_bins=30,\n",
    "    prior_path = \"/mnt/3TB/yizi/Downloads/ONE/openalyx.internationalbrainlab.org/paper_repro_ephys_data/figure9_10/priors/\"\n",
    ")\n",
    "\n",
    "skf = KFold(n_splits=5, shuffle=True, random_state=seed)\n",
    "\n",
    "n_units = []\n",
    "train_X_dict, test_X_dict, train_Y_dict, test_Y_dict = {}, {}, {}, {}\n",
    "for pid in pids:\n",
    "    X, Y = X_dict[pid], Y_dict[pid]\n",
    "    K, C, T = X.shape\n",
    "    n_units.append(C)\n",
    "    X = sliding_window_over_trials(X, half_window_size=d)\n",
    "    Y = sliding_window_over_trials(Y, half_window_size=d)\n",
    "    X, Y = torch.tensor(X), torch.tensor(Y)\n",
    "    train_X_dict.update({pid: [X[train] for train, _ in skf.split(X, Y)]})\n",
    "    test_X_dict.update({pid: [X[test] for _, test in skf.split(X, Y)]})\n",
    "    train_Y_dict.update({pid: [Y[train] for train, _ in skf.split(X, Y)]})\n",
    "    test_Y_dict.update({pid: [Y[test] for _, test in skf.split(X, Y)]})\n",
    "\n",
    "for R in [2,5,7,10]:\n",
    "    for fold_idx in range(5):\n",
    "\n",
    "        print(f\"start training fold {fold_idx+1} on {len(pids)} sessions ..\")\n",
    "        train_X_lst = [train_X_dict[pid][fold_idx] for pid in pids]\n",
    "        test_X_lst = [test_X_dict[pid][fold_idx] for pid in pids]\n",
    "        train_Y_lst = [train_Y_dict[pid][fold_idx] for pid in pids]\n",
    "        test_Y_lst = [test_Y_dict[pid][fold_idx] for pid in pids]\n",
    "\n",
    "        multi_task_rrm = Multi_Task_Reduced_Rank_Model(\n",
    "            n_tasks=len(pids),\n",
    "            n_units=n_units, \n",
    "            n_t_bins=T, \n",
    "            rank=R, \n",
    "            half_window_size=d\n",
    "        )\n",
    "\n",
    "        # training\n",
    "        multi_task_rrm, train_losses = train_multi_task(\n",
    "            model=multi_task_rrm,\n",
    "            train_dataset=(train_X_lst, train_Y_lst),\n",
    "            test_dataset=(test_X_lst, test_Y_lst),\n",
    "            # loss_function=torch.nn.BCELoss(),\n",
    "            loss_function=torch.nn.MSELoss(),\n",
    "            learning_rate=1e-3,\n",
    "            weight_decay=1e-1,\n",
    "            n_epochs=n_epochs,\n",
    "        )\n",
    "\n",
    "        # eval\n",
    "        test_U, test_V, test_metrics, _ = model_eval(\n",
    "            multi_task_rrm, \n",
    "            train_dataset=(train_X_lst, train_Y_lst),\n",
    "            test_dataset=(test_X_lst, test_Y_lst),\n",
    "            behavior=\"prior\"\n",
    "        )\n",
    "\n",
    "        save_path = Path(\"./sensitivity_rank\") / \"prior\" / f\"rank_{R}\"\n",
    "        os.makedirs(save_path, exist_ok=True) \n",
    "        np.save(save_path/f\"fold_{fold_idx}.npy\", test_metrics)"
   ]
  },
  {
   "cell_type": "code",
   "execution_count": 25,
   "id": "8c5a3a4e-7242-4d1b-a2e4-d2014471902e",
   "metadata": {},
   "outputs": [],
   "source": [
    "rank = [2, 5, 10, 15]"
   ]
  },
  {
   "cell_type": "code",
   "execution_count": 26,
   "id": "4355881f-458a-447b-8470-5d8300c330b6",
   "metadata": {},
   "outputs": [],
   "source": [
    "from sklearn.linear_model import Ridge\n",
    "from sklearn.metrics import r2_score, explained_variance_score\n",
    "from scipy.stats import pearsonr\n",
    "from scipy.ndimage import gaussian_filter1d\n",
    "from sklearn.model_selection import KFold, GridSearchCV, train_test_split"
   ]
  },
  {
   "cell_type": "code",
   "execution_count": 31,
   "id": "fb19798b-2e19-41bd-8280-f1b14652818a",
   "metadata": {},
   "outputs": [
    {
     "name": "stdout",
     "output_type": "stream",
     "text": [
      "pulling data from ibl database ..\n",
      "eid: d23a44ef-1402-4ed7-97f5-47e9a7a504d9\n",
      "pid: dab512bd-a02d-4c1f-8dbc-9155a163efc0\n",
      "number of trials found: 367\n",
      "found 367 trials from 17.75 to 2310.37 sec.\n",
      "found 83 good Kilosort units\n"
     ]
    },
    {
     "name": "stderr",
     "output_type": "stream",
     "text": [
      "Compute spike count: 100%|███████████████████| 367/367 [00:00<00:00, 701.66it/s]\n"
     ]
    },
    {
     "name": "stdout",
     "output_type": "stream",
     "text": [
      "pulling data from ibl database ..\n",
      "eid: db4df448-e449-4a6f-a0e7-288711e7a75a\n",
      "pid: febb430e-2d50-4f83-87a0-b5ffbb9a4943\n",
      "number of trials found: 350\n",
      "found 350 trials from 34.74 to 2414.77 sec.\n",
      "found 85 good Kilosort units\n"
     ]
    },
    {
     "name": "stderr",
     "output_type": "stream",
     "text": [
      "Compute spike count: 100%|██████████████████| 350/350 [00:00<00:00, 1175.86it/s]\n"
     ]
    },
    {
     "name": "stdout",
     "output_type": "stream",
     "text": [
      "pulling data from ibl database ..\n",
      "eid: 88224abb-5746-431f-9c17-17d7ef806e6a\n",
      "pid: 523f8301-4f56-4faf-ab33-a9ff11331118\n",
      "number of trials found: 397\n",
      "found 397 trials from 38.00 to 2184.27 sec.\n",
      "found 96 good Kilosort units\n"
     ]
    },
    {
     "name": "stderr",
     "output_type": "stream",
     "text": [
      "Compute spike count: 100%|███████████████████| 397/397 [00:00<00:00, 415.27it/s]\n"
     ]
    },
    {
     "name": "stdout",
     "output_type": "stream",
     "text": [
      "pulling data from ibl database ..\n",
      "eid: a4a74102-2af5-45dc-9e41-ef7f5aed88be\n",
      "pid: 0b8ea3ec-e75b-41a1-9442-64f5fbc11a5a\n",
      "number of trials found: 369\n",
      "found 369 trials from 69.83 to 1863.58 sec.\n",
      "found 131 good Kilosort units\n"
     ]
    },
    {
     "name": "stderr",
     "output_type": "stream",
     "text": [
      "Compute spike count: 100%|███████████████████| 369/369 [00:01<00:00, 332.40it/s]\n"
     ]
    },
    {
     "name": "stdout",
     "output_type": "stream",
     "text": [
      "PID: dab512bd-a02d-4c1f-8dbc-9155a163efc0 # trials: 367 # neurons 83 # time bins 60.\n"
     ]
    },
    {
     "name": "stderr",
     "output_type": "stream",
     "text": [
      "Train RRR:: 100%|███████████████████████████| 5000/5000 [01:48<00:00, 46.19it/s]\n"
     ]
    },
    {
     "name": "stdout",
     "output_type": "stream",
     "text": [
      "r2: 0.044 adj-r2: -0.283\n",
      "PID: febb430e-2d50-4f83-87a0-b5ffbb9a4943 # trials: 350 # neurons 85 # time bins 60.\n"
     ]
    },
    {
     "name": "stderr",
     "output_type": "stream",
     "text": [
      "Train RRR:: 100%|███████████████████████████| 5000/5000 [00:57<00:00, 86.67it/s]\n"
     ]
    },
    {
     "name": "stdout",
     "output_type": "stream",
     "text": [
      "r2: 0.047 adj-r2: -1.047\n",
      "PID: 523f8301-4f56-4faf-ab33-a9ff11331118 # trials: 397 # neurons 96 # time bins 60.\n"
     ]
    },
    {
     "name": "stderr",
     "output_type": "stream",
     "text": [
      "Train RRR:: 100%|███████████████████████████| 5000/5000 [01:28<00:00, 56.69it/s]\n"
     ]
    },
    {
     "name": "stdout",
     "output_type": "stream",
     "text": [
      "r2: 0.081 adj-r2: -0.101\n",
      "PID: 0b8ea3ec-e75b-41a1-9442-64f5fbc11a5a # trials: 369 # neurons 131 # time bins 60.\n"
     ]
    },
    {
     "name": "stderr",
     "output_type": "stream",
     "text": [
      "Train RRR:: 100%|███████████████████████████| 5000/5000 [21:44<00:00,  3.83it/s]\n"
     ]
    },
    {
     "name": "stdout",
     "output_type": "stream",
     "text": [
      "r2: -0.010 adj-r2: -0.018\n",
      "PID: dab512bd-a02d-4c1f-8dbc-9155a163efc0 # trials: 367 # neurons 83 # time bins 60.\n"
     ]
    },
    {
     "name": "stderr",
     "output_type": "stream",
     "text": [
      "Train RRR:: 100%|███████████████████████████| 5000/5000 [01:35<00:00, 52.19it/s]\n"
     ]
    },
    {
     "name": "stdout",
     "output_type": "stream",
     "text": [
      "r2: 0.095 adj-r2: -0.232\n",
      "PID: febb430e-2d50-4f83-87a0-b5ffbb9a4943 # trials: 350 # neurons 85 # time bins 60.\n"
     ]
    },
    {
     "name": "stderr",
     "output_type": "stream",
     "text": [
      "Train RRR:: 100%|███████████████████████████| 5000/5000 [01:24<00:00, 58.83it/s]\n"
     ]
    },
    {
     "name": "stdout",
     "output_type": "stream",
     "text": [
      "r2: 0.123 adj-r2: -0.670\n",
      "PID: 523f8301-4f56-4faf-ab33-a9ff11331118 # trials: 397 # neurons 96 # time bins 60.\n"
     ]
    },
    {
     "name": "stderr",
     "output_type": "stream",
     "text": [
      "Train RRR:: 100%|██████████████████████████| 5000/5000 [00:48<00:00, 102.11it/s]\n"
     ]
    },
    {
     "name": "stdout",
     "output_type": "stream",
     "text": [
      "r2: 0.236 adj-r2: -0.227\n",
      "PID: 0b8ea3ec-e75b-41a1-9442-64f5fbc11a5a # trials: 369 # neurons 131 # time bins 60.\n"
     ]
    },
    {
     "name": "stderr",
     "output_type": "stream",
     "text": [
      "Train RRR:: 100%|███████████████████████████| 5000/5000 [00:59<00:00, 83.83it/s]\n"
     ]
    },
    {
     "name": "stdout",
     "output_type": "stream",
     "text": [
      "r2: 0.105 adj-r2: -0.646\n",
      "PID: dab512bd-a02d-4c1f-8dbc-9155a163efc0 # trials: 367 # neurons 83 # time bins 60.\n"
     ]
    },
    {
     "name": "stderr",
     "output_type": "stream",
     "text": [
      "Train RRR:: 100%|██████████████████████████| 5000/5000 [00:41<00:00, 119.72it/s]\n"
     ]
    },
    {
     "name": "stdout",
     "output_type": "stream",
     "text": [
      "r2: 0.070 adj-r2: -0.596\n",
      "PID: febb430e-2d50-4f83-87a0-b5ffbb9a4943 # trials: 350 # neurons 85 # time bins 60.\n"
     ]
    },
    {
     "name": "stderr",
     "output_type": "stream",
     "text": [
      "Train RRR:: 100%|██████████████████████████| 5000/5000 [00:39<00:00, 126.00it/s]\n"
     ]
    },
    {
     "name": "stdout",
     "output_type": "stream",
     "text": [
      "r2: 0.082 adj-r2: -1.076\n",
      "PID: 523f8301-4f56-4faf-ab33-a9ff11331118 # trials: 397 # neurons 96 # time bins 60.\n"
     ]
    },
    {
     "name": "stderr",
     "output_type": "stream",
     "text": [
      "Train RRR:: 100%|██████████████████████████| 5000/5000 [00:49<00:00, 101.64it/s]\n"
     ]
    },
    {
     "name": "stdout",
     "output_type": "stream",
     "text": [
      "r2: 0.195 adj-r2: -0.228\n",
      "PID: 0b8ea3ec-e75b-41a1-9442-64f5fbc11a5a # trials: 369 # neurons 131 # time bins 60.\n"
     ]
    },
    {
     "name": "stderr",
     "output_type": "stream",
     "text": [
      "Train RRR:: 100%|███████████████████████████| 5000/5000 [01:21<00:00, 61.68it/s]\n"
     ]
    },
    {
     "name": "stdout",
     "output_type": "stream",
     "text": [
      "r2: 0.065 adj-r2: -0.718\n",
      "PID: dab512bd-a02d-4c1f-8dbc-9155a163efc0 # trials: 367 # neurons 83 # time bins 60.\n"
     ]
    },
    {
     "name": "stderr",
     "output_type": "stream",
     "text": [
      "Train RRR:: 100%|██████████████████████████| 5000/5000 [00:40<00:00, 122.56it/s]\n"
     ]
    },
    {
     "name": "stdout",
     "output_type": "stream",
     "text": [
      "r2: 0.040 adj-r2: -0.714\n",
      "PID: febb430e-2d50-4f83-87a0-b5ffbb9a4943 # trials: 350 # neurons 85 # time bins 60.\n"
     ]
    },
    {
     "name": "stderr",
     "output_type": "stream",
     "text": [
      "Train RRR:: 100%|██████████████████████████| 5000/5000 [00:39<00:00, 126.02it/s]\n"
     ]
    },
    {
     "name": "stdout",
     "output_type": "stream",
     "text": [
      "r2: 0.123 adj-r2: -0.937\n",
      "PID: 523f8301-4f56-4faf-ab33-a9ff11331118 # trials: 397 # neurons 96 # time bins 60.\n"
     ]
    },
    {
     "name": "stderr",
     "output_type": "stream",
     "text": [
      "Train RRR:: 100%|███████████████████████████| 5000/5000 [01:23<00:00, 59.69it/s]\n"
     ]
    },
    {
     "name": "stdout",
     "output_type": "stream",
     "text": [
      "r2: 0.211 adj-r2: -0.326\n",
      "PID: 0b8ea3ec-e75b-41a1-9442-64f5fbc11a5a # trials: 369 # neurons 131 # time bins 60.\n"
     ]
    },
    {
     "name": "stderr",
     "output_type": "stream",
     "text": [
      "Train RRR:: 100%|███████████████████████████| 5000/5000 [00:57<00:00, 87.15it/s]\n"
     ]
    },
    {
     "name": "stdout",
     "output_type": "stream",
     "text": [
      "r2: 0.028 adj-r2: -1.068\n"
     ]
    }
   ],
   "source": [
    "behavior_type = \"wheel_speed\"\n",
    "\n",
    "pids = [\n",
    "    \"dab512bd-a02d-4c1f-8dbc-9155a163efc0\",\n",
    "    \"febb430e-2d50-4f83-87a0-b5ffbb9a4943\",\n",
    "    \"523f8301-4f56-4faf-ab33-a9ff11331118\",\n",
    "    # \"84bb830f-b9ff-4e6b-9296-f458fb41d160\",\n",
    "    '0b8ea3ec-e75b-41a1-9442-64f5fbc11a5a',\n",
    "]\n",
    "\n",
    "try:\n",
    "    X_dict, Y_dict = load_data_from_pids(\n",
    "        pids,\n",
    "        brain_region=\"all\",\n",
    "        behavior=behavior_type,\n",
    "        data_type=\"good_ks\",\n",
    "        n_t_bins = 60,\n",
    "        # align_time_type=\"feedback_times\",\n",
    "        align_time_type=\"firstMovement_times\",\n",
    "        t_before=0.2,\n",
    "        t_after=1.0,\n",
    "        normalize_input=False\n",
    "    )\n",
    "except:\n",
    "    print(f\"PID {pid} data missing.\")\n",
    "            \n",
    "for R in [2, 10, 20, 30]:\n",
    "    for pid in pids:\n",
    "\n",
    "        X, Y = X_dict[pid], Y_dict[pid]\n",
    "        offset = Y.max()\n",
    "        Y /= offset\n",
    "        K, C, T = X.shape\n",
    "        print(f\"PID: {pid} # trials: {K} # neurons {C} # time bins {T}.\")\n",
    "\n",
    "        baseline_metrics = []\n",
    "        kf = KFold(n_splits=5, shuffle=True, random_state=666)\n",
    "        for fold_idx, (train, test) in enumerate(kf.split(X, Y)):\n",
    "            pass\n",
    "\n",
    "        # baseline\n",
    "        window_X = sliding_window_over_time(X, window_size=10)\n",
    "        window_Y = sliding_window_over_time(Y, window_size=10)\n",
    "        train_X, test_X = window_X[train], window_X[test]\n",
    "        train_Y, test_Y = window_Y[train], window_Y[test]\n",
    "\n",
    "        rrr, losses = train_rrr(\n",
    "            X = X,\n",
    "            Y = Y, \n",
    "            train = train,\n",
    "            test = test,\n",
    "            n_r = R,\n",
    "            learning_rate = 1e-3,\n",
    "            n_epochs = 5000\n",
    "        )\n",
    "\n",
    "        supervised_subspace = rrr.U.detach().numpy()\n",
    "        subspace_weights = rrr.V.detach().numpy()\n",
    "\n",
    "        all_proj = X.transpose(0,-1,1) @ supervised_subspace\n",
    "        weighted_proj = all_proj * subspace_weights.T\n",
    "        weighted_proj = weighted_proj.transpose(0, -1, 1)\n",
    "\n",
    "        window_X = sliding_window_over_time(weighted_proj, window_size=10)\n",
    "        window_Y = sliding_window_over_time(Y, window_size=10)\n",
    "        train_X, test_X = window_X[train], window_X[test]\n",
    "        train_Y, test_Y = window_Y[train], window_Y[test]\n",
    "        rrr_pred, rrr_metric = causal_decoder(train_X, train_Y, test_X, test_Y)\n",
    "\n",
    "        save_path = Path(\"./sensitivity_rank\") / \"wheel_speed\" / f\"rank_{R}\"\n",
    "        os.makedirs(save_path, exist_ok=True) \n",
    "        np.save(save_path/f\"{pid}.npy\", rrr_metric)"
   ]
  },
  {
   "cell_type": "code",
   "execution_count": 35,
   "id": "0137cbb7-144c-4a2e-9462-9a3a0a566f19",
   "metadata": {},
   "outputs": [
    {
     "name": "stdout",
     "output_type": "stream",
     "text": [
      "pulling data from ibl database ..\n",
      "eid: d23a44ef-1402-4ed7-97f5-47e9a7a504d9\n",
      "pid: dab512bd-a02d-4c1f-8dbc-9155a163efc0\n",
      "number of trials found: 367\n",
      "found 367 trials from 17.86 to 2310.69 sec.\n",
      "found 83 good Kilosort units\n"
     ]
    },
    {
     "name": "stderr",
     "output_type": "stream",
     "text": [
      "Compute spike count: 100%|███████████████████| 367/367 [00:00<00:00, 592.97it/s]\n"
     ]
    },
    {
     "name": "stdout",
     "output_type": "stream",
     "text": [
      "pulling data from ibl database ..\n",
      "eid: db4df448-e449-4a6f-a0e7-288711e7a75a\n",
      "pid: febb430e-2d50-4f83-87a0-b5ffbb9a4943\n",
      "number of trials found: 350\n",
      "found 350 trials from 35.51 to 2420.28 sec.\n",
      "found 85 good Kilosort units\n"
     ]
    },
    {
     "name": "stderr",
     "output_type": "stream",
     "text": [
      "Compute spike count: 100%|██████████████████| 350/350 [00:00<00:00, 1249.99it/s]\n"
     ]
    },
    {
     "name": "stdout",
     "output_type": "stream",
     "text": [
      "pulling data from ibl database ..\n",
      "eid: 88224abb-5746-431f-9c17-17d7ef806e6a\n",
      "pid: 523f8301-4f56-4faf-ab33-a9ff11331118\n",
      "number of trials found: 397\n",
      "found 397 trials from 38.44 to 4645.14 sec.\n",
      "found 96 good Kilosort units\n"
     ]
    },
    {
     "name": "stderr",
     "output_type": "stream",
     "text": [
      "Compute spike count: 100%|███████████████████| 397/397 [00:01<00:00, 347.37it/s]\n"
     ]
    },
    {
     "name": "stdout",
     "output_type": "stream",
     "text": [
      "pulling data from ibl database ..\n",
      "eid: a4a74102-2af5-45dc-9e41-ef7f5aed88be\n",
      "pid: 0b8ea3ec-e75b-41a1-9442-64f5fbc11a5a\n",
      "number of trials found: 369\n",
      "found 369 trials from 69.96 to 3218.96 sec.\n",
      "found 131 good Kilosort units\n"
     ]
    },
    {
     "name": "stderr",
     "output_type": "stream",
     "text": [
      "Compute spike count: 100%|███████████████████| 369/369 [00:01<00:00, 305.26it/s]\n"
     ]
    },
    {
     "name": "stdout",
     "output_type": "stream",
     "text": [
      "PID: dab512bd-a02d-4c1f-8dbc-9155a163efc0 # trials: 367 # neurons 83 # time bins 60.\n"
     ]
    },
    {
     "name": "stderr",
     "output_type": "stream",
     "text": [
      "Train RRR:: 100%|███████████████████████████| 5000/5000 [01:17<00:00, 64.19it/s]\n"
     ]
    },
    {
     "name": "stdout",
     "output_type": "stream",
     "text": [
      "r2: 0.066 adj-r2: -0.035\n",
      "PID: febb430e-2d50-4f83-87a0-b5ffbb9a4943 # trials: 350 # neurons 85 # time bins 60.\n"
     ]
    },
    {
     "name": "stderr",
     "output_type": "stream",
     "text": [
      "Train RRR:: 100%|███████████████████████████| 5000/5000 [01:38<00:00, 50.78it/s]\n"
     ]
    },
    {
     "name": "stdout",
     "output_type": "stream",
     "text": [
      "r2: -0.003 adj-r2: -0.002\n",
      "PID: 523f8301-4f56-4faf-ab33-a9ff11331118 # trials: 397 # neurons 96 # time bins 60.\n"
     ]
    },
    {
     "name": "stderr",
     "output_type": "stream",
     "text": [
      "Train RRR:: 100%|███████████████████████████| 5000/5000 [01:51<00:00, 44.89it/s]\n"
     ]
    },
    {
     "name": "stdout",
     "output_type": "stream",
     "text": [
      "r2: -0.001 adj-r2: -0.004\n",
      "PID: 0b8ea3ec-e75b-41a1-9442-64f5fbc11a5a # trials: 369 # neurons 131 # time bins 60.\n"
     ]
    },
    {
     "name": "stderr",
     "output_type": "stream",
     "text": [
      "Train RRR:: 100%|███████████████████████████| 5000/5000 [08:31<00:00,  9.77it/s]\n"
     ]
    },
    {
     "name": "stdout",
     "output_type": "stream",
     "text": [
      "r2: -0.059 adj-r2: -0.046\n",
      "PID: dab512bd-a02d-4c1f-8dbc-9155a163efc0 # trials: 367 # neurons 83 # time bins 60.\n"
     ]
    },
    {
     "name": "stderr",
     "output_type": "stream",
     "text": [
      "Train RRR:: 100%|███████████████████████████| 5000/5000 [02:03<00:00, 40.34it/s]\n"
     ]
    },
    {
     "name": "stdout",
     "output_type": "stream",
     "text": [
      "r2: 0.105 adj-r2: -0.110\n",
      "PID: febb430e-2d50-4f83-87a0-b5ffbb9a4943 # trials: 350 # neurons 85 # time bins 60.\n"
     ]
    },
    {
     "name": "stderr",
     "output_type": "stream",
     "text": [
      "Train RRR:: 100%|███████████████████████████| 5000/5000 [01:59<00:00, 41.78it/s]\n"
     ]
    },
    {
     "name": "stdout",
     "output_type": "stream",
     "text": [
      "r2: 0.011 adj-r2: -0.043\n",
      "PID: 523f8301-4f56-4faf-ab33-a9ff11331118 # trials: 397 # neurons 96 # time bins 60.\n"
     ]
    },
    {
     "name": "stderr",
     "output_type": "stream",
     "text": [
      "Train RRR:: 100%|███████████████████████████| 5000/5000 [02:15<00:00, 36.96it/s]\n"
     ]
    },
    {
     "name": "stdout",
     "output_type": "stream",
     "text": [
      "r2: 0.020 adj-r2: -0.094\n",
      "PID: 0b8ea3ec-e75b-41a1-9442-64f5fbc11a5a # trials: 369 # neurons 131 # time bins 60.\n"
     ]
    },
    {
     "name": "stderr",
     "output_type": "stream",
     "text": [
      "Train RRR:: 100%|███████████████████████████| 5000/5000 [09:42<00:00,  8.58it/s]\n"
     ]
    },
    {
     "name": "stdout",
     "output_type": "stream",
     "text": [
      "r2: -0.080 adj-r2: -0.125\n",
      "PID: dab512bd-a02d-4c1f-8dbc-9155a163efc0 # trials: 367 # neurons 83 # time bins 60.\n"
     ]
    },
    {
     "name": "stderr",
     "output_type": "stream",
     "text": [
      "Train RRR:: 100%|███████████████████████████| 5000/5000 [02:12<00:00, 37.80it/s]\n"
     ]
    },
    {
     "name": "stdout",
     "output_type": "stream",
     "text": [
      "r2: 0.163 adj-r2: -0.097\n",
      "PID: febb430e-2d50-4f83-87a0-b5ffbb9a4943 # trials: 350 # neurons 85 # time bins 60.\n"
     ]
    },
    {
     "name": "stderr",
     "output_type": "stream",
     "text": [
      "Train RRR:: 100%|███████████████████████████| 5000/5000 [01:36<00:00, 51.88it/s]\n"
     ]
    },
    {
     "name": "stdout",
     "output_type": "stream",
     "text": [
      "r2: 0.062 adj-r2: 0.026\n",
      "PID: 523f8301-4f56-4faf-ab33-a9ff11331118 # trials: 397 # neurons 96 # time bins 60.\n"
     ]
    },
    {
     "name": "stderr",
     "output_type": "stream",
     "text": [
      "Train RRR:: 100%|███████████████████████████| 5000/5000 [02:29<00:00, 33.41it/s]\n"
     ]
    },
    {
     "name": "stdout",
     "output_type": "stream",
     "text": [
      "r2: -0.007 adj-r2: -0.191\n",
      "PID: 0b8ea3ec-e75b-41a1-9442-64f5fbc11a5a # trials: 369 # neurons 131 # time bins 60.\n"
     ]
    },
    {
     "name": "stderr",
     "output_type": "stream",
     "text": [
      "Train RRR:: 100%|███████████████████████████| 5000/5000 [02:51<00:00, 29.16it/s]\n"
     ]
    },
    {
     "name": "stdout",
     "output_type": "stream",
     "text": [
      "r2: -0.106 adj-r2: -0.139\n",
      "PID: dab512bd-a02d-4c1f-8dbc-9155a163efc0 # trials: 367 # neurons 83 # time bins 60.\n"
     ]
    },
    {
     "name": "stderr",
     "output_type": "stream",
     "text": [
      "Train RRR:: 100%|███████████████████████████| 5000/5000 [01:50<00:00, 45.13it/s]\n"
     ]
    },
    {
     "name": "stdout",
     "output_type": "stream",
     "text": [
      "r2: 0.217 adj-r2: -0.027\n",
      "PID: febb430e-2d50-4f83-87a0-b5ffbb9a4943 # trials: 350 # neurons 85 # time bins 60.\n"
     ]
    },
    {
     "name": "stderr",
     "output_type": "stream",
     "text": [
      "Train RRR:: 100%|██████████████████████████| 5000/5000 [00:40<00:00, 123.05it/s]\n"
     ]
    },
    {
     "name": "stdout",
     "output_type": "stream",
     "text": [
      "r2: -0.014 adj-r2: -0.076\n",
      "PID: 523f8301-4f56-4faf-ab33-a9ff11331118 # trials: 397 # neurons 96 # time bins 60.\n"
     ]
    },
    {
     "name": "stderr",
     "output_type": "stream",
     "text": [
      "Train RRR:: 100%|███████████████████████████| 5000/5000 [00:52<00:00, 95.80it/s]\n"
     ]
    },
    {
     "name": "stdout",
     "output_type": "stream",
     "text": [
      "r2: 0.066 adj-r2: -0.115\n",
      "PID: 0b8ea3ec-e75b-41a1-9442-64f5fbc11a5a # trials: 369 # neurons 131 # time bins 60.\n"
     ]
    },
    {
     "name": "stderr",
     "output_type": "stream",
     "text": [
      "Train RRR:: 100%|███████████████████████████| 5000/5000 [03:48<00:00, 21.87it/s]\n"
     ]
    },
    {
     "name": "stdout",
     "output_type": "stream",
     "text": [
      "r2: -0.102 adj-r2: -0.155\n"
     ]
    }
   ],
   "source": [
    "behavior_type = \"pupil_diameter\"\n",
    "\n",
    "pids = [\n",
    "    \"dab512bd-a02d-4c1f-8dbc-9155a163efc0\",\n",
    "    \"febb430e-2d50-4f83-87a0-b5ffbb9a4943\",\n",
    "    \"523f8301-4f56-4faf-ab33-a9ff11331118\",\n",
    "    # \"84bb830f-b9ff-4e6b-9296-f458fb41d160\",\n",
    "    '0b8ea3ec-e75b-41a1-9442-64f5fbc11a5a',\n",
    "]\n",
    "\n",
    "try:\n",
    "    X_dict, Y_dict = load_data_from_pids(\n",
    "        pids,\n",
    "        brain_region=\"all\",\n",
    "        behavior=behavior_type,\n",
    "        data_type=\"good_ks\",\n",
    "        n_t_bins = 60,\n",
    "        align_time_type=\"feedback_times\",\n",
    "        # align_time_type=\"firstMovement_times\",\n",
    "        t_before=0.2,\n",
    "        t_after=1.0,\n",
    "        normalize_input=False\n",
    "    )\n",
    "except:\n",
    "    print(f\"PID {pid} data missing.\")\n",
    "            \n",
    "for R in [2, 10, 20, 30]:\n",
    "    for pid in pids:\n",
    "\n",
    "        X, Y = X_dict[pid], Y_dict[pid]\n",
    "        offset = Y.max()\n",
    "        Y /= offset\n",
    "        K, C, T = X.shape\n",
    "        print(f\"PID: {pid} # trials: {K} # neurons {C} # time bins {T}.\")\n",
    "\n",
    "        baseline_metrics = []\n",
    "        kf = KFold(n_splits=5, shuffle=True, random_state=666)\n",
    "        for fold_idx, (train, test) in enumerate(kf.split(X, Y)):\n",
    "            pass\n",
    "\n",
    "        # baseline\n",
    "        window_X = sliding_window_over_time(X, window_size=10)\n",
    "        window_Y = sliding_window_over_time(Y, window_size=10)\n",
    "        train_X, test_X = window_X[train], window_X[test]\n",
    "        train_Y, test_Y = window_Y[train], window_Y[test]\n",
    "\n",
    "        rrr, losses = train_rrr(\n",
    "            X = X,\n",
    "            Y = Y, \n",
    "            train = train,\n",
    "            test = test,\n",
    "            n_r = R,\n",
    "            learning_rate = 1e-3,\n",
    "            n_epochs = 5000\n",
    "        )\n",
    "\n",
    "        supervised_subspace = rrr.U.detach().numpy()\n",
    "        subspace_weights = rrr.V.detach().numpy()\n",
    "\n",
    "        all_proj = X.transpose(0,-1,1) @ supervised_subspace\n",
    "        weighted_proj = all_proj * subspace_weights.T\n",
    "        weighted_proj = weighted_proj.transpose(0, -1, 1)\n",
    "\n",
    "        window_X = sliding_window_over_time(weighted_proj, window_size=10)\n",
    "        window_Y = sliding_window_over_time(Y, window_size=10)\n",
    "        train_X, test_X = window_X[train], window_X[test]\n",
    "        train_Y, test_Y = window_Y[train], window_Y[test]\n",
    "        rrr_pred, rrr_metric = causal_decoder(train_X, train_Y, test_X, test_Y)\n",
    "\n",
    "        save_path = Path(\"./sensitivity_rank\") / \"pupil_diameter\" / f\"rank_{R}\"\n",
    "        os.makedirs(save_path, exist_ok=True) \n",
    "        np.save(save_path/f\"{pid}.npy\", rrr_metric)"
   ]
  },
  {
   "cell_type": "code",
   "execution_count": null,
   "id": "2a8adeab-b3db-4af4-ab25-4cf8acc8892a",
   "metadata": {},
   "outputs": [],
   "source": []
  }
 ],
 "metadata": {
  "kernelspec": {
   "display_name": "Python 3 (ipykernel)",
   "language": "python",
   "name": "python3"
  },
  "language_info": {
   "codemirror_mode": {
    "name": "ipython",
    "version": 3
   },
   "file_extension": ".py",
   "mimetype": "text/x-python",
   "name": "python",
   "nbconvert_exporter": "python",
   "pygments_lexer": "ipython3",
   "version": "3.8.13"
  }
 },
 "nbformat": 4,
 "nbformat_minor": 5
}
