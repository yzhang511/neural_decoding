{
 "cells": [
  {
   "cell_type": "code",
   "execution_count": null,
   "id": "5c4b5fc0-ab3d-4441-925a-6e6a44a6109f",
   "metadata": {},
   "outputs": [],
   "source": [
    "from pathlib import Path\n",
    "path_root = '../'\n",
    "sys.path.append(str(path_root))\n",
    "\n",
    "import numpy as np\n",
    "import pandas as pd\n",
    "from matplotlib import pyplot as plt\n",
    "\n",
    "from sklearn.linear_model import Ridge\n",
    "from sklearn.metrics import r2_score\n",
    "\n",
    "import torch\n",
    "from lightning.pytorch.callbacks.early_stopping import EarlyStopping\n",
    "from pytorch_lightning.callbacks import ModelCheckpoint\n",
    "\n",
    "from utils.ibl_data_loaders import SingleSessionDataset\n",
    "from src.models import SingleSessionDataset"
   ]
  },
  {
   "cell_type": "code",
   "execution_count": null,
   "id": "f2a3b6fe-cd59-4cf5-83d3-90712e23653c",
   "metadata": {},
   "outputs": [],
   "source": [
    "eids = [fname.split('.')[0] for fname in os.listdir('./data/') if fname.endswith('npz')]\n",
    "print(eids)"
   ]
  },
  {
   "cell_type": "code",
   "execution_count": 1,
   "id": "f98fd7fc-ee61-4faf-9130-2e572c57a1c1",
   "metadata": {},
   "outputs": [],
   "source": [
    "DEVICE = torch.device('cuda' if torch.cuda.is_available() else 'cpu')\n",
    "\n",
    "config = {\n",
    "    'target': 'wheel_speed',\n",
    "    'temporal_rank': 15,\n",
    "    'batch_size': 4,\n",
    "    'learning_rate': 5e-3,\n",
    "    'weight_decay': 1e-1,\n",
    "    'lr_factor': 0.1,\n",
    "    'lr_patience': 5,\n",
    "    'device': DEVICE,\n",
    "    'n_workers': os.cpu_count()\n",
    "}"
   ]
  },
  {
   "cell_type": "code",
   "execution_count": null,
   "id": "2a709028-42a7-4eff-9004-47094d323a20",
   "metadata": {},
   "outputs": [],
   "source": [
    "eid = eids[1]\n",
    "session_dataset = SingleSessionDataset(eid, config['target'], DEVICE)\n",
    "config.update({'n_units': session_dataset.n_units, 'n_t_steps': session_dataset.n_t_steps})"
   ]
  },
  {
   "cell_type": "code",
   "execution_count": null,
   "id": "c2fe2678-ccca-49c0-8b56-90eb78fb03f3",
   "metadata": {},
   "outputs": [],
   "source": [
    "data_len = len(session_dataset)\n",
    "train_len, val_len = int(0.8*data_len), int(0.1*data_len)\n",
    "test_len = data_len - train_len - val_len\n",
    "\n",
    "train, val, test = torch.utils.data.random_split(\n",
    "    session_dataset, [train_len, val_len, test_len]\n",
    ")"
   ]
  },
  {
   "cell_type": "code",
   "execution_count": null,
   "id": "c4b8cbef-3055-4e22-ac6d-70c47e727d97",
   "metadata": {},
   "outputs": [],
   "source": [
    "# save model\n",
    "# model_path = './models/'\n",
    "# os.makedirs(model_path, exist_ok=True)\n",
    "# checkpoint_callback = ModelCheckpoint(\n",
    "#     monitor='val_loss', dirpath=model_path, filename=f'{eid}-{config['target']}-{epoch:02d}-{val_loss:.2f}'\n",
    "# )\n",
    "\n",
    "trainer = Trainer(\n",
    "    max_epochs=500,\n",
    "    callbacks=[EarlyStopping(monitor=\"val_loss\", mode=\"min\", patience=50)],\n",
    "    # callbacks=[checkpoint_callback],\n",
    ")\n",
    "# define the Model\n",
    "model = ReducedRankModel(train, test, val, config)\n",
    "trainer.fit(model)\n",
    "trainer.test()\n",
    "\n",
    "# retrieve the best checkpoint after training\n",
    "# checkpoint_callback.best_model_path"
   ]
  },
  {
   "cell_type": "code",
   "execution_count": null,
   "id": "b56491a3-c457-42ad-867e-1608e2024aea",
   "metadata": {},
   "outputs": [],
   "source": [
    "# visualize test predictions\n",
    "test_x, test_y = [], []\n",
    "for (x, y) in test:\n",
    "  test_x.append(x.cpu())\n",
    "  test_y.append(y.cpu())\n",
    "test_x = torch.stack(test_x)\n",
    "test_y = torch.stack(test_y).numpy()\n",
    "test_pred = model(test_x).detach().numpy()\n",
    "\n",
    "plt.figure(figsize=(12,2))\n",
    "plt.plot(test_y[:10].flatten(), label=\"target\")\n",
    "plt.plot(test_pred[:10].flatten(), label=\"pred\")\n",
    "plt.title(f\"R2: {r2_score(test_y.flatten(), test_pred.flatten())}\")\n",
    "plt.legend()\n",
    "plt.show()"
   ]
  },
  {
   "cell_type": "code",
   "execution_count": null,
   "id": "c31991a4-e4b6-42d8-8e86-49cf82b913b8",
   "metadata": {},
   "outputs": [],
   "source": [
    "# compare to baseline predictions\n",
    "\n",
    "train_x, train_y = [], []\n",
    "for (x, y) in train:\n",
    "  train_x.append(x.cpu())\n",
    "  train_y.append(y.cpu())\n",
    "train_x = np.stack(train_x)\n",
    "train_y = np.stack(train_y)\n",
    "\n",
    "test_x, test_y = [], []\n",
    "for (x, y) in test:\n",
    "  test_x.append(x.cpu())\n",
    "  test_y.append(y.cpu())\n",
    "test_x = np.stack(test_x)\n",
    "test_y = np.stack(test_y)\n",
    "\n",
    "reg = Ridge(alpha=1e-2)\n",
    "reg.fit(train_x.reshape((train_x.shape[0], -1)), train_y)\n",
    "test_pred = reg.predict(test_x.reshape((test_x.shape[0], -1)))\n",
    "\n",
    "plt.figure(figsize=(12,2))\n",
    "plt.plot(test_y[:10].flatten(), label=\"target\")\n",
    "plt.plot(test_pred[:10].flatten(), label=\"pred\")\n",
    "plt.title(f\"R2: {r2_score(test_y.flatten(), test_pred.flatten())}\")\n",
    "plt.legend()\n",
    "plt.show()"
   ]
  },
  {
   "cell_type": "code",
   "execution_count": null,
   "id": "23f7db9e-24fa-448b-8051-c14957abaad9",
   "metadata": {},
   "outputs": [],
   "source": []
  }
 ],
 "metadata": {
  "kernelspec": {
   "display_name": "Python 3 (ipykernel)",
   "language": "python",
   "name": "python3"
  },
  "language_info": {
   "codemirror_mode": {
    "name": "ipython",
    "version": 3
   },
   "file_extension": ".py",
   "mimetype": "text/x-python",
   "name": "python",
   "nbconvert_exporter": "python",
   "pygments_lexer": "ipython3",
   "version": "3.11.7"
  }
 },
 "nbformat": 4,
 "nbformat_minor": 5
}
