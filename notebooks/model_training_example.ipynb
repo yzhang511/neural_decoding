{
 "cells": [
  {
   "cell_type": "code",
   "execution_count": null,
   "id": "5c4b5fc0-ab3d-4441-925a-6e6a44a6109f",
   "metadata": {},
   "outputs": [],
   "source": [
    "from pathlib import Path\n",
    "path_root = '../'\n",
    "sys.path.append(str(path_root))\n",
    "\n",
    "import numpy as np\n",
    "import pandas as pd\n",
    "from matplotlib import pyplot as plt\n",
    "\n",
    "import torch\n",
    "\n",
    "from utils.ibl_data_loaders import SingleSessionDataset"
   ]
  },
  {
   "cell_type": "code",
   "execution_count": null,
   "id": "f2a3b6fe-cd59-4cf5-83d3-90712e23653c",
   "metadata": {},
   "outputs": [],
   "source": [
    "eids = [fname.split('.')[0] for fname in os.listdir('./data/') if fname.endswith('npz')]\n",
    "print(eids)"
   ]
  },
  {
   "cell_type": "code",
   "execution_count": 1,
   "id": "f98fd7fc-ee61-4faf-9130-2e572c57a1c1",
   "metadata": {},
   "outputs": [],
   "source": [
    "config = {\n",
    "    'target': 'wheel_speed',\n",
    "    'batch_size': 8,\n",
    "}"
   ]
  },
  {
   "cell_type": "code",
   "execution_count": null,
   "id": "2a709028-42a7-4eff-9004-47094d323a20",
   "metadata": {},
   "outputs": [],
   "source": [
    "eid = eids[0]\n",
    "session_dataset = SingleSessionDataset(eid, config['target'])\n",
    "session_loader = DataLoader(session_dataset, batch_size=config['batch_size'], shuffle=True)"
   ]
  },
  {
   "cell_type": "code",
   "execution_count": null,
   "id": "23f7db9e-24fa-448b-8051-c14957abaad9",
   "metadata": {},
   "outputs": [],
   "source": []
  }
 ],
 "metadata": {
  "kernelspec": {
   "display_name": "Python 3 (ipykernel)",
   "language": "python",
   "name": "python3"
  },
  "language_info": {
   "codemirror_mode": {
    "name": "ipython",
    "version": 3
   },
   "file_extension": ".py",
   "mimetype": "text/x-python",
   "name": "python",
   "nbconvert_exporter": "python",
   "pygments_lexer": "ipython3",
   "version": "3.11.7"
  }
 },
 "nbformat": 4,
 "nbformat_minor": 5
}
