{
 "cells": [
  {
   "cell_type": "code",
   "execution_count": null,
   "id": "2d4685c1-ca5d-495c-b610-c41793f79b63",
   "metadata": {},
   "outputs": [],
   "source": [
    "import sys\n",
    "from pathlib import Path\n",
    "path_root = '../'\n",
    "sys.path.append(str(path_root))\n",
    "\n",
    "import numpy as np\n",
    "import pandas as pd\n",
    "from matplotlib import pyplot as plt\n",
    "\n",
    "from one.api import ONE\n",
    "from brainbox.io.one import SessionLoader, SpikeSortingLoader\n",
    "from iblatlas.atlas import AllenAtlas\n",
    "from utils.ibl_data_utils import (\n",
    "    load_spiking_data, load_trials_and_mask, merge_probes,\n",
    "    load_trial_behaviors, load_anytime_behaviors,\n",
    "    prepare_data, \n",
    "    select_brain_regions, list_brain_regions, \n",
    "    bin_spiking_data, save_data\n",
    ")"
   ]
  },
  {
   "cell_type": "code",
   "execution_count": null,
   "id": "21ea0b79-a67a-4bf7-b253-e1cd492599ec",
   "metadata": {},
   "outputs": [],
   "source": [
    "# Instantiate ONE\n",
    "ONE.setup(base_url='https://openalyx.internationalbrainlab.org', \n",
    "          silent=True, \n",
    "          cache_dir='/mnt/3TB/yizi/Downloads/ONE/openalyx.internationalbrainlab.org'\n",
    ")\n",
    "one = ONE(password='international')\n",
    "ba = AllenAtlas()"
   ]
  },
  {
   "cell_type": "code",
   "execution_count": null,
   "id": "c30f2560-5b2f-4b3d-9d3f-2f1e8d6a1193",
   "metadata": {},
   "outputs": [],
   "source": [
    "freeze_file = './data/2023_12_bwm_release.csv'\n",
    "bwm_df = pd.read_csv(freeze_file, index_col=0)"
   ]
  },
  {
   "cell_type": "code",
   "execution_count": null,
   "id": "c88482e7-bf3f-4059-9050-ca3b76eeec36",
   "metadata": {},
   "outputs": [],
   "source": [
    "# Load an example session\n",
    "idx = 400\n",
    "pid = bwm_df.pid[idx]\n",
    "eid, probe = one.pid2eid(pid)"
   ]
  },
  {
   "cell_type": "code",
   "execution_count": null,
   "id": "9ce07c39-67ed-4bf6-aa5b-6c448c03d6fa",
   "metadata": {},
   "outputs": [],
   "source": [
    "params = {\n",
    "    # setup for trial decoding:\n",
    "    'align_time': 'firstMovement_times',\n",
    "    'time_window': (0., 1.),\n",
    "    'binsize': 0.02,\n",
    "    'single_region': False # use all available regions\n",
    "}"
   ]
  },
  {
   "cell_type": "code",
   "execution_count": null,
   "id": "556b920e-59f2-4e4e-91ea-76bffcdd3151",
   "metadata": {},
   "outputs": [],
   "source": [
    "trials, mask = load_trials_and_mask(one, eid, min_rt=0.08, max_rt=2., nan_exclude='default')"
   ]
  },
  {
   "cell_type": "code",
   "execution_count": null,
   "id": "5a23b134-2b45-497b-8921-1eaf0d316b2b",
   "metadata": {},
   "outputs": [],
   "source": [
    "neural_dict, behave_dict, metadata = prepare_data(one, eid, bwm_df, params)"
   ]
  },
  {
   "cell_type": "code",
   "execution_count": null,
   "id": "3586e654-40ab-4ebb-948b-0c1fcf986eb7",
   "metadata": {},
   "outputs": [],
   "source": [
    "regions, beryl_reg = list_brain_regions(neural_dict, **params)\n",
    "region_cluster_ids = select_brain_regions(neural_dict, beryl_reg, regions, **params)"
   ]
  },
  {
   "cell_type": "code",
   "execution_count": null,
   "id": "39c9acd0-283b-44f9-af1e-bf50e7a1eb16",
   "metadata": {},
   "outputs": [],
   "source": [
    "binned_spikes, clusters_used_in_bins = bin_spiking_data(region_cluster_ids, neural_dict, trials, **params)"
   ]
  },
  {
   "cell_type": "code",
   "execution_count": null,
   "id": "7b8394e1-c43d-45dc-b2aa-b13d86417cfd",
   "metadata": {},
   "outputs": [],
   "source": [
    "trial_idx = 0\n",
    "plt.figure(figsize=(4,3))\n",
    "plt.imshow(binned_spikes[trial_idx].T, aspect=\"auto\", cmap=\"binary\")\n",
    "plt.title(f\"spike count in trial {trial_idx}\")\n",
    "plt.xlabel(\"time bin\")\n",
    "plt.ylabel(\"unit\")\n",
    "plt.colorbar();"
   ]
  },
  {
   "cell_type": "code",
   "execution_count": null,
   "id": "238efb88-6753-44ce-ae7a-2adcfa6d4ff6",
   "metadata": {},
   "outputs": [],
   "source": [
    "binned_behaviors = load_trial_behaviors(one, eid, trials, allow_nans=True, **params)"
   ]
  },
  {
   "cell_type": "code",
   "execution_count": null,
   "id": "592095d9-c72f-4659-a22c-00b2e554991c",
   "metadata": {},
   "outputs": [],
   "source": [
    "behave = \"left-pupil-diameter\"\n",
    "plt.figure(figsize=(4,3))\n",
    "plt.plot(binned_behaviors[behave][trial_idx])\n",
    "plt.title(f\"{behave} in trial {trial_idx}\")\n",
    "plt.xlabel(\"time bin\")\n",
    "plt.ylabel(behave);"
   ]
  },
  {
   "cell_type": "code",
   "execution_count": null,
   "id": "f456944e-fe4d-4eb5-b6a6-b14433dd6656",
   "metadata": {},
   "outputs": [],
   "source": [
    "save_data(eid, binned_spikes, binned_behaviors)"
   ]
  },
  {
   "cell_type": "code",
   "execution_count": null,
   "id": "752b8b4c-1e01-43e8-9a28-062e1858276c",
   "metadata": {},
   "outputs": [],
   "source": []
  },
  {
   "cell_type": "code",
   "execution_count": null,
   "id": "ecb19190-6169-4a6b-b130-56cb3fa9e53e",
   "metadata": {},
   "outputs": [],
   "source": []
  }
 ],
 "metadata": {
  "kernelspec": {
   "display_name": "Python 3 (ipykernel)",
   "language": "python",
   "name": "python3"
  },
  "language_info": {
   "codemirror_mode": {
    "name": "ipython",
    "version": 3
   },
   "file_extension": ".py",
   "mimetype": "text/x-python",
   "name": "python",
   "nbconvert_exporter": "python",
   "pygments_lexer": "ipython3",
   "version": "3.11.7"
  }
 },
 "nbformat": 4,
 "nbformat_minor": 5
}
