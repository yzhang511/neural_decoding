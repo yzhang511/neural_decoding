{
 "cells": [
  {
   "cell_type": "markdown",
   "id": "77031475-4e0b-406d-bd3d-5c7317d82d41",
   "metadata": {},
   "source": [
    "#### Linear-Gaussian + Autoregressive Model of Order 1 (LG-AR1)\n",
    "\n",
    "This notebook provides examples of fitting LG-AR1 model variants:\n",
    "1. single-session LG-AR1\n",
    "2. oracle LG-AR1\n",
    "3. multi-session LG-AR1"
   ]
  },
  {
   "cell_type": "code",
   "execution_count": 1,
   "id": "d43a219b-b727-4e04-8a27-ab44fbef4bad",
   "metadata": {},
   "outputs": [],
   "source": [
    "import os\n",
    "import sys\n",
    "import numpy as np\n",
    "from pathlib import Path\n",
    "import matplotlib.pyplot as plt\n",
    "import pymc3 as pm\n",
    "from sklearn.metrics import r2_score\n",
    "\n",
    "path_root = '../src'\n",
    "sys.path.append(str(path_root))\n",
    "\n",
    "from models.LG_AR1 import LG_AR1, MultiSession_LG_AR1\n",
    "seed = 42"
   ]
  },
  {
   "cell_type": "markdown",
   "id": "52c14ba3-9bed-4bfb-8911-81b1ca5f2ace",
   "metadata": {},
   "source": [
    "#### LOAD DATA\n",
    "We retrieve pre-computed decoder outputs from previously fitted single-session models. Alternatively, users can apply custom decoders to generate the required inputs for the LG-AR1 model:\n",
    "1. `gt`: ground truth behavior over sequential trials in each session, e.g., scalar prior `[0.1, 0.9, 0.84, 0.05, ...]`\n",
    "2. `decoder_output`: single-session decoder output over sequential trials in each session, e.g., predicted prior `[0.15, 0.87, 0.83, 0.07, ...]`"
   ]
  },
  {
   "cell_type": "code",
   "execution_count": 2,
   "id": "101b49d2-1b2d-48c1-9b31-041566895ffb",
   "metadata": {},
   "outputs": [],
   "source": [
    "behavior = \"prior\"\n",
    "brain_region = \"ca1\"\n",
    "data_path = Path(\"../data/example_decoder_outputs\")\n",
    "pids = [pid for pid in os.listdir(data_path) if os.path.exists(data_path/pid/behavior)]"
   ]
  },
  {
   "cell_type": "code",
   "execution_count": 3,
   "id": "dd5503b5-feaf-4660-82a4-c947519229f5",
   "metadata": {},
   "outputs": [],
   "source": [
    "gt_lst, decoder_output_lst = [], []\n",
    "\n",
    "for _, pid in enumerate(pids):\n",
    "\n",
    "    gt, decoder_output, trial_idx = [], [], []\n",
    "    # Load data from 5 cross-validated folds\n",
    "    for fold_idx in range(1,5+1):\n",
    "        gt.append(\n",
    "            np.load(\n",
    "                data_path/pid/behavior/brain_region/\"y_obs\"/f\"fold_{fold_idx}.npy\", allow_pickle=True\n",
    "            ).item()[\"thresholded\"]\n",
    "        )\n",
    "        decoder_output.append(\n",
    "            np.load(\n",
    "                data_path/pid/behavior/brain_region/\"y_pred\"/f\"fold_{fold_idx}.npy\", allow_pickle=True\n",
    "            ).item()[\"thresholded\"]\n",
    "        )\n",
    "        trial_idx.append(\n",
    "            np.load(\n",
    "                data_path/pid/behavior/brain_region/\"trial_idx\"/f\"fold_{fold_idx}.npy\", allow_pickle=True\n",
    "            )\n",
    "        )\n",
    "    sorted_trial_idx = np.argsort(np.concatenate(trial_idx))\n",
    "    gt = np.concatenate(gt)[sorted_trial_idx]\n",
    "    decoder_output = np.concatenate(decoder_output)[sorted_trial_idx]\n",
    "    gt_lst.append(gt)\n",
    "    decoder_output_lst.append(decoder_output)\n",
    "    \n",
    "gt_lst = np.array(gt_lst, dtype=object)\n",
    "decoder_output_lst = np.array(decoder_output_lst, dtype=object)"
   ]
  },
  {
   "cell_type": "markdown",
   "id": "c198480f-ea3c-4843-9426-f19e3d58f6ff",
   "metadata": {},
   "source": [
    "#### SINGLE-SESSION LG-AR1\n",
    "This model learns parameters only from `decoder_output` in the test session. "
   ]
  },
  {
   "cell_type": "code",
   "execution_count": 4,
   "id": "aed56a31-8c1f-462c-af54-eea39e213fca",
   "metadata": {},
   "outputs": [
    {
     "name": "stdout",
     "output_type": "stream",
     "text": [
      "Apply LG-AR1 to improve decoder outputs from region ca1 and session 523f8301-4f56-4faf-ab33-a9ff11331118.\n"
     ]
    }
   ],
   "source": [
    "test_idx = 4\n",
    "test_pid = pids[test_idx] # example\n",
    "test_decoder_output = decoder_output_lst[test_idx]\n",
    "test_gt = gt_lst[test_idx]\n",
    "print(f\"Apply LG-AR1 to improve decoder outputs from region {brain_region} and session {test_pid}.\")"
   ]
  },
  {
   "cell_type": "code",
   "execution_count": 5,
   "id": "b9254737-8476-47dd-a48b-476ff7d8e9a3",
   "metadata": {},
   "outputs": [
    {
     "name": "stderr",
     "output_type": "stream",
     "text": [
      "Auto-assigning NUTS sampler...\n",
      "Initializing NUTS using jitter+adapt_diag...\n",
      "Multiprocess sampling (4 chains in 4 jobs)\n",
      "NUTS: [state, theta, mu, eps, xi, rho]\n"
     ]
    },
    {
     "data": {
      "text/html": [
       "\n",
       "<style>\n",
       "    /* Turns off some styling */\n",
       "    progress {\n",
       "        /* gets rid of default border in Firefox and Opera. */\n",
       "        border: none;\n",
       "        /* Needs to be in here for Safari polyfill so background images work as expected. */\n",
       "        background-size: auto;\n",
       "    }\n",
       "    progress:not([value]), progress:not([value])::-webkit-progress-bar {\n",
       "        background: repeating-linear-gradient(45deg, #7e7e7e, #7e7e7e 10px, #5c5c5c 10px, #5c5c5c 20px);\n",
       "    }\n",
       "    .progress-bar-interrupted, .progress-bar-interrupted::-webkit-progress-bar {\n",
       "        background: #F44336;\n",
       "    }\n",
       "</style>\n"
      ],
      "text/plain": [
       "<IPython.core.display.HTML object>"
      ]
     },
     "metadata": {},
     "output_type": "display_data"
    },
    {
     "data": {
      "text/html": [
       "\n",
       "    <div>\n",
       "      <progress value='4400' class='' max='4400' style='width:300px; height:20px; vertical-align: middle;'></progress>\n",
       "      100.00% [4400/4400 01:19&lt;00:00 Sampling 4 chains, 379 divergences]\n",
       "    </div>\n",
       "    "
      ],
      "text/plain": [
       "<IPython.core.display.HTML object>"
      ]
     },
     "metadata": {},
     "output_type": "display_data"
    },
    {
     "name": "stderr",
     "output_type": "stream",
     "text": [
      "Sampling 4 chains for 100 tune and 1_000 draw iterations (400 + 4_000 draws total) took 80 seconds.\n",
      "There were 85 divergences after tuning. Increase `target_accept` or reparameterize.\n",
      "There were 64 divergences after tuning. Increase `target_accept` or reparameterize.\n",
      "There were 97 divergences after tuning. Increase `target_accept` or reparameterize.\n",
      "There were 133 divergences after tuning. Increase `target_accept` or reparameterize.\n",
      "The acceptance probability does not match the target. It is 0.8969584396056353, but should be close to 0.95. Try to increase the number of tuning steps.\n"
     ]
    },
    {
     "data": {
      "text/html": [
       "\n",
       "<style>\n",
       "    /* Turns off some styling */\n",
       "    progress {\n",
       "        /* gets rid of default border in Firefox and Opera. */\n",
       "        border: none;\n",
       "        /* Needs to be in here for Safari polyfill so background images work as expected. */\n",
       "        background-size: auto;\n",
       "    }\n",
       "    progress:not([value]), progress:not([value])::-webkit-progress-bar {\n",
       "        background: repeating-linear-gradient(45deg, #7e7e7e, #7e7e7e 10px, #5c5c5c 10px, #5c5c5c 20px);\n",
       "    }\n",
       "    .progress-bar-interrupted, .progress-bar-interrupted::-webkit-progress-bar {\n",
       "        background: #F44336;\n",
       "    }\n",
       "</style>\n"
      ],
      "text/plain": [
       "<IPython.core.display.HTML object>"
      ]
     },
     "metadata": {},
     "output_type": "display_data"
    },
    {
     "data": {
      "text/html": [
       "\n",
       "    <div>\n",
       "      <progress value='4000' class='' max='4000' style='width:300px; height:20px; vertical-align: middle;'></progress>\n",
       "      100.00% [4000/4000 00:02&lt;00:00]\n",
       "    </div>\n",
       "    "
      ],
      "text/plain": [
       "<IPython.core.display.HTML object>"
      ]
     },
     "metadata": {},
     "output_type": "display_data"
    },
    {
     "name": "stdout",
     "output_type": "stream",
     "text": [
      "-------------------\n",
      "Original decoding R2 (before single-session LG-AR1):  0.05161053911493674\n",
      "Improved decoding R2 (after single-session LG-AR1):  0.2747551512570703\n"
     ]
    }
   ],
   "source": [
    "\"\"\"\n",
    "NOTE: If the original decoder outputs are of poor quality, \n",
    "      set \"is_low_snr\" to be True, otherwise False.\n",
    "\"\"\"\n",
    "lg_ar1 = LG_AR1()\n",
    "single_sess_pred, single_sess_rho, single_sess_theta, single_sess_mu = lg_ar1.forward(\n",
    "    test_decoder_output, is_low_snr=True, n_samples=1000\n",
    ") \n",
    "print('-------------------')\n",
    "print('Original decoding R2 (before single-session LG-AR1): ', r2_score(test_gt, test_decoder_output))\n",
    "print('Improved decoding R2 (after single-session LG-AR1): ', r2_score(test_gt, single_sess_pred))"
   ]
  },
  {
   "cell_type": "code",
   "execution_count": null,
   "id": "e9f0874f-3d61-42d2-bd12-8df96041c8b8",
   "metadata": {},
   "outputs": [],
   "source": []
  },
  {
   "cell_type": "markdown",
   "id": "09867795-bcaa-43f5-a867-624122b75262",
   "metadata": {},
   "source": [
    "#### ORACLE LG-AR1\n",
    "This model learns parameters only from `gt` in the test session (\"Oracle\" means that we have access to the ground truth). "
   ]
  },
  {
   "cell_type": "code",
   "execution_count": 6,
   "id": "a3ddb799-2ee0-4218-bcfc-4530a5f2a059",
   "metadata": {},
   "outputs": [
    {
     "name": "stderr",
     "output_type": "stream",
     "text": [
      "Auto-assigning NUTS sampler...\n",
      "Initializing NUTS using jitter+adapt_diag...\n",
      "Multiprocess sampling (4 chains in 4 jobs)\n",
      "NUTS: [state, theta, mu, eps, xi, rho]\n"
     ]
    },
    {
     "data": {
      "text/html": [
       "\n",
       "<style>\n",
       "    /* Turns off some styling */\n",
       "    progress {\n",
       "        /* gets rid of default border in Firefox and Opera. */\n",
       "        border: none;\n",
       "        /* Needs to be in here for Safari polyfill so background images work as expected. */\n",
       "        background-size: auto;\n",
       "    }\n",
       "    progress:not([value]), progress:not([value])::-webkit-progress-bar {\n",
       "        background: repeating-linear-gradient(45deg, #7e7e7e, #7e7e7e 10px, #5c5c5c 10px, #5c5c5c 20px);\n",
       "    }\n",
       "    .progress-bar-interrupted, .progress-bar-interrupted::-webkit-progress-bar {\n",
       "        background: #F44336;\n",
       "    }\n",
       "</style>\n"
      ],
      "text/plain": [
       "<IPython.core.display.HTML object>"
      ]
     },
     "metadata": {},
     "output_type": "display_data"
    },
    {
     "data": {
      "text/html": [
       "\n",
       "    <div>\n",
       "      <progress value='4400' class='' max='4400' style='width:300px; height:20px; vertical-align: middle;'></progress>\n",
       "      100.00% [4400/4400 01:00&lt;00:00 Sampling 4 chains, 470 divergences]\n",
       "    </div>\n",
       "    "
      ],
      "text/plain": [
       "<IPython.core.display.HTML object>"
      ]
     },
     "metadata": {},
     "output_type": "display_data"
    },
    {
     "name": "stderr",
     "output_type": "stream",
     "text": [
      "Sampling 4 chains for 100 tune and 1_000 draw iterations (400 + 4_000 draws total) took 60 seconds.\n",
      "There were 132 divergences after tuning. Increase `target_accept` or reparameterize.\n",
      "The acceptance probability does not match the target. It is 0.7632941947596866, but should be close to 0.95. Try to increase the number of tuning steps.\n",
      "There were 319 divergences after tuning. Increase `target_accept` or reparameterize.\n",
      "The acceptance probability does not match the target. It is 0.7052688324157524, but should be close to 0.95. Try to increase the number of tuning steps.\n",
      "There were 19 divergences after tuning. Increase `target_accept` or reparameterize.\n"
     ]
    },
    {
     "data": {
      "text/html": [
       "\n",
       "<style>\n",
       "    /* Turns off some styling */\n",
       "    progress {\n",
       "        /* gets rid of default border in Firefox and Opera. */\n",
       "        border: none;\n",
       "        /* Needs to be in here for Safari polyfill so background images work as expected. */\n",
       "        background-size: auto;\n",
       "    }\n",
       "    progress:not([value]), progress:not([value])::-webkit-progress-bar {\n",
       "        background: repeating-linear-gradient(45deg, #7e7e7e, #7e7e7e 10px, #5c5c5c 10px, #5c5c5c 20px);\n",
       "    }\n",
       "    .progress-bar-interrupted, .progress-bar-interrupted::-webkit-progress-bar {\n",
       "        background: #F44336;\n",
       "    }\n",
       "</style>\n"
      ],
      "text/plain": [
       "<IPython.core.display.HTML object>"
      ]
     },
     "metadata": {},
     "output_type": "display_data"
    },
    {
     "data": {
      "text/html": [
       "\n",
       "    <div>\n",
       "      <progress value='4000' class='' max='4000' style='width:300px; height:20px; vertical-align: middle;'></progress>\n",
       "      100.00% [4000/4000 00:02&lt;00:00]\n",
       "    </div>\n",
       "    "
      ],
      "text/plain": [
       "<IPython.core.display.HTML object>"
      ]
     },
     "metadata": {},
     "output_type": "display_data"
    },
    {
     "name": "stdout",
     "output_type": "stream",
     "text": [
      "-------------------\n",
      "Original decoding R2 (before oracle LG-AR1):  0.05161053911493674\n",
      "Improved decoding R2 (after oracle LG-AR1):  0.6472265550186233\n"
     ]
    }
   ],
   "source": [
    "lg_ar1 = LG_AR1()\n",
    "oracle_pred, oracle_rho, oracle_theta, oracle_mu = lg_ar1.forward(\n",
    "    test_gt, is_oracle=True, is_low_snr=True, n_samples=1000\n",
    ") \n",
    "print('-------------------')\n",
    "print('Original decoding R2 (before oracle LG-AR1): ', r2_score(test_gt, test_decoder_output))\n",
    "print('Improved decoding R2 (after oracle LG-AR1): ', r2_score(test_gt, oracle_pred))"
   ]
  },
  {
   "cell_type": "markdown",
   "id": "aa920de9-bb1f-48d2-9d99-129341f6f6af",
   "metadata": {},
   "source": [
    "#### Multi-Session LG-AR1\n",
    "This model learns parameters from `gt` in multiple training sessions and then uses such empirical prior information to fit a new LG-AR1 on `decoder_output` in the test session for inference. "
   ]
  },
  {
   "cell_type": "code",
   "execution_count": 7,
   "id": "90424c03-58aa-4b13-92c3-4cfb7566332f",
   "metadata": {},
   "outputs": [],
   "source": [
    "# Prepare training and test data\n",
    "train_idxs = np.delete(np.arange(len(pids)), test_idx)\n",
    "train_gt, test_gt = gt_lst[train_idxs], gt_lst[test_idx]\n",
    "train_decoder_output = decoder_output_lst[train_idxs]"
   ]
  },
  {
   "cell_type": "code",
   "execution_count": 8,
   "id": "c412a970-1754-41f8-b963-477ab6988424",
   "metadata": {},
   "outputs": [
    {
     "name": "stderr",
     "output_type": "stream",
     "text": [
      "Auto-assigning NUTS sampler...\n",
      "Initializing NUTS using jitter+adapt_diag...\n",
      "Multiprocess sampling (4 chains in 4 jobs)\n",
      "NUTS: [theta, mu, eps, xi, rho]\n"
     ]
    },
    {
     "data": {
      "text/html": [
       "\n",
       "<style>\n",
       "    /* Turns off some styling */\n",
       "    progress {\n",
       "        /* gets rid of default border in Firefox and Opera. */\n",
       "        border: none;\n",
       "        /* Needs to be in here for Safari polyfill so background images work as expected. */\n",
       "        background-size: auto;\n",
       "    }\n",
       "    progress:not([value]), progress:not([value])::-webkit-progress-bar {\n",
       "        background: repeating-linear-gradient(45deg, #7e7e7e, #7e7e7e 10px, #5c5c5c 10px, #5c5c5c 20px);\n",
       "    }\n",
       "    .progress-bar-interrupted, .progress-bar-interrupted::-webkit-progress-bar {\n",
       "        background: #F44336;\n",
       "    }\n",
       "</style>\n"
      ],
      "text/plain": [
       "<IPython.core.display.HTML object>"
      ]
     },
     "metadata": {},
     "output_type": "display_data"
    },
    {
     "data": {
      "text/html": [
       "\n",
       "    <div>\n",
       "      <progress value='4400' class='' max='4400' style='width:300px; height:20px; vertical-align: middle;'></progress>\n",
       "      100.00% [4400/4400 00:03&lt;00:00 Sampling 4 chains, 0 divergences]\n",
       "    </div>\n",
       "    "
      ],
      "text/plain": [
       "<IPython.core.display.HTML object>"
      ]
     },
     "metadata": {},
     "output_type": "display_data"
    },
    {
     "name": "stderr",
     "output_type": "stream",
     "text": [
      "Sampling 4 chains for 100 tune and 1_000 draw iterations (400 + 4_000 draws total) took 4 seconds.\n"
     ]
    },
    {
     "data": {
      "text/html": [
       "\n",
       "<style>\n",
       "    /* Turns off some styling */\n",
       "    progress {\n",
       "        /* gets rid of default border in Firefox and Opera. */\n",
       "        border: none;\n",
       "        /* Needs to be in here for Safari polyfill so background images work as expected. */\n",
       "        background-size: auto;\n",
       "    }\n",
       "    progress:not([value]), progress:not([value])::-webkit-progress-bar {\n",
       "        background: repeating-linear-gradient(45deg, #7e7e7e, #7e7e7e 10px, #5c5c5c 10px, #5c5c5c 20px);\n",
       "    }\n",
       "    .progress-bar-interrupted, .progress-bar-interrupted::-webkit-progress-bar {\n",
       "        background: #F44336;\n",
       "    }\n",
       "</style>\n"
      ],
      "text/plain": [
       "<IPython.core.display.HTML object>"
      ]
     },
     "metadata": {},
     "output_type": "display_data"
    },
    {
     "data": {
      "text/html": [
       "\n",
       "    <div>\n",
       "      <progress value='4000' class='' max='4000' style='width:300px; height:20px; vertical-align: middle;'></progress>\n",
       "      100.00% [4000/4000 00:02&lt;00:00]\n",
       "    </div>\n",
       "    "
      ],
      "text/plain": [
       "<IPython.core.display.HTML object>"
      ]
     },
     "metadata": {},
     "output_type": "display_data"
    },
    {
     "name": "stderr",
     "output_type": "stream",
     "text": [
      "Auto-assigning NUTS sampler...\n",
      "Initializing NUTS using jitter+adapt_diag...\n",
      "Multiprocess sampling (4 chains in 4 jobs)\n",
      "NUTS: [state]\n"
     ]
    },
    {
     "data": {
      "text/html": [
       "\n",
       "<style>\n",
       "    /* Turns off some styling */\n",
       "    progress {\n",
       "        /* gets rid of default border in Firefox and Opera. */\n",
       "        border: none;\n",
       "        /* Needs to be in here for Safari polyfill so background images work as expected. */\n",
       "        background-size: auto;\n",
       "    }\n",
       "    progress:not([value]), progress:not([value])::-webkit-progress-bar {\n",
       "        background: repeating-linear-gradient(45deg, #7e7e7e, #7e7e7e 10px, #5c5c5c 10px, #5c5c5c 20px);\n",
       "    }\n",
       "    .progress-bar-interrupted, .progress-bar-interrupted::-webkit-progress-bar {\n",
       "        background: #F44336;\n",
       "    }\n",
       "</style>\n"
      ],
      "text/plain": [
       "<IPython.core.display.HTML object>"
      ]
     },
     "metadata": {},
     "output_type": "display_data"
    },
    {
     "data": {
      "text/html": [
       "\n",
       "    <div>\n",
       "      <progress value='4400' class='' max='4400' style='width:300px; height:20px; vertical-align: middle;'></progress>\n",
       "      100.00% [4400/4400 00:18&lt;00:00 Sampling 4 chains, 0 divergences]\n",
       "    </div>\n",
       "    "
      ],
      "text/plain": [
       "<IPython.core.display.HTML object>"
      ]
     },
     "metadata": {},
     "output_type": "display_data"
    },
    {
     "name": "stderr",
     "output_type": "stream",
     "text": [
      "Sampling 4 chains for 100 tune and 1_000 draw iterations (400 + 4_000 draws total) took 18 seconds.\n"
     ]
    },
    {
     "data": {
      "text/html": [
       "\n",
       "<style>\n",
       "    /* Turns off some styling */\n",
       "    progress {\n",
       "        /* gets rid of default border in Firefox and Opera. */\n",
       "        border: none;\n",
       "        /* Needs to be in here for Safari polyfill so background images work as expected. */\n",
       "        background-size: auto;\n",
       "    }\n",
       "    progress:not([value]), progress:not([value])::-webkit-progress-bar {\n",
       "        background: repeating-linear-gradient(45deg, #7e7e7e, #7e7e7e 10px, #5c5c5c 10px, #5c5c5c 20px);\n",
       "    }\n",
       "    .progress-bar-interrupted, .progress-bar-interrupted::-webkit-progress-bar {\n",
       "        background: #F44336;\n",
       "    }\n",
       "</style>\n"
      ],
      "text/plain": [
       "<IPython.core.display.HTML object>"
      ]
     },
     "metadata": {},
     "output_type": "display_data"
    },
    {
     "data": {
      "text/html": [
       "\n",
       "    <div>\n",
       "      <progress value='4000' class='' max='4000' style='width:300px; height:20px; vertical-align: middle;'></progress>\n",
       "      100.00% [4000/4000 00:01&lt;00:00]\n",
       "    </div>\n",
       "    "
      ],
      "text/plain": [
       "<IPython.core.display.HTML object>"
      ]
     },
     "metadata": {},
     "output_type": "display_data"
    },
    {
     "name": "stdout",
     "output_type": "stream",
     "text": [
      "-------------------\n",
      "Original decoding R2 (before multi-session LG-AR1):  0.05161053911493674\n",
      "Improved decoding R2 (after multi-session LG-AR1):  0.3409729338122005\n"
     ]
    }
   ],
   "source": [
    "lg_ar1 = MultiSession_LG_AR1()\n",
    "multi_sess_pred, multi_sess_rho, multi_sess_theta, multi_sess_mu = lg_ar1.forward(\n",
    "    test_decoder_output, train_decoder_output, train_gt, n_samples=1000, is_low_snr=True\n",
    ")\n",
    "print('-------------------')\n",
    "print('Original decoding R2 (before multi-session LG-AR1): ', r2_score(test_gt, test_decoder_output))\n",
    "print('Improved decoding R2 (after multi-session LG-AR1): ', r2_score(test_gt, multi_sess_pred))"
   ]
  },
  {
   "cell_type": "code",
   "execution_count": null,
   "id": "ce316a98-d236-44f1-b009-2804a0d0aabc",
   "metadata": {},
   "outputs": [],
   "source": []
  },
  {
   "cell_type": "markdown",
   "id": "ee01df6c-fa9e-4867-81c2-f638170c6bc2",
   "metadata": {},
   "source": [
    "#### Visualization"
   ]
  },
  {
   "cell_type": "code",
   "execution_count": 9,
   "id": "12e88560-f273-4884-8811-977be98fbe77",
   "metadata": {},
   "outputs": [],
   "source": [
    "%matplotlib inline\n",
    "plt.rc(\"figure\", dpi=100)\n",
    "SMALL_SIZE = 12\n",
    "BIGGER_SIZE = 12\n",
    "plt.rc('font', size=BIGGER_SIZE)\n",
    "plt.rc('axes', titlesize=BIGGER_SIZE)\n",
    "plt.rc('axes', labelsize=BIGGER_SIZE)\n",
    "plt.rc('axes', linewidth=.5)\n",
    "plt.rc('xtick', labelsize=BIGGER_SIZE)\n",
    "plt.rc('ytick', labelsize=BIGGER_SIZE)\n",
    "plt.rc('legend', fontsize=BIGGER_SIZE)\n",
    "plt.rc('figure', titlesize=3)\n",
    "plt.rcParams['xtick.major.size'] = 0\n",
    "plt.rcParams['xtick.minor.size'] = 0\n",
    "plt.rcParams['ytick.major.size'] = 0\n",
    "plt.rcParams['ytick.minor.size'] = 0"
   ]
  },
  {
   "cell_type": "code",
   "execution_count": 10,
   "id": "13285b6f-af3f-4e15-820c-44e57b934677",
   "metadata": {},
   "outputs": [
    {
     "data": {
      "image/png": "[encoded data removed]",
      "text/plain": [
       "<Figure size 600x100 with 1 Axes>"
      ]
     },
     "metadata": {},
     "output_type": "display_data"
    }
   ],
   "source": [
    "# Visualization of improved decoder outputs\n",
    "\n",
    "fig, ax = plt.subplots(1,1,figsize=(6, 1))\n",
    "ax.plot(single_sess_pred[:200], color=\"k\", linewidth=.5, label=f\"single-session\")\n",
    "ax.plot(oracle_pred[:200], color=\"plum\", linewidth=1.75, alpha=.9, label=\"oracle\")\n",
    "ax.plot(multi_sess_pred[:200], color=\"mediumorchid\", linewidth=1., label=\"multi-session\")\n",
    "ax.set_xlim(-5, 205)\n",
    "ax.set_yticks([0, 1], [0, 1], fontsize=7)\n",
    "ax.set_xticks([0, 50, 100, 150, 200], [0, 50, \"trial\", 150, 200],fontsize=7)\n",
    "ax.spines['right'].set_visible(False)\n",
    "ax.spines['top'].set_visible(False)"
   ]
  },
  {
   "cell_type": "code",
   "execution_count": 11,
   "id": "9d725883-53e5-4d60-8940-eb75a4451164",
   "metadata": {},
   "outputs": [],
   "source": [
    "param_types = (r\"$\\rho$\", r\"$\\theta$\", r\"$\\mu$\")\n",
    "ssm_params = {\n",
    "    \"oracle\": (oracle_rho, oracle_theta, oracle_mu),\n",
    "    \"single-session\": (single_sess_rho, single_sess_theta, single_sess_mu),\n",
    "    \"multi-session\": (multi_sess_rho, multi_sess_theta, multi_sess_mu)\n",
    "}\n",
    "x = np.arange(len(param_types))  \n",
    "width = 0.25  \n",
    "multiplier = 0\n",
    "colors = [\"plum\", \"k\", \"mediumorchid\"]"
   ]
  },
  {
   "cell_type": "code",
   "execution_count": 12,
   "id": "6ee4146d-b2d9-451f-81af-404f3a88b027",
   "metadata": {},
   "outputs": [
    {
     "data": {
      "image/png": "[encoded data removed]",
      "text/plain": [
       "<Figure size 650x300 with 3 Axes>"
      ]
     },
     "metadata": {},
     "output_type": "display_data"
    }
   ],
   "source": [
    "# Visualization of LG-AR1 model parameters\n",
    "\n",
    "fig, axes = plt.subplots(1,3,layout='constrained', figsize=(6.5, 3))\n",
    "\n",
    "params = [oracle_rho, single_sess_rho, multi_sess_rho]\n",
    "rects = axes[0].bar(np.arange(3), params, color=colors, width=0.7, alpha=.7)\n",
    "axes[0].bar_label(rects, padding=3, labels=[f\"{p:.3f}\" for p in params])\n",
    "axes[0].set_yticks([])\n",
    "axes[0].set_ylim(0, 1.15)\n",
    "axes[0].set_xticks([0,1,2], [\"\", r\"$\\rho$\", \"\"], fontsize=20)\n",
    "\n",
    "params = [oracle_theta, single_sess_theta, multi_sess_theta]\n",
    "rects = axes[1].bar(np.arange(3), params, color=colors, width=0.7, alpha=.7)\n",
    "axes[1].bar_label(rects, padding=3, labels=[f\"{p:.3f}\" for p in params])\n",
    "axes[1].set_yticks([])\n",
    "axes[1].set_ylim(-0.2, 0.5)\n",
    "axes[1].set_xticks([0,1,2], [\"\", r\"$\\theta$\", \"\"], fontsize=20)\n",
    "\n",
    "params = [oracle_mu, single_sess_mu, multi_sess_mu]\n",
    "rects = axes[2].bar(np.arange(3), params, color=colors, width=0.7, alpha=.7)\n",
    "axes[2].bar_label(rects, padding=3, labels=[f\"{p:.3f}\" for p in params])\n",
    "axes[2].set_yticks([])\n",
    "axes[2].set_ylim(0, 0.7)\n",
    "axes[2].set_xticks([0,1,2], [\"\", r\"$\\mu$\", \"\"], fontsize=20)\n",
    "plt.show()"
   ]
  },
  {
   "cell_type": "code",
   "execution_count": null,
   "id": "f25caffa-3b40-4490-bdf8-cb596e6d033e",
   "metadata": {},
   "outputs": [],
   "source": []
  }
 ],
 "metadata": {
  "kernelspec": {
   "display_name": "Python 3 (ipykernel)",
   "language": "python",
   "name": "python3"
  },
  "language_info": {
   "codemirror_mode": {
    "name": "ipython",
    "version": 3
   },
   "file_extension": ".py",
   "mimetype": "text/x-python",
   "name": "python",
   "nbconvert_exporter": "python",
   "pygments_lexer": "ipython3",
   "version": "3.11.7"
  }
 },
 "nbformat": 4,
 "nbformat_minor": 5
}
