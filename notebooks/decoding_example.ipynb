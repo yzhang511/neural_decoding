{
 "cells": [
  {
   "cell_type": "code",
   "execution_count": 1,
   "id": "5c4b5fc0-ab3d-4441-925a-6e6a44a6109f",
   "metadata": {},
   "outputs": [
    {
     "name": "stderr",
     "output_type": "stream",
     "text": [
      "/home/yizi/anaconda3/envs/ibl_foundation_model/lib/python3.11/site-packages/neurodsp/__init__.py:5: FutureWarning: neurodsp has been renamed to ibldsp and the old name will be deprecated on 01-Sep-2024.\n",
      "  warn(\n"
     ]
    }
   ],
   "source": [
    "import os\n",
    "import numpy as np\n",
    "import pandas as pd\n",
    "from pathlib import Path\n",
    "\n",
    "from sklearn.model_selection import GridSearchCV\n",
    "from sklearn.linear_model import Ridge\n",
    "\n",
    "import torch\n",
    "from lightning.pytorch.callbacks import ModelCheckpoint\n",
    "from lightning.pytorch import Trainer\n",
    "\n",
    "from ray.train.lightning import (\n",
    "    RayDDPStrategy,\n",
    "    RayLightningEnvironment,\n",
    "    RayTrainReportCallback,\n",
    "    prepare_trainer,\n",
    ")\n",
    "\n",
    "from shared_decoding.utils.ibl_data_utils import seed_everything\n",
    "from shared_decoding.utils.ibl_data_loaders import SingleSessionDataModule\n",
    "from shared_decoding.models.neural_models import ReducedRankDecoder, MLPDecoder, LSTMDecoder, eval_model\n",
    "from shared_decoding.utils.hyperparam_tuning import tune_decoder\n",
    "\n",
    "from ray import tune\n",
    "\n",
    "seed_everything(0)"
   ]
  },
  {
   "cell_type": "code",
   "execution_count": 2,
   "id": "f2a3b6fe-cd59-4cf5-83d3-90712e23653c",
   "metadata": {},
   "outputs": [
    {
     "name": "stdout",
     "output_type": "stream",
     "text": [
      "['d32876dd-8303-4720-8e7e-20678dc2fd71', '03d9a098-07bf-4765-88b7-85f8d8f620cc', '3f859b5c-e73a-4044-b49e-34bb81e96715', '8c33abef-3d3e-4d42-9f27-445e9def08f9', '12dc8b34-b18e-4cdd-90a9-da134a9be79c', 'cc45c568-c3b9-4f74-836e-c87762e898c8']\n"
     ]
    }
   ],
   "source": [
    "base_dir = Path('/mnt/3TB/yizi/shared_decoding')\n",
    "data_dir = base_dir/'data'\n",
    "\n",
    "eids = [fname.split('.')[0] for fname in os.listdir(data_dir) if fname.endswith('npz')]\n",
    "print(eids)"
   ]
  },
  {
   "cell_type": "code",
   "execution_count": 3,
   "id": "f98fd7fc-ee61-4faf-9130-2e572c57a1c1",
   "metadata": {},
   "outputs": [],
   "source": [
    "# DEVICE = torch.device('cuda' if torch.cuda.is_available() else 'cpu')\n",
    "DEVICE = torch.device('cpu')\n",
    "\n",
    "config = {\n",
    "    'data_dir': data_dir,\n",
    "    'temporal_rank': tune.grid_search([5, 2]),\n",
    "    'weight_decay': 1e-1,\n",
    "    'learning_rate': 1e-2,\n",
    "    'batch_size': 8,\n",
    "    'eid': eids[3],\n",
    "    'imposter_id': None,\n",
    "    'target': 'wheel_speed',\n",
    "    'lstm_hidden_size': 32,\n",
    "    'lstm_n_layers': 3,\n",
    "    'mlp_hidden_size': (256, 128, 64),\n",
    "    'drop_out': 0.,\n",
    "    'lr_factor': 0.1,\n",
    "    'lr_patience': 5,\n",
    "    'device': DEVICE,\n",
    "    'n_workers': os.cpu_count()\n",
    "}"
   ]
  },
  {
   "cell_type": "markdown",
   "id": "e7448eb4-57db-4f8d-9935-a81dfb8bffe3",
   "metadata": {},
   "source": [
    "#### Train Reduced Rank Decoder"
   ]
  },
  {
   "cell_type": "code",
   "execution_count": 4,
   "id": "c4ce051b-1b35-497f-878d-1c455a6b8b20",
   "metadata": {},
   "outputs": [],
   "source": [
    "def train_func(config):\n",
    "    dm = SingleSessionDataModule(config)\n",
    "    dm.setup()\n",
    "    model = ReducedRankDecoder(dm.config)\n",
    "\n",
    "    trainer = Trainer(\n",
    "        max_epochs=500,\n",
    "        devices=\"auto\",\n",
    "        accelerator=\"auto\",\n",
    "        strategy=RayDDPStrategy(),\n",
    "        callbacks=[RayTrainReportCallback()],\n",
    "        plugins=[RayLightningEnvironment()],\n",
    "        enable_progress_bar=False,\n",
    "    )\n",
    "    trainer = prepare_trainer(trainer)\n",
    "    trainer.fit(model, datamodule=dm)"
   ]
  },
  {
   "cell_type": "code",
   "execution_count": null,
   "id": "5e04f144-e197-4abf-9426-83ddc0483cd5",
   "metadata": {
    "scrolled": true
   },
   "outputs": [
    {
     "name": "stderr",
     "output_type": "stream",
     "text": [
      "\u001b[36m(TrainTrainable pid=61833)\u001b[0m /home/yizi/anaconda3/envs/ibl_foundation_model/lib/python3.11/site-packages/neurodsp/__init__.py:5: FutureWarning: neurodsp has been renamed to ibldsp and the old name will be deprecated on 01-Sep-2024.\n",
      "\u001b[36m(TrainTrainable pid=61833)\u001b[0m   warn(\n",
      "\u001b[36m(TrainTrainable pid=61833)\u001b[0m GPUs are detected in your Ray cluster, but GPU training is not enabled for this trainer. To enable GPU training, make sure to set `use_gpu` to True in your scaling config.\n",
      "\u001b[36m(TorchTrainer pid=61833)\u001b[0m GPUs are detected in your Ray cluster, but GPU training is not enabled for this trainer. To enable GPU training, make sure to set `use_gpu` to True in your scaling config.\n",
      "\u001b[36m(TorchTrainer pid=61832)\u001b[0m Started distributed worker processes: \n",
      "\u001b[36m(TorchTrainer pid=61832)\u001b[0m - (ip=129.236.160.107, pid=62027) world_rank=0, local_rank=0, node_rank=0\n",
      "\u001b[36m(TorchTrainer pid=61832)\u001b[0m - (ip=129.236.160.107, pid=62029) world_rank=1, local_rank=1, node_rank=0\n",
      "\u001b[36m(RayTrainWorker pid=62027)\u001b[0m Setting up process group for: env:// [rank=0, world_size=2]\n",
      "\u001b[36m(RayTrainWorker pid=62030)\u001b[0m /home/yizi/anaconda3/envs/ibl_foundation_model/lib/python3.11/site-packages/neurodsp/__init__.py:5: FutureWarning: neurodsp has been renamed to ibldsp and the old name will be deprecated on 01-Sep-2024.\u001b[32m [repeated 6x across cluster]\u001b[0m\n",
      "\u001b[36m(RayTrainWorker pid=62030)\u001b[0m   warn(\u001b[32m [repeated 6x across cluster]\u001b[0m\n",
      "\u001b[36m(TorchTrainer pid=61834)\u001b[0m GPUs are detected in your Ray cluster, but GPU training is not enabled for this trainer. To enable GPU training, make sure to set `use_gpu` to True in your scaling config.\u001b[32m [repeated 6x across cluster]\u001b[0m\n"
     ]
    },
    {
     "name": "stdout",
     "output_type": "stream",
     "text": [
      "\u001b[36m(RayTrainWorker pid=62027)\u001b[0m spike data shape: (714, 50, 1255)\n",
      "\u001b[36m(RayTrainWorker pid=62027)\u001b[0m behavior data shape: (714, 50)\n"
     ]
    },
    {
     "name": "stderr",
     "output_type": "stream",
     "text": [
      "\u001b[36m(TrainTrainable pid=62697)\u001b[0m /home/yizi/anaconda3/envs/ibl_foundation_model/lib/python3.11/site-packages/neurodsp/__init__.py:5: FutureWarning: neurodsp has been renamed to ibldsp and the old name will be deprecated on 01-Sep-2024.\n",
      "\u001b[36m(TrainTrainable pid=62697)\u001b[0m   warn(\n",
      "\u001b[36m(TrainTrainable pid=62698)\u001b[0m GPUs are detected in your Ray cluster, but GPU training is not enabled for this trainer. To enable GPU training, make sure to set `use_gpu` to True in your scaling config.\n",
      "\u001b[36m(RayTrainWorker pid=62894)\u001b[0m Setting up process group for: env:// [rank=0, world_size=2]\n",
      "\u001b[36m(TorchTrainer pid=62697)\u001b[0m Started distributed worker processes: \n",
      "\u001b[36m(TorchTrainer pid=62697)\u001b[0m - (ip=129.236.160.107, pid=62894) world_rank=0, local_rank=0, node_rank=0\n",
      "\u001b[36m(TorchTrainer pid=62697)\u001b[0m - (ip=129.236.160.107, pid=62895) world_rank=1, local_rank=1, node_rank=0\n",
      "\u001b[36m(RayTrainWorker pid=62904)\u001b[0m /home/yizi/anaconda3/envs/ibl_foundation_model/lib/python3.11/site-packages/neurodsp/__init__.py:5: FutureWarning: neurodsp has been renamed to ibldsp and the old name will be deprecated on 01-Sep-2024.\u001b[32m [repeated 6x across cluster]\u001b[0m\n",
      "\u001b[36m(RayTrainWorker pid=62904)\u001b[0m   warn(\u001b[32m [repeated 6x across cluster]\u001b[0m\n"
     ]
    },
    {
     "name": "stdout",
     "output_type": "stream",
     "text": [
      "\u001b[36m(RayTrainWorker pid=62895)\u001b[0m spike data shape: (714, 50, 1255)\n",
      "\u001b[36m(RayTrainWorker pid=62895)\u001b[0m behavior data shape: (714, 50)\n"
     ]
    },
    {
     "name": "stderr",
     "output_type": "stream",
     "text": [
      "\u001b[36m(TorchTrainer pid=62699)\u001b[0m GPUs are detected in your Ray cluster, but GPU training is not enabled for this trainer. To enable GPU training, make sure to set `use_gpu` to True in your scaling config.\u001b[32m [repeated 7x across cluster]\u001b[0m\n",
      "\u001b[36m(RayTrainWorker pid=62895)\u001b[0m Missing logger folder: /home/yizi/ray_results/TorchTrainer_2024-02-29_15-36-44/TorchTrainer_404ad_00000_0_mlp_hidden_size=128_64_32,weight_decay=0.0010_2024-02-29_15-36-44/lightning_logs\n",
      "\u001b[36m(RayTrainWorker pid=62894)\u001b[0m GPU available: False, used: False\n",
      "\u001b[36m(RayTrainWorker pid=62894)\u001b[0m TPU available: False, using: 0 TPU cores\n",
      "\u001b[36m(RayTrainWorker pid=62894)\u001b[0m IPU available: False, using: 0 IPUs\n",
      "\u001b[36m(RayTrainWorker pid=62894)\u001b[0m HPU available: False, using: 0 HPUs\n",
      "\u001b[36m(RayTrainWorker pid=62914)\u001b[0m Setting up process group for: env:// [rank=0, world_size=2]\u001b[32m [repeated 3x across cluster]\u001b[0m\n",
      "\u001b[36m(TorchTrainer pid=62700)\u001b[0m Started distributed worker processes: \u001b[32m [repeated 3x across cluster]\u001b[0m\n",
      "\u001b[36m(TorchTrainer pid=62700)\u001b[0m - (ip=129.236.160.107, pid=62915) world_rank=1, local_rank=1, node_rank=0\u001b[32m [repeated 6x across cluster]\u001b[0m\n",
      "\u001b[36m(RayTrainWorker pid=62894)\u001b[0m \n",
      "\u001b[36m(RayTrainWorker pid=62894)\u001b[0m   | Name         | Type       | Params\n",
      "\u001b[36m(RayTrainWorker pid=62894)\u001b[0m --------------------------------------------\n",
      "\u001b[36m(RayTrainWorker pid=62894)\u001b[0m 0 | r2_score     | R2Score    | 0     \n",
      "\u001b[36m(RayTrainWorker pid=62894)\u001b[0m 1 | input_layer  | Linear     | 160 K \n",
      "\u001b[36m(RayTrainWorker pid=62894)\u001b[0m 2 | hidden       | ModuleList | 10.3 K\n",
      "\u001b[36m(RayTrainWorker pid=62894)\u001b[0m 3 | output_layer | Linear     | 33    \n",
      "\u001b[36m(RayTrainWorker pid=62894)\u001b[0m --------------------------------------------\n",
      "\u001b[36m(RayTrainWorker pid=62894)\u001b[0m 171 K     Trainable params\n",
      "\u001b[36m(RayTrainWorker pid=62894)\u001b[0m 0         Non-trainable params\n",
      "\u001b[36m(RayTrainWorker pid=62894)\u001b[0m 171 K     Total params\n",
      "\u001b[36m(RayTrainWorker pid=62894)\u001b[0m 0.685     Total estimated model params size (MB)\n",
      "\u001b[36m(RayTrainWorker pid=62894)\u001b[0m /home/yizi/anaconda3/envs/ibl_foundation_model/lib/python3.11/site-packages/lightning/pytorch/trainer/connectors/data_connector.py:441: The 'val_dataloader' does not have many workers which may be a bottleneck. Consider increasing the value of the `num_workers` argument` to `num_workers=15` in the `DataLoader` to improve performance.\n",
      "\u001b[36m(RayTrainWorker pid=62894)\u001b[0m /home/yizi/anaconda3/envs/ibl_foundation_model/lib/python3.11/site-packages/lightning/pytorch/trainer/connectors/logger_connector/result.py:441: It is recommended to use `self.log('val_loss', ..., sync_dist=True)` when logging on epoch level in distributed setting to accumulate the metric across devices.\n",
      "\u001b[36m(RayTrainWorker pid=62894)\u001b[0m /home/yizi/anaconda3/envs/ibl_foundation_model/lib/python3.11/site-packages/lightning/pytorch/trainer/connectors/data_connector.py:441: The 'train_dataloader' does not have many workers which may be a bottleneck. Consider increasing the value of the `num_workers` argument` to `num_workers=15` in the `DataLoader` to improve performance.\n",
      "\u001b[36m(RayTrainWorker pid=62894)\u001b[0m /home/yizi/anaconda3/envs/ibl_foundation_model/lib/python3.11/site-packages/lightning/pytorch/loops/fit_loop.py:298: The number of training batches (36) is smaller than the logging interval Trainer(log_every_n_steps=50). Set a lower value for log_every_n_steps if you want to see logs for the training epoch.\n",
      "\u001b[36m(RayTrainWorker pid=62894)\u001b[0m Checkpoint successfully created at: Checkpoint(filesystem=local, path=/home/yizi/ray_results/TorchTrainer_2024-02-29_15-36-44/TorchTrainer_404ad_00000_0_mlp_hidden_size=128_64_32,weight_decay=0.0010_2024-02-29_15-36-44/checkpoint_000000)\n",
      "\u001b[36m(RayTrainWorker pid=62914)\u001b[0m /home/yizi/anaconda3/envs/ibl_foundation_model/lib/python3.11/site-packages/neurodsp/__init__.py:5: FutureWarning: neurodsp has been renamed to ibldsp and the old name will be deprecated on 01-Sep-2024.\u001b[32m [repeated 5x across cluster]\u001b[0m\n",
      "\u001b[36m(RayTrainWorker pid=62914)\u001b[0m   warn(\u001b[32m [repeated 5x across cluster]\u001b[0m\n",
      "\u001b[36m(RayTrainWorker pid=62914)\u001b[0m Missing logger folder: /home/yizi/ray_results/TorchTrainer_2024-02-29_15-36-44/TorchTrainer_404ad_00003_3_mlp_hidden_size=256_128_64,weight_decay=0.1000_2024-02-29_15-36-44/lightning_logs\u001b[32m [repeated 7x across cluster]\u001b[0m\n",
      "\u001b[36m(RayTrainWorker pid=62914)\u001b[0m GPU available: False, used: False\u001b[32m [repeated 3x across cluster]\u001b[0m\n",
      "\u001b[36m(RayTrainWorker pid=62914)\u001b[0m TPU available: False, using: 0 TPU cores\u001b[32m [repeated 3x across cluster]\u001b[0m\n",
      "\u001b[36m(RayTrainWorker pid=62914)\u001b[0m IPU available: False, using: 0 IPUs\u001b[32m [repeated 3x across cluster]\u001b[0m\n",
      "\u001b[36m(RayTrainWorker pid=62914)\u001b[0m HPU available: False, using: 0 HPUs\u001b[32m [repeated 3x across cluster]\u001b[0m\n",
      "\u001b[36m(RayTrainWorker pid=62924)\u001b[0m \u001b[32m [repeated 3x across cluster]\u001b[0m\n",
      "\u001b[36m(RayTrainWorker pid=62924)\u001b[0m   | Name         | Type       | Params\u001b[32m [repeated 3x across cluster]\u001b[0m\n",
      "\u001b[36m(RayTrainWorker pid=62924)\u001b[0m --------------------------------------------\u001b[32m [repeated 6x across cluster]\u001b[0m\n",
      "\u001b[36m(RayTrainWorker pid=62924)\u001b[0m 0 | r2_score     | R2Score    | 0     \u001b[32m [repeated 3x across cluster]\u001b[0m\n",
      "\u001b[36m(RayTrainWorker pid=62924)\u001b[0m 1 | input_layer  | Linear     | 160 K \u001b[32m [repeated 3x across cluster]\u001b[0m\n",
      "\u001b[36m(RayTrainWorker pid=62924)\u001b[0m 2 | hidden       | ModuleList | 10.3 K\u001b[32m [repeated 3x across cluster]\u001b[0m\n",
      "\u001b[36m(RayTrainWorker pid=62924)\u001b[0m 3 | output_layer | Linear     | 33    \u001b[32m [repeated 3x across cluster]\u001b[0m\n",
      "\u001b[36m(RayTrainWorker pid=62924)\u001b[0m 171 K     Trainable params\u001b[32m [repeated 3x across cluster]\u001b[0m\n",
      "\u001b[36m(RayTrainWorker pid=62924)\u001b[0m 0         Non-trainable params\u001b[32m [repeated 3x across cluster]\u001b[0m\n",
      "\u001b[36m(RayTrainWorker pid=62924)\u001b[0m 171 K     Total params\u001b[32m [repeated 3x across cluster]\u001b[0m\n",
      "\u001b[36m(RayTrainWorker pid=62924)\u001b[0m 0.685     Total estimated model params size (MB)\u001b[32m [repeated 3x across cluster]\u001b[0m\n",
      "\u001b[36m(RayTrainWorker pid=62924)\u001b[0m /home/yizi/anaconda3/envs/ibl_foundation_model/lib/python3.11/site-packages/lightning/pytorch/trainer/connectors/data_connector.py:441: The 'val_dataloader' does not have many workers which may be a bottleneck. Consider increasing the value of the `num_workers` argument` to `num_workers=15` in the `DataLoader` to improve performance.\u001b[32m [repeated 3x across cluster]\u001b[0m\n",
      "\u001b[36m(RayTrainWorker pid=62914)\u001b[0m /home/yizi/anaconda3/envs/ibl_foundation_model/lib/python3.11/site-packages/lightning/pytorch/trainer/connectors/logger_connector/result.py:441: It is recommended to use `self.log('val_loss', ..., sync_dist=True)` when logging on epoch level in distributed setting to accumulate the metric across devices.\u001b[32m [repeated 3x across cluster]\u001b[0m\n",
      "\u001b[36m(RayTrainWorker pid=62914)\u001b[0m /home/yizi/anaconda3/envs/ibl_foundation_model/lib/python3.11/site-packages/lightning/pytorch/trainer/connectors/data_connector.py:441: The 'train_dataloader' does not have many workers which may be a bottleneck. Consider increasing the value of the `num_workers` argument` to `num_workers=15` in the `DataLoader` to improve performance.\u001b[32m [repeated 3x across cluster]\u001b[0m\n",
      "\u001b[36m(RayTrainWorker pid=62914)\u001b[0m /home/yizi/anaconda3/envs/ibl_foundation_model/lib/python3.11/site-packages/lightning/pytorch/loops/fit_loop.py:298: The number of training batches (36) is smaller than the logging interval Trainer(log_every_n_steps=50). Set a lower value for log_every_n_steps if you want to see logs for the training epoch.\u001b[32m [repeated 3x across cluster]\u001b[0m\n",
      "\u001b[36m(RayTrainWorker pid=62894)\u001b[0m Checkpoint successfully created at: Checkpoint(filesystem=local, path=/home/yizi/ray_results/TorchTrainer_2024-02-29_15-36-44/TorchTrainer_404ad_00000_0_mlp_hidden_size=128_64_32,weight_decay=0.0010_2024-02-29_15-36-44/checkpoint_000006)\u001b[32m [repeated 20x across cluster]\u001b[0m\n",
      "\u001b[36m(RayTrainWorker pid=62894)\u001b[0m Checkpoint successfully created at: Checkpoint(filesystem=local, path=/home/yizi/ray_results/TorchTrainer_2024-02-29_15-36-44/TorchTrainer_404ad_00000_0_mlp_hidden_size=128_64_32,weight_decay=0.0010_2024-02-29_15-36-44/checkpoint_000013)\u001b[32m [repeated 14x across cluster]\u001b[0m\n",
      "\u001b[36m(RayTrainWorker pid=62894)\u001b[0m Checkpoint successfully created at: Checkpoint(filesystem=local, path=/home/yizi/ray_results/TorchTrainer_2024-02-29_15-36-44/TorchTrainer_404ad_00000_0_mlp_hidden_size=128_64_32,weight_decay=0.0010_2024-02-29_15-36-44/checkpoint_000020)\u001b[32m [repeated 14x across cluster]\u001b[0m\n",
      "\u001b[36m(RayTrainWorker pid=62894)\u001b[0m Checkpoint successfully created at: Checkpoint(filesystem=local, path=/home/yizi/ray_results/TorchTrainer_2024-02-29_15-36-44/TorchTrainer_404ad_00000_0_mlp_hidden_size=128_64_32,weight_decay=0.0010_2024-02-29_15-36-44/checkpoint_000027)\u001b[32m [repeated 14x across cluster]\u001b[0m\n",
      "\u001b[36m(RayTrainWorker pid=62894)\u001b[0m Checkpoint successfully created at: Checkpoint(filesystem=local, path=/home/yizi/ray_results/TorchTrainer_2024-02-29_15-36-44/TorchTrainer_404ad_00000_0_mlp_hidden_size=128_64_32,weight_decay=0.0010_2024-02-29_15-36-44/checkpoint_000034)\u001b[32m [repeated 14x across cluster]\u001b[0m\n",
      "\u001b[36m(RayTrainWorker pid=62894)\u001b[0m Checkpoint successfully created at: Checkpoint(filesystem=local, path=/home/yizi/ray_results/TorchTrainer_2024-02-29_15-36-44/TorchTrainer_404ad_00000_0_mlp_hidden_size=128_64_32,weight_decay=0.0010_2024-02-29_15-36-44/checkpoint_000041)\u001b[32m [repeated 14x across cluster]\u001b[0m\n",
      "\u001b[36m(RayTrainWorker pid=62894)\u001b[0m Checkpoint successfully created at: Checkpoint(filesystem=local, path=/home/yizi/ray_results/TorchTrainer_2024-02-29_15-36-44/TorchTrainer_404ad_00000_0_mlp_hidden_size=128_64_32,weight_decay=0.0010_2024-02-29_15-36-44/checkpoint_000048)\u001b[32m [repeated 14x across cluster]\u001b[0m\n",
      "\u001b[36m(RayTrainWorker pid=62894)\u001b[0m Checkpoint successfully created at: Checkpoint(filesystem=local, path=/home/yizi/ray_results/TorchTrainer_2024-02-29_15-36-44/TorchTrainer_404ad_00000_0_mlp_hidden_size=128_64_32,weight_decay=0.0010_2024-02-29_15-36-44/checkpoint_000055)\u001b[32m [repeated 14x across cluster]\u001b[0m\n",
      "\u001b[36m(RayTrainWorker pid=62894)\u001b[0m Checkpoint successfully created at: Checkpoint(filesystem=local, path=/home/yizi/ray_results/TorchTrainer_2024-02-29_15-36-44/TorchTrainer_404ad_00000_0_mlp_hidden_size=128_64_32,weight_decay=0.0010_2024-02-29_15-36-44/checkpoint_000062)\u001b[32m [repeated 14x across cluster]\u001b[0m\n",
      "\u001b[36m(RayTrainWorker pid=62894)\u001b[0m Checkpoint successfully created at: Checkpoint(filesystem=local, path=/home/yizi/ray_results/TorchTrainer_2024-02-29_15-36-44/TorchTrainer_404ad_00000_0_mlp_hidden_size=128_64_32,weight_decay=0.0010_2024-02-29_15-36-44/checkpoint_000069)\u001b[32m [repeated 14x across cluster]\u001b[0m\n",
      "\u001b[36m(RayTrainWorker pid=62894)\u001b[0m Checkpoint successfully created at: Checkpoint(filesystem=local, path=/home/yizi/ray_results/TorchTrainer_2024-02-29_15-36-44/TorchTrainer_404ad_00000_0_mlp_hidden_size=128_64_32,weight_decay=0.0010_2024-02-29_15-36-44/checkpoint_000076)\u001b[32m [repeated 14x across cluster]\u001b[0m\n",
      "\u001b[36m(RayTrainWorker pid=62894)\u001b[0m Checkpoint successfully created at: Checkpoint(filesystem=local, path=/home/yizi/ray_results/TorchTrainer_2024-02-29_15-36-44/TorchTrainer_404ad_00000_0_mlp_hidden_size=128_64_32,weight_decay=0.0010_2024-02-29_15-36-44/checkpoint_000083)\u001b[32m [repeated 14x across cluster]\u001b[0m\n",
      "\u001b[36m(RayTrainWorker pid=62894)\u001b[0m Checkpoint successfully created at: Checkpoint(filesystem=local, path=/home/yizi/ray_results/TorchTrainer_2024-02-29_15-36-44/TorchTrainer_404ad_00000_0_mlp_hidden_size=128_64_32,weight_decay=0.0010_2024-02-29_15-36-44/checkpoint_000090)\u001b[32m [repeated 14x across cluster]\u001b[0m\n",
      "\u001b[36m(RayTrainWorker pid=62894)\u001b[0m Checkpoint successfully created at: Checkpoint(filesystem=local, path=/home/yizi/ray_results/TorchTrainer_2024-02-29_15-36-44/TorchTrainer_404ad_00000_0_mlp_hidden_size=128_64_32,weight_decay=0.0010_2024-02-29_15-36-44/checkpoint_000097)\u001b[32m [repeated 14x across cluster]\u001b[0m\n"
     ]
    }
   ],
   "source": [
    "results = tune_decoder(train_func, config, use_gpu=False, max_epochs=100, num_samples=1, num_workers=2)"
   ]
  },
  {
   "cell_type": "code",
   "execution_count": 6,
   "id": "aadf71b2-6706-4dd3-b4a8-a18c3d8c9434",
   "metadata": {},
   "outputs": [
    {
     "data": {
      "text/plain": [
       "{'data_dir': PosixPath('/mnt/3TB/yizi/shared_decoding/data'),\n",
       " 'temporal_rank': 2,\n",
       " 'weight_decay': 0.1,\n",
       " 'learning_rate': 0.01,\n",
       " 'batch_size': 8,\n",
       " 'eid': '8c33abef-3d3e-4d42-9f27-445e9def08f9',\n",
       " 'imposter_id': None,\n",
       " 'target': 'wheel_speed',\n",
       " 'lstm_hidden_size': 32,\n",
       " 'lstm_n_layers': 3,\n",
       " 'mlp_hidden_size': (256, 128, 64),\n",
       " 'drop_out': 0.0,\n",
       " 'lr_factor': 0.1,\n",
       " 'lr_patience': 5,\n",
       " 'device': device(type='cpu'),\n",
       " 'n_workers': 16}"
      ]
     },
     "execution_count": 6,
     "metadata": {},
     "output_type": "execute_result"
    }
   ],
   "source": [
    "best_result = results.get_best_result(metric=\"val_loss\", mode=\"min\")\n",
    "best_config = best_result.config['train_loop_config']\n",
    "best_config"
   ]
  },
  {
   "cell_type": "code",
   "execution_count": null,
   "id": "9bccb2a3-e5ee-4642-8024-744bdc24125e",
   "metadata": {
    "scrolled": true
   },
   "outputs": [],
   "source": [
    "model_path = base_dir / 'models'\n",
    "os.makedirs(model_path, exist_ok=True)\n",
    "\n",
    "checkpoint_callback = ModelCheckpoint(\n",
    "    monitor='val_loss', mode='min', dirpath=model_path\n",
    ")\n",
    "\n",
    "trainer = Trainer(max_epochs=500, callbacks=[checkpoint_callback], enable_progress_bar=False)\n",
    "dm = SingleSessionDataModule(best_config)\n",
    "dm.setup()\n",
    "model = ReducedRankDecoder(best_config)\n",
    "\n",
    "trainer.fit(model, datamodule=dm)\n",
    "trainer.test(datamodule=dm, ckpt_path='best')"
   ]
  },
  {
   "cell_type": "code",
   "execution_count": 8,
   "id": "bb3a5b39-6260-4815-b304-a73596c1fd1c",
   "metadata": {
    "jupyter": {
     "source_hidden": true
    },
    "scrolled": true
   },
   "outputs": [
    {
     "data": {
      "image/png": "[encoded data removed]",
      "text/plain": [
       "<Figure size 1200x200 with 1 Axes>"
      ]
     },
     "metadata": {},
     "output_type": "display_data"
    }
   ],
   "source": [
    "r2, test_pred, test_y = eval_model(dm.train, dm.test, model, model_type=\"reduced-rank\", plot=True)"
   ]
  },
  {
   "cell_type": "markdown",
   "id": "a872f73f-3fe1-4657-baba-4898deb81942",
   "metadata": {},
   "source": [
    "#### Train Linear Decoder"
   ]
  },
  {
   "cell_type": "code",
   "execution_count": 18,
   "id": "32dc7d85-ea56-4b89-9720-faaf1b30ed66",
   "metadata": {},
   "outputs": [
    {
     "data": {
      "image/png": "[encoded data removed]",
      "text/plain": [
       "<Figure size 1200x200 with 1 Axes>"
      ]
     },
     "metadata": {},
     "output_type": "display_data"
    }
   ],
   "source": [
    "alphas = [1e-5, 1e-4, 1e-3, 1e-2, 1e-1, 1, 10]\n",
    "model = GridSearchCV(Ridge(), {\"alpha\": alphas})\n",
    "r2, test_pred, test_y = eval_model(dm.train, dm.test, model, model_type=\"ridge\", plot=True)"
   ]
  },
  {
   "cell_type": "markdown",
   "id": "8976455b-7fb0-4105-8125-93e267a0fad9",
   "metadata": {},
   "source": [
    "#### Train LSTM Decoder"
   ]
  },
  {
   "cell_type": "code",
   "execution_count": 19,
   "id": "5db90b8e-2677-4acb-8f84-a12126527f18",
   "metadata": {},
   "outputs": [],
   "source": [
    "config = {\n",
    "    'data_dir': data_dir,\n",
    "    'temporal_rank': 5,\n",
    "    'weight_decay': 1e-3,\n",
    "    'learning_rate': 1e-3,\n",
    "    'batch_size': 8,\n",
    "    'eid': eids[3],\n",
    "    'imposter_id': None,\n",
    "    'target': 'wheel_speed',\n",
    "    'lstm_hidden_size': 32,\n",
    "    'lstm_n_layers': 5,\n",
    "    'mlp_hidden_size': (32,),\n",
    "    'drop_out': 0.1,\n",
    "    'lr_factor': 0.,\n",
    "    'lr_patience': 5,\n",
    "    'device': DEVICE,\n",
    "    'n_workers': os.cpu_count()\n",
    "}"
   ]
  },
  {
   "cell_type": "code",
   "execution_count": 14,
   "id": "a19cd3e9-72e3-46d7-83a4-774aa68b1e40",
   "metadata": {},
   "outputs": [],
   "source": [
    "def train_func(config):\n",
    "    dm = SingleSessionDataModule(config)\n",
    "    dm.setup()\n",
    "    model = LSTMDecoder(dm.config)\n",
    "\n",
    "    trainer = Trainer(\n",
    "        max_epochs=500,\n",
    "        devices=\"auto\",\n",
    "        accelerator=\"auto\",\n",
    "        strategy=RayDDPStrategy(),\n",
    "        callbacks=[RayTrainReportCallback()],\n",
    "        plugins=[RayLightningEnvironment()],\n",
    "        enable_progress_bar=False,\n",
    "    )\n",
    "    trainer = prepare_trainer(trainer)\n",
    "    trainer.fit(model, datamodule=dm)"
   ]
  },
  {
   "cell_type": "code",
   "execution_count": 15,
   "id": "895a9bbf-0543-499d-9916-63e0fcc12bf2",
   "metadata": {},
   "outputs": [
    {
     "data": {
      "text/html": [
       "<div class=\"tuneStatus\">\n",
       "  <div style=\"display: flex;flex-direction: row\">\n",
       "    <div style=\"display: flex;flex-direction: column;\">\n",
       "      <h3>Tune Status</h3>\n",
       "      <table>\n",
       "<tbody>\n",
       "<tr><td>Current time:</td><td>2024-03-02 14:51:05</td></tr>\n",
       "<tr><td>Running for: </td><td>00:03:44.71        </td></tr>\n",
       "<tr><td>Memory:      </td><td>5.3/62.8 GiB       </td></tr>\n",
       "</tbody>\n",
       "</table>\n",
       "    </div>\n",
       "    <div class=\"vDivider\"></div>\n",
       "    <div class=\"systemInfo\">\n",
       "      <h3>System Info</h3>\n",
       "      Using AsyncHyperBand: num_stopped=1<br>Bracket: Iter 64.000: -0.19259466601664907 | Iter 32.000: -0.36539806266022834 | Iter 16.000: -0.5862493155557552 | Iter 8.000: -0.6218392511422871 | Iter 4.000: -0.781415947309207 | Iter 2.000: -0.962693777094789 | Iter 1.000: -0.9900293847182385<br>Logical resource usage: 3.0/16 CPUs, 0/1 GPUs (0.0/1.0 accelerator_type:G)\n",
       "    </div>\n",
       "    \n",
       "  </div>\n",
       "  <div class=\"hDivider\"></div>\n",
       "  <div class=\"trialStatus\">\n",
       "    <h3>Trial Status</h3>\n",
       "    <table>\n",
       "<thead>\n",
       "<tr><th>Trial name              </th><th>status    </th><th>loc                  </th><th style=\"text-align: right;\">  iter</th><th style=\"text-align: right;\">  total time (s)</th><th style=\"text-align: right;\">  val_loss</th><th style=\"text-align: right;\">  val_r2</th><th style=\"text-align: right;\">    loss</th></tr>\n",
       "</thead>\n",
       "<tbody>\n",
       "<tr><td>TorchTrainer_aee7f_00000</td><td>TERMINATED</td><td>129.236.160.107:63765</td><td style=\"text-align: right;\">   100</td><td style=\"text-align: right;\">         219.688</td><td style=\"text-align: right;\">  0.819567</td><td style=\"text-align: right;\">0.303016</td><td style=\"text-align: right;\">0.155255</td></tr>\n",
       "</tbody>\n",
       "</table>\n",
       "  </div>\n",
       "</div>\n",
       "<style>\n",
       ".tuneStatus {\n",
       "  color: var(--jp-ui-font-color1);\n",
       "}\n",
       ".tuneStatus .systemInfo {\n",
       "  display: flex;\n",
       "  flex-direction: column;\n",
       "}\n",
       ".tuneStatus td {\n",
       "  white-space: nowrap;\n",
       "}\n",
       ".tuneStatus .trialStatus {\n",
       "  display: flex;\n",
       "  flex-direction: column;\n",
       "}\n",
       ".tuneStatus h3 {\n",
       "  font-weight: bold;\n",
       "}\n",
       ".tuneStatus .hDivider {\n",
       "  border-bottom-width: var(--jp-border-width);\n",
       "  border-bottom-color: var(--jp-border-color0);\n",
       "  border-bottom-style: solid;\n",
       "}\n",
       ".tuneStatus .vDivider {\n",
       "  border-left-width: var(--jp-border-width);\n",
       "  border-left-color: var(--jp-border-color0);\n",
       "  border-left-style: solid;\n",
       "  margin: 0.5em 1em 0.5em 1em;\n",
       "}\n",
       "</style>\n"
      ],
      "text/plain": [
       "<IPython.core.display.HTML object>"
      ]
     },
     "metadata": {},
     "output_type": "display_data"
    },
    {
     "name": "stderr",
     "output_type": "stream",
     "text": [
      "2024-03-02 14:47:20,948\tINFO data_parallel_trainer.py:344 -- GPUs are detected in your Ray cluster, but GPU training is not enabled for this trainer. To enable GPU training, make sure to set `use_gpu` to True in your scaling config.\n",
      "2024-03-02 14:51:05,657\tINFO tune.py:1042 -- Total run time: 224.72 seconds (224.71 seconds for the tuning loop).\n"
     ]
    }
   ],
   "source": [
    "results = tune_decoder(train_func, config, use_gpu=False, max_epochs=100, num_samples=1, num_workers=2)"
   ]
  },
  {
   "cell_type": "code",
   "execution_count": 16,
   "id": "b3773c0f-9379-4f67-b33f-80e54a9fc3e2",
   "metadata": {},
   "outputs": [
    {
     "data": {
      "text/plain": [
       "{'data_dir': PosixPath('/mnt/3TB/yizi/shared_decoding/data'),\n",
       " 'temporal_rank': 5,\n",
       " 'weight_decay': 0.001,\n",
       " 'learning_rate': 0.001,\n",
       " 'batch_size': 8,\n",
       " 'eid': '8c33abef-3d3e-4d42-9f27-445e9def08f9',\n",
       " 'imposter_id': None,\n",
       " 'target': 'wheel_speed',\n",
       " 'lstm_hidden_size': 16,\n",
       " 'lstm_n_layers': 5,\n",
       " 'mlp_hidden_size': (16,),\n",
       " 'drop_out': 0.0,\n",
       " 'lr_factor': 0.0,\n",
       " 'lr_patience': 5,\n",
       " 'device': device(type='cpu'),\n",
       " 'n_workers': 16}"
      ]
     },
     "execution_count": 16,
     "metadata": {},
     "output_type": "execute_result"
    }
   ],
   "source": [
    "best_result = results.get_best_result(metric=\"val_loss\", mode=\"min\")\n",
    "best_config = best_result.config['train_loop_config']\n",
    "best_config"
   ]
  },
  {
   "cell_type": "code",
   "execution_count": 35,
   "id": "bf4987f5-6c85-438a-80e0-66693aacdb7d",
   "metadata": {},
   "outputs": [],
   "source": [
    "best_config['learning_rate'] = 1e-3\n",
    "best_config['weight_decay'] = 1e-3\n",
    "best_config['lstm_hidden_size'] = 64\n",
    "best_config['mlp_hidden_size'] = (32,)\n",
    "best_config['drop_out'] = 0.1"
   ]
  },
  {
   "cell_type": "code",
   "execution_count": 36,
   "id": "272fa5bb-34bd-4ab5-bdb4-94b2db14e7d8",
   "metadata": {
    "scrolled": true
   },
   "outputs": [
    {
     "name": "stderr",
     "output_type": "stream",
     "text": [
      "GPU available: True (cuda), used: True\n",
      "TPU available: False, using: 0 TPU cores\n",
      "IPU available: False, using: 0 IPUs\n",
      "HPU available: False, using: 0 HPUs\n"
     ]
    },
    {
     "name": "stdout",
     "output_type": "stream",
     "text": [
      "spike data shape: (714, 50, 1255)\n",
      "behavior data shape: (714, 50)\n",
      "spike data shape: (714, 50, 1255)\n",
      "behavior data shape: (714, 50)\n"
     ]
    },
    {
     "name": "stderr",
     "output_type": "stream",
     "text": [
      "/home/yizi/anaconda3/envs/ibl_foundation_model/lib/python3.11/site-packages/lightning/pytorch/callbacks/model_checkpoint.py:652: Checkpoint directory /mnt/3TB/yizi/shared_decoding/models exists and is not empty.\n",
      "LOCAL_RANK: 0 - CUDA_VISIBLE_DEVICES: [0]\n",
      "\n",
      "  | Name         | Type       | Params\n",
      "--------------------------------------------\n",
      "0 | r2_score     | R2Score    | 0     \n",
      "1 | lstm         | LSTM       | 1.2 M \n",
      "2 | input_layer  | Linear     | 8.3 K \n",
      "3 | hidden       | ModuleList | 0     \n",
      "4 | output_layer | Linear     | 3.2 K \n",
      "--------------------------------------------\n",
      "1.2 M     Trainable params\n",
      "0         Non-trainable params\n",
      "1.2 M     Total params\n",
      "4.996     Total estimated model params size (MB)\n"
     ]
    },
    {
     "data": {
      "application/vnd.jupyter.widget-view+json": {
       "model_id": "",
       "version_major": 2,
       "version_minor": 0
      },
      "text/plain": [
       "Sanity Checking: |                                        | 0/? [00:00<?, ?it/s]"
      ]
     },
     "metadata": {},
     "output_type": "display_data"
    },
    {
     "name": "stderr",
     "output_type": "stream",
     "text": [
      "/home/yizi/anaconda3/envs/ibl_foundation_model/lib/python3.11/site-packages/lightning/pytorch/trainer/connectors/data_connector.py:441: The 'val_dataloader' does not have many workers which may be a bottleneck. Consider increasing the value of the `num_workers` argument` to `num_workers=15` in the `DataLoader` to improve performance.\n",
      "/home/yizi/anaconda3/envs/ibl_foundation_model/lib/python3.11/site-packages/lightning/pytorch/trainer/connectors/data_connector.py:441: The 'train_dataloader' does not have many workers which may be a bottleneck. Consider increasing the value of the `num_workers` argument` to `num_workers=15` in the `DataLoader` to improve performance.\n"
     ]
    },
    {
     "data": {
      "application/vnd.jupyter.widget-view+json": {
       "model_id": "0f15fefd1483465c8f0daf5d964abf27",
       "version_major": 2,
       "version_minor": 0
      },
      "text/plain": [
       "Training: |                                               | 0/? [00:00<?, ?it/s]"
      ]
     },
     "metadata": {},
     "output_type": "display_data"
    },
    {
     "data": {
      "application/vnd.jupyter.widget-view+json": {
       "model_id": "",
       "version_major": 2,
       "version_minor": 0
      },
      "text/plain": [
       "Validation: |                                             | 0/? [00:00<?, ?it/s]"
      ]
     },
     "metadata": {},
     "output_type": "display_data"
    },
    {
     "data": {
      "application/vnd.jupyter.widget-view+json": {
       "model_id": "",
       "version_major": 2,
       "version_minor": 0
      },
      "text/plain": [
       "Validation: |                                             | 0/? [00:00<?, ?it/s]"
      ]
     },
     "metadata": {},
     "output_type": "display_data"
    },
    {
     "data": {
      "application/vnd.jupyter.widget-view+json": {
       "model_id": "",
       "version_major": 2,
       "version_minor": 0
      },
      "text/plain": [
       "Validation: |                                             | 0/? [00:00<?, ?it/s]"
      ]
     },
     "metadata": {},
     "output_type": "display_data"
    },
    {
     "data": {
      "application/vnd.jupyter.widget-view+json": {
       "model_id": "",
       "version_major": 2,
       "version_minor": 0
      },
      "text/plain": [
       "Validation: |                                             | 0/? [00:00<?, ?it/s]"
      ]
     },
     "metadata": {},
     "output_type": "display_data"
    },
    {
     "data": {
      "application/vnd.jupyter.widget-view+json": {
       "model_id": "",
       "version_major": 2,
       "version_minor": 0
      },
      "text/plain": [
       "Validation: |                                             | 0/? [00:00<?, ?it/s]"
      ]
     },
     "metadata": {},
     "output_type": "display_data"
    },
    {
     "data": {
      "application/vnd.jupyter.widget-view+json": {
       "model_id": "",
       "version_major": 2,
       "version_minor": 0
      },
      "text/plain": [
       "Validation: |                                             | 0/? [00:00<?, ?it/s]"
      ]
     },
     "metadata": {},
     "output_type": "display_data"
    },
    {
     "data": {
      "application/vnd.jupyter.widget-view+json": {
       "model_id": "",
       "version_major": 2,
       "version_minor": 0
      },
      "text/plain": [
       "Validation: |                                             | 0/? [00:00<?, ?it/s]"
      ]
     },
     "metadata": {},
     "output_type": "display_data"
    },
    {
     "data": {
      "application/vnd.jupyter.widget-view+json": {
       "model_id": "",
       "version_major": 2,
       "version_minor": 0
      },
      "text/plain": [
       "Validation: |                                             | 0/? [00:00<?, ?it/s]"
      ]
     },
     "metadata": {},
     "output_type": "display_data"
    },
    {
     "data": {
      "application/vnd.jupyter.widget-view+json": {
       "model_id": "",
       "version_major": 2,
       "version_minor": 0
      },
      "text/plain": [
       "Validation: |                                             | 0/? [00:00<?, ?it/s]"
      ]
     },
     "metadata": {},
     "output_type": "display_data"
    },
    {
     "data": {
      "application/vnd.jupyter.widget-view+json": {
       "model_id": "",
       "version_major": 2,
       "version_minor": 0
      },
      "text/plain": [
       "Validation: |                                             | 0/? [00:00<?, ?it/s]"
      ]
     },
     "metadata": {},
     "output_type": "display_data"
    },
    {
     "data": {
      "application/vnd.jupyter.widget-view+json": {
       "model_id": "",
       "version_major": 2,
       "version_minor": 0
      },
      "text/plain": [
       "Validation: |                                             | 0/? [00:00<?, ?it/s]"
      ]
     },
     "metadata": {},
     "output_type": "display_data"
    },
    {
     "data": {
      "application/vnd.jupyter.widget-view+json": {
       "model_id": "",
       "version_major": 2,
       "version_minor": 0
      },
      "text/plain": [
       "Validation: |                                             | 0/? [00:00<?, ?it/s]"
      ]
     },
     "metadata": {},
     "output_type": "display_data"
    },
    {
     "data": {
      "application/vnd.jupyter.widget-view+json": {
       "model_id": "",
       "version_major": 2,
       "version_minor": 0
      },
      "text/plain": [
       "Validation: |                                             | 0/? [00:00<?, ?it/s]"
      ]
     },
     "metadata": {},
     "output_type": "display_data"
    },
    {
     "data": {
      "application/vnd.jupyter.widget-view+json": {
       "model_id": "",
       "version_major": 2,
       "version_minor": 0
      },
      "text/plain": [
       "Validation: |                                             | 0/? [00:00<?, ?it/s]"
      ]
     },
     "metadata": {},
     "output_type": "display_data"
    },
    {
     "data": {
      "application/vnd.jupyter.widget-view+json": {
       "model_id": "",
       "version_major": 2,
       "version_minor": 0
      },
      "text/plain": [
       "Validation: |                                             | 0/? [00:00<?, ?it/s]"
      ]
     },
     "metadata": {},
     "output_type": "display_data"
    },
    {
     "data": {
      "application/vnd.jupyter.widget-view+json": {
       "model_id": "",
       "version_major": 2,
       "version_minor": 0
      },
      "text/plain": [
       "Validation: |                                             | 0/? [00:00<?, ?it/s]"
      ]
     },
     "metadata": {},
     "output_type": "display_data"
    },
    {
     "data": {
      "application/vnd.jupyter.widget-view+json": {
       "model_id": "",
       "version_major": 2,
       "version_minor": 0
      },
      "text/plain": [
       "Validation: |                                             | 0/? [00:00<?, ?it/s]"
      ]
     },
     "metadata": {},
     "output_type": "display_data"
    },
    {
     "data": {
      "application/vnd.jupyter.widget-view+json": {
       "model_id": "",
       "version_major": 2,
       "version_minor": 0
      },
      "text/plain": [
       "Validation: |                                             | 0/? [00:00<?, ?it/s]"
      ]
     },
     "metadata": {},
     "output_type": "display_data"
    },
    {
     "data": {
      "application/vnd.jupyter.widget-view+json": {
       "model_id": "",
       "version_major": 2,
       "version_minor": 0
      },
      "text/plain": [
       "Validation: |                                             | 0/? [00:00<?, ?it/s]"
      ]
     },
     "metadata": {},
     "output_type": "display_data"
    },
    {
     "data": {
      "application/vnd.jupyter.widget-view+json": {
       "model_id": "",
       "version_major": 2,
       "version_minor": 0
      },
      "text/plain": [
       "Validation: |                                             | 0/? [00:00<?, ?it/s]"
      ]
     },
     "metadata": {},
     "output_type": "display_data"
    },
    {
     "data": {
      "application/vnd.jupyter.widget-view+json": {
       "model_id": "",
       "version_major": 2,
       "version_minor": 0
      },
      "text/plain": [
       "Validation: |                                             | 0/? [00:00<?, ?it/s]"
      ]
     },
     "metadata": {},
     "output_type": "display_data"
    },
    {
     "data": {
      "application/vnd.jupyter.widget-view+json": {
       "model_id": "",
       "version_major": 2,
       "version_minor": 0
      },
      "text/plain": [
       "Validation: |                                             | 0/? [00:00<?, ?it/s]"
      ]
     },
     "metadata": {},
     "output_type": "display_data"
    },
    {
     "data": {
      "application/vnd.jupyter.widget-view+json": {
       "model_id": "",
       "version_major": 2,
       "version_minor": 0
      },
      "text/plain": [
       "Validation: |                                             | 0/? [00:00<?, ?it/s]"
      ]
     },
     "metadata": {},
     "output_type": "display_data"
    },
    {
     "data": {
      "application/vnd.jupyter.widget-view+json": {
       "model_id": "",
       "version_major": 2,
       "version_minor": 0
      },
      "text/plain": [
       "Validation: |                                             | 0/? [00:00<?, ?it/s]"
      ]
     },
     "metadata": {},
     "output_type": "display_data"
    },
    {
     "data": {
      "application/vnd.jupyter.widget-view+json": {
       "model_id": "",
       "version_major": 2,
       "version_minor": 0
      },
      "text/plain": [
       "Validation: |                                             | 0/? [00:00<?, ?it/s]"
      ]
     },
     "metadata": {},
     "output_type": "display_data"
    },
    {
     "data": {
      "application/vnd.jupyter.widget-view+json": {
       "model_id": "",
       "version_major": 2,
       "version_minor": 0
      },
      "text/plain": [
       "Validation: |                                             | 0/? [00:00<?, ?it/s]"
      ]
     },
     "metadata": {},
     "output_type": "display_data"
    },
    {
     "data": {
      "application/vnd.jupyter.widget-view+json": {
       "model_id": "",
       "version_major": 2,
       "version_minor": 0
      },
      "text/plain": [
       "Validation: |                                             | 0/? [00:00<?, ?it/s]"
      ]
     },
     "metadata": {},
     "output_type": "display_data"
    },
    {
     "data": {
      "application/vnd.jupyter.widget-view+json": {
       "model_id": "",
       "version_major": 2,
       "version_minor": 0
      },
      "text/plain": [
       "Validation: |                                             | 0/? [00:00<?, ?it/s]"
      ]
     },
     "metadata": {},
     "output_type": "display_data"
    },
    {
     "data": {
      "application/vnd.jupyter.widget-view+json": {
       "model_id": "",
       "version_major": 2,
       "version_minor": 0
      },
      "text/plain": [
       "Validation: |                                             | 0/? [00:00<?, ?it/s]"
      ]
     },
     "metadata": {},
     "output_type": "display_data"
    },
    {
     "data": {
      "application/vnd.jupyter.widget-view+json": {
       "model_id": "",
       "version_major": 2,
       "version_minor": 0
      },
      "text/plain": [
       "Validation: |                                             | 0/? [00:00<?, ?it/s]"
      ]
     },
     "metadata": {},
     "output_type": "display_data"
    },
    {
     "data": {
      "application/vnd.jupyter.widget-view+json": {
       "model_id": "",
       "version_major": 2,
       "version_minor": 0
      },
      "text/plain": [
       "Validation: |                                             | 0/? [00:00<?, ?it/s]"
      ]
     },
     "metadata": {},
     "output_type": "display_data"
    },
    {
     "data": {
      "application/vnd.jupyter.widget-view+json": {
       "model_id": "",
       "version_major": 2,
       "version_minor": 0
      },
      "text/plain": [
       "Validation: |                                             | 0/? [00:00<?, ?it/s]"
      ]
     },
     "metadata": {},
     "output_type": "display_data"
    },
    {
     "data": {
      "application/vnd.jupyter.widget-view+json": {
       "model_id": "",
       "version_major": 2,
       "version_minor": 0
      },
      "text/plain": [
       "Validation: |                                             | 0/? [00:00<?, ?it/s]"
      ]
     },
     "metadata": {},
     "output_type": "display_data"
    },
    {
     "data": {
      "application/vnd.jupyter.widget-view+json": {
       "model_id": "",
       "version_major": 2,
       "version_minor": 0
      },
      "text/plain": [
       "Validation: |                                             | 0/? [00:00<?, ?it/s]"
      ]
     },
     "metadata": {},
     "output_type": "display_data"
    },
    {
     "data": {
      "application/vnd.jupyter.widget-view+json": {
       "model_id": "",
       "version_major": 2,
       "version_minor": 0
      },
      "text/plain": [
       "Validation: |                                             | 0/? [00:00<?, ?it/s]"
      ]
     },
     "metadata": {},
     "output_type": "display_data"
    },
    {
     "data": {
      "application/vnd.jupyter.widget-view+json": {
       "model_id": "",
       "version_major": 2,
       "version_minor": 0
      },
      "text/plain": [
       "Validation: |                                             | 0/? [00:00<?, ?it/s]"
      ]
     },
     "metadata": {},
     "output_type": "display_data"
    },
    {
     "data": {
      "application/vnd.jupyter.widget-view+json": {
       "model_id": "",
       "version_major": 2,
       "version_minor": 0
      },
      "text/plain": [
       "Validation: |                                             | 0/? [00:00<?, ?it/s]"
      ]
     },
     "metadata": {},
     "output_type": "display_data"
    },
    {
     "data": {
      "application/vnd.jupyter.widget-view+json": {
       "model_id": "",
       "version_major": 2,
       "version_minor": 0
      },
      "text/plain": [
       "Validation: |                                             | 0/? [00:00<?, ?it/s]"
      ]
     },
     "metadata": {},
     "output_type": "display_data"
    },
    {
     "data": {
      "application/vnd.jupyter.widget-view+json": {
       "model_id": "",
       "version_major": 2,
       "version_minor": 0
      },
      "text/plain": [
       "Validation: |                                             | 0/? [00:00<?, ?it/s]"
      ]
     },
     "metadata": {},
     "output_type": "display_data"
    },
    {
     "data": {
      "application/vnd.jupyter.widget-view+json": {
       "model_id": "",
       "version_major": 2,
       "version_minor": 0
      },
      "text/plain": [
       "Validation: |                                             | 0/? [00:00<?, ?it/s]"
      ]
     },
     "metadata": {},
     "output_type": "display_data"
    },
    {
     "data": {
      "application/vnd.jupyter.widget-view+json": {
       "model_id": "",
       "version_major": 2,
       "version_minor": 0
      },
      "text/plain": [
       "Validation: |                                             | 0/? [00:00<?, ?it/s]"
      ]
     },
     "metadata": {},
     "output_type": "display_data"
    },
    {
     "data": {
      "application/vnd.jupyter.widget-view+json": {
       "model_id": "",
       "version_major": 2,
       "version_minor": 0
      },
      "text/plain": [
       "Validation: |                                             | 0/? [00:00<?, ?it/s]"
      ]
     },
     "metadata": {},
     "output_type": "display_data"
    },
    {
     "data": {
      "application/vnd.jupyter.widget-view+json": {
       "model_id": "",
       "version_major": 2,
       "version_minor": 0
      },
      "text/plain": [
       "Validation: |                                             | 0/? [00:00<?, ?it/s]"
      ]
     },
     "metadata": {},
     "output_type": "display_data"
    },
    {
     "data": {
      "application/vnd.jupyter.widget-view+json": {
       "model_id": "",
       "version_major": 2,
       "version_minor": 0
      },
      "text/plain": [
       "Validation: |                                             | 0/? [00:00<?, ?it/s]"
      ]
     },
     "metadata": {},
     "output_type": "display_data"
    },
    {
     "data": {
      "application/vnd.jupyter.widget-view+json": {
       "model_id": "",
       "version_major": 2,
       "version_minor": 0
      },
      "text/plain": [
       "Validation: |                                             | 0/? [00:00<?, ?it/s]"
      ]
     },
     "metadata": {},
     "output_type": "display_data"
    },
    {
     "data": {
      "application/vnd.jupyter.widget-view+json": {
       "model_id": "",
       "version_major": 2,
       "version_minor": 0
      },
      "text/plain": [
       "Validation: |                                             | 0/? [00:00<?, ?it/s]"
      ]
     },
     "metadata": {},
     "output_type": "display_data"
    },
    {
     "data": {
      "application/vnd.jupyter.widget-view+json": {
       "model_id": "",
       "version_major": 2,
       "version_minor": 0
      },
      "text/plain": [
       "Validation: |                                             | 0/? [00:00<?, ?it/s]"
      ]
     },
     "metadata": {},
     "output_type": "display_data"
    },
    {
     "data": {
      "application/vnd.jupyter.widget-view+json": {
       "model_id": "",
       "version_major": 2,
       "version_minor": 0
      },
      "text/plain": [
       "Validation: |                                             | 0/? [00:00<?, ?it/s]"
      ]
     },
     "metadata": {},
     "output_type": "display_data"
    },
    {
     "data": {
      "application/vnd.jupyter.widget-view+json": {
       "model_id": "",
       "version_major": 2,
       "version_minor": 0
      },
      "text/plain": [
       "Validation: |                                             | 0/? [00:00<?, ?it/s]"
      ]
     },
     "metadata": {},
     "output_type": "display_data"
    },
    {
     "data": {
      "application/vnd.jupyter.widget-view+json": {
       "model_id": "",
       "version_major": 2,
       "version_minor": 0
      },
      "text/plain": [
       "Validation: |                                             | 0/? [00:00<?, ?it/s]"
      ]
     },
     "metadata": {},
     "output_type": "display_data"
    },
    {
     "data": {
      "application/vnd.jupyter.widget-view+json": {
       "model_id": "",
       "version_major": 2,
       "version_minor": 0
      },
      "text/plain": [
       "Validation: |                                             | 0/? [00:00<?, ?it/s]"
      ]
     },
     "metadata": {},
     "output_type": "display_data"
    },
    {
     "data": {
      "application/vnd.jupyter.widget-view+json": {
       "model_id": "",
       "version_major": 2,
       "version_minor": 0
      },
      "text/plain": [
       "Validation: |                                             | 0/? [00:00<?, ?it/s]"
      ]
     },
     "metadata": {},
     "output_type": "display_data"
    },
    {
     "data": {
      "application/vnd.jupyter.widget-view+json": {
       "model_id": "",
       "version_major": 2,
       "version_minor": 0
      },
      "text/plain": [
       "Validation: |                                             | 0/? [00:00<?, ?it/s]"
      ]
     },
     "metadata": {},
     "output_type": "display_data"
    },
    {
     "data": {
      "application/vnd.jupyter.widget-view+json": {
       "model_id": "",
       "version_major": 2,
       "version_minor": 0
      },
      "text/plain": [
       "Validation: |                                             | 0/? [00:00<?, ?it/s]"
      ]
     },
     "metadata": {},
     "output_type": "display_data"
    },
    {
     "data": {
      "application/vnd.jupyter.widget-view+json": {
       "model_id": "",
       "version_major": 2,
       "version_minor": 0
      },
      "text/plain": [
       "Validation: |                                             | 0/? [00:00<?, ?it/s]"
      ]
     },
     "metadata": {},
     "output_type": "display_data"
    },
    {
     "data": {
      "application/vnd.jupyter.widget-view+json": {
       "model_id": "",
       "version_major": 2,
       "version_minor": 0
      },
      "text/plain": [
       "Validation: |                                             | 0/? [00:00<?, ?it/s]"
      ]
     },
     "metadata": {},
     "output_type": "display_data"
    },
    {
     "data": {
      "application/vnd.jupyter.widget-view+json": {
       "model_id": "",
       "version_major": 2,
       "version_minor": 0
      },
      "text/plain": [
       "Validation: |                                             | 0/? [00:00<?, ?it/s]"
      ]
     },
     "metadata": {},
     "output_type": "display_data"
    },
    {
     "data": {
      "application/vnd.jupyter.widget-view+json": {
       "model_id": "",
       "version_major": 2,
       "version_minor": 0
      },
      "text/plain": [
       "Validation: |                                             | 0/? [00:00<?, ?it/s]"
      ]
     },
     "metadata": {},
     "output_type": "display_data"
    },
    {
     "data": {
      "application/vnd.jupyter.widget-view+json": {
       "model_id": "",
       "version_major": 2,
       "version_minor": 0
      },
      "text/plain": [
       "Validation: |                                             | 0/? [00:00<?, ?it/s]"
      ]
     },
     "metadata": {},
     "output_type": "display_data"
    },
    {
     "data": {
      "application/vnd.jupyter.widget-view+json": {
       "model_id": "",
       "version_major": 2,
       "version_minor": 0
      },
      "text/plain": [
       "Validation: |                                             | 0/? [00:00<?, ?it/s]"
      ]
     },
     "metadata": {},
     "output_type": "display_data"
    },
    {
     "data": {
      "application/vnd.jupyter.widget-view+json": {
       "model_id": "",
       "version_major": 2,
       "version_minor": 0
      },
      "text/plain": [
       "Validation: |                                             | 0/? [00:00<?, ?it/s]"
      ]
     },
     "metadata": {},
     "output_type": "display_data"
    },
    {
     "data": {
      "application/vnd.jupyter.widget-view+json": {
       "model_id": "",
       "version_major": 2,
       "version_minor": 0
      },
      "text/plain": [
       "Validation: |                                             | 0/? [00:00<?, ?it/s]"
      ]
     },
     "metadata": {},
     "output_type": "display_data"
    },
    {
     "data": {
      "application/vnd.jupyter.widget-view+json": {
       "model_id": "",
       "version_major": 2,
       "version_minor": 0
      },
      "text/plain": [
       "Validation: |                                             | 0/? [00:00<?, ?it/s]"
      ]
     },
     "metadata": {},
     "output_type": "display_data"
    },
    {
     "data": {
      "application/vnd.jupyter.widget-view+json": {
       "model_id": "",
       "version_major": 2,
       "version_minor": 0
      },
      "text/plain": [
       "Validation: |                                             | 0/? [00:00<?, ?it/s]"
      ]
     },
     "metadata": {},
     "output_type": "display_data"
    },
    {
     "data": {
      "application/vnd.jupyter.widget-view+json": {
       "model_id": "",
       "version_major": 2,
       "version_minor": 0
      },
      "text/plain": [
       "Validation: |                                             | 0/? [00:00<?, ?it/s]"
      ]
     },
     "metadata": {},
     "output_type": "display_data"
    },
    {
     "data": {
      "application/vnd.jupyter.widget-view+json": {
       "model_id": "",
       "version_major": 2,
       "version_minor": 0
      },
      "text/plain": [
       "Validation: |                                             | 0/? [00:00<?, ?it/s]"
      ]
     },
     "metadata": {},
     "output_type": "display_data"
    },
    {
     "data": {
      "application/vnd.jupyter.widget-view+json": {
       "model_id": "",
       "version_major": 2,
       "version_minor": 0
      },
      "text/plain": [
       "Validation: |                                             | 0/? [00:00<?, ?it/s]"
      ]
     },
     "metadata": {},
     "output_type": "display_data"
    },
    {
     "data": {
      "application/vnd.jupyter.widget-view+json": {
       "model_id": "",
       "version_major": 2,
       "version_minor": 0
      },
      "text/plain": [
       "Validation: |                                             | 0/? [00:00<?, ?it/s]"
      ]
     },
     "metadata": {},
     "output_type": "display_data"
    },
    {
     "data": {
      "application/vnd.jupyter.widget-view+json": {
       "model_id": "",
       "version_major": 2,
       "version_minor": 0
      },
      "text/plain": [
       "Validation: |                                             | 0/? [00:00<?, ?it/s]"
      ]
     },
     "metadata": {},
     "output_type": "display_data"
    },
    {
     "data": {
      "application/vnd.jupyter.widget-view+json": {
       "model_id": "",
       "version_major": 2,
       "version_minor": 0
      },
      "text/plain": [
       "Validation: |                                             | 0/? [00:00<?, ?it/s]"
      ]
     },
     "metadata": {},
     "output_type": "display_data"
    },
    {
     "data": {
      "application/vnd.jupyter.widget-view+json": {
       "model_id": "",
       "version_major": 2,
       "version_minor": 0
      },
      "text/plain": [
       "Validation: |                                             | 0/? [00:00<?, ?it/s]"
      ]
     },
     "metadata": {},
     "output_type": "display_data"
    },
    {
     "data": {
      "application/vnd.jupyter.widget-view+json": {
       "model_id": "",
       "version_major": 2,
       "version_minor": 0
      },
      "text/plain": [
       "Validation: |                                             | 0/? [00:00<?, ?it/s]"
      ]
     },
     "metadata": {},
     "output_type": "display_data"
    },
    {
     "data": {
      "application/vnd.jupyter.widget-view+json": {
       "model_id": "",
       "version_major": 2,
       "version_minor": 0
      },
      "text/plain": [
       "Validation: |                                             | 0/? [00:00<?, ?it/s]"
      ]
     },
     "metadata": {},
     "output_type": "display_data"
    },
    {
     "data": {
      "application/vnd.jupyter.widget-view+json": {
       "model_id": "",
       "version_major": 2,
       "version_minor": 0
      },
      "text/plain": [
       "Validation: |                                             | 0/? [00:00<?, ?it/s]"
      ]
     },
     "metadata": {},
     "output_type": "display_data"
    },
    {
     "data": {
      "application/vnd.jupyter.widget-view+json": {
       "model_id": "",
       "version_major": 2,
       "version_minor": 0
      },
      "text/plain": [
       "Validation: |                                             | 0/? [00:00<?, ?it/s]"
      ]
     },
     "metadata": {},
     "output_type": "display_data"
    },
    {
     "data": {
      "application/vnd.jupyter.widget-view+json": {
       "model_id": "",
       "version_major": 2,
       "version_minor": 0
      },
      "text/plain": [
       "Validation: |                                             | 0/? [00:00<?, ?it/s]"
      ]
     },
     "metadata": {},
     "output_type": "display_data"
    },
    {
     "data": {
      "application/vnd.jupyter.widget-view+json": {
       "model_id": "",
       "version_major": 2,
       "version_minor": 0
      },
      "text/plain": [
       "Validation: |                                             | 0/? [00:00<?, ?it/s]"
      ]
     },
     "metadata": {},
     "output_type": "display_data"
    },
    {
     "data": {
      "application/vnd.jupyter.widget-view+json": {
       "model_id": "",
       "version_major": 2,
       "version_minor": 0
      },
      "text/plain": [
       "Validation: |                                             | 0/? [00:00<?, ?it/s]"
      ]
     },
     "metadata": {},
     "output_type": "display_data"
    },
    {
     "data": {
      "application/vnd.jupyter.widget-view+json": {
       "model_id": "",
       "version_major": 2,
       "version_minor": 0
      },
      "text/plain": [
       "Validation: |                                             | 0/? [00:00<?, ?it/s]"
      ]
     },
     "metadata": {},
     "output_type": "display_data"
    },
    {
     "data": {
      "application/vnd.jupyter.widget-view+json": {
       "model_id": "",
       "version_major": 2,
       "version_minor": 0
      },
      "text/plain": [
       "Validation: |                                             | 0/? [00:00<?, ?it/s]"
      ]
     },
     "metadata": {},
     "output_type": "display_data"
    },
    {
     "data": {
      "application/vnd.jupyter.widget-view+json": {
       "model_id": "",
       "version_major": 2,
       "version_minor": 0
      },
      "text/plain": [
       "Validation: |                                             | 0/? [00:00<?, ?it/s]"
      ]
     },
     "metadata": {},
     "output_type": "display_data"
    },
    {
     "data": {
      "application/vnd.jupyter.widget-view+json": {
       "model_id": "",
       "version_major": 2,
       "version_minor": 0
      },
      "text/plain": [
       "Validation: |                                             | 0/? [00:00<?, ?it/s]"
      ]
     },
     "metadata": {},
     "output_type": "display_data"
    },
    {
     "data": {
      "application/vnd.jupyter.widget-view+json": {
       "model_id": "",
       "version_major": 2,
       "version_minor": 0
      },
      "text/plain": [
       "Validation: |                                             | 0/? [00:00<?, ?it/s]"
      ]
     },
     "metadata": {},
     "output_type": "display_data"
    },
    {
     "data": {
      "application/vnd.jupyter.widget-view+json": {
       "model_id": "",
       "version_major": 2,
       "version_minor": 0
      },
      "text/plain": [
       "Validation: |                                             | 0/? [00:00<?, ?it/s]"
      ]
     },
     "metadata": {},
     "output_type": "display_data"
    },
    {
     "data": {
      "application/vnd.jupyter.widget-view+json": {
       "model_id": "",
       "version_major": 2,
       "version_minor": 0
      },
      "text/plain": [
       "Validation: |                                             | 0/? [00:00<?, ?it/s]"
      ]
     },
     "metadata": {},
     "output_type": "display_data"
    },
    {
     "data": {
      "application/vnd.jupyter.widget-view+json": {
       "model_id": "",
       "version_major": 2,
       "version_minor": 0
      },
      "text/plain": [
       "Validation: |                                             | 0/? [00:00<?, ?it/s]"
      ]
     },
     "metadata": {},
     "output_type": "display_data"
    },
    {
     "data": {
      "application/vnd.jupyter.widget-view+json": {
       "model_id": "",
       "version_major": 2,
       "version_minor": 0
      },
      "text/plain": [
       "Validation: |                                             | 0/? [00:00<?, ?it/s]"
      ]
     },
     "metadata": {},
     "output_type": "display_data"
    },
    {
     "data": {
      "application/vnd.jupyter.widget-view+json": {
       "model_id": "",
       "version_major": 2,
       "version_minor": 0
      },
      "text/plain": [
       "Validation: |                                             | 0/? [00:00<?, ?it/s]"
      ]
     },
     "metadata": {},
     "output_type": "display_data"
    },
    {
     "data": {
      "application/vnd.jupyter.widget-view+json": {
       "model_id": "",
       "version_major": 2,
       "version_minor": 0
      },
      "text/plain": [
       "Validation: |                                             | 0/? [00:00<?, ?it/s]"
      ]
     },
     "metadata": {},
     "output_type": "display_data"
    },
    {
     "data": {
      "application/vnd.jupyter.widget-view+json": {
       "model_id": "",
       "version_major": 2,
       "version_minor": 0
      },
      "text/plain": [
       "Validation: |                                             | 0/? [00:00<?, ?it/s]"
      ]
     },
     "metadata": {},
     "output_type": "display_data"
    },
    {
     "data": {
      "application/vnd.jupyter.widget-view+json": {
       "model_id": "",
       "version_major": 2,
       "version_minor": 0
      },
      "text/plain": [
       "Validation: |                                             | 0/? [00:00<?, ?it/s]"
      ]
     },
     "metadata": {},
     "output_type": "display_data"
    },
    {
     "data": {
      "application/vnd.jupyter.widget-view+json": {
       "model_id": "",
       "version_major": 2,
       "version_minor": 0
      },
      "text/plain": [
       "Validation: |                                             | 0/? [00:00<?, ?it/s]"
      ]
     },
     "metadata": {},
     "output_type": "display_data"
    },
    {
     "data": {
      "application/vnd.jupyter.widget-view+json": {
       "model_id": "",
       "version_major": 2,
       "version_minor": 0
      },
      "text/plain": [
       "Validation: |                                             | 0/? [00:00<?, ?it/s]"
      ]
     },
     "metadata": {},
     "output_type": "display_data"
    },
    {
     "data": {
      "application/vnd.jupyter.widget-view+json": {
       "model_id": "",
       "version_major": 2,
       "version_minor": 0
      },
      "text/plain": [
       "Validation: |                                             | 0/? [00:00<?, ?it/s]"
      ]
     },
     "metadata": {},
     "output_type": "display_data"
    },
    {
     "data": {
      "application/vnd.jupyter.widget-view+json": {
       "model_id": "",
       "version_major": 2,
       "version_minor": 0
      },
      "text/plain": [
       "Validation: |                                             | 0/? [00:00<?, ?it/s]"
      ]
     },
     "metadata": {},
     "output_type": "display_data"
    },
    {
     "data": {
      "application/vnd.jupyter.widget-view+json": {
       "model_id": "",
       "version_major": 2,
       "version_minor": 0
      },
      "text/plain": [
       "Validation: |                                             | 0/? [00:00<?, ?it/s]"
      ]
     },
     "metadata": {},
     "output_type": "display_data"
    },
    {
     "data": {
      "application/vnd.jupyter.widget-view+json": {
       "model_id": "",
       "version_major": 2,
       "version_minor": 0
      },
      "text/plain": [
       "Validation: |                                             | 0/? [00:00<?, ?it/s]"
      ]
     },
     "metadata": {},
     "output_type": "display_data"
    },
    {
     "data": {
      "application/vnd.jupyter.widget-view+json": {
       "model_id": "",
       "version_major": 2,
       "version_minor": 0
      },
      "text/plain": [
       "Validation: |                                             | 0/? [00:00<?, ?it/s]"
      ]
     },
     "metadata": {},
     "output_type": "display_data"
    },
    {
     "data": {
      "application/vnd.jupyter.widget-view+json": {
       "model_id": "",
       "version_major": 2,
       "version_minor": 0
      },
      "text/plain": [
       "Validation: |                                             | 0/? [00:00<?, ?it/s]"
      ]
     },
     "metadata": {},
     "output_type": "display_data"
    },
    {
     "data": {
      "application/vnd.jupyter.widget-view+json": {
       "model_id": "",
       "version_major": 2,
       "version_minor": 0
      },
      "text/plain": [
       "Validation: |                                             | 0/? [00:00<?, ?it/s]"
      ]
     },
     "metadata": {},
     "output_type": "display_data"
    },
    {
     "name": "stderr",
     "output_type": "stream",
     "text": [
      "`Trainer.fit` stopped: `max_epochs=100` reached.\n"
     ]
    },
    {
     "name": "stdout",
     "output_type": "stream",
     "text": [
      "spike data shape: (714, 50, 1255)\n",
      "behavior data shape: (714, 50)\n"
     ]
    },
    {
     "name": "stderr",
     "output_type": "stream",
     "text": [
      "Restoring states from the checkpoint path at /mnt/3TB/yizi/shared_decoding/models/epoch=55-step=4032.ckpt\n",
      "LOCAL_RANK: 0 - CUDA_VISIBLE_DEVICES: [0]\n",
      "Loaded model weights from the checkpoint at /mnt/3TB/yizi/shared_decoding/models/epoch=55-step=4032.ckpt\n",
      "/home/yizi/anaconda3/envs/ibl_foundation_model/lib/python3.11/site-packages/lightning/pytorch/trainer/connectors/data_connector.py:441: The 'test_dataloader' does not have many workers which may be a bottleneck. Consider increasing the value of the `num_workers` argument` to `num_workers=15` in the `DataLoader` to improve performance.\n"
     ]
    },
    {
     "data": {
      "application/vnd.jupyter.widget-view+json": {
       "model_id": "4d50427c35a44b66867b610d50a06673",
       "version_major": 2,
       "version_minor": 0
      },
      "text/plain": [
       "Testing: |                                                | 0/? [00:00<?, ?it/s]"
      ]
     },
     "metadata": {},
     "output_type": "display_data"
    },
    {
     "name": "stdout",
     "output_type": "stream",
     "text": [
      "────────────────────────────────────────────────────────────────────────────────────────────────────────────────────────\n",
      "       Test metric             DataLoader 0\n",
      "────────────────────────────────────────────────────────────────────────────────────────────────────────────────────────\n",
      "        test_loss           0.6048494614585017\n",
      "         test_r2            0.43995916843414307\n",
      "────────────────────────────────────────────────────────────────────────────────────────────────────────────────────────\n"
     ]
    },
    {
     "data": {
      "text/plain": [
       "[{'test_loss': 0.6048494614585017, 'test_r2': 0.43995916843414307}]"
      ]
     },
     "execution_count": 36,
     "metadata": {},
     "output_type": "execute_result"
    }
   ],
   "source": [
    "model_path = base_dir / 'models'\n",
    "os.makedirs(model_path, exist_ok=True)\n",
    "\n",
    "checkpoint_callback = ModelCheckpoint(\n",
    "    monitor='val_loss', mode='min', dirpath=model_path\n",
    ")\n",
    "\n",
    "trainer = Trainer(max_epochs=100, callbacks=[checkpoint_callback], enable_progress_bar=True)\n",
    "dm = SingleSessionDataModule(best_config)\n",
    "dm.setup()\n",
    "model = LSTMDecoder(best_config)\n",
    "\n",
    "trainer.fit(model, datamodule=dm)\n",
    "trainer.test(datamodule=dm, ckpt_path='best')"
   ]
  },
  {
   "cell_type": "code",
   "execution_count": 34,
   "id": "317e5b45-e612-4b2d-81b4-dd1ea4b47a0e",
   "metadata": {},
   "outputs": [
    {
     "data": {
      "image/png": "[encoded data removed]",
      "text/plain": [
       "<Figure size 1200x200 with 1 Axes>"
      ]
     },
     "metadata": {},
     "output_type": "display_data"
    }
   ],
   "source": [
    "r2, test_pred, test_y = eval_model(dm.train, dm.test, model, model_type=\"lstm\", plot=True)"
   ]
  },
  {
   "cell_type": "markdown",
   "id": "7652aaa9-4e76-4c91-af59-423424b06a06",
   "metadata": {},
   "source": [
    "#### Train MLP Decoder"
   ]
  },
  {
   "cell_type": "code",
   "execution_count": 17,
   "id": "42f0a93c-2871-4a9f-aea4-1bb0430480f0",
   "metadata": {},
   "outputs": [],
   "source": [
    "# DEVICE = torch.device('cuda' if torch.cuda.is_available() else 'cpu')\n",
    "DEVICE = torch.device('cpu')\n",
    "\n",
    "config = {\n",
    "    'data_dir': data_dir,\n",
    "    'temporal_rank': 5,\n",
    "    'weight_decay': tune.grid_search([1e-3, 1e-1]),\n",
    "    'learning_rate': 1e-3,\n",
    "    'batch_size': 8,\n",
    "    'eid': eids[3],\n",
    "    'imposter_id': None,\n",
    "    'target': 'wheel_speed',\n",
    "    'lstm_hidden_size': 32,\n",
    "    'lstm_n_layers': 3,\n",
    "    'mlp_hidden_size': tune.grid_search([(256, 128, 64)]),\n",
    "    'drop_out': 0.,\n",
    "    'lr_factor': 0.1,\n",
    "    'lr_patience': 5,\n",
    "    'device': DEVICE,\n",
    "    'n_workers': os.cpu_count()\n",
    "}"
   ]
  },
  {
   "cell_type": "code",
   "execution_count": 18,
   "id": "9ad490ec-40fc-4af2-ac97-1d0a50c6349a",
   "metadata": {},
   "outputs": [],
   "source": [
    "def train_func(config):\n",
    "    dm = SingleSessionDataModule(config)\n",
    "    dm.setup()\n",
    "    model = MLPDecoder(dm.config)\n",
    "\n",
    "    trainer = Trainer(\n",
    "        max_epochs=500,\n",
    "        devices=\"auto\",\n",
    "        accelerator=\"auto\",\n",
    "        strategy=RayDDPStrategy(),\n",
    "        callbacks=[RayTrainReportCallback()],\n",
    "        plugins=[RayLightningEnvironment()],\n",
    "        enable_progress_bar=False,\n",
    "    )\n",
    "    trainer = prepare_trainer(trainer)\n",
    "    trainer.fit(model, datamodule=dm)"
   ]
  },
  {
   "cell_type": "code",
   "execution_count": 19,
   "id": "43b3c473-b623-419c-89d7-a7c5497be426",
   "metadata": {},
   "outputs": [
    {
     "data": {
      "text/html": [
       "<div class=\"tuneStatus\">\n",
       "  <div style=\"display: flex;flex-direction: row\">\n",
       "    <div style=\"display: flex;flex-direction: column;\">\n",
       "      <h3>Tune Status</h3>\n",
       "      <table>\n",
       "<tbody>\n",
       "<tr><td>Current time:</td><td>2024-03-02 12:47:32</td></tr>\n",
       "<tr><td>Running for: </td><td>00:03:59.10        </td></tr>\n",
       "<tr><td>Memory:      </td><td>5.9/62.8 GiB       </td></tr>\n",
       "</tbody>\n",
       "</table>\n",
       "    </div>\n",
       "    <div class=\"vDivider\"></div>\n",
       "    <div class=\"systemInfo\">\n",
       "      <h3>System Info</h3>\n",
       "      Using AsyncHyperBand: num_stopped=2<br>Bracket: Iter 64.000: -0.04409224669298009 | Iter 32.000: -0.04097771725304454 | Iter 16.000: -0.13021717528702415 | Iter 8.000: -0.1607282008698471 | Iter 4.000: -0.3645812011188294 | Iter 2.000: -0.6961675171512152 | Iter 1.000: -0.9243367760663126<br>Logical resource usage: 3.0/16 CPUs, 0/1 GPUs (0.0/1.0 accelerator_type:G)\n",
       "    </div>\n",
       "    \n",
       "  </div>\n",
       "  <div class=\"hDivider\"></div>\n",
       "  <div class=\"trialStatus\">\n",
       "    <h3>Trial Status</h3>\n",
       "    <table>\n",
       "<thead>\n",
       "<tr><th>Trial name              </th><th>status    </th><th>loc                  </th><th>train_loop_config/ml\n",
       "p_hidden_size               </th><th style=\"text-align: right;\">      train_loop_config/we\n",
       "ight_decay</th><th style=\"text-align: right;\">  iter</th><th style=\"text-align: right;\">  total time (s)</th><th style=\"text-align: right;\">  val_loss</th><th style=\"text-align: right;\">  val_r2</th><th style=\"text-align: right;\">      loss</th></tr>\n",
       "</thead>\n",
       "<tbody>\n",
       "<tr><td>TorchTrainer_63e7f_00000</td><td>TERMINATED</td><td>129.236.160.107:50964</td><td>(256, 128, 64)</td><td style=\"text-align: right;\">0.001</td><td style=\"text-align: right;\">    32</td><td style=\"text-align: right;\">         90.7029</td><td style=\"text-align: right;\">  0.430388</td><td style=\"text-align: right;\">0.651082</td><td style=\"text-align: right;\">0.042221  </td></tr>\n",
       "<tr><td>TorchTrainer_63e7f_00001</td><td>TERMINATED</td><td>129.236.160.107:50965</td><td>(256, 128, 64)</td><td style=\"text-align: right;\">0.1  </td><td style=\"text-align: right;\">   100</td><td style=\"text-align: right;\">        233.624 </td><td style=\"text-align: right;\">  0.48732 </td><td style=\"text-align: right;\">0.629061</td><td style=\"text-align: right;\">0.00963304</td></tr>\n",
       "</tbody>\n",
       "</table>\n",
       "  </div>\n",
       "</div>\n",
       "<style>\n",
       ".tuneStatus {\n",
       "  color: var(--jp-ui-font-color1);\n",
       "}\n",
       ".tuneStatus .systemInfo {\n",
       "  display: flex;\n",
       "  flex-direction: column;\n",
       "}\n",
       ".tuneStatus td {\n",
       "  white-space: nowrap;\n",
       "}\n",
       ".tuneStatus .trialStatus {\n",
       "  display: flex;\n",
       "  flex-direction: column;\n",
       "}\n",
       ".tuneStatus h3 {\n",
       "  font-weight: bold;\n",
       "}\n",
       ".tuneStatus .hDivider {\n",
       "  border-bottom-width: var(--jp-border-width);\n",
       "  border-bottom-color: var(--jp-border-color0);\n",
       "  border-bottom-style: solid;\n",
       "}\n",
       ".tuneStatus .vDivider {\n",
       "  border-left-width: var(--jp-border-width);\n",
       "  border-left-color: var(--jp-border-color0);\n",
       "  border-left-style: solid;\n",
       "  margin: 0.5em 1em 0.5em 1em;\n",
       "}\n",
       "</style>\n"
      ],
      "text/plain": [
       "<IPython.core.display.HTML object>"
      ]
     },
     "metadata": {},
     "output_type": "display_data"
    },
    {
     "name": "stderr",
     "output_type": "stream",
     "text": [
      "2024-03-02 12:43:33,675\tINFO data_parallel_trainer.py:344 -- GPUs are detected in your Ray cluster, but GPU training is not enabled for this trainer. To enable GPU training, make sure to set `use_gpu` to True in your scaling config.\n",
      "2024-03-02 12:43:33,678\tINFO data_parallel_trainer.py:344 -- GPUs are detected in your Ray cluster, but GPU training is not enabled for this trainer. To enable GPU training, make sure to set `use_gpu` to True in your scaling config.\n",
      "2024-03-02 12:45:09,576\tINFO tensorboardx.py:275 -- Removed the following hyperparameter values when logging to tensorboard: {'train_loop_config/mlp_hidden_size': (256, 128, 64)}\n",
      "2024-03-02 12:47:32,762\tINFO tensorboardx.py:275 -- Removed the following hyperparameter values when logging to tensorboard: {'train_loop_config/mlp_hidden_size': (256, 128, 64)}\n",
      "2024-03-02 12:47:32,777\tINFO tune.py:1042 -- Total run time: 239.12 seconds (239.10 seconds for the tuning loop).\n"
     ]
    }
   ],
   "source": [
    "results = tune_decoder(train_func, config, use_gpu=False, max_epochs=100, num_samples=1, num_workers=2)"
   ]
  },
  {
   "cell_type": "code",
   "execution_count": 20,
   "id": "abe483e3-d8f5-4311-8aaf-047a9241484f",
   "metadata": {},
   "outputs": [
    {
     "data": {
      "text/plain": [
       "{'data_dir': PosixPath('/mnt/3TB/yizi/shared_decoding/data'),\n",
       " 'temporal_rank': 5,\n",
       " 'weight_decay': 0.001,\n",
       " 'learning_rate': 0.001,\n",
       " 'batch_size': 8,\n",
       " 'eid': '8c33abef-3d3e-4d42-9f27-445e9def08f9',\n",
       " 'imposter_id': None,\n",
       " 'target': 'wheel_speed',\n",
       " 'lstm_hidden_size': 32,\n",
       " 'lstm_n_layers': 3,\n",
       " 'mlp_hidden_size': (256, 128, 64),\n",
       " 'drop_out': 0.0,\n",
       " 'lr_factor': 0.1,\n",
       " 'lr_patience': 5,\n",
       " 'device': device(type='cpu'),\n",
       " 'n_workers': 16}"
      ]
     },
     "execution_count": 20,
     "metadata": {},
     "output_type": "execute_result"
    }
   ],
   "source": [
    "best_result = results.get_best_result(metric=\"val_loss\", mode=\"min\")\n",
    "best_config = best_result.config['train_loop_config']\n",
    "best_config"
   ]
  },
  {
   "cell_type": "code",
   "execution_count": 21,
   "id": "e456ab44-962e-4ae6-8cce-fafafa75086c",
   "metadata": {
    "scrolled": true
   },
   "outputs": [
    {
     "name": "stderr",
     "output_type": "stream",
     "text": [
      "GPU available: True (cuda), used: True\n",
      "TPU available: False, using: 0 TPU cores\n",
      "IPU available: False, using: 0 IPUs\n",
      "HPU available: False, using: 0 HPUs\n"
     ]
    },
    {
     "name": "stdout",
     "output_type": "stream",
     "text": [
      "spike data shape: (714, 50, 1255)\n",
      "behavior data shape: (714, 50)\n",
      "spike data shape: (714, 50, 1255)\n",
      "behavior data shape: (714, 50)\n"
     ]
    },
    {
     "name": "stderr",
     "output_type": "stream",
     "text": [
      "/home/yizi/anaconda3/envs/ibl_foundation_model/lib/python3.11/site-packages/lightning/pytorch/callbacks/model_checkpoint.py:652: Checkpoint directory /mnt/3TB/yizi/shared_decoding/models exists and is not empty.\n",
      "LOCAL_RANK: 0 - CUDA_VISIBLE_DEVICES: [0]\n",
      "\n",
      "  | Name         | Type       | Params\n",
      "--------------------------------------------\n",
      "0 | r2_score     | R2Score    | 0     \n",
      "1 | input_layer  | Linear     | 321 K \n",
      "2 | hidden1      | ModuleList | 41.2 K\n",
      "3 | flat_layer   | Linear     | 819 K \n",
      "4 | hidden2      | ModuleList | 41.2 K\n",
      "5 | output_layer | Linear     | 3.2 K \n",
      "--------------------------------------------\n",
      "1.2 M     Trainable params\n",
      "0         Non-trainable params\n",
      "1.2 M     Total params\n",
      "4.906     Total estimated model params size (MB)\n",
      "/home/yizi/anaconda3/envs/ibl_foundation_model/lib/python3.11/site-packages/lightning/pytorch/trainer/connectors/data_connector.py:441: The 'val_dataloader' does not have many workers which may be a bottleneck. Consider increasing the value of the `num_workers` argument` to `num_workers=15` in the `DataLoader` to improve performance.\n",
      "/home/yizi/anaconda3/envs/ibl_foundation_model/lib/python3.11/site-packages/lightning/pytorch/trainer/connectors/data_connector.py:441: The 'train_dataloader' does not have many workers which may be a bottleneck. Consider increasing the value of the `num_workers` argument` to `num_workers=15` in the `DataLoader` to improve performance.\n",
      "`Trainer.fit` stopped: `max_epochs=500` reached.\n"
     ]
    },
    {
     "name": "stdout",
     "output_type": "stream",
     "text": [
      "spike data shape: (714, 50, 1255)\n",
      "behavior data shape: (714, 50)\n"
     ]
    },
    {
     "name": "stderr",
     "output_type": "stream",
     "text": [
      "Restoring states from the checkpoint path at /mnt/3TB/yizi/shared_decoding/models/epoch=83-step=6048.ckpt\n",
      "LOCAL_RANK: 0 - CUDA_VISIBLE_DEVICES: [0]\n",
      "Loaded model weights from the checkpoint at /mnt/3TB/yizi/shared_decoding/models/epoch=83-step=6048.ckpt\n"
     ]
    },
    {
     "name": "stdout",
     "output_type": "stream",
     "text": [
      "────────────────────────────────────────────────────────────────────────────────────────────────────────────────────────\n",
      "       Test metric             DataLoader 0\n",
      "────────────────────────────────────────────────────────────────────────────────────────────────────────────────────────\n",
      "        test_loss            0.457820346248018\n",
      "         test_r2            0.5742740035057068\n",
      "────────────────────────────────────────────────────────────────────────────────────────────────────────────────────────\n"
     ]
    },
    {
     "name": "stderr",
     "output_type": "stream",
     "text": [
      "/home/yizi/anaconda3/envs/ibl_foundation_model/lib/python3.11/site-packages/lightning/pytorch/trainer/connectors/data_connector.py:441: The 'test_dataloader' does not have many workers which may be a bottleneck. Consider increasing the value of the `num_workers` argument` to `num_workers=15` in the `DataLoader` to improve performance.\n"
     ]
    },
    {
     "data": {
      "text/plain": [
       "[{'test_loss': 0.457820346248018, 'test_r2': 0.5742740035057068}]"
      ]
     },
     "execution_count": 21,
     "metadata": {},
     "output_type": "execute_result"
    }
   ],
   "source": [
    "model_path = base_dir / 'models'\n",
    "os.makedirs(model_path, exist_ok=True)\n",
    "\n",
    "checkpoint_callback = ModelCheckpoint(\n",
    "    monitor='val_loss', mode='min', dirpath=model_path\n",
    ")\n",
    "\n",
    "trainer = Trainer(max_epochs=500, callbacks=[checkpoint_callback], enable_progress_bar=False)\n",
    "dm = SingleSessionDataModule(best_config)\n",
    "dm.setup()\n",
    "model = MLPDecoder(best_config)\n",
    "\n",
    "trainer.fit(model, datamodule=dm)\n",
    "trainer.test(datamodule=dm, ckpt_path='best')"
   ]
  },
  {
   "cell_type": "code",
   "execution_count": 22,
   "id": "0fcd3bd3-4dd6-47f2-87c7-1e23821f8605",
   "metadata": {},
   "outputs": [
    {
     "data": {
      "image/png": "[encoded data removed]",
      "text/plain": [
       "<Figure size 1200x200 with 1 Axes>"
      ]
     },
     "metadata": {},
     "output_type": "display_data"
    }
   ],
   "source": [
    "r2, test_pred, test_y = eval_model(dm.train, dm.test, model, model_type=\"mlp\", plot=True)"
   ]
  },
  {
   "cell_type": "code",
   "execution_count": null,
   "id": "6edd385f-5f35-424a-b071-3f03851eafaa",
   "metadata": {},
   "outputs": [],
   "source": []
  }
 ],
 "metadata": {
  "kernelspec": {
   "display_name": "Python 3 (ipykernel)",
   "language": "python",
   "name": "python3"
  },
  "language_info": {
   "codemirror_mode": {
    "name": "ipython",
    "version": 3
   },
   "file_extension": ".py",
   "mimetype": "text/x-python",
   "name": "python",
   "nbconvert_exporter": "python",
   "pygments_lexer": "ipython3",
   "version": "3.11.7"
  }
 },
 "nbformat": 4,
 "nbformat_minor": 5
}
