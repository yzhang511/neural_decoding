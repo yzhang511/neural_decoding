{
 "cells": [
  {
   "cell_type": "code",
   "execution_count": 1,
   "id": "9621440c-1d78-4f47-98a1-1337bfd8fc5b",
   "metadata": {},
   "outputs": [],
   "source": [
    "import os\n",
    "import sys\n",
    "import time\n",
    "import random\n",
    "import pandas as pd\n",
    "from pathlib import Path\n",
    "import numpy as np\n",
    "import torch\n",
    "\n",
    "import matplotlib.pyplot as plt\n",
    "import matplotlib.pyplot as plt\n",
    "from matplotlib.gridspec import GridSpec\n",
    "from mpl_toolkits.axes_grid1 import make_axes_locatable\n",
    "\n",
    "from sklearn.model_selection import train_test_split, KFold, StratifiedKFold\n",
    "\n",
    "from side_info_decoding.utils import (\n",
    "    set_seed, \n",
    "    load_data_from_pids, \n",
    "    sliding_window_over_trials\n",
    ")\n",
    "from side_info_decoding.reduced_rank import (\n",
    "    Reduced_Rank_Model, \n",
    "    train_reduced_rank, \n",
    "    model_eval\n",
    ")\n",
    "\n",
    "seed = 666\n",
    "set_seed(seed)"
   ]
  },
  {
   "cell_type": "code",
   "execution_count": 2,
   "id": "3858633e-95f9-4575-a85d-0514c9dc3910",
   "metadata": {},
   "outputs": [],
   "source": [
    "%matplotlib inline\n",
    "plt.rc(\"figure\", dpi=100)\n",
    "SMALL_SIZE = 10\n",
    "BIGGER_SIZE = 15\n",
    "plt.rc('font', size=BIGGER_SIZE)\n",
    "plt.rc('axes', titlesize=BIGGER_SIZE)\n",
    "plt.rc('axes', labelsize=BIGGER_SIZE)\n",
    "plt.rc('axes', linewidth=2)\n",
    "plt.rc('xtick', labelsize=BIGGER_SIZE)\n",
    "plt.rc('ytick', labelsize=BIGGER_SIZE)\n",
    "plt.rc('legend', fontsize=SMALL_SIZE)\n",
    "plt.rc('figure', titlesize=2)\n",
    "plt.rcParams['xtick.major.size'] = 10\n",
    "plt.rcParams['xtick.minor.size'] = 10\n",
    "plt.rcParams['ytick.major.size'] = 10\n",
    "plt.rcParams['ytick.minor.size'] = 10"
   ]
  },
  {
   "cell_type": "code",
   "execution_count": 3,
   "id": "e750a93c-94cb-44b4-b100-dd86dd5b4c1b",
   "metadata": {},
   "outputs": [],
   "source": [
    "pids = [\n",
    "    \"dab512bd-a02d-4c1f-8dbc-9155a163efc0\",\n",
    "    \"febb430e-2d50-4f83-87a0-b5ffbb9a4943\",\n",
    "    \"523f8301-4f56-4faf-ab33-a9ff11331118\",\n",
    "    \"84bb830f-b9ff-4e6b-9296-f458fb41d160\",\n",
    "    '0b8ea3ec-e75b-41a1-9442-64f5fbc11a5a',\n",
    "    '143dd7cf-6a47-47a1-906d-927ad7fe9117',\n",
    "    '16799c7a-e395-435d-a4c4-a678007e1550',\n",
    "    '1a60a6e1-da99-4d4e-a734-39b1d4544fad',\n",
    "    '1e176f17-d00f-49bb-87ff-26d237b525f1',\n",
    "    '31f3e083-a324-4b88-b0a4-7788ec37b191'\n",
    "]"
   ]
  },
  {
   "cell_type": "code",
   "execution_count": 4,
   "id": "4cf71039-b176-4edc-9109-f847bba10263",
   "metadata": {},
   "outputs": [
    {
     "name": "stdout",
     "output_type": "stream",
     "text": [
      "pulling data from ibl database ..\n",
      "eid: d23a44ef-1402-4ed7-97f5-47e9a7a504d9\n",
      "pid: dab512bd-a02d-4c1f-8dbc-9155a163efc0\n",
      "number of trials found: 265 (active: 265)\n",
      "prior for this session is not found.\n",
      "found 265 trials from 17.56 to 2310.24 sec.\n",
      "found 131 Kilosort units in region lp\n"
     ]
    },
    {
     "name": "stderr",
     "output_type": "stream",
     "text": [
      "Partition brain regions: 100%|████████████████| 131/131 [00:03<00:00, 33.46it/s]\n",
      "Compute spike count: 100%|██████████████████| 265/265 [00:00<00:00, 1498.57it/s]\n"
     ]
    },
    {
     "name": "stdout",
     "output_type": "stream",
     "text": [
      "pulling data from ibl database ..\n",
      "eid: db4df448-e449-4a6f-a0e7-288711e7a75a\n",
      "pid: febb430e-2d50-4f83-87a0-b5ffbb9a4943\n",
      "number of trials found: 230 (active: 230)\n",
      "prior for this session is not found.\n",
      "found 230 trials from 40.81 to 2252.10 sec.\n",
      "found 74 Kilosort units in region lp\n"
     ]
    },
    {
     "name": "stderr",
     "output_type": "stream",
     "text": [
      "Partition brain regions: 100%|██████████████████| 74/74 [00:01<00:00, 56.06it/s]\n",
      "Compute spike count: 100%|██████████████████| 230/230 [00:00<00:00, 5196.53it/s]\n"
     ]
    },
    {
     "name": "stdout",
     "output_type": "stream",
     "text": [
      "pulling data from ibl database ..\n",
      "eid: 88224abb-5746-431f-9c17-17d7ef806e6a\n",
      "pid: 523f8301-4f56-4faf-ab33-a9ff11331118\n",
      "number of trials found: 300 (active: 300)\n",
      "prior for this session is not found.\n",
      "found 300 trials from 37.78 to 2123.22 sec.\n",
      "found 48 Kilosort units in region lp\n"
     ]
    },
    {
     "name": "stderr",
     "output_type": "stream",
     "text": [
      "Partition brain regions: 100%|██████████████████| 48/48 [00:01<00:00, 24.81it/s]\n",
      "Compute spike count: 100%|██████████████████| 300/300 [00:00<00:00, 2692.85it/s]\n"
     ]
    },
    {
     "name": "stdout",
     "output_type": "stream",
     "text": [
      "pulling data from ibl database ..\n",
      "eid: c7248e09-8c0d-40f2-9eb4-700a8973d8c8\n",
      "pid: 84bb830f-b9ff-4e6b-9296-f458fb41d160\n",
      "number of trials found: 397 (active: 397)\n",
      "prior for this session is not found.\n",
      "found 397 trials from 17.65 to 3851.03 sec.\n",
      "found 181 Kilosort units in region lp\n"
     ]
    },
    {
     "name": "stderr",
     "output_type": "stream",
     "text": [
      "Partition brain regions: 100%|████████████████| 181/181 [00:17<00:00, 10.43it/s]\n",
      "Compute spike count: 100%|███████████████████| 397/397 [00:01<00:00, 306.10it/s]\n"
     ]
    },
    {
     "name": "stdout",
     "output_type": "stream",
     "text": [
      "pulling data from ibl database ..\n",
      "eid: a4a74102-2af5-45dc-9e41-ef7f5aed88be\n",
      "pid: 0b8ea3ec-e75b-41a1-9442-64f5fbc11a5a\n",
      "number of trials found: 293 (active: 293)\n",
      "prior for this session is not found.\n",
      "found 293 trials from 69.71 to 1849.44 sec.\n",
      "found 123 Kilosort units in region lp\n"
     ]
    },
    {
     "name": "stderr",
     "output_type": "stream",
     "text": [
      "Partition brain regions: 100%|████████████████| 123/123 [00:04<00:00, 25.23it/s]\n",
      "Compute spike count: 100%|██████████████████| 293/293 [00:00<00:00, 1181.31it/s]\n"
     ]
    },
    {
     "name": "stdout",
     "output_type": "stream",
     "text": [
      "pulling data from ibl database ..\n",
      "eid: 3638d102-e8b6-4230-8742-e548cd87a949\n",
      "pid: 143dd7cf-6a47-47a1-906d-927ad7fe9117\n",
      "number of trials found: 283 (active: 283)\n",
      "prior for this session is not found.\n",
      "found 283 trials from 42.00 to 4761.48 sec.\n",
      "found 208 Kilosort units in region lp\n"
     ]
    },
    {
     "name": "stderr",
     "output_type": "stream",
     "text": [
      "Partition brain regions: 100%|████████████████| 208/208 [00:04<00:00, 45.71it/s]\n",
      "Compute spike count: 100%|██████████████████| 283/283 [00:00<00:00, 2927.03it/s]\n"
     ]
    },
    {
     "name": "stdout",
     "output_type": "stream",
     "text": [
      "pulling data from ibl database ..\n",
      "eid: 0a018f12-ee06-4b11-97aa-bbbff5448e9f\n",
      "pid: 16799c7a-e395-435d-a4c4-a678007e1550\n",
      "number of trials found: 228 (active: 228)\n",
      "prior for this session is not found.\n",
      "found 228 trials from 142.29 to 2526.63 sec.\n",
      "found 122 Kilosort units in region lp\n"
     ]
    },
    {
     "name": "stderr",
     "output_type": "stream",
     "text": [
      "Partition brain regions: 100%|████████████████| 122/122 [00:03<00:00, 33.72it/s]\n",
      "Compute spike count: 100%|██████████████████| 228/228 [00:00<00:00, 1783.40it/s]\n"
     ]
    },
    {
     "name": "stdout",
     "output_type": "stream",
     "text": [
      "pulling data from ibl database ..\n",
      "eid: 51e53aff-1d5d-4182-a684-aba783d50ae5\n",
      "pid: 1a60a6e1-da99-4d4e-a734-39b1d4544fad\n",
      "number of trials found: 293 (active: 293)\n",
      "prior for this session is not found.\n",
      "found 293 trials from 20.56 to 2602.49 sec.\n",
      "found 109 Kilosort units in region lp\n"
     ]
    },
    {
     "name": "stderr",
     "output_type": "stream",
     "text": [
      "Partition brain regions: 100%|████████████████| 109/109 [00:04<00:00, 26.88it/s]\n",
      "Compute spike count: 100%|██████████████████| 293/293 [00:00<00:00, 1759.94it/s]\n"
     ]
    },
    {
     "name": "stdout",
     "output_type": "stream",
     "text": [
      "pulling data from ibl database ..\n",
      "eid: a8a8af78-16de-4841-ab07-fde4b5281a03\n",
      "pid: 1e176f17-d00f-49bb-87ff-26d237b525f1\n",
      "number of trials found: 333 (active: 333)\n",
      "prior for this session is not found.\n",
      "found 333 trials from 129.08 to 3563.50 sec.\n",
      "found 63 Kilosort units in region lp\n"
     ]
    },
    {
     "name": "stderr",
     "output_type": "stream",
     "text": [
      "Partition brain regions: 100%|██████████████████| 63/63 [00:01<00:00, 38.09it/s]\n",
      "Compute spike count: 100%|██████████████████| 333/333 [00:00<00:00, 2316.21it/s]\n"
     ]
    },
    {
     "name": "stdout",
     "output_type": "stream",
     "text": [
      "pulling data from ibl database ..\n",
      "eid: 61e11a11-ab65-48fb-ae08-3cb80662e5d6\n",
      "pid: 31f3e083-a324-4b88-b0a4-7788ec37b191\n",
      "number of trials found: 529 (active: 529)\n"
     ]
    },
    {
     "name": "stderr",
     "output_type": "stream",
     "text": [
      "/home/yizi/anaconda3/envs/clusterless/lib/python3.8/site-packages/brainbox/behavior/wheel.py:84: RuntimeWarning: divide by zero encountered in true_divide\n",
      "  vel = dp / dt\n"
     ]
    },
    {
     "name": "stdout",
     "output_type": "stream",
     "text": [
      "prior for this session is not found.\n",
      "found 529 trials from 106.48 to 4366.14 sec.\n",
      "found 143 Kilosort units in region lp\n"
     ]
    },
    {
     "name": "stderr",
     "output_type": "stream",
     "text": [
      "Partition brain regions: 100%|████████████████| 143/143 [00:05<00:00, 24.69it/s]\n",
      "Compute spike count: 100%|███████████████████| 529/529 [00:00<00:00, 740.26it/s]\n"
     ]
    }
   ],
   "source": [
    "X_dict, Y_dict = load_data_from_pids(\n",
    "    pids,\n",
    "    brain_region=\"lp\",\n",
    "    behavior=\"choice\",\n",
    "    data_type=\"all_ks\",\n",
    "    n_t_bins = 30\n",
    ")"
   ]
  },
  {
   "cell_type": "code",
   "execution_count": 5,
   "id": "04b29c2f-ef06-46f4-9396-5bc27ac162d1",
   "metadata": {},
   "outputs": [
    {
     "name": "stdout",
     "output_type": "stream",
     "text": [
      "trainning reduced rank model on session dab512bd ..\n",
      "Epoch [500/5000], Loss: 26.79505957042716\n",
      "Epoch [1000/5000], Loss: 7.549857490263567\n",
      "Epoch [1500/5000], Loss: 0.6583613693082498\n",
      "Epoch [2000/5000], Loss: 0.037912430835323765\n",
      "Epoch [2500/5000], Loss: 0.049319930339616826\n",
      "Epoch [3000/5000], Loss: 0.06032164279584072\n",
      "Epoch [3500/5000], Loss: 0.0654331837378161\n",
      "Epoch [4000/5000], Loss: 0.06712662925572942\n",
      "Epoch [4500/5000], Loss: 0.06736561493302953\n",
      "Epoch [5000/5000], Loss: 0.06740793890848482\n",
      "train accuracy: 1.000 auc: 0.849\n",
      "test accuracy: 0.849 auc: 0.943\n",
      "time spent:  8.969 seconds\n"
     ]
    }
   ],
   "source": [
    "# an example of model training for 1 session\n",
    "\n",
    "start_time = time.time()\n",
    "\n",
    "example_pid = pids[0]\n",
    "print(f\"trainning reduced rank model on session {example_pid[:8]} ..\")\n",
    "\n",
    "R = 2 # rank\n",
    "d = 0 # half window size\n",
    "n_epochs = 5000\n",
    "\n",
    "# prepare data\n",
    "X, Y = X_dict[example_pid], Y_dict[example_pid]\n",
    "K, C, T = X.shape\n",
    "X = sliding_window_over_trials(X, half_window_size=d)\n",
    "Y = sliding_window_over_trials(Y, half_window_size=d)\n",
    "X, Y = torch.tensor(X), torch.tensor(Y)\n",
    "train_X, test_X, train_Y, test_Y = train_test_split(X, Y, test_size=0.2, random_state=seed)\n",
    "\n",
    "rrm = Reduced_Rank_Model(\n",
    "    n_units=C, \n",
    "    n_t_bins=T, \n",
    "    rank=R, \n",
    "    half_window_size=d\n",
    ")\n",
    "\n",
    "# training\n",
    "rrm, train_losses = train_reduced_rank(\n",
    "    model=rrm,\n",
    "    train_dataset=(train_X, train_Y),\n",
    "    test_dataset=(test_X, test_Y),\n",
    "    loss_function=torch.nn.BCELoss(),\n",
    "    learning_rate=1e-3,\n",
    "    weight_decay=1e-1,\n",
    "    n_epochs=5000,\n",
    ")\n",
    "\n",
    "# eval\n",
    "test_U, test_V, test_metrics = model_eval(\n",
    "    rrm, \n",
    "    train_dataset=(train_X, train_Y),\n",
    "    test_dataset=(test_X, test_Y),\n",
    "    model_type=\"reduced_rank\", \n",
    "    behavior=\"choice\"\n",
    ")\n",
    "\n",
    "end_time = time.time()\n",
    "print(f\"time spent: {end_time - start_time: .3f} seconds\")"
   ]
  },
  {
   "cell_type": "code",
   "execution_count": 41,
   "id": "83f5b51e-a99e-48a2-9964-e5dc3d6cd3b6",
   "metadata": {},
   "outputs": [
    {
     "data": {
      "image/png": "[encoded data removed]",
      "text/plain": [
       "<Figure size 600x200 with 1 Axes>"
      ]
     },
     "metadata": {},
     "output_type": "display_data"
    }
   ],
   "source": [
    "plt.figure(figsize=(6,2))\n",
    "plt.plot(train_losses)\n",
    "plt.xlabel(\"epoch\")\n",
    "plt.ylabel(\"trainning loss\")\n",
    "plt.show()"
   ]
  },
  {
   "cell_type": "code",
   "execution_count": 8,
   "id": "0ba74e4f-a902-4f47-94df-47f90d2b812e",
   "metadata": {},
   "outputs": [
    {
     "name": "stdout",
     "output_type": "stream",
     "text": [
      "start cross validation on session dab512bd ..\n",
      "start training on fold 1 ..\n",
      "Epoch [500/5000], Loss: 15.53937951402561\n",
      "Epoch [1000/5000], Loss: 4.766296517779064\n",
      "Epoch [1500/5000], Loss: 0.04120001167311068\n",
      "Epoch [2000/5000], Loss: 0.052437301924713076\n",
      "Epoch [2500/5000], Loss: 0.06309238815823587\n",
      "Epoch [3000/5000], Loss: 0.06484595672833536\n",
      "Epoch [3500/5000], Loss: 0.06689335114040242\n",
      "Epoch [4000/5000], Loss: 0.06823491825502923\n",
      "Epoch [4500/5000], Loss: 0.06908131857383595\n",
      "Epoch [5000/5000], Loss: 0.06952875227727658\n",
      "train accuracy: 0.991 auc: 0.906\n",
      "test accuracy: 0.906 auc: 0.969\n",
      "start training on fold 2 ..\n",
      "Epoch [500/5000], Loss: 19.605680985754514\n",
      "Epoch [1000/5000], Loss: 9.079502186205676\n",
      "Epoch [1500/5000], Loss: 0.8645957955201707\n",
      "Epoch [2000/5000], Loss: 0.04576037619715931\n",
      "Epoch [2500/5000], Loss: 0.056415919497423375\n",
      "Epoch [3000/5000], Loss: 0.06421819730505475\n",
      "Epoch [3500/5000], Loss: 0.06499026205967225\n",
      "Epoch [4000/5000], Loss: 0.06527327477113605\n",
      "Epoch [4500/5000], Loss: 0.06577908818525899\n",
      "Epoch [5000/5000], Loss: 0.06608164474790963\n",
      "train accuracy: 1.000 auc: 0.943\n",
      "test accuracy: 0.943 auc: 0.948\n",
      "start training on fold 3 ..\n",
      "Epoch [500/5000], Loss: 24.98161187077711\n",
      "Epoch [1000/5000], Loss: 7.438549558701948\n",
      "Epoch [1500/5000], Loss: 0.04244806844073572\n",
      "Epoch [2000/5000], Loss: 0.05646660504328124\n",
      "Epoch [2500/5000], Loss: 0.06730614690609184\n",
      "Epoch [3000/5000], Loss: 0.06901360250090073\n",
      "Epoch [3500/5000], Loss: 0.06860354327989476\n",
      "Epoch [4000/5000], Loss: 0.06876326782019991\n",
      "Epoch [4500/5000], Loss: 0.06903246193797023\n",
      "Epoch [5000/5000], Loss: 0.06937638449944357\n",
      "train accuracy: 0.995 auc: 0.906\n",
      "test accuracy: 0.906 auc: 0.975\n",
      "start training on fold 4 ..\n",
      "Epoch [500/5000], Loss: 26.659940567504915\n",
      "Epoch [1000/5000], Loss: 12.224142616360776\n",
      "Epoch [1500/5000], Loss: 0.7097977745013467\n",
      "Epoch [2000/5000], Loss: 0.03517416478922211\n",
      "Epoch [2500/5000], Loss: 0.04638443600090164\n",
      "Epoch [3000/5000], Loss: 0.056767190754515674\n",
      "Epoch [3500/5000], Loss: 0.062349143832314886\n",
      "Epoch [4000/5000], Loss: 0.06541047827814674\n",
      "Epoch [4500/5000], Loss: 0.06694479637290196\n",
      "Epoch [5000/5000], Loss: 0.06773191284130171\n",
      "train accuracy: 1.000 auc: 0.943\n",
      "test accuracy: 0.943 auc: 0.967\n",
      "start training on fold 5 ..\n",
      "Epoch [500/5000], Loss: 26.929668029308445\n",
      "Epoch [1000/5000], Loss: 4.364645806617554\n",
      "Epoch [1500/5000], Loss: 0.6100317276237914\n",
      "Epoch [2000/5000], Loss: 0.036830160531170365\n",
      "Epoch [2500/5000], Loss: 0.05062147719141476\n",
      "Epoch [3000/5000], Loss: 0.061976114069591144\n",
      "Epoch [3500/5000], Loss: 0.06645896809731675\n",
      "Epoch [4000/5000], Loss: 0.0678950591289707\n",
      "Epoch [4500/5000], Loss: 0.06880167940859581\n",
      "Epoch [5000/5000], Loss: 0.06940160242897958\n",
      "train accuracy: 0.995 auc: 0.906\n",
      "test accuracy: 0.906 auc: 0.974\n",
      "start cross validation on session febb430e ..\n",
      "start training on fold 1 ..\n",
      "Epoch [500/5000], Loss: 20.081028718583497\n",
      "Epoch [1000/5000], Loss: 4.065282336444978\n",
      "Epoch [1500/5000], Loss: 0.08557867162409982\n",
      "Epoch [2000/5000], Loss: 0.056060320294397406\n",
      "Epoch [2500/5000], Loss: 0.06898542288312197\n",
      "Epoch [3000/5000], Loss: 0.07580927055077714\n",
      "Epoch [3500/5000], Loss: 0.0788746141037462\n",
      "Epoch [4000/5000], Loss: 0.07961773478639818\n",
      "Epoch [4500/5000], Loss: 0.07990755602929696\n",
      "Epoch [5000/5000], Loss: 0.08021080245374874\n",
      "train accuracy: 1.000 auc: 0.935\n",
      "test accuracy: 0.935 auc: 0.958\n",
      "start training on fold 2 ..\n",
      "Epoch [500/5000], Loss: 19.280917752650907\n",
      "Epoch [1000/5000], Loss: 6.687194183478136\n",
      "Epoch [1500/5000], Loss: 0.8907037541122257\n",
      "Epoch [2000/5000], Loss: 0.06603097529038261\n",
      "Epoch [2500/5000], Loss: 0.08152912058216649\n",
      "Epoch [3000/5000], Loss: 0.08205898345092544\n",
      "Epoch [3500/5000], Loss: 0.08121336938885236\n",
      "Epoch [4000/5000], Loss: 0.08180262386661107\n",
      "Epoch [4500/5000], Loss: 0.08193176739396991\n",
      "Epoch [5000/5000], Loss: 0.08183445501867478\n",
      "train accuracy: 1.000 auc: 0.913\n",
      "test accuracy: 0.913 auc: 0.948\n",
      "start training on fold 3 ..\n",
      "Epoch [500/5000], Loss: 15.64837254716771\n",
      "Epoch [1000/5000], Loss: 4.6102028925144065\n",
      "Epoch [1500/5000], Loss: 0.5594096315735843\n",
      "Epoch [2000/5000], Loss: 0.057748101510348884\n",
      "Epoch [2500/5000], Loss: 0.07354365651590174\n",
      "Epoch [3000/5000], Loss: 0.08402720940201118\n",
      "Epoch [3500/5000], Loss: 0.08923363109629957\n",
      "Epoch [4000/5000], Loss: 0.09115121002834392\n",
      "Epoch [4500/5000], Loss: 0.09003235829927339\n",
      "Epoch [5000/5000], Loss: 0.08873565904430233\n",
      "train accuracy: 1.000 auc: 0.978\n",
      "test accuracy: 0.978 auc: 0.994\n",
      "start training on fold 4 ..\n",
      "Epoch [500/5000], Loss: 19.880593888513577\n",
      "Epoch [1000/5000], Loss: 3.046573112923625\n",
      "Epoch [1500/5000], Loss: 0.5934714330450754\n",
      "Epoch [2000/5000], Loss: 0.22758597552369203\n",
      "Epoch [2500/5000], Loss: 0.07766528663235746\n",
      "Epoch [3000/5000], Loss: 0.07983497989266147\n",
      "Epoch [3500/5000], Loss: 0.07925717257935305\n",
      "Epoch [4000/5000], Loss: 0.0793629983895052\n",
      "Epoch [4500/5000], Loss: 0.08001309328764503\n",
      "Epoch [5000/5000], Loss: 0.0807428368562387\n",
      "train accuracy: 1.000 auc: 0.870\n",
      "test accuracy: 0.870 auc: 0.972\n",
      "start training on fold 5 ..\n",
      "Epoch [500/5000], Loss: 22.408667656161168\n",
      "Epoch [1000/5000], Loss: 4.83937305090761\n",
      "Epoch [1500/5000], Loss: 0.2013986856039974\n",
      "Epoch [2000/5000], Loss: 0.05426122442212191\n",
      "Epoch [2500/5000], Loss: 0.07314834405698498\n",
      "Epoch [3000/5000], Loss: 0.08002075906472561\n",
      "Epoch [3500/5000], Loss: 0.08264887889580252\n",
      "Epoch [4000/5000], Loss: 0.08447054587176071\n",
      "Epoch [4500/5000], Loss: 0.0855490710092204\n",
      "Epoch [5000/5000], Loss: 0.08607104951046604\n",
      "train accuracy: 1.000 auc: 0.891\n",
      "test accuracy: 0.891 auc: 0.972\n"
     ]
    }
   ],
   "source": [
    "# example of performing 5-fold CV on all sessions\n",
    "\n",
    "start_time = time.time()\n",
    "\n",
    "R = 2 # rank\n",
    "d = 0 # half window size\n",
    "n_epochs = 5000\n",
    "\n",
    "skf = StratifiedKFold(n_splits=5, shuffle=True, random_state=seed)\n",
    "\n",
    "Us, Vs, metrics = {}, {}, {}\n",
    "for pid in pids:\n",
    "    \n",
    "    print(f\"start cross validation on session {pid[:8]} ..\")\n",
    "    X, Y = X_dict[pid], Y_dict[pid]\n",
    "    K, C, T = X.shape\n",
    "    X = sliding_window_over_trials(X, half_window_size=d)\n",
    "    Y = sliding_window_over_trials(Y, half_window_size=d)\n",
    "    X, Y = torch.tensor(X), torch.tensor(Y)\n",
    "    \n",
    "    U_per_fold, V_per_fold, metrics_per_fold = [], [], []\n",
    "    for fold_idx, (train, test) in enumerate(skf.split(X, Y)):\n",
    "        \n",
    "        print(f\"start training on fold {fold_idx+1} ..\")\n",
    "        train_X, test_X = X[train], X[test]\n",
    "        train_Y, test_Y = Y[train], Y[test]\n",
    "\n",
    "        rrm = Reduced_Rank_Model(\n",
    "            n_units=C, \n",
    "            n_t_bins=T, \n",
    "            rank=R, \n",
    "            half_window_size=d\n",
    "        )\n",
    "\n",
    "        # training\n",
    "        rrm, train_losses = train_reduced_rank(\n",
    "            model=rrm,\n",
    "            train_dataset=(train_X, train_Y),\n",
    "            test_dataset=(test_X, test_Y),\n",
    "            loss_function=torch.nn.BCELoss(),\n",
    "            learning_rate=1e-3,\n",
    "            weight_decay=1e-1,\n",
    "            n_epochs=5000,\n",
    "        )\n",
    "\n",
    "        # eval\n",
    "        test_U, test_V, test_metrics = model_eval(\n",
    "            rrm, \n",
    "            train_dataset=(train_X, train_Y),\n",
    "            test_dataset=(test_X, test_Y),\n",
    "            model_type=\"reduced_rank\", \n",
    "            behavior=\"choice\"\n",
    "        )\n",
    "        U_per_fold.append(test_U)\n",
    "        V_per_fold.append(test_V)\n",
    "        metrics_per_fold.append(test_metrics)\n",
    "        \n",
    "    Us.update({pid: U_per_fold})\n",
    "    Vs.update({pid: V_per_fold})\n",
    "    metrics.update({pid: metrics_per_fold})\n",
    "\n",
    "end_time = time.time()\n",
    "print(f\"time spent: {end_time - start_time: .3f} seconds\")"
   ]
  },
  {
   "cell_type": "code",
   "execution_count": 25,
   "id": "0dd642ce-83cc-448c-8a98-a6df473b3dd0",
   "metadata": {},
   "outputs": [
    {
     "data": {
      "text/html": [
       "<div>\n",
       "<style scoped>\n",
       "    .dataframe tbody tr th:only-of-type {\n",
       "        vertical-align: middle;\n",
       "    }\n",
       "\n",
       "    .dataframe tbody tr th {\n",
       "        vertical-align: top;\n",
       "    }\n",
       "\n",
       "    .dataframe thead th {\n",
       "        text-align: right;\n",
       "    }\n",
       "</style>\n",
       "<table border=\"1\" class=\"dataframe\">\n",
       "  <thead>\n",
       "    <tr style=\"text-align: right;\">\n",
       "      <th></th>\n",
       "      <th>accuracy</th>\n",
       "      <th>auc</th>\n",
       "    </tr>\n",
       "  </thead>\n",
       "  <tbody>\n",
       "    <tr>\n",
       "      <th>dab512bd-a02d-4c1f-8dbc-9155a163efc0</th>\n",
       "      <td>0.920755</td>\n",
       "      <td>0.966795</td>\n",
       "    </tr>\n",
       "    <tr>\n",
       "      <th>febb430e-2d50-4f83-87a0-b5ffbb9a4943</th>\n",
       "      <td>0.917391</td>\n",
       "      <td>0.968674</td>\n",
       "    </tr>\n",
       "  </tbody>\n",
       "</table>\n",
       "</div>"
      ],
      "text/plain": [
       "                                      accuracy       auc\n",
       "dab512bd-a02d-4c1f-8dbc-9155a163efc0  0.920755  0.966795\n",
       "febb430e-2d50-4f83-87a0-b5ffbb9a4943  0.917391  0.968674"
      ]
     },
     "execution_count": 25,
     "metadata": {},
     "output_type": "execute_result"
    }
   ],
   "source": [
    "metrics_dict = {}\n",
    "for pid in pids:\n",
    "    metrics_dict.update({pid: np.mean(metrics[pid], 0)})\n",
    "metrics_df = pd.DataFrame(metrics_dict).T\n",
    "metrics_df.columns = [\"accuracy\", \"auc\"]\n",
    "metrics_df"
   ]
  },
  {
   "cell_type": "code",
   "execution_count": 73,
   "id": "3091350e-7ea2-4818-b003-4c0b5adca71e",
   "metadata": {},
   "outputs": [
    {
     "data": {
      "image/png": "[encoded data removed]",
      "text/plain": [
       "<Figure size 1200x400 with 4 Axes>"
      ]
     },
     "metadata": {},
     "output_type": "display_data"
    },
    {
     "data": {
      "image/png": "[encoded data removed]",
      "text/plain": [
       "<Figure size 1200x400 with 4 Axes>"
      ]
     },
     "metadata": {},
     "output_type": "display_data"
    }
   ],
   "source": [
    "Us_plot, Vs_plot = [], []\n",
    "for pid in pids:\n",
    "    # average U and V across trials\n",
    "    Us_plot.append(np.array(Us[pid]).mean(0))\n",
    "    Vs_plot.append(np.array(Vs[pid]).mean(0).squeeze().T)\n",
    "u_min, u_max = np.min(np.concatenate(Us_plot)), np.max(np.concatenate(Us_plot))\n",
    "v_min, v_max = np.min(np.concatenate(Vs_plot)), np.max(np.concatenate(Vs_plot))\n",
    "c_min, c_max = np.min([u_min, v_min]), np.max([u_max, v_max])\n",
    "    \n",
    "for pid_idx, pid in enumerate(pids):\n",
    "    fig, (ax1, ax2) = plt.subplots(1,2, figsize=(12, 4))\n",
    "    heatmap1 = ax1.imshow(Us_plot[pid_idx].T, aspect=\"auto\", cmap=\"RdBu_r\", vmin=c_min, vmax=c_max)\n",
    "    heatmap2 = ax2.imshow(Vs_plot[pid_idx].T, aspect=\"auto\", cmap=\"RdBu_r\", vmin=c_min, vmax=c_max)\n",
    "    ax2.axvline(x=10, c=\"red\", linestyle=\"--\", linewidth=3)\n",
    "    cbar = fig.colorbar(heatmap1, ax=ax1, shrink=0.4)\n",
    "    cbar = fig.colorbar(heatmap2, ax=ax2, shrink=0.4)\n",
    "    ax1.set_ylabel(\"rank\")\n",
    "    ax1.set_xlabel(\"# of units\")\n",
    "    ax1.set_title(f\"U ({pid[:8]})\")\n",
    "    ax2.set_ylabel(\"rank\")\n",
    "    ax2.set_xlabel(\"# of time bins\")\n",
    "    ax2.set_title(f\"V ({pid[:8]})\")\n",
    "    plt.tight_layout()"
   ]
  },
  {
   "cell_type": "code",
   "execution_count": null,
   "id": "5ac77625-b20a-4906-b52c-4a48505ece79",
   "metadata": {},
   "outputs": [],
   "source": []
  },
  {
   "cell_type": "code",
   "execution_count": null,
   "id": "6a1532d3-e209-4244-a3c4-eb8c830536f1",
   "metadata": {},
   "outputs": [],
   "source": []
  }
 ],
 "metadata": {
  "kernelspec": {
   "display_name": "Python 3 (ipykernel)",
   "language": "python",
   "name": "python3"
  },
  "language_info": {
   "codemirror_mode": {
    "name": "ipython",
    "version": 3
   },
   "file_extension": ".py",
   "mimetype": "text/x-python",
   "name": "python",
   "nbconvert_exporter": "python",
   "pygments_lexer": "ipython3",
   "version": "3.8.13"
  }
 },
 "nbformat": 4,
 "nbformat_minor": 5
}
