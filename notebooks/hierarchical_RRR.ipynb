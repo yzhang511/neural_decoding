{
 "cells": [
  {
   "cell_type": "code",
   "execution_count": 1,
   "id": "89f42bbe-5cb8-46ab-836f-cea0d7696506",
   "metadata": {},
   "outputs": [
    {
     "name": "stderr",
     "output_type": "stream",
     "text": [
      "/home/yizi/anaconda3/envs/point_cloud/lib/python3.9/site-packages/scipy/__init__.py:146: UserWarning: A NumPy version >=1.16.5 and <1.23.0 is required for this version of SciPy (detected version 1.26.0\n",
      "  warnings.warn(f\"A NumPy version >={np_minversion} and <{np_maxversion}\"\n",
      "/home/yizi/anaconda3/envs/point_cloud/lib/python3.9/site-packages/ibllib/atlas/__init__.py:202: DeprecationWarning: ibllib.atlas is deprecated. Please install iblatlas using \"pip install iblatlas\" and use this module instead\n",
      "  warnings.warn('ibllib.atlas is deprecated. Please install iblatlas using \"pip install iblatlas\" and use '\n"
     ]
    }
   ],
   "source": [
    "import os\n",
    "import sys\n",
    "import random\n",
    "import pandas as pd\n",
    "from pathlib import Path\n",
    "import numpy as np\n",
    "import torch\n",
    "\n",
    "import matplotlib.pyplot as plt\n",
    "\n",
    "from sklearn.model_selection import train_test_split, KFold, StratifiedKFold\n",
    "\n",
    "from side_info_decoding.utils import (\n",
    "    set_seed, \n",
    "    load_data_from_pids, \n",
    "    sliding_window_over_trials\n",
    ")\n",
    "\n",
    "from one.api import ONE\n",
    "\n",
    "seed = 666\n",
    "set_seed(seed)"
   ]
  },
  {
   "cell_type": "code",
   "execution_count": null,
   "id": "37be2d6e-261a-4660-9408-02eb7ec0ad12",
   "metadata": {
    "tags": []
   },
   "outputs": [],
   "source": [
    "class Hier_Reduced_Rank_Model(nn.Module):\n",
    "    def __init__(\n",
    "        self, \n",
    "        n_roi,\n",
    "        n_units, \n",
    "        n_t_bin, \n",
    "        roi_idx,\n",
    "        rank_V,\n",
    "        rank_B\n",
    "    ):\n",
    "        super(Hier_Reduced_Rank_Model, self).__init__()\n",
    "        \n",
    "        self.n_roi = n_roi\n",
    "        self.n_sess = len(n_units)\n",
    "        self.n_units = n_units\n",
    "        self.n_t_bin = n_t_bin\n",
    "        self.roi_idx = roi_idx\n",
    "        self.rank_V = rank_V\n",
    "        self.rank_B = rank_B\n",
    "        \n",
    "        self.Us = nn.ParameterList(\n",
    "            [nn.Parameter(torch.randn(self.n_units[i], self.rank_V)) for i in range(self.n_sess)]\n",
    "        )\n",
    "        self.A = nn.Parameter(torch.randn(self.n_roi, self.rank_V, self.rank_B)) \n",
    "        self.B = nn.Parameter(\n",
    "            torch.randn(self.rank_B, self.n_t_bin)\n",
    "        ) \n",
    "        self.intercepts = nn.ParameterList(\n",
    "            [nn.Parameter(torch.randn(1,)) for i in range(self.n_sess)]\n",
    "        )\n",
    "        self.sigmoid = nn.Sigmoid()\n",
    "\n",
    "    def forward(self, datasets):\n",
    "        preds, gt = [], []\n",
    "        for sess_idx, dataset in enumerate(datasets):\n",
    "            X, Y = dataset\n",
    "            n_trials, n_units, n_t_bins = X.shape\n",
    "            self.Vs = torch.einsum(\"ijk,kt->ijt\", self.A, self.B)\n",
    "            Beta = torch.einsum(\"cr,rt->ct\", self.Us[sess_idx], self.Vs[self.roi_idx[sess_idx]])\n",
    "            out = torch.einsum(\"ct,kct->k\", Beta, X)\n",
    "            out += self.intercepts[sess_idx] * torch.ones(n_trials)\n",
    "            out = self.sigmoid(out)\n",
    "            preds.append(out)\n",
    "            gt.append(Y)\n",
    "        return preds, gt"
   ]
  },
  {
   "cell_type": "code",
   "execution_count": null,
   "id": "52357dc5-645e-4593-bfb5-bc2cea72d541",
   "metadata": {},
   "outputs": [],
   "source": [
    "def train_multi_region(\n",
    "    model,\n",
    "    train_dataset,\n",
    "    loss_function=nn.BCELoss(),\n",
    "    learning_rate=1e-3,\n",
    "    weight_decay=1e-3,\n",
    "    n_epochs=7000,\n",
    "):\n",
    "    \n",
    "    n_sess = len(train_dataset)\n",
    "    \n",
    "    optimizer = optim.Adam(\n",
    "        model.parameters(), \n",
    "        lr=learning_rate, \n",
    "        weight_decay=weight_decay\n",
    "    )\n",
    "    print_every_epochs = n_epochs//10\n",
    "\n",
    "    train_losses = []\n",
    "    for epoch in range(n_epochs):\n",
    "        optimizer.zero_grad()\n",
    "        \n",
    "        train_prob, train_Y = model(train_dataset)\n",
    "            \n",
    "        losses = torch.zeros((n_sess,))\n",
    "        for sess_idx in range(n_sess):\n",
    "            losses[sess_idx] = loss_function(train_prob[sess_idx], train_Y[sess_idx])\n",
    "        loss = losses.mean()\n",
    "        \n",
    "        loss.backward()\n",
    "        optimizer.step()\n",
    "        \n",
    "        train_losses.append(losses.detach().numpy())\n",
    "        if (epoch + 1) % print_every_epochs == 0:\n",
    "            print(f\"Epoch [{epoch+1}/{n_epochs}], Loss: {loss.item()}\")\n",
    "\n",
    "    return train_losses\n",
    "\n",
    "from sklearn.metrics import accuracy_score, roc_auc_score\n",
    "\n",
    "def model_eval(model, test_dataset):\n",
    "    \n",
    "    n_sess = len(test_dataset)\n",
    "    \n",
    "    with torch.no_grad():\n",
    "        \n",
    "        test_prob, test_Y = model(test_dataset)\n",
    "            \n",
    "        test_metrics = []\n",
    "        for sess_idx in range(n_sess):\n",
    "            test_pred = np.array(test_prob[sess_idx] >= 0.5) * 1.\n",
    "            test_acc = accuracy_score(test_Y[sess_idx], test_pred)\n",
    "            try:\n",
    "                test_auc = roc_auc_score(test_Y[sess_idx], test_prob[sess_idx])\n",
    "            except:\n",
    "                test_auc = np.nan\n",
    "            print(f\"session {sess_idx} test acc: {test_acc:.3f} auc: {test_auc:.3f}\")\n",
    "            test_metrics.append([test_acc, test_auc])\n",
    "                    \n",
    "        return test_metrics, test_prob"
   ]
  },
  {
   "cell_type": "code",
   "execution_count": null,
   "id": "0236e710-fd43-4297-8738-f7993f784eeb",
   "metadata": {},
   "outputs": [],
   "source": [
    "train_losses = train_multi_region(\n",
    "    model=hier_rrr,\n",
    "    train_dataset=DATASETS,\n",
    "    loss_function=torch.nn.BCELoss(),\n",
    "    learning_rate=1e-3,\n",
    "    weight_decay=1e-3,\n",
    "    n_epochs=7000,\n",
    ")\n",
    "\n",
    "_, _ = model_eval(hier_rrr, DATASETS)"
   ]
  },
  {
   "cell_type": "code",
   "execution_count": null,
   "id": "b7b7902b-a408-43ee-8198-1d72e62f4698",
   "metadata": {},
   "outputs": [],
   "source": []
  },
  {
   "cell_type": "code",
   "execution_count": 2,
   "id": "769ed413-1e4f-479d-a947-0a00320a5453",
   "metadata": {
    "tags": []
   },
   "outputs": [],
   "source": [
    "# regions = [\"VISp\", \"CA1\", \"LP\", \"PO\"]\n",
    "regions = [\"PO\", \"GRN\"]\n",
    "n_sess = 10"
   ]
  },
  {
   "cell_type": "code",
   "execution_count": 3,
   "id": "7d465137-2da4-4c58-a1cc-61276a43789c",
   "metadata": {
    "tags": []
   },
   "outputs": [
    {
     "name": "stdout",
     "output_type": "stream",
     "text": [
      "PO: 68 PIDs\n"
     ]
    },
    {
     "name": "stderr",
     "output_type": "stream",
     "text": [
      "/home/yizi/anaconda3/envs/point_cloud/lib/python3.9/site-packages/ibllib/atlas/atlas.py:13: DeprecationWarning: ibllib.atlas.atlas.AllenAtlas is deprecated. Use iblatlas.atlas.AllenAtlas instead\n",
      "  warnings.warn(warning_text, DeprecationWarning)\n"
     ]
    },
    {
     "name": "stdout",
     "output_type": "stream",
     "text": [
      "pulling data from ibl database ..\n",
      "eid: ebce500b-c530-47de-8cb1-963c552703ea\n",
      "pid: 8c732bf2-639d-496c-bf82-464bc9c2d54b\n",
      "number of trials found: 470\n",
      "found 470 trials from 13.74 to 5761.52 sec.\n",
      "found 511 Kilosort units in region po\n"
     ]
    },
    {
     "name": "stderr",
     "output_type": "stream",
     "text": [
      "Compute spike count: 100%|████████████████████| 470/470 [00:10<00:00, 45.54it/s]\n",
      "/home/yizi/anaconda3/envs/point_cloud/lib/python3.9/site-packages/ibllib/atlas/atlas.py:13: DeprecationWarning: ibllib.atlas.atlas.AllenAtlas is deprecated. Use iblatlas.atlas.AllenAtlas instead\n",
      "  warnings.warn(warning_text, DeprecationWarning)\n"
     ]
    },
    {
     "name": "stdout",
     "output_type": "stream",
     "text": [
      "pulling data from ibl database ..\n",
      "eid: 15b69921-d471-4ded-8814-2adad954bcd8\n",
      "pid: 7a620688-66cb-44d3-b79b-ccac1c8ba23e\n",
      "number of trials found: 715\n",
      "found 715 trials from 28.03 to 3547.82 sec.\n",
      "found 131 Kilosort units in region po\n"
     ]
    },
    {
     "name": "stderr",
     "output_type": "stream",
     "text": [
      "Compute spike count: 100%|███████████████████| 715/715 [00:03<00:00, 196.52it/s]\n",
      "/home/yizi/anaconda3/envs/point_cloud/lib/python3.9/site-packages/ibllib/atlas/atlas.py:13: DeprecationWarning: ibllib.atlas.atlas.AllenAtlas is deprecated. Use iblatlas.atlas.AllenAtlas instead\n",
      "  warnings.warn(warning_text, DeprecationWarning)\n"
     ]
    },
    {
     "name": "stdout",
     "output_type": "stream",
     "text": [
      "pulling data from ibl database ..\n",
      "eid: f4eb56a4-8bf8-4bbc-a8f3-6e6535134bad\n",
      "pid: bef05a5c-68c3-4513-87c7-b3151c88da8e\n",
      "number of trials found: 489\n",
      "found 489 trials from 101.15 to 3448.76 sec.\n",
      "found 10 Kilosort units in region po\n"
     ]
    },
    {
     "name": "stderr",
     "output_type": "stream",
     "text": [
      "Compute spike count: 100%|█████████████████| 489/489 [00:00<00:00, 19842.06it/s]\n",
      "/home/yizi/side_info_decoding/side_info_decoding/utils.py:99: RuntimeWarning: divide by zero encountered in divide\n",
      "  data_norm[:,t*n_units:(t+1)*n_units] = (data_norm[:,t*n_units:(t+1)*n_units] - mean_per_trial) / std_per_trial\n",
      "/home/yizi/side_info_decoding/side_info_decoding/utils.py:99: RuntimeWarning: invalid value encountered in divide\n",
      "  data_norm[:,t*n_units:(t+1)*n_units] = (data_norm[:,t*n_units:(t+1)*n_units] - mean_per_trial) / std_per_trial\n",
      "/home/yizi/anaconda3/envs/point_cloud/lib/python3.9/site-packages/ibllib/atlas/atlas.py:13: DeprecationWarning: ibllib.atlas.atlas.AllenAtlas is deprecated. Use iblatlas.atlas.AllenAtlas instead\n",
      "  warnings.warn(warning_text, DeprecationWarning)\n"
     ]
    },
    {
     "name": "stdout",
     "output_type": "stream",
     "text": [
      "pulling data from ibl database ..\n",
      "eid: 37ac03f1-9831-4a30-90fc-a59e635b98bd\n",
      "pid: 8b31b4bd-003e-4816-a3bf-2df4cc3558f8\n",
      "number of trials found: 432\n",
      "found 432 trials from 65.86 to 2896.15 sec.\n",
      "found 103 Kilosort units in region po\n"
     ]
    },
    {
     "name": "stderr",
     "output_type": "stream",
     "text": [
      "Compute spike count: 100%|██████████████████| 432/432 [00:00<00:00, 1546.79it/s]\n",
      "/home/yizi/anaconda3/envs/point_cloud/lib/python3.9/site-packages/ibllib/atlas/atlas.py:13: DeprecationWarning: ibllib.atlas.atlas.AllenAtlas is deprecated. Use iblatlas.atlas.AllenAtlas instead\n",
      "  warnings.warn(warning_text, DeprecationWarning)\n"
     ]
    },
    {
     "name": "stdout",
     "output_type": "stream",
     "text": [
      "pulling data from ibl database ..\n",
      "eid: be164a14-6e73-42c3-ab60-d29c48693c0f\n",
      "pid: 77121d92-6dde-4243-ab54-0a99efa22e99\n",
      "number of trials found: 376\n",
      "found 376 trials from 79.72 to 2748.78 sec.\n",
      "found 225 Kilosort units in region po\n"
     ]
    },
    {
     "name": "stderr",
     "output_type": "stream",
     "text": [
      "Compute spike count: 100%|███████████████████| 376/376 [00:00<00:00, 416.72it/s]\n",
      "/home/yizi/anaconda3/envs/point_cloud/lib/python3.9/site-packages/ibllib/atlas/atlas.py:13: DeprecationWarning: ibllib.atlas.atlas.AllenAtlas is deprecated. Use iblatlas.atlas.AllenAtlas instead\n",
      "  warnings.warn(warning_text, DeprecationWarning)\n"
     ]
    },
    {
     "name": "stdout",
     "output_type": "stream",
     "text": [
      "pulling data from ibl database ..\n",
      "eid: 3bb54985-77b2-421d-9d1f-46185be51216\n",
      "pid: 81950362-ed95-4662-997f-e119bbd594d1\n",
      "number of trials found: 648\n",
      "found 648 trials from 49.35 to 3147.13 sec.\n",
      "found 10 Kilosort units in region po\n"
     ]
    },
    {
     "name": "stderr",
     "output_type": "stream",
     "text": [
      "Compute spike count: 100%|██████████████████| 648/648 [00:00<00:00, 2467.64it/s]\n",
      "/home/yizi/anaconda3/envs/point_cloud/lib/python3.9/site-packages/ibllib/atlas/atlas.py:13: DeprecationWarning: ibllib.atlas.atlas.AllenAtlas is deprecated. Use iblatlas.atlas.AllenAtlas instead\n",
      "  warnings.warn(warning_text, DeprecationWarning)\n"
     ]
    },
    {
     "name": "stdout",
     "output_type": "stream",
     "text": [
      "pulling data from ibl database ..\n",
      "eid: 87ad026d-5b95-4022-8d59-c260870d830f\n",
      "pid: 4f922a5b-5014-455d-8cd5-7caed78af615\n",
      "number of trials found: 812\n",
      "found 812 trials from 65.33 to 3887.55 sec.\n",
      "found 32 Kilosort units in region po\n"
     ]
    },
    {
     "name": "stderr",
     "output_type": "stream",
     "text": [
      "Compute spike count: 100%|██████████████████| 812/812 [00:00<00:00, 4325.34it/s]\n",
      "/home/yizi/anaconda3/envs/point_cloud/lib/python3.9/site-packages/ibllib/atlas/atlas.py:13: DeprecationWarning: ibllib.atlas.atlas.AllenAtlas is deprecated. Use iblatlas.atlas.AllenAtlas instead\n",
      "  warnings.warn(warning_text, DeprecationWarning)\n"
     ]
    },
    {
     "name": "stdout",
     "output_type": "stream",
     "text": [
      "pulling data from ibl database ..\n",
      "eid: 2038e95d-64d4-4ecb-83d0-1308d3c598f8\n",
      "pid: 1a924329-65aa-465d-b201-c2dd898aebd0\n",
      "number of trials found: 481\n",
      "found 481 trials from 61.03 to 2940.03 sec.\n",
      "found 70 Kilosort units in region po\n"
     ]
    },
    {
     "name": "stderr",
     "output_type": "stream",
     "text": [
      "Compute spike count: 100%|███████████████████| 481/481 [00:00<00:00, 979.22it/s]\n",
      "/home/yizi/anaconda3/envs/point_cloud/lib/python3.9/site-packages/ibllib/atlas/atlas.py:13: DeprecationWarning: ibllib.atlas.atlas.AllenAtlas is deprecated. Use iblatlas.atlas.AllenAtlas instead\n",
      "  warnings.warn(warning_text, DeprecationWarning)\n"
     ]
    },
    {
     "name": "stdout",
     "output_type": "stream",
     "text": [
      "pulling data from ibl database ..\n",
      "eid: a2ec6341-c55f-48a0-a23b-0ef2f5b1d71e\n",
      "pid: 5135e93f-2f1f-4301-9532-b5ad62548c49\n",
      "number of trials found: 364\n",
      "found 364 trials from 76.32 to 3810.93 sec.\n",
      "found 157 Kilosort units in region po\n"
     ]
    },
    {
     "name": "stderr",
     "output_type": "stream",
     "text": [
      "Compute spike count: 100%|██████████████████| 364/364 [00:00<00:00, 1267.71it/s]\n",
      "/home/yizi/anaconda3/envs/point_cloud/lib/python3.9/site-packages/ibllib/atlas/atlas.py:13: DeprecationWarning: ibllib.atlas.atlas.AllenAtlas is deprecated. Use iblatlas.atlas.AllenAtlas instead\n",
      "  warnings.warn(warning_text, DeprecationWarning)\n"
     ]
    },
    {
     "name": "stdout",
     "output_type": "stream",
     "text": [
      "pulling data from ibl database ..\n",
      "eid: 8928f98a-b411-497e-aa4b-aa752434686d\n",
      "pid: ad714133-1e03-4d3a-8427-33fc483daf1a\n",
      "number of trials found: 583\n",
      "found 583 trials from 112.34 to 3275.94 sec.\n",
      "found 294 Kilosort units in region po\n"
     ]
    },
    {
     "name": "stderr",
     "output_type": "stream",
     "text": [
      "Compute spike count: 100%|███████████████████| 583/583 [00:03<00:00, 151.99it/s]\n"
     ]
    },
    {
     "name": "stdout",
     "output_type": "stream",
     "text": [
      "GRN: 17 PIDs\n"
     ]
    },
    {
     "name": "stderr",
     "output_type": "stream",
     "text": [
      "/home/yizi/anaconda3/envs/point_cloud/lib/python3.9/site-packages/ibllib/atlas/atlas.py:13: DeprecationWarning: ibllib.atlas.atlas.AllenAtlas is deprecated. Use iblatlas.atlas.AllenAtlas instead\n",
      "  warnings.warn(warning_text, DeprecationWarning)\n"
     ]
    },
    {
     "name": "stdout",
     "output_type": "stream",
     "text": [
      "pulling data from ibl database ..\n",
      "eid: c958919c-2e75-435d-845d-5b62190b520e\n",
      "pid: cc72fdb7-92e8-47e6-9cea-94f27c0da2d8\n",
      "number of trials found: 705\n",
      "found 705 trials from 79.14 to 3939.10 sec.\n",
      "found 261 Kilosort units in region grn\n"
     ]
    },
    {
     "name": "stderr",
     "output_type": "stream",
     "text": [
      "Compute spike count: 100%|███████████████████| 705/705 [00:06<00:00, 105.47it/s]\n",
      "/home/yizi/anaconda3/envs/point_cloud/lib/python3.9/site-packages/ibllib/atlas/atlas.py:13: DeprecationWarning: ibllib.atlas.atlas.AllenAtlas is deprecated. Use iblatlas.atlas.AllenAtlas instead\n",
      "  warnings.warn(warning_text, DeprecationWarning)\n"
     ]
    },
    {
     "name": "stdout",
     "output_type": "stream",
     "text": [
      "pulling data from ibl database ..\n",
      "eid: 32d27583-56aa-4510-bc03-669036edad20\n",
      "pid: 2e720cee-05cc-440e-a24b-13794b1ac01d\n",
      "number of trials found: 682\n",
      "found 682 trials from 28.94 to 3431.07 sec.\n",
      "found 81 Kilosort units in region grn\n"
     ]
    },
    {
     "name": "stderr",
     "output_type": "stream",
     "text": [
      "Compute spike count: 100%|███████████████████| 682/682 [00:02<00:00, 295.03it/s]\n",
      "/home/yizi/anaconda3/envs/point_cloud/lib/python3.9/site-packages/ibllib/atlas/atlas.py:13: DeprecationWarning: ibllib.atlas.atlas.AllenAtlas is deprecated. Use iblatlas.atlas.AllenAtlas instead\n",
      "  warnings.warn(warning_text, DeprecationWarning)\n"
     ]
    },
    {
     "name": "stdout",
     "output_type": "stream",
     "text": [
      "pulling data from ibl database ..\n",
      "eid: 7cec9792-b8f9-4878-be7e-f08103dc0323\n",
      "pid: e17db2b6-b778-4e2a-845c-c4d040b0c875\n",
      "number of trials found: 542\n",
      "found 542 trials from 307.48 to 2989.17 sec.\n",
      "found 20 Kilosort units in region grn\n"
     ]
    },
    {
     "name": "stderr",
     "output_type": "stream",
     "text": [
      "Compute spike count: 100%|██████████████████| 542/542 [00:00<00:00, 1995.71it/s]\n",
      "/home/yizi/anaconda3/envs/point_cloud/lib/python3.9/site-packages/ibllib/atlas/atlas.py:13: DeprecationWarning: ibllib.atlas.atlas.AllenAtlas is deprecated. Use iblatlas.atlas.AllenAtlas instead\n",
      "  warnings.warn(warning_text, DeprecationWarning)\n"
     ]
    },
    {
     "name": "stdout",
     "output_type": "stream",
     "text": [
      "pulling data from ibl database ..\n",
      "eid: aec5d3cc-4bb2-4349-80a9-0395b76f04e2\n",
      "pid: 7332e6cf-9847-4aca-b2e3-d864989dd0fb\n",
      "number of trials found: 581\n",
      "found 581 trials from 29.78 to 2802.68 sec.\n",
      "found 261 Kilosort units in region grn\n"
     ]
    },
    {
     "name": "stderr",
     "output_type": "stream",
     "text": [
      "Compute spike count: 100%|███████████████████| 581/581 [00:05<00:00, 103.89it/s]\n",
      "/home/yizi/anaconda3/envs/point_cloud/lib/python3.9/site-packages/ibllib/atlas/atlas.py:13: DeprecationWarning: ibllib.atlas.atlas.AllenAtlas is deprecated. Use iblatlas.atlas.AllenAtlas instead\n",
      "  warnings.warn(warning_text, DeprecationWarning)\n"
     ]
    },
    {
     "name": "stdout",
     "output_type": "stream",
     "text": [
      "pulling data from ibl database ..\n",
      "eid: 25d1920e-a2af-4b6c-9f2e-fc6c65576544\n",
      "pid: c0e59477-43f0-4441-9f81-3a55ddad9dad\n",
      "number of trials found: 358\n",
      "found 358 trials from 9.42 to 2224.60 sec.\n",
      "found 99 Kilosort units in region grn\n"
     ]
    },
    {
     "name": "stderr",
     "output_type": "stream",
     "text": [
      "Compute spike count: 100%|███████████████████| 358/358 [00:00<00:00, 364.71it/s]\n",
      "/home/yizi/anaconda3/envs/point_cloud/lib/python3.9/site-packages/ibllib/atlas/atlas.py:13: DeprecationWarning: ibllib.atlas.atlas.AllenAtlas is deprecated. Use iblatlas.atlas.AllenAtlas instead\n",
      "  warnings.warn(warning_text, DeprecationWarning)\n"
     ]
    },
    {
     "name": "stdout",
     "output_type": "stream",
     "text": [
      "pulling data from ibl database ..\n",
      "eid: 571d3ffe-54a5-473d-a265-5dc373eb7efc\n",
      "pid: aecd7612-b5c5-4ad2-9e76-e5b783387e47\n",
      "number of trials found: 359\n",
      "found 359 trials from 14.38 to 2766.52 sec.\n",
      "found 74 Kilosort units in region grn\n"
     ]
    },
    {
     "name": "stderr",
     "output_type": "stream",
     "text": [
      "Compute spike count: 100%|███████████████████| 359/359 [00:00<00:00, 851.52it/s]\n",
      "/home/yizi/anaconda3/envs/point_cloud/lib/python3.9/site-packages/ibllib/atlas/atlas.py:13: DeprecationWarning: ibllib.atlas.atlas.AllenAtlas is deprecated. Use iblatlas.atlas.AllenAtlas instead\n",
      "  warnings.warn(warning_text, DeprecationWarning)\n"
     ]
    },
    {
     "name": "stdout",
     "output_type": "stream",
     "text": [
      "pulling data from ibl database ..\n",
      "eid: 75b6b132-d998-4fba-8482-961418ac957d\n",
      "pid: 6a098711-5423-4072-8909-7cff0e2d4531\n",
      "number of trials found: 403\n",
      "found 403 trials from 49.05 to 3074.29 sec.\n",
      "found 71 Kilosort units in region grn\n"
     ]
    },
    {
     "name": "stderr",
     "output_type": "stream",
     "text": [
      "Compute spike count: 100%|██████████████████| 403/403 [00:00<00:00, 2600.25it/s]\n",
      "/home/yizi/anaconda3/envs/point_cloud/lib/python3.9/site-packages/ibllib/atlas/atlas.py:13: DeprecationWarning: ibllib.atlas.atlas.AllenAtlas is deprecated. Use iblatlas.atlas.AllenAtlas instead\n",
      "  warnings.warn(warning_text, DeprecationWarning)\n"
     ]
    },
    {
     "name": "stdout",
     "output_type": "stream",
     "text": [
      "pulling data from ibl database ..\n",
      "eid: 746d1902-fa59-4cab-b0aa-013be36060d5\n",
      "pid: 39883ded-f5a2-4f4f-a98e-fb138eb8433e\n",
      "number of trials found: 561\n",
      "found 561 trials from 39.62 to 4058.39 sec.\n",
      "found 132 Kilosort units in region grn\n"
     ]
    },
    {
     "name": "stderr",
     "output_type": "stream",
     "text": [
      "Compute spike count: 100%|███████████████████| 561/561 [00:02<00:00, 211.90it/s]\n",
      "/home/yizi/anaconda3/envs/point_cloud/lib/python3.9/site-packages/ibllib/atlas/atlas.py:13: DeprecationWarning: ibllib.atlas.atlas.AllenAtlas is deprecated. Use iblatlas.atlas.AllenAtlas instead\n",
      "  warnings.warn(warning_text, DeprecationWarning)\n"
     ]
    },
    {
     "name": "stdout",
     "output_type": "stream",
     "text": [
      "pulling data from ibl database ..\n",
      "eid: 671c7ea7-6726-4fbe-adeb-f89c2c8e489b\n",
      "pid: 04c9890f-2276-4c20-854f-305ff5c9b6cf\n",
      "number of trials found: 700\n",
      "found 700 trials from 109.27 to 3491.16 sec.\n",
      "found 248 Kilosort units in region grn\n"
     ]
    },
    {
     "name": "stderr",
     "output_type": "stream",
     "text": [
      "Compute spike count: 100%|████████████████████| 700/700 [00:07<00:00, 96.00it/s]\n",
      "/home/yizi/anaconda3/envs/point_cloud/lib/python3.9/site-packages/ibllib/atlas/atlas.py:13: DeprecationWarning: ibllib.atlas.atlas.AllenAtlas is deprecated. Use iblatlas.atlas.AllenAtlas instead\n",
      "  warnings.warn(warning_text, DeprecationWarning)\n"
     ]
    },
    {
     "name": "stdout",
     "output_type": "stream",
     "text": [
      "pulling data from ibl database ..\n",
      "eid: eebacd5a-7dcd-4ba6-9dff-ec2a4d2f19e0\n",
      "pid: df6012d0-d921-4d0a-af2a-2a91030d0f42\n",
      "number of trials found: 554\n",
      "found 554 trials from 56.17 to 2721.08 sec.\n",
      "found 106 Kilosort units in region grn\n"
     ]
    },
    {
     "name": "stderr",
     "output_type": "stream",
     "text": [
      "Compute spike count: 100%|███████████████████| 554/554 [00:03<00:00, 182.38it/s]\n"
     ]
    }
   ],
   "source": [
    "TRAIN_DATASETS = []\n",
    "TEST_DATASETS = []\n",
    "N_UNITS = []\n",
    "REGION_INDEX = []\n",
    "PID_INDEX = []\n",
    "\n",
    "pid_idx = 0\n",
    "for roi_idx, roi in enumerate(regions):\n",
    "    \n",
    "    one = ONE(base_url=\"https://openalyx.internationalbrainlab.org\", mode='remote')\n",
    "    pids_per_region = one.search_insertions(atlas_acronym=[roi], query_type='remote')\n",
    "    print(f\"{roi}: {len(pids_per_region)} PIDs\")\n",
    "    pids = list(pids_per_region)[:n_sess]\n",
    "    \n",
    "    X_dict, Y_dict = load_data_from_pids(\n",
    "        pids,\n",
    "        brain_region=roi.lower(),\n",
    "        behavior=\"choice\",\n",
    "        data_type=\"all_ks\",\n",
    "        n_t_bins = 40,\n",
    "    )\n",
    "    loaded_pids = list(X_dict.keys())\n",
    "    \n",
    "    for _, pid in enumerate(loaded_pids):\n",
    "        X, Y = X_dict[pid], Y_dict[pid]\n",
    "        n_trials, n_units, n_t_bins = X.shape\n",
    "        X = sliding_window_over_trials(X, half_window_size=0).squeeze()\n",
    "        Y = sliding_window_over_trials(Y, half_window_size=0).squeeze()\n",
    "        X, Y = torch.tensor(X), torch.tensor(Y)\n",
    "        \n",
    "        X_train, X_test, Y_train, Y_test = train_test_split(X, Y, test_size=0.2, random_state=seed)\n",
    "        TRAIN_DATASETS.append((X_train, Y_train))\n",
    "        TEST_DATASETS.append((X_test, Y_test))\n",
    "        N_UNITS.append(n_units)\n",
    "        REGION_INDEX.append(roi_idx)\n",
    "        PID_INDEX.append(pid_idx)\n",
    "        pid_idx += 1"
   ]
  },
  {
   "cell_type": "code",
   "execution_count": 4,
   "id": "a43e452c-ec36-4125-90d3-6d973ba4152d",
   "metadata": {
    "tags": []
   },
   "outputs": [],
   "source": [
    "import torch\n",
    "import torch.nn as nn\n",
    "import torch.optim as optim\n",
    "from torch.utils.data import Dataset, DataLoader\n",
    "from lightning.pytorch.utilities import CombinedLoader"
   ]
  },
  {
   "cell_type": "code",
   "execution_count": 5,
   "id": "22269ad6-32dc-48e3-bf99-381bffd8a9e7",
   "metadata": {
    "tags": []
   },
   "outputs": [],
   "source": [
    "class SessionDataset:\n",
    "    def __init__(self, dataset, roi_idx, pid_idx, **kargs):\n",
    "        \n",
    "        self.X, self.Y = dataset\n",
    "        self.n_trials = self.X.shape[0]\n",
    "        self.n_units = self.X.shape[1]\n",
    "        self.roi_idx = roi_idx\n",
    "        self.pid_idx = pid_idx\n",
    "        \n",
    "    def __len__(self):\n",
    "        return self.n_trials\n",
    "    \n",
    "    def __getitem__(self, index):\n",
    "        return self.X[index], self.Y[index], self.roi_idx, self.pid_idx"
   ]
  },
  {
   "cell_type": "code",
   "execution_count": 6,
   "id": "efee6a08-2151-4eb7-8d01-2cd0b3e52779",
   "metadata": {
    "tags": []
   },
   "outputs": [],
   "source": [
    "def dataloader(datasets, regions, sess_ids, batch_size=32): \n",
    "    \n",
    "    loaders = []\n",
    "    for i, dataset in enumerate(datasets):\n",
    "        sess_dataset = SessionDataset(dataset, regions[i], sess_ids[i])\n",
    "        loaders.append(DataLoader(\n",
    "            sess_dataset, batch_size = batch_size\n",
    "        ))\n",
    "    return loaders"
   ]
  },
  {
   "cell_type": "code",
   "execution_count": 7,
   "id": "45e66dcd-014e-45fd-b079-a51be62f16d5",
   "metadata": {
    "tags": []
   },
   "outputs": [],
   "source": [
    "train_loaders = dataloader(TRAIN_DATASETS, REGION_INDEX, PID_INDEX, batch_size=128)"
   ]
  },
  {
   "cell_type": "code",
   "execution_count": 8,
   "id": "96dc927e-3100-4aee-955c-59a1f8bce815",
   "metadata": {
    "tags": []
   },
   "outputs": [],
   "source": [
    "test_loaders = dataloader(TEST_DATASETS, REGION_INDEX, PID_INDEX, batch_size=128)"
   ]
  },
  {
   "cell_type": "code",
   "execution_count": 9,
   "id": "e0a437b5-48da-4d15-aee2-5af0c7be2479",
   "metadata": {
    "tags": []
   },
   "outputs": [],
   "source": [
    "train_loaders = CombinedLoader(train_loaders, mode=\"min_size\")\n",
    "test_loaders = CombinedLoader(test_loaders, mode=\"min_size\")"
   ]
  },
  {
   "cell_type": "code",
   "execution_count": 10,
   "id": "28087d46-fff1-4ecf-908d-2e85aa5f0524",
   "metadata": {
    "tags": []
   },
   "outputs": [],
   "source": [
    "class Hier_Reduced_Rank_Model(nn.Module):\n",
    "    def __init__(\n",
    "        self, \n",
    "        n_roi,\n",
    "        n_units, \n",
    "        n_t_bin, \n",
    "        rank_V,\n",
    "        rank_B\n",
    "    ):\n",
    "        super(Hier_Reduced_Rank_Model, self).__init__()\n",
    "        \n",
    "        self.n_roi = n_roi\n",
    "        self.n_sess = len(n_units)\n",
    "        self.n_units = n_units\n",
    "        self.n_t_bin = n_t_bin\n",
    "        self.rank_V = rank_V\n",
    "        self.rank_B = rank_B\n",
    "        \n",
    "        self.Us = nn.ParameterList(\n",
    "            [nn.Parameter(torch.randn(self.n_units[i], self.rank_V)) for i in range(self.n_sess)]\n",
    "        )\n",
    "        self.A = nn.Parameter(torch.randn(self.n_roi, self.rank_V, self.rank_B)) \n",
    "        self.B = nn.Parameter(\n",
    "            torch.randn(self.rank_B, self.n_t_bin)\n",
    "        ) \n",
    "        self.intercepts = nn.ParameterList(\n",
    "            [nn.Parameter(torch.randn(1,)) for i in range(self.n_sess)]\n",
    "        )\n",
    "        self.sigmoid = nn.Sigmoid()\n",
    "\n",
    "    def forward(self, datasets):\n",
    "        pred_lst, gt_lst = [], []\n",
    "        for dataset in datasets:\n",
    "            X, Y, roi_idx, sess_idx = dataset\n",
    "            roi_idx = torch.unique(roi_idx)\n",
    "            sess_idx = torch.unique(sess_idx)\n",
    "            n_trials, n_units, n_t_bins = X.shape\n",
    "            self.Vs = torch.einsum(\"ijk,kt->ijt\", self.A, self.B)\n",
    "            Beta = torch.einsum(\"cr,rt->ct\", self.Us[sess_idx], self.Vs[roi_idx].squeeze())\n",
    "            out = torch.einsum(\"ct,kct->k\", Beta, X)\n",
    "            out += self.intercepts[sess_idx] * torch.ones(n_trials)\n",
    "            out = self.sigmoid(out)\n",
    "            pred_lst.append(out)\n",
    "            gt_lst.append(Y)\n",
    "        return pred_lst, gt_lst"
   ]
  },
  {
   "cell_type": "code",
   "execution_count": 11,
   "id": "be7109c8-1c8d-4292-8bf1-791f18abadb6",
   "metadata": {
    "tags": []
   },
   "outputs": [],
   "source": [
    "# https://lightning.ai/docs/pytorch/stable/common/lightning_module.html\n",
    "import lightning as L \n",
    "from torchmetrics.functional import accuracy\n",
    "from torchmetrics import AUROC\n",
    "\n",
    "class LitHierRRR(L.LightningModule):\n",
    "    def __init__(self, model):\n",
    "        super().__init__()\n",
    "        self.model = model\n",
    "\n",
    "    def training_step(self, batch):\n",
    "        # training_step defines the train loop.\n",
    "        # it is independent of forward\n",
    "        losses = 0\n",
    "        pred_lst, gt_lst = self.model(batch)\n",
    "        for i in range(len(batch)):\n",
    "            losses += nn.BCELoss()(pred_lst[i], gt_lst[i])\n",
    "        loss = losses / len(batch)\n",
    "        self.log(\"loss\", loss, on_step=False, on_epoch=True, prog_bar=True, logger=True)\n",
    "        return loss\n",
    "    \n",
    "    def validation_step(self, batch):\n",
    "        accs, aucs = self._shared_eval_step(batch)\n",
    "        metrics = {\"val_acc\": np.mean(accs), \"val_auc\": np.mean(aucs)}\n",
    "        self.log_dict(metrics, on_step=False, on_epoch=True, prog_bar=True)\n",
    "    \n",
    "    def test_step(self, batch):\n",
    "        accs, aucs = self._shared_eval_step(batch)\n",
    "        for i in range(len(batch)):\n",
    "            print(f\"session {i} test_acc {accs[i]} test_auc {aucs[i]}\")\n",
    "\n",
    "    def _shared_eval_step(self, batch):\n",
    "        pred_lst, gt_lst = self.model(batch)\n",
    "        accs, aucs = [], []\n",
    "        for i in range(len(batch)):\n",
    "            auroc = AUROC(task=\"binary\")\n",
    "            acc = accuracy(pred_lst[i], gt_lst[i], task=\"binary\")\n",
    "            auc = auroc(pred_lst[i], gt_lst[i])\n",
    "            accs.append(acc)\n",
    "            aucs.append(auc)\n",
    "        return accs, aucs\n",
    "        \n",
    "    def configure_optimizers(self):\n",
    "        optimizer = optim.Adam(self.parameters(), lr=1e-2, weight_decay=1e-3)\n",
    "        return optimizer"
   ]
  },
  {
   "cell_type": "code",
   "execution_count": 12,
   "id": "1ebc2c5a-579c-423a-a959-97a0f3496fc3",
   "metadata": {
    "tags": []
   },
   "outputs": [],
   "source": [
    "hier_rrr = Hier_Reduced_Rank_Model(\n",
    "    n_roi = len(regions),\n",
    "    n_units = N_UNITS, \n",
    "    n_t_bin = 40, \n",
    "    rank_V = 2,\n",
    "    rank_B = 5\n",
    ")"
   ]
  },
  {
   "cell_type": "code",
   "execution_count": 13,
   "id": "b30d9b9c-3ddd-4634-8db3-5d9b8edb213c",
   "metadata": {
    "tags": []
   },
   "outputs": [],
   "source": [
    "lit_hier_rrr = LitHierRRR(hier_rrr)"
   ]
  },
  {
   "cell_type": "code",
   "execution_count": 14,
   "id": "b8ba7342-f352-466a-aed4-1826c3392f80",
   "metadata": {
    "tags": []
   },
   "outputs": [
    {
     "name": "stderr",
     "output_type": "stream",
     "text": [
      "GPU available: False, used: False\n",
      "TPU available: False, using: 0 TPU cores\n",
      "IPU available: False, using: 0 IPUs\n",
      "HPU available: False, using: 0 HPUs\n",
      "/home/yizi/anaconda3/envs/point_cloud/lib/python3.9/site-packages/lightning/pytorch/trainer/configuration_validator.py:74: You defined a `validation_step` but have no `val_dataloader`. Skipping val loop.\n",
      "2024-01-21 23:54:57.493053: I tensorflow/core/platform/cpu_feature_guard.cc:193] This TensorFlow binary is optimized with oneAPI Deep Neural Network Library (oneDNN) to use the following CPU instructions in performance-critical operations:  AVX2 FMA\n",
      "To enable them in other operations, rebuild TensorFlow with the appropriate compiler flags.\n",
      "2024-01-21 23:54:58.241045: W tensorflow/compiler/xla/stream_executor/platform/default/dso_loader.cc:64] Could not load dynamic library 'libnvinfer.so.7'; dlerror: libnvinfer.so.7: cannot open shared object file: No such file or directory; LD_LIBRARY_PATH: /home/yizi/anaconda3/envs/point_cloud/lib/python3.9/site-packages/cv2/../../lib64::/home/yizi/anaconda3/envs/point_cloud/lib/\n",
      "2024-01-21 23:54:58.241125: W tensorflow/compiler/xla/stream_executor/platform/default/dso_loader.cc:64] Could not load dynamic library 'libnvinfer_plugin.so.7'; dlerror: libnvinfer_plugin.so.7: cannot open shared object file: No such file or directory; LD_LIBRARY_PATH: /home/yizi/anaconda3/envs/point_cloud/lib/python3.9/site-packages/cv2/../../lib64::/home/yizi/anaconda3/envs/point_cloud/lib/\n",
      "2024-01-21 23:54:58.241131: W tensorflow/compiler/tf2tensorrt/utils/py_utils.cc:38] TF-TRT Warning: Cannot dlopen some TensorRT libraries. If you would like to use Nvidia GPU with TensorRT, please make sure the missing libraries mentioned above are installed properly.\n",
      "\n",
      "  | Name  | Type                    | Params\n",
      "--------------------------------------------------\n",
      "0 | model | Hier_Reduced_Rank_Model | 6.0 K \n",
      "--------------------------------------------------\n",
      "6.0 K     Trainable params\n",
      "0         Non-trainable params\n",
      "6.0 K     Total params\n",
      "0.024     Total estimated model params size (MB)\n",
      "/home/yizi/anaconda3/envs/point_cloud/lib/python3.9/site-packages/lightning/pytorch/trainer/connectors/data_connector.py:441: The 'train_dataloader' does not have many workers which may be a bottleneck. Consider increasing the value of the `num_workers` argument` to `num_workers=15` in the `DataLoader` to improve performance.\n",
      "/home/yizi/anaconda3/envs/point_cloud/lib/python3.9/site-packages/lightning/pytorch/loops/fit_loop.py:293: The number of training batches (3) is smaller than the logging interval Trainer(log_every_n_steps=50). Set a lower value for log_every_n_steps if you want to see logs for the training epoch.\n"
     ]
    },
    {
     "name": "stdout",
     "output_type": "stream",
     "text": [
      "Epoch 1:  67%|█████████▎    | 2/3 [00:00<00:00, 14.92it/s, v_num=24, loss=35.80]"
     ]
    },
    {
     "name": "stderr",
     "output_type": "stream",
     "text": [
      "/home/yizi/anaconda3/envs/point_cloud/lib/python3.9/site-packages/lightning/pytorch/utilities/data.py:77: Trying to infer the `batch_size` from an ambiguous collection. The batch size we found is 120. To avoid any miscalculations, use `self.log(..., batch_size=batch_size)`.\n"
     ]
    },
    {
     "name": "stdout",
     "output_type": "stream",
     "text": [
      "Epoch 999: 100%|████████████| 3/3 [00:00<00:00, 15.79it/s, v_num=24, loss=0.112]"
     ]
    },
    {
     "name": "stderr",
     "output_type": "stream",
     "text": [
      "`Trainer.fit` stopped: `max_epochs=1000` reached.\n"
     ]
    },
    {
     "name": "stdout",
     "output_type": "stream",
     "text": [
      "Epoch 999: 100%|████████████| 3/3 [00:00<00:00, 15.09it/s, v_num=24, loss=0.112]\n"
     ]
    }
   ],
   "source": [
    "trainer = L.Trainer(max_epochs=1000)\n",
    "trainer.fit(model=lit_hier_rrr, \n",
    "            train_dataloaders=train_loaders)"
   ]
  },
  {
   "cell_type": "code",
   "execution_count": 15,
   "id": "3e9bb4a9-1cc3-4705-93ba-92964e1dffc3",
   "metadata": {
    "tags": []
   },
   "outputs": [
    {
     "name": "stderr",
     "output_type": "stream",
     "text": [
      "/home/yizi/anaconda3/envs/point_cloud/lib/python3.9/site-packages/lightning/pytorch/trainer/connectors/checkpoint_connector.py:145: `.test(ckpt_path=None)` was called without a model. The best model of the previous `fit` call will be used. You can pass `.test(ckpt_path='best')` to use the best model or `.test(ckpt_path='last')` to use the last model. If you pass a value, this warning will be silenced.\n",
      "Restoring states from the checkpoint path at /home/yizi/side_info_decoding/notebooks/lightning_logs/version_24/checkpoints/epoch=999-step=3000.ckpt\n",
      "Loaded model weights from the checkpoint at /home/yizi/side_info_decoding/notebooks/lightning_logs/version_24/checkpoints/epoch=999-step=3000.ckpt\n",
      "/home/yizi/anaconda3/envs/point_cloud/lib/python3.9/site-packages/lightning/pytorch/trainer/connectors/data_connector.py:441: The 'test_dataloader' does not have many workers which may be a bottleneck. Consider increasing the value of the `num_workers` argument` to `num_workers=15` in the `DataLoader` to improve performance.\n"
     ]
    },
    {
     "name": "stdout",
     "output_type": "stream",
     "text": [
      "Testing DataLoader 0:   0%|                               | 0/1 [00:00<?, ?it/s]session 0 test_acc 0.6382978558540344 test_auc 0.7059090909090908\n",
      "session 1 test_acc 0.734375 test_auc 0.7872340425531914\n",
      "session 2 test_acc 0.47959184646606445 test_auc 0.4977054651647893\n",
      "session 3 test_acc 0.6551724076271057 test_auc 0.7178378378378378\n",
      "session 4 test_acc 0.7368420958518982 test_auc 0.8038808038808039\n",
      "session 5 test_acc 0.6953125 test_auc 0.742661943319838\n",
      "session 6 test_acc 0.5859375 test_auc 0.6003503503503503\n",
      "session 7 test_acc 0.6288659572601318 test_auc 0.7054263565891472\n",
      "session 8 test_acc 0.698630154132843 test_auc 0.7526395173453997\n",
      "session 9 test_acc 0.8376068472862244 test_auc 0.9310754604872251\n",
      "session 10 test_acc 0.8984375 test_auc 0.9220430107526881\n",
      "session 11 test_acc 0.8671875 test_auc 0.9506715506715506\n",
      "session 12 test_acc 0.7155963182449341 test_auc 0.7238095238095239\n",
      "session 13 test_acc 0.9487179517745972 test_auc 0.9902366863905325\n",
      "session 14 test_acc 0.8611111044883728 test_auc 0.8255208333333334\n",
      "session 15 test_acc 0.8194444179534912 test_auc 0.862466725820763\n",
      "session 16 test_acc 0.7407407164573669 test_auc 0.8025184275184274\n",
      "session 17 test_acc 0.8495575189590454 test_auc 0.9388704318936878\n",
      "session 18 test_acc 0.8984375 test_auc 0.9457601222307104\n",
      "session 19 test_acc 0.8828828930854797 test_auc 0.9593253968253969\n",
      "Testing DataLoader 0: 100%|███████████████████████| 1/1 [00:00<00:00, 37.08it/s]\n"
     ]
    },
    {
     "data": {
      "text/plain": [
       "[{}]"
      ]
     },
     "execution_count": 15,
     "metadata": {},
     "output_type": "execute_result"
    }
   ],
   "source": [
    "trainer.test(dataloaders=test_loaders)"
   ]
  },
  {
   "cell_type": "code",
   "execution_count": 16,
   "id": "834cc9df-85ce-40be-9b96-14d8803ad87b",
   "metadata": {
    "tags": []
   },
   "outputs": [],
   "source": [
    "Vs = hier_rrr.Vs.detach().numpy()"
   ]
  },
  {
   "cell_type": "code",
   "execution_count": 17,
   "id": "1c87632f-94e1-4d70-af6f-43172fc9beeb",
   "metadata": {
    "tags": []
   },
   "outputs": [
    {
     "data": {
      "image/png": "[encoded data removed]",
      "text/plain": [
       "<Figure size 500x400 with 2 Axes>"
      ]
     },
     "metadata": {},
     "output_type": "display_data"
    }
   ],
   "source": [
    "fig, axes = plt.subplots(len(regions), 1, figsize=(5,2*len(regions)))\n",
    "for i, ax in enumerate(axes):\n",
    "    ax.plot(np.abs(Vs[i].T));"
   ]
  },
  {
   "cell_type": "code",
   "execution_count": null,
   "id": "9dcd7d6b-c642-45e9-9dc7-59063aadd0d5",
   "metadata": {},
   "outputs": [],
   "source": []
  },
  {
   "cell_type": "code",
   "execution_count": null,
   "id": "34c99679-0bcd-45fa-a454-6079471ea357",
   "metadata": {},
   "outputs": [],
   "source": []
  },
  {
   "cell_type": "code",
   "execution_count": null,
   "id": "39383070-bdcc-4836-aa4d-8ce52faeb5e8",
   "metadata": {},
   "outputs": [],
   "source": []
  }
 ],
 "metadata": {
  "kernelspec": {
   "display_name": "Python 3 (ipykernel)",
   "language": "python",
   "name": "python3"
  },
  "language_info": {
   "codemirror_mode": {
    "name": "ipython",
    "version": 3
   },
   "file_extension": ".py",
   "mimetype": "text/x-python",
   "name": "python",
   "nbconvert_exporter": "python",
   "pygments_lexer": "ipython3",
   "version": "3.9.18"
  }
 },
 "nbformat": 4,
 "nbformat_minor": 5
}
