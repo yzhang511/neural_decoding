{
 "cells": [
  {
   "cell_type": "code",
   "execution_count": 87,
   "id": "836865e8-1acb-4e23-8f57-d52c70978b1f",
   "metadata": {},
   "outputs": [],
   "source": [
    "import os\n",
    "import numpy as np\n",
    "from pathlib import Path\n",
    "from matplotlib import pyplot as plt\n",
    "from sklearn.preprocessing import StandardScaler\n",
    "from sklearn.metrics import r2_score"
   ]
  },
  {
   "cell_type": "code",
   "execution_count": 126,
   "id": "d641eeef-0948-4246-b8c6-8a8e86dff5f9",
   "metadata": {},
   "outputs": [],
   "source": [
    "def viz_single_session(eid, target, model):\n",
    "    path = res_dir/eid/target/model/f'comp_-1.npy'\n",
    "    gt = np.load(path, allow_pickle=True).item()['target']\n",
    "    pred = np.load(path, allow_pickle=True).item()['pred']\n",
    "    r2 = r2_score(gt.flatten(), pred.flatten())\n",
    "    \n",
    "    y = gt - gt.mean(0)\n",
    "    y_pred = pred - pred.mean(0)\n",
    "    y_resid = y - y_pred\n",
    "    \n",
    "    vmin_perc, vmax_perc = 10, 90 \n",
    "    vmax = np.percentile(y_pred, vmax_perc)\n",
    "    vmin = np.percentile(y_pred, vmin_perc)\n",
    "    \n",
    "    toshow = [y, y_pred, y_resid]\n",
    "    resid_vmax = np.percentile(toshow, vmax_perc)\n",
    "    resid_vmin = np.percentile(toshow, vmin_perc)\n",
    "    \n",
    "    N = len(y)\n",
    "    y_labels = [f'obs. {target}', f'pred. {target}', f'resid. {target}']\n",
    "\n",
    "    fig, axes = plt.subplots(3, 1, figsize=(8, 6))\n",
    "    im1 = axes[0].imshow(y, aspect='auto', cmap='bwr', vmin=vmin, vmax=vmax)\n",
    "    cbar = plt.colorbar(im1, pad=0.02, shrink=.6)\n",
    "    cbar.ax.tick_params(rotation=90)\n",
    "    axes[0].set_title(f'{model} ({eid[:8]}) R2: {r2:.3f}')\n",
    "    im2 = axes[1].imshow(y_pred, aspect='auto', cmap='bwr', vmin=vmin, vmax=vmax)\n",
    "    cbar = plt.colorbar(im2, pad=0.02, shrink=.6)\n",
    "    cbar.ax.tick_params(rotation=90)\n",
    "    im3 = axes[2].imshow(y_resid, aspect='auto', cmap='bwr', vmin=resid_vmin, vmax=resid_vmax)\n",
    "    cbar = plt.colorbar(im3, pad=0.02, shrink=.6)\n",
    "    cbar.ax.tick_params(rotation=90)\n",
    "    \n",
    "    for i, ax in enumerate(axes):\n",
    "        ax.set_ylabel(f\"{y_labels[i]}\"+f\"\\n(#trials={N})\")\n",
    "        ax.yaxis.set_ticks([])\n",
    "        ax.yaxis.set_ticklabels([])\n",
    "        ax.xaxis.set_ticks([])\n",
    "        ax.xaxis.set_ticklabels([])\n",
    "        ax.spines[['left','bottom', 'right', 'top']].set_visible(False)\n",
    "    \n",
    "    plt.savefig(plot_dir/f'{target.split(\"_\")[0]}_{eid[:5]}_{model}_r2_{r2:.3}.png')"
   ]
  },
  {
   "cell_type": "code",
   "execution_count": 127,
   "id": "a717104a-6d09-4fce-8b01-92654b7a19fc",
   "metadata": {},
   "outputs": [],
   "source": [
    "res_dir = Path('/home/yizi/shared_decoding/results/pc_results')\n",
    "plot_dir = Path('/home/yizi/shared_decoding/results/plots/residual_plots/')\n",
    "\n",
    "eids = [\n",
    "    '034e726f-b35f-41e0-8d6c-a22cc32391fb',\n",
    "    '09b2c4d1-058d-4c84-9fd4-97530f85baf6',\n",
    "    '0a018f12-ee06-4b11-97aa-bbbff5448e9f',\n",
    "    '3537d970-f515-4786-853f-23de525e110f',\n",
    "    '56b57c38-2699-4091-90a8-aba35103155e'\n",
    "]"
   ]
  },
  {
   "cell_type": "code",
   "execution_count": null,
   "id": "ebf74076-cf7d-44eb-9105-bd2dcbe4640d",
   "metadata": {},
   "outputs": [],
   "source": [
    "for eid in eids:\n",
    "    for target in ['wheel_speed', 'motion_energy', 'pupil_diameter']:\n",
    "        for model in ['ridge', 'reduced-rank', 'multi-sess-reduced-rank', 'mlp', 'lstm']:\n",
    "            viz_single_session(eid, target, model)"
   ]
  },
  {
   "cell_type": "code",
   "execution_count": null,
   "id": "f9fd070b-1f1d-45e9-bc13-29def75fb99a",
   "metadata": {},
   "outputs": [],
   "source": []
  },
  {
   "cell_type": "code",
   "execution_count": null,
   "id": "3da8e696-6eb5-4984-abf0-f423cd0eeb6e",
   "metadata": {},
   "outputs": [],
   "source": []
  }
 ],
 "metadata": {
  "kernelspec": {
   "display_name": "Python 3 (ipykernel)",
   "language": "python",
   "name": "python3"
  },
  "language_info": {
   "codemirror_mode": {
    "name": "ipython",
    "version": 3
   },
   "file_extension": ".py",
   "mimetype": "text/x-python",
   "name": "python",
   "nbconvert_exporter": "python",
   "pygments_lexer": "ipython3",
   "version": "3.11.7"
  }
 },
 "nbformat": 4,
 "nbformat_minor": 5
}
