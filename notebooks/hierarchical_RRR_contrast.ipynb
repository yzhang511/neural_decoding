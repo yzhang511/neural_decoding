{
 "cells": [
  {
   "cell_type": "code",
   "execution_count": 1,
   "id": "34c99679-0bcd-45fa-a454-6079471ea357",
   "metadata": {},
   "outputs": [
    {
     "name": "stderr",
     "output_type": "stream",
     "text": [
      "/home/yizi/anaconda3/envs/point_cloud/lib/python3.9/site-packages/scipy/__init__.py:146: UserWarning: A NumPy version >=1.16.5 and <1.23.0 is required for this version of SciPy (detected version 1.26.0\n",
      "  warnings.warn(f\"A NumPy version >={np_minversion} and <{np_maxversion}\"\n",
      "/home/yizi/anaconda3/envs/point_cloud/lib/python3.9/site-packages/ibllib/atlas/__init__.py:202: DeprecationWarning: ibllib.atlas is deprecated. Please install iblatlas using \"pip install iblatlas\" and use this module instead\n",
      "  warnings.warn('ibllib.atlas is deprecated. Please install iblatlas using \"pip install iblatlas\" and use '\n"
     ]
    }
   ],
   "source": [
    "import os\n",
    "import sys\n",
    "import random\n",
    "import h5py\n",
    "import pandas as pd\n",
    "from pathlib import Path\n",
    "import numpy as np\n",
    "import torch\n",
    "\n",
    "import matplotlib.pyplot as plt\n",
    "\n",
    "from sklearn.model_selection import train_test_split, KFold, StratifiedKFold\n",
    "\n",
    "from side_info_decoding.utils import (\n",
    "    set_seed, \n",
    "    load_data_from_pids, \n",
    "    sliding_window_over_trials\n",
    ")\n",
    "\n",
    "from one.api import ONE\n",
    "\n",
    "seed = 666\n",
    "set_seed(seed)"
   ]
  },
  {
   "cell_type": "code",
   "execution_count": 2,
   "id": "731e7323-ee92-4c6f-b6b1-363cba7be0c5",
   "metadata": {
    "tags": []
   },
   "outputs": [],
   "source": [
    "# setup\n",
    "regions = [\"LP\", \"GRN\"]\n",
    "n_sess = 2\n",
    "out_path = Path(\"/mnt/3TB/yizi/cached_ibl_data\")\n",
    "one = ONE(base_url=\"https://openalyx.internationalbrainlab.org\", mode='remote')"
   ]
  },
  {
   "cell_type": "code",
   "execution_count": 20,
   "id": "a0ca831b-02cb-4c2f-a0d6-def21b5e8f46",
   "metadata": {
    "tags": []
   },
   "outputs": [
    {
     "name": "stdout",
     "output_type": "stream",
     "text": [
      "=================\n",
      "Downloading data in region LP ..\n"
     ]
    },
    {
     "name": "stderr",
     "output_type": "stream",
     "text": [
      "/home/yizi/anaconda3/envs/point_cloud/lib/python3.9/site-packages/ibllib/atlas/atlas.py:13: DeprecationWarning: ibllib.atlas.atlas.AllenAtlas is deprecated. Use iblatlas.atlas.AllenAtlas instead\n",
      "  warnings.warn(warning_text, DeprecationWarning)\n"
     ]
    },
    {
     "name": "stdout",
     "output_type": "stream",
     "text": [
      "pulling data from ibl database ..\n",
      "eid: ebce500b-c530-47de-8cb1-963c552703ea\n",
      "pid: 8c732bf2-639d-496c-bf82-464bc9c2d54b\n",
      "number of trials found: 470\n",
      "found 470 trials from 13.74 to 5761.52 sec.\n",
      "found 139 Kilosort units in region lp\n"
     ]
    },
    {
     "name": "stderr",
     "output_type": "stream",
     "text": [
      "Compute spike count: 100%|███████████████████| 470/470 [00:01<00:00, 348.18it/s]\n",
      "/home/yizi/anaconda3/envs/point_cloud/lib/python3.9/site-packages/ibllib/atlas/atlas.py:13: DeprecationWarning: ibllib.atlas.atlas.AllenAtlas is deprecated. Use iblatlas.atlas.AllenAtlas instead\n",
      "  warnings.warn(warning_text, DeprecationWarning)\n"
     ]
    },
    {
     "name": "stdout",
     "output_type": "stream",
     "text": [
      "pulling data from ibl database ..\n",
      "eid: 15b69921-d471-4ded-8814-2adad954bcd8\n",
      "pid: 7a620688-66cb-44d3-b79b-ccac1c8ba23e\n",
      "number of trials found: 715\n",
      "found 715 trials from 28.03 to 3547.82 sec.\n",
      "found 47 Kilosort units in region lp\n"
     ]
    },
    {
     "name": "stderr",
     "output_type": "stream",
     "text": [
      "Compute spike count: 100%|██████████████████| 715/715 [00:00<00:00, 2813.38it/s]\n",
      "/home/yizi/anaconda3/envs/point_cloud/lib/python3.9/site-packages/ibllib/atlas/atlas.py:13: DeprecationWarning: ibllib.atlas.atlas.AllenAtlas is deprecated. Use iblatlas.atlas.AllenAtlas instead\n",
      "  warnings.warn(warning_text, DeprecationWarning)\n"
     ]
    },
    {
     "name": "stdout",
     "output_type": "stream",
     "text": [
      "pulling data from ibl database ..\n",
      "eid: ebce500b-c530-47de-8cb1-963c552703ea\n",
      "pid: 8c732bf2-639d-496c-bf82-464bc9c2d54b\n",
      "number of trials found: 470\n",
      "found 470 trials from 13.74 to 5761.52 sec.\n",
      "found 34 good units in region lp\n"
     ]
    },
    {
     "name": "stderr",
     "output_type": "stream",
     "text": [
      "Compute spike count: 100%|██████████████████| 470/470 [00:00<00:00, 1690.27it/s]\n",
      "/home/yizi/anaconda3/envs/point_cloud/lib/python3.9/site-packages/ibllib/atlas/atlas.py:13: DeprecationWarning: ibllib.atlas.atlas.AllenAtlas is deprecated. Use iblatlas.atlas.AllenAtlas instead\n",
      "  warnings.warn(warning_text, DeprecationWarning)\n"
     ]
    },
    {
     "name": "stdout",
     "output_type": "stream",
     "text": [
      "pulling data from ibl database ..\n",
      "eid: 15b69921-d471-4ded-8814-2adad954bcd8\n",
      "pid: 7a620688-66cb-44d3-b79b-ccac1c8ba23e\n",
      "number of trials found: 715\n",
      "found 715 trials from 28.03 to 3547.82 sec.\n",
      "found 0 good units in region lp\n"
     ]
    },
    {
     "name": "stderr",
     "output_type": "stream",
     "text": [
      "Compute spike count: 100%|█████████████████| 715/715 [00:00<00:00, 81293.78it/s]"
     ]
    },
    {
     "name": "stdout",
     "output_type": "stream",
     "text": [
      "=================\n",
      "Downloaded 2 PIDs in region LP ..\n",
      "=================\n",
      "Successfully cached all data!\n",
      "=================\n",
      "Downloading data in region GRN ..\n"
     ]
    },
    {
     "name": "stderr",
     "output_type": "stream",
     "text": [
      "\n",
      "/home/yizi/anaconda3/envs/point_cloud/lib/python3.9/site-packages/ibllib/atlas/atlas.py:13: DeprecationWarning: ibllib.atlas.atlas.AllenAtlas is deprecated. Use iblatlas.atlas.AllenAtlas instead\n",
      "  warnings.warn(warning_text, DeprecationWarning)\n"
     ]
    },
    {
     "name": "stdout",
     "output_type": "stream",
     "text": [
      "pulling data from ibl database ..\n",
      "eid: c958919c-2e75-435d-845d-5b62190b520e\n",
      "pid: cc72fdb7-92e8-47e6-9cea-94f27c0da2d8\n",
      "number of trials found: 705\n",
      "found 705 trials from 79.14 to 3939.10 sec.\n",
      "found 261 Kilosort units in region grn\n"
     ]
    },
    {
     "name": "stderr",
     "output_type": "stream",
     "text": [
      "Compute spike count: 100%|███████████████████| 705/705 [00:06<00:00, 103.83it/s]\n",
      "/home/yizi/anaconda3/envs/point_cloud/lib/python3.9/site-packages/ibllib/atlas/atlas.py:13: DeprecationWarning: ibllib.atlas.atlas.AllenAtlas is deprecated. Use iblatlas.atlas.AllenAtlas instead\n",
      "  warnings.warn(warning_text, DeprecationWarning)\n"
     ]
    },
    {
     "name": "stdout",
     "output_type": "stream",
     "text": [
      "pulling data from ibl database ..\n",
      "eid: 32d27583-56aa-4510-bc03-669036edad20\n",
      "pid: 2e720cee-05cc-440e-a24b-13794b1ac01d\n",
      "number of trials found: 682\n",
      "found 682 trials from 28.94 to 3431.07 sec.\n",
      "found 81 Kilosort units in region grn\n"
     ]
    },
    {
     "name": "stderr",
     "output_type": "stream",
     "text": [
      "Compute spike count: 100%|███████████████████| 682/682 [00:02<00:00, 292.03it/s]\n",
      "/home/yizi/anaconda3/envs/point_cloud/lib/python3.9/site-packages/ibllib/atlas/atlas.py:13: DeprecationWarning: ibllib.atlas.atlas.AllenAtlas is deprecated. Use iblatlas.atlas.AllenAtlas instead\n",
      "  warnings.warn(warning_text, DeprecationWarning)\n"
     ]
    },
    {
     "name": "stdout",
     "output_type": "stream",
     "text": [
      "pulling data from ibl database ..\n",
      "eid: c958919c-2e75-435d-845d-5b62190b520e\n",
      "pid: cc72fdb7-92e8-47e6-9cea-94f27c0da2d8\n",
      "number of trials found: 705\n",
      "found 705 trials from 79.14 to 3939.10 sec.\n",
      "found 12 good units in region grn\n"
     ]
    },
    {
     "name": "stderr",
     "output_type": "stream",
     "text": [
      "Compute spike count: 100%|██████████████████| 705/705 [00:00<00:00, 1487.99it/s]\n",
      "/home/yizi/anaconda3/envs/point_cloud/lib/python3.9/site-packages/ibllib/atlas/atlas.py:13: DeprecationWarning: ibllib.atlas.atlas.AllenAtlas is deprecated. Use iblatlas.atlas.AllenAtlas instead\n",
      "  warnings.warn(warning_text, DeprecationWarning)\n"
     ]
    },
    {
     "name": "stdout",
     "output_type": "stream",
     "text": [
      "pulling data from ibl database ..\n",
      "eid: 32d27583-56aa-4510-bc03-669036edad20\n",
      "pid: 2e720cee-05cc-440e-a24b-13794b1ac01d\n",
      "number of trials found: 682\n",
      "found 682 trials from 28.94 to 3431.07 sec.\n",
      "found 6 good units in region grn\n"
     ]
    },
    {
     "name": "stderr",
     "output_type": "stream",
     "text": [
      "Compute spike count: 100%|██████████████████| 682/682 [00:00<00:00, 1503.17it/s]\n"
     ]
    },
    {
     "name": "stdout",
     "output_type": "stream",
     "text": [
      "=================\n",
      "Downloaded 2 PIDs in region GRN ..\n",
      "=================\n",
      "Successfully cached all data!\n"
     ]
    }
   ],
   "source": [
    "# download and cache data\n",
    "\n",
    "for roi_idx, roi in enumerate(regions):\n",
    "    \n",
    "    print(\"=================\")\n",
    "    print(f\"Downloading data in region {roi} ..\")\n",
    "    \n",
    "    pids = one.search_insertions(atlas_acronym=[roi], query_type='remote')\n",
    "    pids = list(pids)[:n_sess]\n",
    "    \n",
    "    # load choice\n",
    "    neural_dict, choice_dict = load_data_from_pids(\n",
    "        pids,\n",
    "        brain_region=roi.lower(),\n",
    "        behavior=\"choice\",\n",
    "        data_type=\"all_ks\",\n",
    "        n_t_bins = 40,\n",
    "    )\n",
    "    available_pids = list(neural_dict.keys())\n",
    "    \n",
    "    # load contrast\n",
    "    _, contrast_dict = load_data_from_pids(\n",
    "        pids,\n",
    "        brain_region=roi.lower(),\n",
    "        behavior=\"contrast\",\n",
    "        data_type=\"good_ks\",\n",
    "        n_t_bins = 40,\n",
    "    )\n",
    "\n",
    "    print(\"=================\")\n",
    "    print(f\"Downloaded {len(available_pids)} PIDs in region {roi} ..\")\n",
    "    \n",
    "    for _, pid in enumerate(available_pids):\n",
    "        xs, ys = neural_dict[pid], choice_dict[pid]\n",
    "        n_trials, n_units, n_t_bins = xs.shape\n",
    "        if n_units < 5:\n",
    "            continue\n",
    "        xs = sliding_window_over_trials(xs, half_window_size=0).squeeze()\n",
    "        ys = sliding_window_over_trials(ys, half_window_size=0).squeeze()\n",
    "        xs, ys = torch.tensor(xs), torch.tensor(ys)\n",
    "        \n",
    "        contrast_dict[pid] = np.nan_to_num(contrast_dict[pid], 0)\n",
    "        contrast_dict[pid].T[0] *= -1\n",
    "        contrast = contrast_dict[pid].sum(1)\n",
    "        \n",
    "        contrast_mask_dict = {}\n",
    "        for lvl in np.unique(np.abs(contrast)):\n",
    "            contrast_mask_dict.update(\n",
    "                {lvl: np.argwhere(contrast == lvl).flatten()}\n",
    "            )\n",
    "            \n",
    "        path = out_path/roi\n",
    "        if not os.path.exists(path):\n",
    "            os.makedirs(path)\n",
    "            \n",
    "        data_dict = {}\n",
    "        data_dict.update({'neural': xs})\n",
    "        data_dict.update({'choice': ys})\n",
    "        data_dict.update({'contrast': contrast})\n",
    "        data_dict.update({'contrast_mask': contrast_mask_dict})\n",
    "        data_dict.update({'meta':\n",
    "            {\"n_trials\": n_trials, \"n_units\": n_units, \"n_t_bins\": n_t_bins}\n",
    "        })\n",
    "        xs_per_lvl, ys_per_lvl = {}, {}\n",
    "        for lvl in np.unique(np.abs(contrast)):\n",
    "            try:\n",
    "                xs_per_lvl.update({lvl: xs[contrast_mask_dict[lvl]]})\n",
    "                ys_per_lvl.update({lvl: ys[contrast_mask_dict[lvl]]})\n",
    "            except:\n",
    "                continue\n",
    "        data_dict.update({'neural_contrast': xs_per_lvl})\n",
    "        data_dict.update({'choice_contrast': ys_per_lvl})\n",
    "        np.save(path/f\"pid_{pid}.npy\", data_dict)\n",
    "        \n",
    "    print(\"=================\")\n",
    "    print(f\"Successfully cached all data!\")"
   ]
  },
  {
   "cell_type": "code",
   "execution_count": 21,
   "id": "7d82d9ea-aadb-452c-aea5-ffcc3fc7b797",
   "metadata": {
    "tags": []
   },
   "outputs": [],
   "source": [
    "# setup\n",
    "regions = [\"LP\", \"GRN\"]\n",
    "n_sess = 2\n",
    "in_path = Path(\"/mnt/3TB/yizi/cached_ibl_data\")"
   ]
  },
  {
   "cell_type": "code",
   "execution_count": 22,
   "id": "39383070-bdcc-4836-aa4d-8ce52faeb5e8",
   "metadata": {},
   "outputs": [
    {
     "name": "stdout",
     "output_type": "stream",
     "text": [
      "=================\n",
      "Loading 2 PIDs in region LP:\n",
      "7a620688-66cb-44d3-b79b-ccac1c8ba23e\n",
      "8c732bf2-639d-496c-bf82-464bc9c2d54b\n",
      "=================\n",
      "Loading 2 PIDs in region GRN:\n",
      "cc72fdb7-92e8-47e6-9cea-94f27c0da2d8\n",
      "2e720cee-05cc-440e-a24b-13794b1ac01d\n"
     ]
    }
   ],
   "source": [
    "# run hierarchical RRR model\n",
    "\n",
    "for roi_idx, roi in enumerate(regions):\n",
    "    \n",
    "    f_names = os.listdir(in_path/roi)\n",
    "    pids = [f_name.split(\"_\")[1].split(\".\")[0] for f_name in f_names]\n",
    "    \n",
    "    print(\"=================\")\n",
    "    print(f\"Loading {len(pids)} PIDs in region {roi}:\")\n",
    "    for pid in pids:\n",
    "        print(pid)\n",
    "    \n",
    "    data_dict = np.load(in_path/roi/f\"pid_{pid}.npy\", allow_pickle=True)\n",
    "    \n",
    "    "
   ]
  },
  {
   "cell_type": "code",
   "execution_count": null,
   "id": "d1167b21-9a7b-425c-a785-7f76e00b74a3",
   "metadata": {},
   "outputs": [],
   "source": []
  }
 ],
 "metadata": {
  "kernelspec": {
   "display_name": "Python 3 (ipykernel)",
   "language": "python",
   "name": "python3"
  },
  "language_info": {
   "codemirror_mode": {
    "name": "ipython",
    "version": 3
   },
   "file_extension": ".py",
   "mimetype": "text/x-python",
   "name": "python",
   "nbconvert_exporter": "python",
   "pygments_lexer": "ipython3",
   "version": "3.9.18"
  }
 },
 "nbformat": 4,
 "nbformat_minor": 5
}
