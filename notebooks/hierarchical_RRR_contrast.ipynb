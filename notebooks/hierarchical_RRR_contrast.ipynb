{
 "cells": [
  {
   "cell_type": "code",
   "execution_count": 1,
   "id": "34c99679-0bcd-45fa-a454-6079471ea357",
   "metadata": {},
   "outputs": [
    {
     "name": "stderr",
     "output_type": "stream",
     "text": [
      "/home/yizi/anaconda3/envs/clusterless/lib/python3.8/site-packages/torchvision/io/image.py:13: UserWarning: Failed to load image Python extension: /home/yizi/anaconda3/envs/clusterless/lib/python3.8/site-packages/torchvision/image.so: undefined symbol: _ZN3c106detail19maybe_wrap_dim_slowEllb\n",
      "  warn(f\"Failed to load image Python extension: {e}\")\n"
     ]
    }
   ],
   "source": [
    "import os\n",
    "import sys\n",
    "from datetime import date\n",
    "import random\n",
    "import pandas as pd\n",
    "from pathlib import Path\n",
    "import numpy as np\n",
    "\n",
    "from one.api import ONE\n",
    "\n",
    "import matplotlib.pyplot as plt\n",
    "from scipy.linalg import svd\n",
    "from sklearn.model_selection import StratifiedKFold\n",
    "\n",
    "import torch\n",
    "import torch.nn as nn\n",
    "import torch.optim as optim\n",
    "from torch.utils.data import Dataset, DataLoader\n",
    "from torchmetrics.functional import accuracy\n",
    "from torchmetrics import AUROC\n",
    "import lightning as L \n",
    "from lightning.pytorch.utilities import CombinedLoader\n",
    "\n",
    "from side_info_decoding.utils import (\n",
    "    set_seed, \n",
    "    load_data_from_pids, \n",
    "    sliding_window_over_trials\n",
    ")\n",
    "\n",
    "seed = 666\n",
    "set_seed(seed)"
   ]
  },
  {
   "cell_type": "code",
   "execution_count": 2,
   "id": "71dcad29-f960-4a93-b648-0350dcf3f84a",
   "metadata": {
    "tags": []
   },
   "outputs": [
    {
     "name": "stdout",
     "output_type": "stream",
     "text": [
      "324\n"
     ]
    }
   ],
   "source": [
    "from iblatlas.atlas import AllenAtlas\n",
    "ba = AllenAtlas()\n",
    "regions = np.unique(ba.regions.acronym[ba.regions.level == 7])\n",
    "print(len(regions))"
   ]
  },
  {
   "cell_type": "code",
   "execution_count": 4,
   "id": "731e7323-ee92-4c6f-b6b1-363cba7be0c5",
   "metadata": {
    "tags": []
   },
   "outputs": [],
   "source": [
    "# setup\n",
    "regions = [\"LP\", \"GRN\"]\n",
    "n_sess = 10\n",
    "out_path = Path(\"/mnt/3TB/yizi/cached_ibl_data\")\n",
    "one = ONE(base_url=\"https://openalyx.internationalbrainlab.org\", mode='remote')"
   ]
  },
  {
   "cell_type": "code",
   "execution_count": 8,
   "id": "0b67fea9-61e4-4262-9837-6b14dbfafc90",
   "metadata": {
    "tags": []
   },
   "outputs": [
    {
     "name": "stdout",
     "output_type": "stream",
     "text": [
      "76\n"
     ]
    }
   ],
   "source": [
    "with open(\"../biorxiv_plots/regions.txt\") as file:\n",
    "    regions = [line.rstrip() for line in file]\n",
    "print(len(regions))"
   ]
  },
  {
   "cell_type": "code",
   "execution_count": 11,
   "id": "a0ca831b-02cb-4c2f-a0d6-def21b5e8f46",
   "metadata": {
    "tags": []
   },
   "outputs": [
    {
     "name": "stdout",
     "output_type": "stream",
     "text": [
      "=================\n",
      "Downloading data in region LP ..\n",
      "pulling data from ibl database ..\n",
      "eid: ebce500b-c530-47de-8cb1-963c552703ea\n",
      "pid: 8c732bf2-639d-496c-bf82-464bc9c2d54b\n",
      "number of trials found: 470\n",
      "found 470 trials from 13.74 to 5761.52 sec.\n",
      "found 139 Kilosort units in region lp\n"
     ]
    },
    {
     "name": "stderr",
     "output_type": "stream",
     "text": [
      "Compute spike count: 100%|███████████████████████████████████████████████████████████████████████████████████████████████████████████████████████████████████████████████| 470/470 [00:01<00:00, 345.37it/s]\n"
     ]
    },
    {
     "name": "stdout",
     "output_type": "stream",
     "text": [
      "pulling data from ibl database ..\n",
      "eid: 15b69921-d471-4ded-8814-2adad954bcd8\n",
      "pid: 7a620688-66cb-44d3-b79b-ccac1c8ba23e\n",
      "number of trials found: 715\n",
      "found 715 trials from 28.03 to 3547.82 sec.\n",
      "found 47 Kilosort units in region lp\n"
     ]
    },
    {
     "name": "stderr",
     "output_type": "stream",
     "text": [
      "Compute spike count: 100%|██████████████████████████████████████████████████████████████████████████████████████████████████████████████████████████████████████████████| 715/715 [00:00<00:00, 2769.69it/s]\n"
     ]
    },
    {
     "name": "stdout",
     "output_type": "stream",
     "text": [
      "pulling data from ibl database ..\n",
      "eid: caa5dddc-9290-4e27-9f5e-575ba3598614\n",
      "pid: d0046384-16ea-4f69-bae9-165e8d0aeacf\n",
      "number of trials found: 358\n",
      "found 358 trials from 108.84 to 2048.28 sec.\n",
      "found 27 Kilosort units in region lp\n"
     ]
    },
    {
     "name": "stderr",
     "output_type": "stream",
     "text": [
      "Compute spike count: 100%|█████████████████████████████████████████████████████████████████████████████████████████████████████████████████████████████████████████████| 358/358 [00:00<00:00, 16097.18it/s]\n",
      "/home/yizi/side_info_decoding/side_info_decoding/utils.py:99: RuntimeWarning: invalid value encountered in true_divide\n",
      "  data_norm[:,t*n_units:(t+1)*n_units] = (data_norm[:,t*n_units:(t+1)*n_units] - mean_per_trial) / std_per_trial\n"
     ]
    },
    {
     "name": "stdout",
     "output_type": "stream",
     "text": [
      "pulling data from ibl database ..\n",
      "eid: 642c97ea-fe89-4ec9-8629-5e492ea4019d\n",
      "pid: b72b22c2-6e9d-4604-9910-20c0e1a467d7\n",
      "number of trials found: 432\n",
      "found 432 trials from 49.33 to 2759.22 sec.\n",
      "found 22 Kilosort units in region lp\n"
     ]
    },
    {
     "name": "stderr",
     "output_type": "stream",
     "text": [
      "Compute spike count: 100%|█████████████████████████████████████████████████████████████████████████████████████████████████████████████████████████████████████████████| 432/432 [00:00<00:00, 10992.38it/s]\n"
     ]
    },
    {
     "name": "stdout",
     "output_type": "stream",
     "text": [
      "pulling data from ibl database ..\n",
      "eid: f4eb56a4-8bf8-4bbc-a8f3-6e6535134bad\n",
      "pid: bef05a5c-68c3-4513-87c7-b3151c88da8e\n",
      "number of trials found: 489\n",
      "found 489 trials from 101.15 to 3448.76 sec.\n",
      "found 51 Kilosort units in region lp\n"
     ]
    },
    {
     "name": "stderr",
     "output_type": "stream",
     "text": [
      "Compute spike count: 100%|██████████████████████████████████████████████████████████████████████████████████████████████████████████████████████████████████████████████| 489/489 [00:00<00:00, 5664.61it/s]\n"
     ]
    },
    {
     "name": "stdout",
     "output_type": "stream",
     "text": [
      "pulling data from ibl database ..\n",
      "eid: 37ac03f1-9831-4a30-90fc-a59e635b98bd\n",
      "pid: 8b31b4bd-003e-4816-a3bf-2df4cc3558f8\n",
      "number of trials found: 432\n",
      "found 432 trials from 65.86 to 2896.15 sec.\n",
      "found 96 Kilosort units in region lp\n"
     ]
    },
    {
     "name": "stderr",
     "output_type": "stream",
     "text": [
      "Compute spike count: 100%|██████████████████████████████████████████████████████████████████████████████████████████████████████████████████████████████████████████████| 432/432 [00:00<00:00, 1605.63it/s]\n"
     ]
    },
    {
     "name": "stdout",
     "output_type": "stream",
     "text": [
      "pulling data from ibl database ..\n",
      "eid: 94dabed1-741c-4ddd-a6b7-70561e27b750\n",
      "pid: ec2fbc3e-cb2b-48cb-a521-3a6ca15e244c\n",
      "number of trials found: 552\n",
      "found 552 trials from 126.96 to 2975.72 sec.\n",
      "found 46 Kilosort units in region lp\n"
     ]
    },
    {
     "name": "stderr",
     "output_type": "stream",
     "text": [
      "Compute spike count: 100%|██████████████████████████████████████████████████████████████████████████████████████████████████████████████████████████████████████████████| 552/552 [00:00<00:00, 1582.83it/s]\n"
     ]
    },
    {
     "name": "stdout",
     "output_type": "stream",
     "text": [
      "pulling data from ibl database ..\n",
      "eid: 49250fba-801c-4867-a0a7-a1e19538cb61\n",
      "pid: a6b71993-165b-4c43-845c-c062fe7d7a11\n",
      "number of trials found: 592\n",
      "found 592 trials from 60.40 to 2998.35 sec.\n",
      "found 33 Kilosort units in region lp\n"
     ]
    },
    {
     "name": "stderr",
     "output_type": "stream",
     "text": [
      "Compute spike count: 100%|██████████████████████████████████████████████████████████████████████████████████████████████████████████████████████████████████████████████| 592/592 [00:00<00:00, 4300.67it/s]\n"
     ]
    },
    {
     "name": "stdout",
     "output_type": "stream",
     "text": [
      "pulling data from ibl database ..\n",
      "eid: a34b4013-414b-42ed-9318-e93fbbc71e7b\n",
      "pid: 22f26d69-0b30-450e-9618-ee801b720e0a\n",
      "number of trials found: 643\n",
      "found 643 trials from 58.07 to 3454.00 sec.\n",
      "found 43 Kilosort units in region lp\n"
     ]
    },
    {
     "name": "stderr",
     "output_type": "stream",
     "text": [
      "Compute spike count: 100%|██████████████████████████████████████████████████████████████████████████████████████████████████████████████████████████████████████████████| 643/643 [00:00<00:00, 2470.49it/s]\n"
     ]
    },
    {
     "name": "stdout",
     "output_type": "stream",
     "text": [
      "pulling data from ibl database ..\n",
      "eid: 2038e95d-64d4-4ecb-83d0-1308d3c598f8\n",
      "pid: 1a924329-65aa-465d-b201-c2dd898aebd0\n",
      "number of trials found: 481\n",
      "found 481 trials from 61.03 to 2940.03 sec.\n",
      "found 98 Kilosort units in region lp\n"
     ]
    },
    {
     "name": "stderr",
     "output_type": "stream",
     "text": [
      "Compute spike count: 100%|███████████████████████████████████████████████████████████████████████████████████████████████████████████████████████████████████████████████| 481/481 [00:00<00:00, 776.25it/s]\n"
     ]
    },
    {
     "name": "stdout",
     "output_type": "stream",
     "text": [
      "pulling data from ibl database ..\n",
      "eid: ebce500b-c530-47de-8cb1-963c552703ea\n",
      "pid: 8c732bf2-639d-496c-bf82-464bc9c2d54b\n",
      "number of trials found: 470\n",
      "found 470 trials from 13.74 to 5761.52 sec.\n",
      "found 34 good units in region lp\n"
     ]
    },
    {
     "name": "stderr",
     "output_type": "stream",
     "text": [
      "Compute spike count: 100%|██████████████████████████████████████████████████████████████████████████████████████████████████████████████████████████████████████████████| 470/470 [00:00<00:00, 1632.12it/s]\n"
     ]
    },
    {
     "name": "stdout",
     "output_type": "stream",
     "text": [
      "pulling data from ibl database ..\n",
      "eid: 15b69921-d471-4ded-8814-2adad954bcd8\n",
      "pid: 7a620688-66cb-44d3-b79b-ccac1c8ba23e\n",
      "number of trials found: 715\n",
      "found 715 trials from 28.03 to 3547.82 sec.\n",
      "found 0 good units in region lp\n"
     ]
    },
    {
     "name": "stderr",
     "output_type": "stream",
     "text": [
      "Compute spike count: 100%|█████████████████████████████████████████████████████████████████████████████████████████████████████████████████████████████████████████████| 715/715 [00:00<00:00, 86639.14it/s]\n"
     ]
    },
    {
     "name": "stdout",
     "output_type": "stream",
     "text": [
      "pulling data from ibl database ..\n",
      "eid: caa5dddc-9290-4e27-9f5e-575ba3598614\n",
      "pid: d0046384-16ea-4f69-bae9-165e8d0aeacf\n",
      "number of trials found: 358\n",
      "found 358 trials from 108.84 to 2048.28 sec.\n",
      "found 2 good units in region lp\n"
     ]
    },
    {
     "name": "stderr",
     "output_type": "stream",
     "text": [
      "Compute spike count: 100%|█████████████████████████████████████████████████████████████████████████████████████████████████████████████████████████████████████████████| 358/358 [00:00<00:00, 24264.90it/s]\n",
      "/home/yizi/side_info_decoding/side_info_decoding/utils.py:99: RuntimeWarning: invalid value encountered in true_divide\n",
      "  data_norm[:,t*n_units:(t+1)*n_units] = (data_norm[:,t*n_units:(t+1)*n_units] - mean_per_trial) / std_per_trial\n"
     ]
    },
    {
     "name": "stdout",
     "output_type": "stream",
     "text": [
      "pulling data from ibl database ..\n",
      "eid: 642c97ea-fe89-4ec9-8629-5e492ea4019d\n",
      "pid: b72b22c2-6e9d-4604-9910-20c0e1a467d7\n",
      "number of trials found: 432\n",
      "found 432 trials from 49.33 to 2759.22 sec.\n",
      "found 1 good units in region lp\n"
     ]
    },
    {
     "name": "stderr",
     "output_type": "stream",
     "text": [
      "Compute spike count: 100%|█████████████████████████████████████████████████████████████████████████████████████████████████████████████████████████████████████████████| 432/432 [00:00<00:00, 57580.38it/s]\n",
      "/home/yizi/side_info_decoding/side_info_decoding/utils.py:99: RuntimeWarning: invalid value encountered in true_divide\n",
      "  data_norm[:,t*n_units:(t+1)*n_units] = (data_norm[:,t*n_units:(t+1)*n_units] - mean_per_trial) / std_per_trial\n"
     ]
    },
    {
     "name": "stdout",
     "output_type": "stream",
     "text": [
      "pulling data from ibl database ..\n",
      "eid: f4eb56a4-8bf8-4bbc-a8f3-6e6535134bad\n",
      "pid: bef05a5c-68c3-4513-87c7-b3151c88da8e\n",
      "number of trials found: 489\n",
      "found 489 trials from 101.15 to 3448.76 sec.\n",
      "found 2 good units in region lp\n"
     ]
    },
    {
     "name": "stderr",
     "output_type": "stream",
     "text": [
      "Compute spike count: 100%|█████████████████████████████████████████████████████████████████████████████████████████████████████████████████████████████████████████████| 489/489 [00:00<00:00, 83289.94it/s]\n",
      "/home/yizi/side_info_decoding/side_info_decoding/utils.py:99: RuntimeWarning: invalid value encountered in true_divide\n",
      "  data_norm[:,t*n_units:(t+1)*n_units] = (data_norm[:,t*n_units:(t+1)*n_units] - mean_per_trial) / std_per_trial\n"
     ]
    },
    {
     "name": "stdout",
     "output_type": "stream",
     "text": [
      "pulling data from ibl database ..\n",
      "eid: 37ac03f1-9831-4a30-90fc-a59e635b98bd\n",
      "pid: 8b31b4bd-003e-4816-a3bf-2df4cc3558f8\n",
      "number of trials found: 432\n",
      "found 432 trials from 65.86 to 2896.15 sec.\n",
      "found 0 good units in region lp\n"
     ]
    },
    {
     "name": "stderr",
     "output_type": "stream",
     "text": [
      "Compute spike count: 100%|█████████████████████████████████████████████████████████████████████████████████████████████████████████████████████████████████████████████| 432/432 [00:00<00:00, 86360.96it/s]\n"
     ]
    },
    {
     "name": "stdout",
     "output_type": "stream",
     "text": [
      "pulling data from ibl database ..\n",
      "eid: 94dabed1-741c-4ddd-a6b7-70561e27b750\n",
      "pid: ec2fbc3e-cb2b-48cb-a521-3a6ca15e244c\n",
      "number of trials found: 552\n",
      "found 552 trials from 126.96 to 2975.72 sec.\n",
      "found 0 good units in region lp\n"
     ]
    },
    {
     "name": "stderr",
     "output_type": "stream",
     "text": [
      "Compute spike count: 100%|█████████████████████████████████████████████████████████████████████████████████████████████████████████████████████████████████████████████| 552/552 [00:00<00:00, 43591.95it/s]\n"
     ]
    },
    {
     "name": "stdout",
     "output_type": "stream",
     "text": [
      "pulling data from ibl database ..\n",
      "eid: 49250fba-801c-4867-a0a7-a1e19538cb61\n",
      "pid: a6b71993-165b-4c43-845c-c062fe7d7a11\n",
      "number of trials found: 592\n",
      "found 592 trials from 60.40 to 2998.35 sec.\n",
      "found 0 good units in region lp\n"
     ]
    },
    {
     "name": "stderr",
     "output_type": "stream",
     "text": [
      "Compute spike count: 100%|█████████████████████████████████████████████████████████████████████████████████████████████████████████████████████████████████████████████| 592/592 [00:00<00:00, 88128.77it/s]\n"
     ]
    },
    {
     "name": "stdout",
     "output_type": "stream",
     "text": [
      "pulling data from ibl database ..\n",
      "eid: a34b4013-414b-42ed-9318-e93fbbc71e7b\n",
      "pid: 22f26d69-0b30-450e-9618-ee801b720e0a\n",
      "number of trials found: 643\n",
      "found 643 trials from 58.07 to 3454.00 sec.\n",
      "found 2 good units in region lp\n"
     ]
    },
    {
     "name": "stderr",
     "output_type": "stream",
     "text": [
      "Compute spike count: 100%|█████████████████████████████████████████████████████████████████████████████████████████████████████████████████████████████████████████████| 643/643 [00:00<00:00, 21218.02it/s]\n",
      "/home/yizi/side_info_decoding/side_info_decoding/utils.py:99: RuntimeWarning: invalid value encountered in true_divide\n",
      "  data_norm[:,t*n_units:(t+1)*n_units] = (data_norm[:,t*n_units:(t+1)*n_units] - mean_per_trial) / std_per_trial\n"
     ]
    },
    {
     "name": "stdout",
     "output_type": "stream",
     "text": [
      "pulling data from ibl database ..\n",
      "eid: 2038e95d-64d4-4ecb-83d0-1308d3c598f8\n",
      "pid: 1a924329-65aa-465d-b201-c2dd898aebd0\n",
      "number of trials found: 481\n",
      "found 481 trials from 61.03 to 2940.03 sec.\n",
      "found 9 good units in region lp\n"
     ]
    },
    {
     "name": "stderr",
     "output_type": "stream",
     "text": [
      "Compute spike count: 100%|██████████████████████████████████████████████████████████████████████████████████████████████████████████████████████████████████████████████| 481/481 [00:00<00:00, 4599.74it/s]\n"
     ]
    },
    {
     "name": "stdout",
     "output_type": "stream",
     "text": [
      "=================\n",
      "Downloaded 10 PIDs in region LP ..\n",
      "=================\n",
      "Successfully cached all data!\n",
      "=================\n",
      "Downloading data in region GRN ..\n",
      "pulling data from ibl database ..\n",
      "eid: c958919c-2e75-435d-845d-5b62190b520e\n",
      "pid: cc72fdb7-92e8-47e6-9cea-94f27c0da2d8\n",
      "number of trials found: 705\n",
      "found 705 trials from 79.14 to 3939.10 sec.\n",
      "found 261 Kilosort units in region grn\n"
     ]
    },
    {
     "name": "stderr",
     "output_type": "stream",
     "text": [
      "Compute spike count: 100%|███████████████████████████████████████████████████████████████████████████████████████████████████████████████████████████████████████████████| 705/705 [00:06<00:00, 105.32it/s]\n"
     ]
    },
    {
     "name": "stdout",
     "output_type": "stream",
     "text": [
      "pulling data from ibl database ..\n",
      "eid: 32d27583-56aa-4510-bc03-669036edad20\n",
      "pid: 2e720cee-05cc-440e-a24b-13794b1ac01d\n",
      "number of trials found: 682\n",
      "found 682 trials from 28.94 to 3431.07 sec.\n",
      "found 81 Kilosort units in region grn\n"
     ]
    },
    {
     "name": "stderr",
     "output_type": "stream",
     "text": [
      "Compute spike count: 100%|███████████████████████████████████████████████████████████████████████████████████████████████████████████████████████████████████████████████| 682/682 [00:02<00:00, 288.51it/s]\n"
     ]
    },
    {
     "name": "stdout",
     "output_type": "stream",
     "text": [
      "pulling data from ibl database ..\n",
      "eid: 7cec9792-b8f9-4878-be7e-f08103dc0323\n",
      "pid: e17db2b6-b778-4e2a-845c-c4d040b0c875\n",
      "number of trials found: 542\n",
      "found 542 trials from 307.48 to 2989.17 sec.\n",
      "found 20 Kilosort units in region grn\n"
     ]
    },
    {
     "name": "stderr",
     "output_type": "stream",
     "text": [
      "Compute spike count: 100%|██████████████████████████████████████████████████████████████████████████████████████████████████████████████████████████████████████████████| 542/542 [00:00<00:00, 1990.81it/s]\n"
     ]
    },
    {
     "name": "stdout",
     "output_type": "stream",
     "text": [
      "pulling data from ibl database ..\n",
      "eid: aec5d3cc-4bb2-4349-80a9-0395b76f04e2\n",
      "pid: 7332e6cf-9847-4aca-b2e3-d864989dd0fb\n",
      "number of trials found: 581\n",
      "found 581 trials from 29.78 to 2802.68 sec.\n",
      "found 261 Kilosort units in region grn\n"
     ]
    },
    {
     "name": "stderr",
     "output_type": "stream",
     "text": [
      "Compute spike count: 100%|███████████████████████████████████████████████████████████████████████████████████████████████████████████████████████████████████████████████| 581/581 [00:05<00:00, 105.04it/s]\n"
     ]
    },
    {
     "name": "stdout",
     "output_type": "stream",
     "text": [
      "pulling data from ibl database ..\n",
      "eid: 25d1920e-a2af-4b6c-9f2e-fc6c65576544\n",
      "pid: c0e59477-43f0-4441-9f81-3a55ddad9dad\n",
      "number of trials found: 358\n",
      "found 358 trials from 9.42 to 2224.60 sec.\n",
      "found 99 Kilosort units in region grn\n"
     ]
    },
    {
     "name": "stderr",
     "output_type": "stream",
     "text": [
      "Compute spike count: 100%|███████████████████████████████████████████████████████████████████████████████████████████████████████████████████████████████████████████████| 358/358 [00:00<00:00, 360.82it/s]\n"
     ]
    },
    {
     "name": "stdout",
     "output_type": "stream",
     "text": [
      "pulling data from ibl database ..\n",
      "eid: 571d3ffe-54a5-473d-a265-5dc373eb7efc\n",
      "pid: aecd7612-b5c5-4ad2-9e76-e5b783387e47\n",
      "number of trials found: 359\n",
      "found 359 trials from 14.38 to 2766.52 sec.\n",
      "found 74 Kilosort units in region grn\n"
     ]
    },
    {
     "name": "stderr",
     "output_type": "stream",
     "text": [
      "Compute spike count: 100%|███████████████████████████████████████████████████████████████████████████████████████████████████████████████████████████████████████████████| 359/359 [00:00<00:00, 834.69it/s]\n"
     ]
    },
    {
     "name": "stdout",
     "output_type": "stream",
     "text": [
      "pulling data from ibl database ..\n",
      "eid: 75b6b132-d998-4fba-8482-961418ac957d\n",
      "pid: 6a098711-5423-4072-8909-7cff0e2d4531\n",
      "number of trials found: 403\n",
      "found 403 trials from 49.05 to 3074.29 sec.\n",
      "found 71 Kilosort units in region grn\n"
     ]
    },
    {
     "name": "stderr",
     "output_type": "stream",
     "text": [
      "Compute spike count: 100%|██████████████████████████████████████████████████████████████████████████████████████████████████████████████████████████████████████████████| 403/403 [00:00<00:00, 2521.15it/s]\n"
     ]
    },
    {
     "name": "stdout",
     "output_type": "stream",
     "text": [
      "pulling data from ibl database ..\n",
      "eid: 746d1902-fa59-4cab-b0aa-013be36060d5\n",
      "pid: 39883ded-f5a2-4f4f-a98e-fb138eb8433e\n",
      "number of trials found: 561\n",
      "found 561 trials from 39.62 to 4058.39 sec.\n",
      "found 132 Kilosort units in region grn\n"
     ]
    },
    {
     "name": "stderr",
     "output_type": "stream",
     "text": [
      "Compute spike count: 100%|███████████████████████████████████████████████████████████████████████████████████████████████████████████████████████████████████████████████| 561/561 [00:02<00:00, 207.72it/s]\n"
     ]
    },
    {
     "name": "stdout",
     "output_type": "stream",
     "text": [
      "pulling data from ibl database ..\n",
      "eid: 671c7ea7-6726-4fbe-adeb-f89c2c8e489b\n",
      "pid: 04c9890f-2276-4c20-854f-305ff5c9b6cf\n",
      "number of trials found: 700\n",
      "found 700 trials from 109.27 to 3491.16 sec.\n",
      "found 248 Kilosort units in region grn\n"
     ]
    },
    {
     "name": "stderr",
     "output_type": "stream",
     "text": [
      "Compute spike count: 100%|████████████████████████████████████████████████████████████████████████████████████████████████████████████████████████████████████████████████| 700/700 [00:07<00:00, 96.39it/s]\n"
     ]
    },
    {
     "name": "stdout",
     "output_type": "stream",
     "text": [
      "pulling data from ibl database ..\n",
      "eid: eebacd5a-7dcd-4ba6-9dff-ec2a4d2f19e0\n",
      "pid: df6012d0-d921-4d0a-af2a-2a91030d0f42\n",
      "number of trials found: 554\n",
      "found 554 trials from 56.17 to 2721.08 sec.\n",
      "found 106 Kilosort units in region grn\n"
     ]
    },
    {
     "name": "stderr",
     "output_type": "stream",
     "text": [
      "Compute spike count: 100%|███████████████████████████████████████████████████████████████████████████████████████████████████████████████████████████████████████████████| 554/554 [00:03<00:00, 183.39it/s]\n"
     ]
    },
    {
     "name": "stdout",
     "output_type": "stream",
     "text": [
      "pulling data from ibl database ..\n",
      "eid: c958919c-2e75-435d-845d-5b62190b520e\n",
      "pid: cc72fdb7-92e8-47e6-9cea-94f27c0da2d8\n",
      "number of trials found: 705\n",
      "found 705 trials from 79.14 to 3939.10 sec.\n",
      "found 12 good units in region grn\n"
     ]
    },
    {
     "name": "stderr",
     "output_type": "stream",
     "text": [
      "Compute spike count: 100%|██████████████████████████████████████████████████████████████████████████████████████████████████████████████████████████████████████████████| 705/705 [00:00<00:00, 1482.35it/s]\n"
     ]
    },
    {
     "name": "stdout",
     "output_type": "stream",
     "text": [
      "pulling data from ibl database ..\n",
      "eid: 32d27583-56aa-4510-bc03-669036edad20\n",
      "pid: 2e720cee-05cc-440e-a24b-13794b1ac01d\n",
      "number of trials found: 682\n",
      "found 682 trials from 28.94 to 3431.07 sec.\n",
      "found 6 good units in region grn\n"
     ]
    },
    {
     "name": "stderr",
     "output_type": "stream",
     "text": [
      "Compute spike count: 100%|██████████████████████████████████████████████████████████████████████████████████████████████████████████████████████████████████████████████| 682/682 [00:00<00:00, 1481.14it/s]\n"
     ]
    },
    {
     "name": "stdout",
     "output_type": "stream",
     "text": [
      "pulling data from ibl database ..\n",
      "eid: 7cec9792-b8f9-4878-be7e-f08103dc0323\n",
      "pid: e17db2b6-b778-4e2a-845c-c4d040b0c875\n",
      "number of trials found: 542\n",
      "found 542 trials from 307.48 to 2989.17 sec.\n",
      "found 0 good units in region grn\n"
     ]
    },
    {
     "name": "stderr",
     "output_type": "stream",
     "text": [
      "Compute spike count: 100%|█████████████████████████████████████████████████████████████████████████████████████████████████████████████████████████████████████████████| 542/542 [00:00<00:00, 88815.16it/s]\n"
     ]
    },
    {
     "name": "stdout",
     "output_type": "stream",
     "text": [
      "pulling data from ibl database ..\n",
      "eid: aec5d3cc-4bb2-4349-80a9-0395b76f04e2\n",
      "pid: 7332e6cf-9847-4aca-b2e3-d864989dd0fb\n",
      "number of trials found: 581\n",
      "found 581 trials from 29.78 to 2802.68 sec.\n",
      "found 16 good units in region grn\n"
     ]
    },
    {
     "name": "stderr",
     "output_type": "stream",
     "text": [
      "Compute spike count: 100%|███████████████████████████████████████████████████████████████████████████████████████████████████████████████████████████████████████████████| 581/581 [00:00<00:00, 845.08it/s]\n"
     ]
    },
    {
     "name": "stdout",
     "output_type": "stream",
     "text": [
      "pulling data from ibl database ..\n",
      "eid: 25d1920e-a2af-4b6c-9f2e-fc6c65576544\n",
      "pid: c0e59477-43f0-4441-9f81-3a55ddad9dad\n",
      "number of trials found: 358\n",
      "found 358 trials from 9.42 to 2224.60 sec.\n",
      "found 21 good units in region grn\n"
     ]
    },
    {
     "name": "stderr",
     "output_type": "stream",
     "text": [
      "Compute spike count: 100%|██████████████████████████████████████████████████████████████████████████████████████████████████████████████████████████████████████████████| 358/358 [00:00<00:00, 1365.74it/s]\n"
     ]
    },
    {
     "name": "stdout",
     "output_type": "stream",
     "text": [
      "pulling data from ibl database ..\n",
      "eid: 571d3ffe-54a5-473d-a265-5dc373eb7efc\n",
      "pid: aecd7612-b5c5-4ad2-9e76-e5b783387e47\n",
      "number of trials found: 359\n",
      "found 359 trials from 14.38 to 2766.52 sec.\n",
      "found 10 good units in region grn\n"
     ]
    },
    {
     "name": "stderr",
     "output_type": "stream",
     "text": [
      "Compute spike count: 100%|██████████████████████████████████████████████████████████████████████████████████████████████████████████████████████████████████████████████| 359/359 [00:00<00:00, 5521.63it/s]\n"
     ]
    },
    {
     "name": "stdout",
     "output_type": "stream",
     "text": [
      "pulling data from ibl database ..\n",
      "eid: 75b6b132-d998-4fba-8482-961418ac957d\n",
      "pid: 6a098711-5423-4072-8909-7cff0e2d4531\n",
      "number of trials found: 403\n",
      "found 403 trials from 49.05 to 3074.29 sec.\n",
      "found 6 good units in region grn\n"
     ]
    },
    {
     "name": "stderr",
     "output_type": "stream",
     "text": [
      "Compute spike count: 100%|█████████████████████████████████████████████████████████████████████████████████████████████████████████████████████████████████████████████| 403/403 [00:00<00:00, 16809.75it/s]\n"
     ]
    },
    {
     "name": "stdout",
     "output_type": "stream",
     "text": [
      "pulling data from ibl database ..\n",
      "eid: 746d1902-fa59-4cab-b0aa-013be36060d5\n",
      "pid: 39883ded-f5a2-4f4f-a98e-fb138eb8433e\n",
      "number of trials found: 561\n",
      "found 561 trials from 39.62 to 4058.39 sec.\n",
      "found 9 good units in region grn\n"
     ]
    },
    {
     "name": "stderr",
     "output_type": "stream",
     "text": [
      "Compute spike count: 100%|██████████████████████████████████████████████████████████████████████████████████████████████████████████████████████████████████████████████| 561/561 [00:00<00:00, 2333.04it/s]\n"
     ]
    },
    {
     "name": "stdout",
     "output_type": "stream",
     "text": [
      "pulling data from ibl database ..\n",
      "eid: 671c7ea7-6726-4fbe-adeb-f89c2c8e489b\n",
      "pid: 04c9890f-2276-4c20-854f-305ff5c9b6cf\n",
      "number of trials found: 700\n",
      "found 700 trials from 109.27 to 3491.16 sec.\n",
      "found 24 good units in region grn\n"
     ]
    },
    {
     "name": "stderr",
     "output_type": "stream",
     "text": [
      "Compute spike count: 100%|███████████████████████████████████████████████████████████████████████████████████████████████████████████████████████████████████████████████| 700/700 [00:01<00:00, 587.54it/s]\n"
     ]
    },
    {
     "name": "stdout",
     "output_type": "stream",
     "text": [
      "pulling data from ibl database ..\n",
      "eid: eebacd5a-7dcd-4ba6-9dff-ec2a4d2f19e0\n",
      "pid: df6012d0-d921-4d0a-af2a-2a91030d0f42\n",
      "number of trials found: 554\n",
      "found 554 trials from 56.17 to 2721.08 sec.\n",
      "found 20 good units in region grn\n"
     ]
    },
    {
     "name": "stderr",
     "output_type": "stream",
     "text": [
      "Compute spike count: 100%|███████████████████████████████████████████████████████████████████████████████████████████████████████████████████████████████████████████████| 554/554 [00:00<00:00, 783.15it/s]\n"
     ]
    },
    {
     "name": "stdout",
     "output_type": "stream",
     "text": [
      "=================\n",
      "Downloaded 10 PIDs in region GRN ..\n",
      "=================\n",
      "Successfully cached all data!\n"
     ]
    }
   ],
   "source": [
    "# download and cache data\n",
    "\n",
    "for roi_idx, roi in enumerate(regions):\n",
    "    \n",
    "    print(\"=================\")\n",
    "    print(f\"Downloading data in region {roi} ..\")\n",
    "    \n",
    "    pids = one.search_insertions(atlas_acronym=[roi], query_type='remote')\n",
    "    pids = list(pids)[:n_sess]\n",
    "    \n",
    "    # load choice\n",
    "    neural_dict, choice_dict = load_data_from_pids(\n",
    "        pids,\n",
    "        brain_region=roi.lower(),\n",
    "        behavior=\"choice\",\n",
    "        data_type=\"all_ks\",\n",
    "        n_t_bins = 40,\n",
    "    )\n",
    "    available_pids = list(neural_dict.keys())\n",
    "    \n",
    "    # load contrast\n",
    "    _, contrast_dict = load_data_from_pids(\n",
    "        pids,\n",
    "        brain_region=roi.lower(),\n",
    "        behavior=\"contrast\",\n",
    "        data_type=\"good_ks\",\n",
    "        n_t_bins = 40,\n",
    "    )\n",
    "\n",
    "    print(\"=================\")\n",
    "    print(f\"Downloaded {len(available_pids)} PIDs in region {roi} ..\")\n",
    "    \n",
    "    for _, pid in enumerate(available_pids):\n",
    "        xs, ys = neural_dict[pid], choice_dict[pid]\n",
    "        n_trials, n_units, n_t_bins = xs.shape\n",
    "        if n_units < 5:\n",
    "            continue\n",
    "        xs = sliding_window_over_trials(xs, half_window_size=0).squeeze()\n",
    "        ys = sliding_window_over_trials(ys, half_window_size=0).squeeze()\n",
    "        xs, ys = torch.tensor(xs), torch.tensor(ys)\n",
    "        \n",
    "        contrast_dict[pid] = np.nan_to_num(contrast_dict[pid], 0)\n",
    "        contrast_dict[pid].T[0] *= -1\n",
    "        contrast = contrast_dict[pid].sum(1)\n",
    "        \n",
    "        # INCORPORATE CHANGE HERE!\n",
    "        contrast_mask_dict = {}\n",
    "        for lvl in np.unique(np.abs(contrast)):\n",
    "            contrast_mask_dict.update(\n",
    "                {lvl: np.argwhere(np.abs(contrast) == lvl).flatten()}\n",
    "            )\n",
    "            \n",
    "        path = out_path/roi\n",
    "        if not os.path.exists(path):\n",
    "            os.makedirs(path)\n",
    "            \n",
    "        data_dict = {}\n",
    "        data_dict.update({'contrast': contrast})\n",
    "        data_dict.update({'contrast_mask': contrast_mask_dict})\n",
    "        data_dict.update({'meta':\n",
    "            {\"n_trials\": n_trials, \"n_units\": n_units, \"n_t_bins\": n_t_bins}\n",
    "        })\n",
    "        xs_per_lvl, ys_per_lvl = {}, {}\n",
    "        xs_per_lvl.update({\"all\": xs})\n",
    "        ys_per_lvl.update({\"all\": ys})\n",
    "        for lvl in np.unique(np.abs(contrast)):\n",
    "            try:\n",
    "                xs_per_lvl.update({lvl: xs[contrast_mask_dict[lvl]]})\n",
    "                ys_per_lvl.update({lvl: ys[contrast_mask_dict[lvl]]})\n",
    "            except:\n",
    "                continue\n",
    "        data_dict.update({'neural_contrast': xs_per_lvl})\n",
    "        data_dict.update({'choice_contrast': ys_per_lvl})\n",
    "        np.save(path/f\"pid_{pid}.npy\", data_dict)\n",
    "        \n",
    "    print(\"=================\")\n",
    "    print(f\"Successfully cached all data!\")"
   ]
  },
  {
   "cell_type": "code",
   "execution_count": 79,
   "id": "9bc7962a-763a-45a1-be42-112b1649c327",
   "metadata": {
    "tags": []
   },
   "outputs": [],
   "source": [
    "class SessionDataset:\n",
    "    def __init__(self, dataset, roi_idx, pid_idx, **kargs):\n",
    "        self.xs, self.ys = dataset\n",
    "        self.n_trials, self.n_units, _ = self.xs.shape\n",
    "        self.roi_idx = roi_idx\n",
    "        self.pid_idx = pid_idx\n",
    "        \n",
    "    def __len__(self):\n",
    "        return self.n_trials\n",
    "    \n",
    "    def __getitem__(self, index):\n",
    "        return torch.tensor(self.xs[index]).to(DEVICE), torch.tensor(self.ys[index]).to(DEVICE), self.roi_idx, self.pid_idx\n",
    "    \n",
    "def dataloader(datasets, roi_idxs, pid_idxs, batch_size=32): \n",
    "    loaders = []\n",
    "    for i, dataset in enumerate(datasets):\n",
    "        sess_dataset = SessionDataset(dataset, roi_idxs[i], pid_idxs[i])\n",
    "        loaders.append(DataLoader(\n",
    "            sess_dataset, batch_size = batch_size\n",
    "        ))\n",
    "    return loaders\n",
    "\n",
    "class Hier_Reduced_Rank_Model(nn.Module):\n",
    "    def __init__(\n",
    "        self, \n",
    "        n_roi,\n",
    "        n_units, \n",
    "        n_t_bin, \n",
    "        rank_V,\n",
    "        rank_B\n",
    "    ):\n",
    "        super(Hier_Reduced_Rank_Model, self).__init__()\n",
    "        \n",
    "        self.n_roi = n_roi\n",
    "        self.n_sess = len(n_units)\n",
    "        self.n_units = n_units\n",
    "        self.n_t_bin = n_t_bin\n",
    "        self.rank_V = rank_V\n",
    "        self.rank_B = rank_B\n",
    "        \n",
    "        self.Us = nn.ParameterList(\n",
    "            [nn.Parameter(torch.randn(self.n_units[i], self.rank_V)) for i in range(self.n_sess)]\n",
    "        )\n",
    "        self.A = nn.Parameter(torch.randn(self.n_roi, self.rank_V, self.rank_B)) \n",
    "        self.B = nn.Parameter(\n",
    "            torch.randn(self.rank_B, self.n_t_bin)\n",
    "        ) \n",
    "        self.intercepts = nn.ParameterList(\n",
    "            [nn.Parameter(torch.randn(1,)) for i in range(self.n_sess)]\n",
    "        )\n",
    "        self.sigmoid = nn.Sigmoid()\n",
    "\n",
    "    def forward(self, datasets):\n",
    "        pred_lst, gt_lst = [], []\n",
    "        for dataset in datasets:\n",
    "            X, Y, roi_idx, sess_idx = dataset\n",
    "            roi_idx = torch.unique(roi_idx)\n",
    "            sess_idx = torch.unique(sess_idx)\n",
    "            n_trials, n_units, n_t_bins = X.shape\n",
    "            self.Vs = torch.einsum(\"ijk,kt->ijt\", self.A, self.B)\n",
    "            Beta = torch.einsum(\"cr,rt->ct\", self.Us[sess_idx], self.Vs[roi_idx].squeeze()).to(DEVICE)\n",
    "            out = torch.einsum(\"ct,kct->k\", Beta, X)\n",
    "            out += self.intercepts[sess_idx].to(DEVICE) * torch.ones(n_trials).to(DEVICE)\n",
    "            out = self.sigmoid(out)\n",
    "            pred_lst.append(out)\n",
    "            gt_lst.append(Y)\n",
    "        return pred_lst, gt_lst\n",
    "    \n",
    "class LitHierRRR(L.LightningModule):\n",
    "    def __init__(self, model):\n",
    "        super().__init__()\n",
    "        self.model = model\n",
    "\n",
    "    def training_step(self, batch):\n",
    "        losses = 0\n",
    "        pred_lst, gt_lst = self.model(batch)\n",
    "        for i in range(len(batch)):\n",
    "            losses += nn.BCELoss()(pred_lst[i], gt_lst[i])\n",
    "        loss = losses / len(batch)\n",
    "        self.log(\"loss\", loss, on_step=False, on_epoch=True, prog_bar=True, logger=True)\n",
    "        return loss\n",
    "    \n",
    "    def validation_step(self, batch):\n",
    "        accs, aucs = self._shared_eval_step(batch)\n",
    "        metrics = {\"val_acc\": np.mean(accs), \"val_auc\": np.mean(aucs)}\n",
    "        self.log_dict(metrics, on_step=False, on_epoch=True, prog_bar=True)\n",
    "    \n",
    "    def test_step(self, batch):\n",
    "        accs, aucs = self._shared_eval_step(batch)\n",
    "        for i in range(len(batch)):\n",
    "            print(f\"session {i} test_acc {accs[i]} test_auc {aucs[i]}\")\n",
    "\n",
    "    def _shared_eval_step(self, batch):\n",
    "        pred_lst, gt_lst = self.model(batch)\n",
    "        accs, aucs = [], []\n",
    "        for i in range(len(batch)):\n",
    "            auroc = AUROC(task=\"binary\")\n",
    "            acc = accuracy(pred_lst[i], gt_lst[i], task=\"binary\")\n",
    "            auc = auroc(pred_lst[i], gt_lst[i])\n",
    "            accs.append(acc)\n",
    "            aucs.append(auc)\n",
    "        return accs, aucs\n",
    "        \n",
    "    def configure_optimizers(self):\n",
    "        optimizer = optim.Adam(self.parameters(), lr=1e-2, weight_decay=1e-3)\n",
    "        return optimizer"
   ]
  },
  {
   "cell_type": "code",
   "execution_count": 50,
   "id": "7d82d9ea-aadb-452c-aea5-ffcc3fc7b797",
   "metadata": {
    "tags": []
   },
   "outputs": [],
   "source": [
    "# setup\n",
    "regions = [\"LP\", \"GRN\"]\n",
    "n_rank_V = 2\n",
    "n_rank_B = 2\n",
    "n_epochs = 1000\n",
    "in_path = Path(\"/mnt/3TB/yizi/cached_ibl_data\")"
   ]
  },
  {
   "cell_type": "code",
   "execution_count": null,
   "id": "39383070-bdcc-4836-aa4d-8ce52faeb5e8",
   "metadata": {},
   "outputs": [],
   "source": [
    "# prep data for fitting hier-RRR on trials with diff contrast\n",
    "\n",
    "res_dict = {}\n",
    "for lvl in [\"all\", .0625, .125, .25, 1.]:\n",
    "    \n",
    "    print(\"=================\")\n",
    "    print(f\"Started training on trials with contrast {lvl} ..\")\n",
    "\n",
    "    lst_datasets, lst_units, lst_regions, lst_sessions, lst_region_names, lst_pids = [], [], [], [], [], []\n",
    "\n",
    "    pid_idx = 0\n",
    "    for roi_idx, roi in enumerate(regions):\n",
    "\n",
    "        f_names = os.listdir(in_path/roi)\n",
    "        pids = [f_name.split(\"_\")[1].split(\".\")[0] for f_name in f_names]\n",
    "\n",
    "        print(\"=================\")\n",
    "        print(f\"Loading {len(pids)} PIDs in region {roi}:\")\n",
    "        for pid in pids:\n",
    "            print(pid)\n",
    "\n",
    "        data_dict = np.load(in_path/roi/f\"pid_{pid}.npy\", allow_pickle=True).item()\n",
    "\n",
    "        for _, pid in enumerate(pids):\n",
    "            xs = data_dict[\"neural_contrast\"][lvl]\n",
    "            ys = data_dict[\"choice_contrast\"][lvl]\n",
    "            lst_datasets.append((xs, ys))\n",
    "            lst_units.append(data_dict[\"meta\"][\"n_units\"])\n",
    "            lst_regions.append(roi_idx)\n",
    "            lst_region_names.append(roi)\n",
    "            lst_sessions.append(pid_idx)\n",
    "            lst_pids.append(pid)\n",
    "            pid_idx += 1 \n",
    "\n",
    "    train_loaders = dataloader(lst_datasets, lst_regions, lst_sessions, batch_size=128)\n",
    "    train_loaders = CombinedLoader(train_loaders, mode=\"min_size\")\n",
    "\n",
    "    hier_rrr = Hier_Reduced_Rank_Model(\n",
    "        n_roi = len(regions),\n",
    "        n_units = lst_units, \n",
    "        n_t_bin = data_dict[\"meta\"][\"n_t_bins\"], \n",
    "        rank_V = n_rank_V,\n",
    "        rank_B = n_rank_B\n",
    "    )\n",
    "\n",
    "    lit_hier_rrr = LitHierRRR(hier_rrr)\n",
    "    trainer = L.Trainer(max_epochs=n_epochs)\n",
    "    trainer.fit(model=lit_hier_rrr, \n",
    "                train_dataloaders=train_loaders)\n",
    "\n",
    "    Us = [hier_rrr.Us[pid_idx].detach().numpy() for pid_idx in lst_sessions]\n",
    "    Vs = hier_rrr.Vs.detach().numpy()\n",
    "\n",
    "    svd_Vs = []\n",
    "    for pid_idx in lst_sessions:\n",
    "        roi_idx = lst_regions[pid_idx]\n",
    "        W = Us[pid_idx] @ Vs[roi_idx]\n",
    "        U, S, V = svd(W)\n",
    "        svd_Vs.append(np.diag(S[:n_rank_V]) @ V[:n_rank_V, :])\n",
    "    svd_Vs = np.array(svd_Vs)\n",
    "    \n",
    "    fig, axes = plt.subplots(len(regions), 1, figsize=(5, 2*len(regions)))\n",
    "    for i, roi_idx in enumerate(np.unique(lst_regions)):\n",
    "        mask = np.array(lst_regions) == roi_idx\n",
    "        axes[i].plot(np.abs(svd_Vs[mask].mean(0)[0]))\n",
    "        axes[i].set_title(f\"{regions[roi_idx]} (contrast = {lvl})\")\n",
    "    plt.tight_layout()\n",
    "    plt.show()\n",
    "\n",
    "    res_dict.update({lvl: {}})\n",
    "    res_dict[lvl].update({\"pid_idxs\": lst_sessions})\n",
    "    res_dict[lvl].update({\"regions_idxs\": lst_regions})\n",
    "    res_dict[lvl].update({\"region_names\": lst_region_names})\n",
    "    res_dict[lvl].update({\"pids\": lst_pids})\n",
    "    res_dict[lvl].update({\"svd_Vs\": svd_Vs})\n",
    "    \n",
    "    print(\"=================\")\n",
    "    print(f\"Finished training on trials with contrast {lvl} ..\")\n",
    "\n",
    "np.save(in_path/f\"res_{date.today()}.npy\", res_dict)"
   ]
  },
  {
   "cell_type": "code",
   "execution_count": 82,
   "id": "3dce3b42-6bab-4264-96b9-f1c0fab4f16e",
   "metadata": {},
   "outputs": [],
   "source": [
    "n_rank_V = 5\n",
    "n_rank_B = 5\n",
    "n_epochs = 1000"
   ]
  },
  {
   "cell_type": "code",
   "execution_count": 83,
   "id": "e731abd0-51c6-4e17-9c7f-a08f07403764",
   "metadata": {},
   "outputs": [
    {
     "name": "stdout",
     "output_type": "stream",
     "text": [
      "cuda:0\n"
     ]
    }
   ],
   "source": [
    "DEVICE = torch.device(\"cuda:0\" if torch.cuda.is_available() else \"cpu\")\n",
    "# DEVICE = torch.device(\"cpu\")\n",
    "print(DEVICE)"
   ]
  },
  {
   "cell_type": "code",
   "execution_count": 84,
   "id": "d2276565-4c22-458f-b7dd-8df769f48971",
   "metadata": {
    "tags": []
   },
   "outputs": [
    {
     "name": "stderr",
     "output_type": "stream",
     "text": [
      "GPU available: True (cuda), used: True\n",
      "TPU available: False, using: 0 TPU cores\n",
      "IPU available: False, using: 0 IPUs\n",
      "HPU available: False, using: 0 HPUs\n",
      "/home/yizi/anaconda3/envs/clusterless/lib/python3.8/site-packages/lightning/pytorch/trainer/configuration_validator.py:74: You defined a `validation_step` but have no `val_dataloader`. Skipping val loop.\n",
      "LOCAL_RANK: 0 - CUDA_VISIBLE_DEVICES: [0]\n",
      "\n",
      "  | Name  | Type                    | Params\n",
      "--------------------------------------------------\n",
      "0 | model | Hier_Reduced_Rank_Model | 2.9 K \n",
      "--------------------------------------------------\n",
      "2.9 K     Trainable params\n",
      "0         Non-trainable params\n",
      "2.9 K     Total params\n",
      "0.012     Total estimated model params size (MB)\n"
     ]
    },
    {
     "name": "stdout",
     "output_type": "stream",
     "text": [
      "=================\n",
      "Started training on 1 / 5 folds ..\n",
      "=================\n",
      "Loading 10 PIDs in region LP:\n",
      "a6b71993-165b-4c43-845c-c062fe7d7a11\n",
      "ec2fbc3e-cb2b-48cb-a521-3a6ca15e244c\n",
      "bef05a5c-68c3-4513-87c7-b3151c88da8e\n",
      "7a620688-66cb-44d3-b79b-ccac1c8ba23e\n",
      "d0046384-16ea-4f69-bae9-165e8d0aeacf\n",
      "8c732bf2-639d-496c-bf82-464bc9c2d54b\n",
      "b72b22c2-6e9d-4604-9910-20c0e1a467d7\n",
      "8b31b4bd-003e-4816-a3bf-2df4cc3558f8\n",
      "1a924329-65aa-465d-b201-c2dd898aebd0\n",
      "22f26d69-0b30-450e-9618-ee801b720e0a\n",
      "=================\n",
      "Loading 10 PIDs in region GRN:\n",
      "e17db2b6-b778-4e2a-845c-c4d040b0c875\n",
      "c0e59477-43f0-4441-9f81-3a55ddad9dad\n",
      "df6012d0-d921-4d0a-af2a-2a91030d0f42\n",
      "cc72fdb7-92e8-47e6-9cea-94f27c0da2d8\n",
      "7332e6cf-9847-4aca-b2e3-d864989dd0fb\n",
      "04c9890f-2276-4c20-854f-305ff5c9b6cf\n",
      "6a098711-5423-4072-8909-7cff0e2d4531\n",
      "39883ded-f5a2-4f4f-a98e-fb138eb8433e\n",
      "aecd7612-b5c5-4ad2-9e76-e5b783387e47\n",
      "2e720cee-05cc-440e-a24b-13794b1ac01d\n"
     ]
    },
    {
     "name": "stderr",
     "output_type": "stream",
     "text": [
      "/home/yizi/anaconda3/envs/clusterless/lib/python3.8/site-packages/lightning/pytorch/trainer/connectors/data_connector.py:441: The 'train_dataloader' does not have many workers which may be a bottleneck. Consider increasing the value of the `num_workers` argument` to `num_workers=15` in the `DataLoader` to improve performance.\n",
      "/home/yizi/anaconda3/envs/clusterless/lib/python3.8/site-packages/lightning/pytorch/loops/fit_loop.py:293: The number of training batches (5) is smaller than the logging interval Trainer(log_every_n_steps=50). Set a lower value for log_every_n_steps if you want to see logs for the training epoch.\n"
     ]
    },
    {
     "data": {
      "application/vnd.jupyter.widget-view+json": {
       "model_id": "2814664a0ce548c581eae04aabfd81bf",
       "version_major": 2,
       "version_minor": 0
      },
      "text/plain": [
       "Training: |                                                                                                   …"
      ]
     },
     "metadata": {},
     "output_type": "display_data"
    },
    {
     "name": "stderr",
     "output_type": "stream",
     "text": [
      "/tmp/ipykernel_98815/2477955401.py:12: UserWarning: To copy construct from a tensor, it is recommended to use sourceTensor.clone().detach() or sourceTensor.clone().detach().requires_grad_(True), rather than torch.tensor(sourceTensor).\n",
      "  return torch.tensor(self.xs[index]).to(DEVICE), torch.tensor(self.ys[index]).to(DEVICE), self.roi_idx, self.pid_idx\n",
      "`Trainer.fit` stopped: `max_epochs=1000` reached.\n",
      "/home/yizi/anaconda3/envs/clusterless/lib/python3.8/site-packages/torchmetrics/utilities/prints.py:43: UserWarning: No negative samples in targets, false positive value should be meaningless. Returning zero tensor in false positive score\n",
      "  warnings.warn(*args, **kwargs)  # noqa: B028\n",
      "GPU available: True (cuda), used: True\n",
      "TPU available: False, using: 0 TPU cores\n",
      "IPU available: False, using: 0 IPUs\n",
      "HPU available: False, using: 0 HPUs\n",
      "/home/yizi/anaconda3/envs/clusterless/lib/python3.8/site-packages/lightning/pytorch/trainer/configuration_validator.py:74: You defined a `validation_step` but have no `val_dataloader`. Skipping val loop.\n",
      "LOCAL_RANK: 0 - CUDA_VISIBLE_DEVICES: [0]\n",
      "\n",
      "  | Name  | Type                    | Params\n",
      "--------------------------------------------------\n",
      "0 | model | Hier_Reduced_Rank_Model | 2.9 K \n",
      "--------------------------------------------------\n",
      "2.9 K     Trainable params\n",
      "0         Non-trainable params\n",
      "2.9 K     Total params\n",
      "0.012     Total estimated model params size (MB)\n"
     ]
    },
    {
     "name": "stdout",
     "output_type": "stream",
     "text": [
      "Accuracy:  [0.30859375 0.30859375 0.30859375 0.30859375 0.30859375 0.30859375\n",
      " 0.30859375 0.30859375 0.30859375 0.30859375 0.8858507  0.86631945\n",
      " 0.88975695 0.88975695 0.88975695 0.88975695 0.8936632  0.88975695\n",
      " 0.8936632  0.88975695]\n",
      "AUC:  [0.31666667 0.31626506 0.31639893 0.31639893 0.3165328  0.3165328\n",
      " 0.3165328  0.31666667 0.31639893 0.31639893 0.93871684 0.93345626\n",
      " 0.93675941 0.93663707 0.93627005 0.93663707 0.93773812 0.93639239\n",
      " 0.93688175 0.93675941]\n",
      "=================\n",
      "Finished training on 1 / 5 folds ..\n",
      "=================\n",
      "Started training on 2 / 5 folds ..\n",
      "=================\n",
      "Loading 10 PIDs in region LP:\n",
      "a6b71993-165b-4c43-845c-c062fe7d7a11\n",
      "ec2fbc3e-cb2b-48cb-a521-3a6ca15e244c\n",
      "bef05a5c-68c3-4513-87c7-b3151c88da8e\n",
      "7a620688-66cb-44d3-b79b-ccac1c8ba23e\n",
      "d0046384-16ea-4f69-bae9-165e8d0aeacf\n",
      "8c732bf2-639d-496c-bf82-464bc9c2d54b\n",
      "b72b22c2-6e9d-4604-9910-20c0e1a467d7\n",
      "8b31b4bd-003e-4816-a3bf-2df4cc3558f8\n",
      "1a924329-65aa-465d-b201-c2dd898aebd0\n",
      "22f26d69-0b30-450e-9618-ee801b720e0a\n",
      "=================\n",
      "Loading 10 PIDs in region GRN:\n",
      "e17db2b6-b778-4e2a-845c-c4d040b0c875\n",
      "c0e59477-43f0-4441-9f81-3a55ddad9dad\n",
      "df6012d0-d921-4d0a-af2a-2a91030d0f42\n",
      "cc72fdb7-92e8-47e6-9cea-94f27c0da2d8\n",
      "7332e6cf-9847-4aca-b2e3-d864989dd0fb\n",
      "04c9890f-2276-4c20-854f-305ff5c9b6cf\n",
      "6a098711-5423-4072-8909-7cff0e2d4531\n",
      "39883ded-f5a2-4f4f-a98e-fb138eb8433e\n",
      "aecd7612-b5c5-4ad2-9e76-e5b783387e47\n",
      "2e720cee-05cc-440e-a24b-13794b1ac01d\n"
     ]
    },
    {
     "name": "stderr",
     "output_type": "stream",
     "text": [
      "/home/yizi/anaconda3/envs/clusterless/lib/python3.8/site-packages/lightning/pytorch/trainer/connectors/data_connector.py:441: The 'train_dataloader' does not have many workers which may be a bottleneck. Consider increasing the value of the `num_workers` argument` to `num_workers=15` in the `DataLoader` to improve performance.\n",
      "/home/yizi/anaconda3/envs/clusterless/lib/python3.8/site-packages/lightning/pytorch/loops/fit_loop.py:293: The number of training batches (5) is smaller than the logging interval Trainer(log_every_n_steps=50). Set a lower value for log_every_n_steps if you want to see logs for the training epoch.\n"
     ]
    },
    {
     "data": {
      "application/vnd.jupyter.widget-view+json": {
       "model_id": "908377b4a1de4776b6f6f0991b11971c",
       "version_major": 2,
       "version_minor": 0
      },
      "text/plain": [
       "Training: |                                                                                                   …"
      ]
     },
     "metadata": {},
     "output_type": "display_data"
    },
    {
     "name": "stderr",
     "output_type": "stream",
     "text": [
      "/tmp/ipykernel_98815/2477955401.py:12: UserWarning: To copy construct from a tensor, it is recommended to use sourceTensor.clone().detach() or sourceTensor.clone().detach().requires_grad_(True), rather than torch.tensor(sourceTensor).\n",
      "  return torch.tensor(self.xs[index]).to(DEVICE), torch.tensor(self.ys[index]).to(DEVICE), self.roi_idx, self.pid_idx\n",
      "`Trainer.fit` stopped: `max_epochs=1000` reached.\n",
      "/home/yizi/anaconda3/envs/clusterless/lib/python3.8/site-packages/torchmetrics/utilities/prints.py:43: UserWarning: No positive samples in targets, true positive value should be meaningless. Returning zero tensor in true positive score\n",
      "  warnings.warn(*args, **kwargs)  # noqa: B028\n",
      "GPU available: True (cuda), used: True\n",
      "TPU available: False, using: 0 TPU cores\n",
      "IPU available: False, using: 0 IPUs\n",
      "HPU available: False, using: 0 HPUs\n",
      "/home/yizi/anaconda3/envs/clusterless/lib/python3.8/site-packages/lightning/pytorch/trainer/configuration_validator.py:74: You defined a `validation_step` but have no `val_dataloader`. Skipping val loop.\n",
      "LOCAL_RANK: 0 - CUDA_VISIBLE_DEVICES: [0]\n",
      "\n",
      "  | Name  | Type                    | Params\n",
      "--------------------------------------------------\n",
      "0 | model | Hier_Reduced_Rank_Model | 2.9 K \n",
      "--------------------------------------------------\n",
      "2.9 K     Trainable params\n",
      "0         Non-trainable params\n",
      "2.9 K     Total params\n",
      "0.012     Total estimated model params size (MB)\n"
     ]
    },
    {
     "name": "stdout",
     "output_type": "stream",
     "text": [
      "Accuracy:  [0.81640625 0.8125     0.8125     0.8125     0.8125     0.81640625\n",
      " 0.8125     0.8125     0.8125     0.80859375 0.8624132  0.8624132\n",
      " 0.87413195 0.8780382  0.86631945 0.87413195 0.8624132  0.8780382\n",
      " 0.86631945 0.8702257 ]\n",
      "AUC:  [0.34318664 0.34066808 0.34835631 0.35113998 0.34053552 0.34769353\n",
      " 0.34345175 0.34225875 0.34080064 0.34212619 0.97285679 0.97261115\n",
      " 0.97408499 0.97420781 0.97408499 0.97408499 0.97310243 0.97322525\n",
      " 0.97359371 0.97371653]\n",
      "=================\n",
      "Finished training on 2 / 5 folds ..\n",
      "=================\n",
      "Started training on 3 / 5 folds ..\n",
      "=================\n",
      "Loading 10 PIDs in region LP:\n",
      "a6b71993-165b-4c43-845c-c062fe7d7a11\n",
      "ec2fbc3e-cb2b-48cb-a521-3a6ca15e244c\n",
      "bef05a5c-68c3-4513-87c7-b3151c88da8e\n",
      "7a620688-66cb-44d3-b79b-ccac1c8ba23e\n",
      "d0046384-16ea-4f69-bae9-165e8d0aeacf\n",
      "8c732bf2-639d-496c-bf82-464bc9c2d54b\n",
      "b72b22c2-6e9d-4604-9910-20c0e1a467d7\n",
      "8b31b4bd-003e-4816-a3bf-2df4cc3558f8\n",
      "1a924329-65aa-465d-b201-c2dd898aebd0\n",
      "22f26d69-0b30-450e-9618-ee801b720e0a\n",
      "=================\n",
      "Loading 10 PIDs in region GRN:\n",
      "e17db2b6-b778-4e2a-845c-c4d040b0c875\n",
      "c0e59477-43f0-4441-9f81-3a55ddad9dad\n",
      "df6012d0-d921-4d0a-af2a-2a91030d0f42\n",
      "cc72fdb7-92e8-47e6-9cea-94f27c0da2d8\n",
      "7332e6cf-9847-4aca-b2e3-d864989dd0fb\n",
      "04c9890f-2276-4c20-854f-305ff5c9b6cf\n",
      "6a098711-5423-4072-8909-7cff0e2d4531\n",
      "39883ded-f5a2-4f4f-a98e-fb138eb8433e\n",
      "aecd7612-b5c5-4ad2-9e76-e5b783387e47\n",
      "2e720cee-05cc-440e-a24b-13794b1ac01d\n"
     ]
    },
    {
     "name": "stderr",
     "output_type": "stream",
     "text": [
      "/home/yizi/anaconda3/envs/clusterless/lib/python3.8/site-packages/lightning/pytorch/trainer/connectors/data_connector.py:441: The 'train_dataloader' does not have many workers which may be a bottleneck. Consider increasing the value of the `num_workers` argument` to `num_workers=15` in the `DataLoader` to improve performance.\n",
      "/home/yizi/anaconda3/envs/clusterless/lib/python3.8/site-packages/lightning/pytorch/loops/fit_loop.py:293: The number of training batches (5) is smaller than the logging interval Trainer(log_every_n_steps=50). Set a lower value for log_every_n_steps if you want to see logs for the training epoch.\n"
     ]
    },
    {
     "data": {
      "application/vnd.jupyter.widget-view+json": {
       "model_id": "194484cb82dc4e5ea3d3f6c7adbd963f",
       "version_major": 2,
       "version_minor": 0
      },
      "text/plain": [
       "Training: |                                                                                                   …"
      ]
     },
     "metadata": {},
     "output_type": "display_data"
    },
    {
     "name": "stderr",
     "output_type": "stream",
     "text": [
      "/tmp/ipykernel_98815/2477955401.py:12: UserWarning: To copy construct from a tensor, it is recommended to use sourceTensor.clone().detach() or sourceTensor.clone().detach().requires_grad_(True), rather than torch.tensor(sourceTensor).\n",
      "  return torch.tensor(self.xs[index]).to(DEVICE), torch.tensor(self.ys[index]).to(DEVICE), self.roi_idx, self.pid_idx\n",
      "`Trainer.fit` stopped: `max_epochs=1000` reached.\n",
      "/home/yizi/anaconda3/envs/clusterless/lib/python3.8/site-packages/torchmetrics/utilities/prints.py:43: UserWarning: No positive samples in targets, true positive value should be meaningless. Returning zero tensor in true positive score\n",
      "  warnings.warn(*args, **kwargs)  # noqa: B028\n",
      "GPU available: True (cuda), used: True\n",
      "TPU available: False, using: 0 TPU cores\n",
      "IPU available: False, using: 0 IPUs\n",
      "HPU available: False, using: 0 HPUs\n",
      "/home/yizi/anaconda3/envs/clusterless/lib/python3.8/site-packages/lightning/pytorch/trainer/configuration_validator.py:74: You defined a `validation_step` but have no `val_dataloader`. Skipping val loop.\n",
      "LOCAL_RANK: 0 - CUDA_VISIBLE_DEVICES: [0]\n",
      "\n",
      "  | Name  | Type                    | Params\n",
      "--------------------------------------------------\n",
      "0 | model | Hier_Reduced_Rank_Model | 2.9 K \n",
      "--------------------------------------------------\n",
      "2.9 K     Trainable params\n",
      "0         Non-trainable params\n",
      "2.9 K     Total params\n",
      "0.012     Total estimated model params size (MB)\n"
     ]
    },
    {
     "name": "stdout",
     "output_type": "stream",
     "text": [
      "Accuracy:  [0.85546875 0.85546875 0.85546875 0.85546875 0.85546875 0.85546875\n",
      " 0.85546875 0.85546875 0.85546875 0.85546875 0.94140625 0.94140625\n",
      " 0.94140625 0.94140625 0.94140625 0.94140625 0.94140625 0.94140625\n",
      " 0.94140625 0.94140625]\n",
      "AUC:  [0.33801697 0.33801697 0.33801697 0.33801697 0.33801697 0.33801697\n",
      " 0.33801697 0.33801697 0.33801697 0.33801697 0.98563007 0.98550725\n",
      " 0.98563007 0.98526161 0.98513879 0.98599853 0.98501597 0.98563007\n",
      " 0.98501597 0.98501597]\n",
      "=================\n",
      "Finished training on 3 / 5 folds ..\n",
      "=================\n",
      "Started training on 4 / 5 folds ..\n",
      "=================\n",
      "Loading 10 PIDs in region LP:\n",
      "a6b71993-165b-4c43-845c-c062fe7d7a11\n",
      "ec2fbc3e-cb2b-48cb-a521-3a6ca15e244c\n",
      "bef05a5c-68c3-4513-87c7-b3151c88da8e\n",
      "7a620688-66cb-44d3-b79b-ccac1c8ba23e\n",
      "d0046384-16ea-4f69-bae9-165e8d0aeacf\n",
      "8c732bf2-639d-496c-bf82-464bc9c2d54b\n",
      "b72b22c2-6e9d-4604-9910-20c0e1a467d7\n",
      "8b31b4bd-003e-4816-a3bf-2df4cc3558f8\n",
      "1a924329-65aa-465d-b201-c2dd898aebd0\n",
      "22f26d69-0b30-450e-9618-ee801b720e0a\n",
      "=================\n",
      "Loading 10 PIDs in region GRN:\n",
      "e17db2b6-b778-4e2a-845c-c4d040b0c875\n",
      "c0e59477-43f0-4441-9f81-3a55ddad9dad\n",
      "df6012d0-d921-4d0a-af2a-2a91030d0f42\n",
      "cc72fdb7-92e8-47e6-9cea-94f27c0da2d8\n",
      "7332e6cf-9847-4aca-b2e3-d864989dd0fb\n",
      "04c9890f-2276-4c20-854f-305ff5c9b6cf\n",
      "6a098711-5423-4072-8909-7cff0e2d4531\n",
      "39883ded-f5a2-4f4f-a98e-fb138eb8433e\n",
      "aecd7612-b5c5-4ad2-9e76-e5b783387e47\n",
      "2e720cee-05cc-440e-a24b-13794b1ac01d\n"
     ]
    },
    {
     "name": "stderr",
     "output_type": "stream",
     "text": [
      "/home/yizi/anaconda3/envs/clusterless/lib/python3.8/site-packages/lightning/pytorch/trainer/connectors/data_connector.py:441: The 'train_dataloader' does not have many workers which may be a bottleneck. Consider increasing the value of the `num_workers` argument` to `num_workers=15` in the `DataLoader` to improve performance.\n",
      "/home/yizi/anaconda3/envs/clusterless/lib/python3.8/site-packages/lightning/pytorch/loops/fit_loop.py:293: The number of training batches (5) is smaller than the logging interval Trainer(log_every_n_steps=50). Set a lower value for log_every_n_steps if you want to see logs for the training epoch.\n"
     ]
    },
    {
     "data": {
      "application/vnd.jupyter.widget-view+json": {
       "model_id": "3409b4033a8e48908aae29319c65d10d",
       "version_major": 2,
       "version_minor": 0
      },
      "text/plain": [
       "Training: |                                                                                                   …"
      ]
     },
     "metadata": {},
     "output_type": "display_data"
    },
    {
     "name": "stderr",
     "output_type": "stream",
     "text": [
      "/tmp/ipykernel_98815/2477955401.py:12: UserWarning: To copy construct from a tensor, it is recommended to use sourceTensor.clone().detach() or sourceTensor.clone().detach().requires_grad_(True), rather than torch.tensor(sourceTensor).\n",
      "  return torch.tensor(self.xs[index]).to(DEVICE), torch.tensor(self.ys[index]).to(DEVICE), self.roi_idx, self.pid_idx\n",
      "`Trainer.fit` stopped: `max_epochs=1000` reached.\n",
      "GPU available: True (cuda), used: True\n",
      "TPU available: False, using: 0 TPU cores\n",
      "IPU available: False, using: 0 IPUs\n",
      "HPU available: False, using: 0 HPUs\n",
      "/home/yizi/anaconda3/envs/clusterless/lib/python3.8/site-packages/lightning/pytorch/trainer/configuration_validator.py:74: You defined a `validation_step` but have no `val_dataloader`. Skipping val loop.\n",
      "LOCAL_RANK: 0 - CUDA_VISIBLE_DEVICES: [0]\n",
      "\n",
      "  | Name  | Type                    | Params\n",
      "--------------------------------------------------\n",
      "0 | model | Hier_Reduced_Rank_Model | 2.9 K \n",
      "--------------------------------------------------\n",
      "2.9 K     Trainable params\n",
      "0         Non-trainable params\n",
      "2.9 K     Total params\n",
      "0.012     Total estimated model params size (MB)\n"
     ]
    },
    {
     "name": "stdout",
     "output_type": "stream",
     "text": [
      "Accuracy:  [0.71875   0.71875   0.71875   0.71875   0.71875   0.71875   0.71875\n",
      " 0.71875   0.71875   0.71875   0.90625   0.90625   0.9140625 0.90625\n",
      " 0.90625   0.921875  0.90625   0.9140625 0.9140625 0.9140625]\n",
      "AUC:  [0.80116649 0.80037116 0.80196182 0.80169671 0.80169671 0.79851538\n",
      " 0.8014316  0.80169671 0.79957582 0.80196182 0.95962809 0.95987277\n",
      " 0.95987277 0.95889405 0.95962809 0.96011745 0.95938341 0.95962809\n",
      " 0.95987277 0.96011745]\n",
      "=================\n",
      "Finished training on 4 / 5 folds ..\n",
      "=================\n",
      "Started training on 5 / 5 folds ..\n",
      "=================\n",
      "Loading 10 PIDs in region LP:\n",
      "a6b71993-165b-4c43-845c-c062fe7d7a11\n",
      "ec2fbc3e-cb2b-48cb-a521-3a6ca15e244c\n",
      "bef05a5c-68c3-4513-87c7-b3151c88da8e\n",
      "7a620688-66cb-44d3-b79b-ccac1c8ba23e\n",
      "d0046384-16ea-4f69-bae9-165e8d0aeacf\n",
      "8c732bf2-639d-496c-bf82-464bc9c2d54b\n",
      "b72b22c2-6e9d-4604-9910-20c0e1a467d7\n",
      "8b31b4bd-003e-4816-a3bf-2df4cc3558f8\n",
      "1a924329-65aa-465d-b201-c2dd898aebd0\n",
      "22f26d69-0b30-450e-9618-ee801b720e0a\n",
      "=================\n",
      "Loading 10 PIDs in region GRN:\n",
      "e17db2b6-b778-4e2a-845c-c4d040b0c875\n",
      "c0e59477-43f0-4441-9f81-3a55ddad9dad\n",
      "df6012d0-d921-4d0a-af2a-2a91030d0f42\n",
      "cc72fdb7-92e8-47e6-9cea-94f27c0da2d8\n",
      "7332e6cf-9847-4aca-b2e3-d864989dd0fb\n",
      "04c9890f-2276-4c20-854f-305ff5c9b6cf\n",
      "6a098711-5423-4072-8909-7cff0e2d4531\n",
      "39883ded-f5a2-4f4f-a98e-fb138eb8433e\n",
      "aecd7612-b5c5-4ad2-9e76-e5b783387e47\n",
      "2e720cee-05cc-440e-a24b-13794b1ac01d\n"
     ]
    },
    {
     "name": "stderr",
     "output_type": "stream",
     "text": [
      "/home/yizi/anaconda3/envs/clusterless/lib/python3.8/site-packages/lightning/pytorch/trainer/connectors/data_connector.py:441: The 'train_dataloader' does not have many workers which may be a bottleneck. Consider increasing the value of the `num_workers` argument` to `num_workers=15` in the `DataLoader` to improve performance.\n",
      "/home/yizi/anaconda3/envs/clusterless/lib/python3.8/site-packages/lightning/pytorch/loops/fit_loop.py:293: The number of training batches (5) is smaller than the logging interval Trainer(log_every_n_steps=50). Set a lower value for log_every_n_steps if you want to see logs for the training epoch.\n"
     ]
    },
    {
     "data": {
      "application/vnd.jupyter.widget-view+json": {
       "model_id": "630df7635fdb44d297eba340d6571ac5",
       "version_major": 2,
       "version_minor": 0
      },
      "text/plain": [
       "Training: |                                                                                                   …"
      ]
     },
     "metadata": {},
     "output_type": "display_data"
    },
    {
     "name": "stderr",
     "output_type": "stream",
     "text": [
      "/tmp/ipykernel_98815/2477955401.py:12: UserWarning: To copy construct from a tensor, it is recommended to use sourceTensor.clone().detach() or sourceTensor.clone().detach().requires_grad_(True), rather than torch.tensor(sourceTensor).\n",
      "  return torch.tensor(self.xs[index]).to(DEVICE), torch.tensor(self.ys[index]).to(DEVICE), self.roi_idx, self.pid_idx\n",
      "`Trainer.fit` stopped: `max_epochs=1000` reached.\n"
     ]
    },
    {
     "name": "stdout",
     "output_type": "stream",
     "text": [
      "Accuracy:  [0.71875   0.71875   0.7265625 0.71875   0.7421875 0.7421875 0.7265625\n",
      " 0.7109375 0.71875   0.734375  0.9296875 0.9296875 0.9296875 0.9296875\n",
      " 0.9296875 0.9296875 0.9296875 0.9296875 0.9296875 0.9296875]\n",
      "AUC:  [0.74151644 0.74257688 0.74178155 0.74019088 0.74231177 0.74284199\n",
      " 0.7431071  0.7431071  0.74363733 0.74204666 0.96617647 0.96617647\n",
      " 0.96617647 0.96617647 0.96593137 0.96593137 0.96593137 0.96593137\n",
      " 0.96593137 0.96593137]\n",
      "=================\n",
      "Finished training on 5 / 5 folds ..\n"
     ]
    }
   ],
   "source": [
    "# prep data for x-val\n",
    "\n",
    "n_folds = 5\n",
    "skf = StratifiedKFold(n_splits=n_folds, shuffle=True, random_state=seed)\n",
    "\n",
    "xval_dict = {}\n",
    "for fold_idx in range(n_folds):\n",
    "    \n",
    "    print(\"=================\")\n",
    "    print(f\"Started training on {fold_idx+1} / {n_folds} folds ..\")\n",
    "    \n",
    "    train_datasets, test_datasets = [], []\n",
    "    lst_units, lst_regions, lst_sessions, lst_region_names, lst_pids = [], [], [], [], []\n",
    "\n",
    "    pid_idx = 0\n",
    "    for roi_idx, roi in enumerate(regions):\n",
    "\n",
    "        f_names = os.listdir(in_path/roi)\n",
    "        pids = [f_name.split(\"_\")[1].split(\".\")[0] for f_name in f_names]\n",
    "\n",
    "        print(\"=================\")\n",
    "        print(f\"Loading {len(pids)} PIDs in region {roi}:\")\n",
    "        for pid in pids:\n",
    "            print(pid)\n",
    "\n",
    "        data_dict = np.load(in_path/roi/f\"pid_{pid}.npy\", allow_pickle=True).item()\n",
    "\n",
    "        for _, pid in enumerate(pids):\n",
    "            xs = data_dict[\"neural_contrast\"][\"all\"]\n",
    "            ys = data_dict[\"choice_contrast\"][\"all\"]\n",
    "            for counter, (train, test) in enumerate(skf.split(xs, ys)):\n",
    "                if counter == fold_idx:\n",
    "                    train_xs, test_xs = xs[train], xs[test]\n",
    "                    train_ys, test_ys = ys[train], ys[test]\n",
    "            train_datasets.append((train_xs, train_ys))\n",
    "            test_datasets.append((test_xs, test_ys))\n",
    "            lst_units.append(data_dict[\"meta\"][\"n_units\"])\n",
    "            lst_regions.append(roi_idx)\n",
    "            lst_region_names.append(roi)\n",
    "            lst_sessions.append(pid_idx)\n",
    "            lst_pids.append(pid)\n",
    "            pid_idx += 1\n",
    "            \n",
    "    train_loaders = dataloader(train_datasets, lst_regions, lst_sessions, batch_size=128)\n",
    "    test_loaders = dataloader(test_datasets, lst_regions, lst_sessions, batch_size=128)\n",
    "    train_loaders = CombinedLoader(train_loaders, mode=\"min_size\")\n",
    "    test_loaders = CombinedLoader(test_loaders, mode=\"min_size\")\n",
    "\n",
    "    hier_rrr = Hier_Reduced_Rank_Model(\n",
    "        n_roi = len(regions),\n",
    "        n_units = lst_units, \n",
    "        n_t_bin = data_dict[\"meta\"][\"n_t_bins\"], \n",
    "        rank_V = n_rank_V,\n",
    "        rank_B = n_rank_B\n",
    "    ).to(DEVICE)\n",
    "\n",
    "    lit_hier_rrr = LitHierRRR(hier_rrr)\n",
    "    trainer = L.Trainer(max_epochs=n_epochs)\n",
    "    trainer.fit(model=lit_hier_rrr, \n",
    "                train_dataloaders=train_loaders)\n",
    "    \n",
    "    accs_per_batch, aucs_per_batch = [], []\n",
    "    for batch in test_loaders:\n",
    "        accs, aucs = [], []\n",
    "        pred_lst, gt_lst = hier_rrr(batch[0])\n",
    "        for i in range(len(batch[0])):\n",
    "            auroc = AUROC(task=\"binary\")\n",
    "            accs.append(accuracy(pred_lst[i], gt_lst[i], task=\"binary\").item())\n",
    "            aucs.append(auroc(pred_lst[i], gt_lst[i]).item())\n",
    "        accs_per_batch.append(accs)\n",
    "        aucs_per_batch.append(aucs)\n",
    "    test_accs = np.mean(accs_per_batch, 0)\n",
    "    test_aucs = np.mean(aucs_per_batch, 0)\n",
    "    print(\"Accuracy: \", test_accs)\n",
    "    print(\"AUC: \", test_aucs)\n",
    "    \n",
    "    xval_dict.update({fold_idx: {}})\n",
    "    xval_dict[fold_idx].update({\"accs\": test_accs})\n",
    "    xval_dict[fold_idx].update({\"aucs\": test_aucs})\n",
    "    xval_dict[fold_idx].update({\"pid_idxs\": lst_sessions})\n",
    "    xval_dict[fold_idx].update({\"regions_idxs\": lst_regions})\n",
    "    xval_dict[fold_idx].update({\"region_names\": lst_region_names})\n",
    "    xval_dict[fold_idx].update({\"pids\": lst_pids})\n",
    "    \n",
    "    print(\"=================\")\n",
    "    print(f\"Finished training on {fold_idx+1} / {n_folds} folds ..\")\n",
    "\n",
    "np.save(in_path/f\"xval_rankB_{n_rank_V}_rankV_{n_rank_V}.npy\", xval_dict)"
   ]
  },
  {
   "cell_type": "code",
   "execution_count": null,
   "id": "6631daf8-d9d0-40e9-91de-df39a4c02b87",
   "metadata": {},
   "outputs": [],
   "source": [
    "# V = 5, B = 5\n",
    "df = pd.DataFrame(xval_dict[0]).iloc[:,:2] / 5\n",
    "for fold in range(1,5):\n",
    "    df += pd.DataFrame(xval_dict[fold]).iloc[:,:2] / 5\n",
    "df"
   ]
  },
  {
   "cell_type": "code",
   "execution_count": null,
   "id": "e5f2656a-536b-4d2c-8b7c-2efd809b36cb",
   "metadata": {},
   "outputs": [],
   "source": []
  },
  {
   "cell_type": "code",
   "execution_count": null,
   "id": "e4260239-66c1-48a4-b03b-6d29f2154cee",
   "metadata": {},
   "outputs": [],
   "source": []
  },
  {
   "cell_type": "code",
   "execution_count": 85,
   "id": "7592253d-0387-4539-b6dd-218a0edad4ab",
   "metadata": {},
   "outputs": [
    {
     "data": {
      "text/html": [
       "<div>\n",
       "<style scoped>\n",
       "    .dataframe tbody tr th:only-of-type {\n",
       "        vertical-align: middle;\n",
       "    }\n",
       "\n",
       "    .dataframe tbody tr th {\n",
       "        vertical-align: top;\n",
       "    }\n",
       "\n",
       "    .dataframe thead th {\n",
       "        text-align: right;\n",
       "    }\n",
       "</style>\n",
       "<table border=\"1\" class=\"dataframe\">\n",
       "  <thead>\n",
       "    <tr style=\"text-align: right;\">\n",
       "      <th></th>\n",
       "      <th>accs</th>\n",
       "      <th>aucs</th>\n",
       "    </tr>\n",
       "  </thead>\n",
       "  <tbody>\n",
       "    <tr>\n",
       "      <th>0</th>\n",
       "      <td>0.683594</td>\n",
       "      <td>0.508111</td>\n",
       "    </tr>\n",
       "    <tr>\n",
       "      <th>1</th>\n",
       "      <td>0.682813</td>\n",
       "      <td>0.507580</td>\n",
       "    </tr>\n",
       "    <tr>\n",
       "      <th>2</th>\n",
       "      <td>0.684375</td>\n",
       "      <td>0.509303</td>\n",
       "    </tr>\n",
       "    <tr>\n",
       "      <th>3</th>\n",
       "      <td>0.682813</td>\n",
       "      <td>0.509489</td>\n",
       "    </tr>\n",
       "    <tr>\n",
       "      <th>4</th>\n",
       "      <td>0.687500</td>\n",
       "      <td>0.507819</td>\n",
       "    </tr>\n",
       "    <tr>\n",
       "      <th>5</th>\n",
       "      <td>0.688281</td>\n",
       "      <td>0.508720</td>\n",
       "    </tr>\n",
       "    <tr>\n",
       "      <th>6</th>\n",
       "      <td>0.684375</td>\n",
       "      <td>0.508508</td>\n",
       "    </tr>\n",
       "    <tr>\n",
       "      <th>7</th>\n",
       "      <td>0.681250</td>\n",
       "      <td>0.508349</td>\n",
       "    </tr>\n",
       "    <tr>\n",
       "      <th>8</th>\n",
       "      <td>0.682813</td>\n",
       "      <td>0.507686</td>\n",
       "    </tr>\n",
       "    <tr>\n",
       "      <th>9</th>\n",
       "      <td>0.685156</td>\n",
       "      <td>0.508110</td>\n",
       "    </tr>\n",
       "    <tr>\n",
       "      <th>10</th>\n",
       "      <td>0.905122</td>\n",
       "      <td>0.964602</td>\n",
       "    </tr>\n",
       "    <tr>\n",
       "      <th>11</th>\n",
       "      <td>0.901215</td>\n",
       "      <td>0.963525</td>\n",
       "    </tr>\n",
       "    <tr>\n",
       "      <th>12</th>\n",
       "      <td>0.909809</td>\n",
       "      <td>0.964505</td>\n",
       "    </tr>\n",
       "    <tr>\n",
       "      <th>13</th>\n",
       "      <td>0.909028</td>\n",
       "      <td>0.964235</td>\n",
       "    </tr>\n",
       "    <tr>\n",
       "      <th>14</th>\n",
       "      <td>0.906684</td>\n",
       "      <td>0.964211</td>\n",
       "    </tr>\n",
       "    <tr>\n",
       "      <th>15</th>\n",
       "      <td>0.911372</td>\n",
       "      <td>0.964554</td>\n",
       "    </tr>\n",
       "    <tr>\n",
       "      <th>16</th>\n",
       "      <td>0.906684</td>\n",
       "      <td>0.964234</td>\n",
       "    </tr>\n",
       "    <tr>\n",
       "      <th>17</th>\n",
       "      <td>0.910590</td>\n",
       "      <td>0.964161</td>\n",
       "    </tr>\n",
       "    <tr>\n",
       "      <th>18</th>\n",
       "      <td>0.909028</td>\n",
       "      <td>0.964259</td>\n",
       "    </tr>\n",
       "    <tr>\n",
       "      <th>19</th>\n",
       "      <td>0.909028</td>\n",
       "      <td>0.964308</td>\n",
       "    </tr>\n",
       "  </tbody>\n",
       "</table>\n",
       "</div>"
      ],
      "text/plain": [
       "        accs      aucs\n",
       "0   0.683594  0.508111\n",
       "1   0.682813  0.507580\n",
       "2   0.684375  0.509303\n",
       "3   0.682813  0.509489\n",
       "4   0.687500  0.507819\n",
       "5   0.688281  0.508720\n",
       "6   0.684375  0.508508\n",
       "7   0.681250  0.508349\n",
       "8   0.682813  0.507686\n",
       "9   0.685156  0.508110\n",
       "10  0.905122  0.964602\n",
       "11  0.901215  0.963525\n",
       "12  0.909809  0.964505\n",
       "13  0.909028  0.964235\n",
       "14  0.906684  0.964211\n",
       "15  0.911372  0.964554\n",
       "16  0.906684  0.964234\n",
       "17  0.910590  0.964161\n",
       "18  0.909028  0.964259\n",
       "19  0.909028  0.964308"
      ]
     },
     "execution_count": 85,
     "metadata": {},
     "output_type": "execute_result"
    }
   ],
   "source": [
    "# V = 2, B = 10\n",
    "df = pd.DataFrame(xval_dict[0]).iloc[:,:2] / 5\n",
    "for fold in range(1,5):\n",
    "    df += pd.DataFrame(xval_dict[fold]).iloc[:,:2] / 5\n",
    "df"
   ]
  },
  {
   "cell_type": "code",
   "execution_count": 81,
   "id": "3b8923fb-392f-4d49-a4c3-cc9c9179e1c5",
   "metadata": {},
   "outputs": [
    {
     "data": {
      "text/html": [
       "<div>\n",
       "<style scoped>\n",
       "    .dataframe tbody tr th:only-of-type {\n",
       "        vertical-align: middle;\n",
       "    }\n",
       "\n",
       "    .dataframe tbody tr th {\n",
       "        vertical-align: top;\n",
       "    }\n",
       "\n",
       "    .dataframe thead th {\n",
       "        text-align: right;\n",
       "    }\n",
       "</style>\n",
       "<table border=\"1\" class=\"dataframe\">\n",
       "  <thead>\n",
       "    <tr style=\"text-align: right;\">\n",
       "      <th></th>\n",
       "      <th>accs</th>\n",
       "      <th>aucs</th>\n",
       "    </tr>\n",
       "  </thead>\n",
       "  <tbody>\n",
       "    <tr>\n",
       "      <th>0</th>\n",
       "      <td>0.696875</td>\n",
       "      <td>0.528527</td>\n",
       "    </tr>\n",
       "    <tr>\n",
       "      <th>1</th>\n",
       "      <td>0.696875</td>\n",
       "      <td>0.528421</td>\n",
       "    </tr>\n",
       "    <tr>\n",
       "      <th>2</th>\n",
       "      <td>0.696875</td>\n",
       "      <td>0.528554</td>\n",
       "    </tr>\n",
       "    <tr>\n",
       "      <th>3</th>\n",
       "      <td>0.696875</td>\n",
       "      <td>0.528554</td>\n",
       "    </tr>\n",
       "    <tr>\n",
       "      <th>4</th>\n",
       "      <td>0.696875</td>\n",
       "      <td>0.528474</td>\n",
       "    </tr>\n",
       "    <tr>\n",
       "      <th>5</th>\n",
       "      <td>0.696875</td>\n",
       "      <td>0.528633</td>\n",
       "    </tr>\n",
       "    <tr>\n",
       "      <th>6</th>\n",
       "      <td>0.694531</td>\n",
       "      <td>0.527563</td>\n",
       "    </tr>\n",
       "    <tr>\n",
       "      <th>7</th>\n",
       "      <td>0.696875</td>\n",
       "      <td>0.528528</td>\n",
       "    </tr>\n",
       "    <tr>\n",
       "      <th>8</th>\n",
       "      <td>0.696875</td>\n",
       "      <td>0.528580</td>\n",
       "    </tr>\n",
       "    <tr>\n",
       "      <th>9</th>\n",
       "      <td>0.696875</td>\n",
       "      <td>0.528421</td>\n",
       "    </tr>\n",
       "    <tr>\n",
       "      <th>10</th>\n",
       "      <td>0.937500</td>\n",
       "      <td>0.975888</td>\n",
       "    </tr>\n",
       "    <tr>\n",
       "      <th>11</th>\n",
       "      <td>0.937500</td>\n",
       "      <td>0.975789</td>\n",
       "    </tr>\n",
       "    <tr>\n",
       "      <th>12</th>\n",
       "      <td>0.932813</td>\n",
       "      <td>0.975765</td>\n",
       "    </tr>\n",
       "    <tr>\n",
       "      <th>13</th>\n",
       "      <td>0.937500</td>\n",
       "      <td>0.976354</td>\n",
       "    </tr>\n",
       "    <tr>\n",
       "      <th>14</th>\n",
       "      <td>0.937500</td>\n",
       "      <td>0.976010</td>\n",
       "    </tr>\n",
       "    <tr>\n",
       "      <th>15</th>\n",
       "      <td>0.938281</td>\n",
       "      <td>0.976157</td>\n",
       "    </tr>\n",
       "    <tr>\n",
       "      <th>16</th>\n",
       "      <td>0.937500</td>\n",
       "      <td>0.975986</td>\n",
       "    </tr>\n",
       "    <tr>\n",
       "      <th>17</th>\n",
       "      <td>0.937500</td>\n",
       "      <td>0.976059</td>\n",
       "    </tr>\n",
       "    <tr>\n",
       "      <th>18</th>\n",
       "      <td>0.934375</td>\n",
       "      <td>0.976353</td>\n",
       "    </tr>\n",
       "    <tr>\n",
       "      <th>19</th>\n",
       "      <td>0.926389</td>\n",
       "      <td>0.976035</td>\n",
       "    </tr>\n",
       "  </tbody>\n",
       "</table>\n",
       "</div>"
      ],
      "text/plain": [
       "        accs      aucs\n",
       "0   0.696875  0.528527\n",
       "1   0.696875  0.528421\n",
       "2   0.696875  0.528554\n",
       "3   0.696875  0.528554\n",
       "4   0.696875  0.528474\n",
       "5   0.696875  0.528633\n",
       "6   0.694531  0.527563\n",
       "7   0.696875  0.528528\n",
       "8   0.696875  0.528580\n",
       "9   0.696875  0.528421\n",
       "10  0.937500  0.975888\n",
       "11  0.937500  0.975789\n",
       "12  0.932813  0.975765\n",
       "13  0.937500  0.976354\n",
       "14  0.937500  0.976010\n",
       "15  0.938281  0.976157\n",
       "16  0.937500  0.975986\n",
       "17  0.937500  0.976059\n",
       "18  0.934375  0.976353\n",
       "19  0.926389  0.976035"
      ]
     },
     "execution_count": 81,
     "metadata": {},
     "output_type": "execute_result"
    }
   ],
   "source": [
    "# V = 2, B = 5\n",
    "df = pd.DataFrame(xval_dict[0]).iloc[:,:2] / 5\n",
    "for fold in range(1,5):\n",
    "    df += pd.DataFrame(xval_dict[fold]).iloc[:,:2] / 5\n",
    "df"
   ]
  },
  {
   "cell_type": "code",
   "execution_count": 76,
   "id": "0fba00da-dadf-4529-9835-3c249499a02c",
   "metadata": {},
   "outputs": [
    {
     "data": {
      "text/html": [
       "<div>\n",
       "<style scoped>\n",
       "    .dataframe tbody tr th:only-of-type {\n",
       "        vertical-align: middle;\n",
       "    }\n",
       "\n",
       "    .dataframe tbody tr th {\n",
       "        vertical-align: top;\n",
       "    }\n",
       "\n",
       "    .dataframe thead th {\n",
       "        text-align: right;\n",
       "    }\n",
       "</style>\n",
       "<table border=\"1\" class=\"dataframe\">\n",
       "  <thead>\n",
       "    <tr style=\"text-align: right;\">\n",
       "      <th></th>\n",
       "      <th>accs</th>\n",
       "      <th>aucs</th>\n",
       "    </tr>\n",
       "  </thead>\n",
       "  <tbody>\n",
       "    <tr>\n",
       "      <th>0</th>\n",
       "      <td>0.682813</td>\n",
       "      <td>0.502315</td>\n",
       "    </tr>\n",
       "    <tr>\n",
       "      <th>1</th>\n",
       "      <td>0.682813</td>\n",
       "      <td>0.502288</td>\n",
       "    </tr>\n",
       "    <tr>\n",
       "      <th>2</th>\n",
       "      <td>0.682813</td>\n",
       "      <td>0.501693</td>\n",
       "    </tr>\n",
       "    <tr>\n",
       "      <th>3</th>\n",
       "      <td>0.682031</td>\n",
       "      <td>0.502103</td>\n",
       "    </tr>\n",
       "    <tr>\n",
       "      <th>4</th>\n",
       "      <td>0.678906</td>\n",
       "      <td>0.501462</td>\n",
       "    </tr>\n",
       "    <tr>\n",
       "      <th>5</th>\n",
       "      <td>0.681250</td>\n",
       "      <td>0.500805</td>\n",
       "    </tr>\n",
       "    <tr>\n",
       "      <th>6</th>\n",
       "      <td>0.681250</td>\n",
       "      <td>0.499776</td>\n",
       "    </tr>\n",
       "    <tr>\n",
       "      <th>7</th>\n",
       "      <td>0.681250</td>\n",
       "      <td>0.501623</td>\n",
       "    </tr>\n",
       "    <tr>\n",
       "      <th>8</th>\n",
       "      <td>0.678125</td>\n",
       "      <td>0.498670</td>\n",
       "    </tr>\n",
       "    <tr>\n",
       "      <th>9</th>\n",
       "      <td>0.684375</td>\n",
       "      <td>0.502397</td>\n",
       "    </tr>\n",
       "    <tr>\n",
       "      <th>10</th>\n",
       "      <td>0.857465</td>\n",
       "      <td>0.907756</td>\n",
       "    </tr>\n",
       "    <tr>\n",
       "      <th>11</th>\n",
       "      <td>0.858247</td>\n",
       "      <td>0.895942</td>\n",
       "    </tr>\n",
       "    <tr>\n",
       "      <th>12</th>\n",
       "      <td>0.855903</td>\n",
       "      <td>0.900966</td>\n",
       "    </tr>\n",
       "    <tr>\n",
       "      <th>13</th>\n",
       "      <td>0.843229</td>\n",
       "      <td>0.894766</td>\n",
       "    </tr>\n",
       "    <tr>\n",
       "      <th>14</th>\n",
       "      <td>0.859028</td>\n",
       "      <td>0.894496</td>\n",
       "    </tr>\n",
       "    <tr>\n",
       "      <th>15</th>\n",
       "      <td>0.859809</td>\n",
       "      <td>0.901482</td>\n",
       "    </tr>\n",
       "    <tr>\n",
       "      <th>16</th>\n",
       "      <td>0.858247</td>\n",
       "      <td>0.895697</td>\n",
       "    </tr>\n",
       "    <tr>\n",
       "      <th>17</th>\n",
       "      <td>0.858247</td>\n",
       "      <td>0.895109</td>\n",
       "    </tr>\n",
       "    <tr>\n",
       "      <th>18</th>\n",
       "      <td>0.855903</td>\n",
       "      <td>0.899861</td>\n",
       "    </tr>\n",
       "    <tr>\n",
       "      <th>19</th>\n",
       "      <td>0.845573</td>\n",
       "      <td>0.903478</td>\n",
       "    </tr>\n",
       "  </tbody>\n",
       "</table>\n",
       "</div>"
      ],
      "text/plain": [
       "        accs      aucs\n",
       "0   0.682813  0.502315\n",
       "1   0.682813  0.502288\n",
       "2   0.682813  0.501693\n",
       "3   0.682031  0.502103\n",
       "4   0.678906  0.501462\n",
       "5   0.681250  0.500805\n",
       "6   0.681250  0.499776\n",
       "7   0.681250  0.501623\n",
       "8   0.678125  0.498670\n",
       "9   0.684375  0.502397\n",
       "10  0.857465  0.907756\n",
       "11  0.858247  0.895942\n",
       "12  0.855903  0.900966\n",
       "13  0.843229  0.894766\n",
       "14  0.859028  0.894496\n",
       "15  0.859809  0.901482\n",
       "16  0.858247  0.895697\n",
       "17  0.858247  0.895109\n",
       "18  0.855903  0.899861\n",
       "19  0.845573  0.903478"
      ]
     },
     "execution_count": 76,
     "metadata": {},
     "output_type": "execute_result"
    }
   ],
   "source": [
    "# V = 2, B = 2\n",
    "df = pd.DataFrame(xval_dict[0]).iloc[:,:2] / 5\n",
    "for fold in range(1,5):\n",
    "    df += pd.DataFrame(xval_dict[fold]).iloc[:,:2] / 5\n",
    "df"
   ]
  },
  {
   "cell_type": "code",
   "execution_count": null,
   "id": "dd5b05e6-126e-4d47-8109-0e72378b2dae",
   "metadata": {},
   "outputs": [],
   "source": []
  },
  {
   "cell_type": "code",
   "execution_count": null,
   "id": "f23fdcf2-334c-4292-9eed-7e9ed0c6daaf",
   "metadata": {},
   "outputs": [],
   "source": []
  },
  {
   "cell_type": "code",
   "execution_count": null,
   "id": "2b940844-9dc0-47de-a80b-0381167ccfef",
   "metadata": {},
   "outputs": [],
   "source": []
  }
 ],
 "metadata": {
  "kernelspec": {
   "display_name": "Python 3 (ipykernel)",
   "language": "python",
   "name": "python3"
  },
  "language_info": {
   "codemirror_mode": {
    "name": "ipython",
    "version": 3
   },
   "file_extension": ".py",
   "mimetype": "text/x-python",
   "name": "python",
   "nbconvert_exporter": "python",
   "pygments_lexer": "ipython3",
   "version": "3.8.13"
  }
 },
 "nbformat": 4,
 "nbformat_minor": 5
}
