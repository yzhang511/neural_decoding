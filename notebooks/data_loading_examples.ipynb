{
 "cells": [
  {
   "cell_type": "code",
   "execution_count": null,
   "id": "2d4685c1-ca5d-495c-b610-c41793f79b63",
   "metadata": {},
   "outputs": [],
   "source": [
    "import sys\n",
    "from pathlib import Path\n",
    "path_root = '../'\n",
    "sys.path.append(str(path_root))\n",
    "\n",
    "import numpy as np\n",
    "import pandas as pd\n",
    "from matplotlib import pyplot as plt\n",
    "\n",
    "from one.api import ONE\n",
    "from brainbox.io.one import SessionLoader, SpikeSortingLoader\n",
    "from iblatlas.atlas import AllenAtlas\n",
    "from utils.ibl_data_utils import (\n",
    "    load_spiking_data, load_trials_and_mask, merge_probes,\n",
    "    load_trial_behaviors, load_anytime_behaviors,\n",
    "    prepare_data, \n",
    "    select_brain_regions, list_brain_regions, \n",
    "    bin_spiking_data, \n",
    ")"
   ]
  },
  {
   "cell_type": "code",
   "execution_count": null,
   "id": "21ea0b79-a67a-4bf7-b253-e1cd492599ec",
   "metadata": {},
   "outputs": [],
   "source": [
    "# Instantiate ONE\n",
    "ONE.setup(base_url='https://openalyx.internationalbrainlab.org', \n",
    "          silent=True, \n",
    "          cache_dir='/mnt/3TB/yizi/Downloads/ONE/openalyx.internationalbrainlab.org'\n",
    ")\n",
    "one = ONE(password='international')\n",
    "ba = AllenAtlas()"
   ]
  },
  {
   "cell_type": "code",
   "execution_count": null,
   "id": "2db11d27-2a07-442b-b772-708c90afe2bb",
   "metadata": {},
   "outputs": [],
   "source": []
  }
 ],
 "metadata": {
  "kernelspec": {
   "display_name": "Python 3 (ipykernel)",
   "language": "python",
   "name": "python3"
  },
  "language_info": {
   "codemirror_mode": {
    "name": "ipython",
    "version": 3
   },
   "file_extension": ".py",
   "mimetype": "text/x-python",
   "name": "python",
   "nbconvert_exporter": "python",
   "pygments_lexer": "ipython3",
   "version": "3.11.7"
  }
 },
 "nbformat": 4,
 "nbformat_minor": 5
}
